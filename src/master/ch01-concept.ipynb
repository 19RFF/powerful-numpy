{
 "cells": [
  {
   "cell_type": "code",
   "execution_count": null,
   "id": "30245170",
   "metadata": {},
   "outputs": [],
   "source": [
    "# 安装watermark\n",
    "!pip install watermark"
   ]
  },
  {
   "cell_type": "code",
   "execution_count": 3,
   "id": "fdaa0330",
   "metadata": {},
   "outputs": [],
   "source": [
    "%load_ext watermark"
   ]
  },
  {
   "cell_type": "code",
   "execution_count": 4,
   "id": "61e185f5",
   "metadata": {},
   "outputs": [
    {
     "name": "stdout",
     "output_type": "stream",
     "text": [
      "Last updated: 2022-01-15T17:41:06.935579+08:00\n",
      "\n",
      "Python implementation: CPython\n",
      "Python version       : 3.8.10\n",
      "IPython version      : 7.23.1\n",
      "\n",
      "Compiler    : Clang 11.0.0 (clang-1100.0.33.17)\n",
      "OS          : Darwin\n",
      "Release     : 21.1.0\n",
      "Machine     : x86_64\n",
      "Processor   : i386\n",
      "CPU cores   : 4\n",
      "Architecture: 64bit\n",
      "\n"
     ]
    }
   ],
   "source": [
    "%watermark"
   ]
  },
  {
   "cell_type": "code",
   "execution_count": 1,
   "id": "54fbf92f",
   "metadata": {},
   "outputs": [],
   "source": [
    "import numpy as np"
   ]
  },
  {
   "cell_type": "code",
   "execution_count": 6,
   "id": "e993df10",
   "metadata": {},
   "outputs": [
    {
     "name": "stdout",
     "output_type": "stream",
     "text": [
      "numpy: 1.19.5\n",
      "\n"
     ]
    }
   ],
   "source": [
    "%watermark --iversions"
   ]
  },
  {
   "cell_type": "markdown",
   "id": "c4e1343d",
   "metadata": {},
   "source": [
    "文档阅读说明：\n",
    "\n",
    "- 🐧 表示 Tip\n",
    "- ⚠️ 表示注意事项"
   ]
  },
  {
   "cell_type": "markdown",
   "id": "48609eef",
   "metadata": {},
   "source": [
    "## 常量\n",
    "\n",
    "NumPy 中自带一部分常用的常量，方便直接使用。"
   ]
  },
  {
   "cell_type": "markdown",
   "id": "f91f3eff",
   "metadata": {},
   "source": [
    "### 特殊值"
   ]
  },
  {
   "cell_type": "code",
   "execution_count": 5,
   "id": "d8fbdcbf",
   "metadata": {},
   "outputs": [
    {
     "data": {
      "text/plain": [
       "2.718281828459045"
      ]
     },
     "execution_count": 5,
     "metadata": {},
     "output_type": "execute_result"
    }
   ],
   "source": [
    "# 自然对数\n",
    "np.e"
   ]
  },
  {
   "cell_type": "code",
   "execution_count": 12,
   "id": "436e212e",
   "metadata": {},
   "outputs": [
    {
     "data": {
      "text/plain": [
       "3.141592653589793"
      ]
     },
     "execution_count": 12,
     "metadata": {},
     "output_type": "execute_result"
    }
   ],
   "source": [
    "# PI\n",
    "np.pi"
   ]
  },
  {
   "cell_type": "code",
   "execution_count": 96,
   "id": "d2a854f3",
   "metadata": {},
   "outputs": [
    {
     "data": {
      "text/plain": [
       "0.0"
      ]
     },
     "execution_count": 96,
     "metadata": {},
     "output_type": "execute_result"
    }
   ],
   "source": [
    "# 0\n",
    "np.PZERO"
   ]
  },
  {
   "cell_type": "code",
   "execution_count": 97,
   "id": "f5fc388b",
   "metadata": {},
   "outputs": [
    {
     "data": {
      "text/plain": [
       "-0.0"
      ]
     },
     "execution_count": 97,
     "metadata": {},
     "output_type": "execute_result"
    }
   ],
   "source": [
    "# -0\n",
    "np.NZERO"
   ]
  },
  {
   "cell_type": "code",
   "execution_count": 102,
   "id": "4afc3301",
   "metadata": {},
   "outputs": [],
   "source": [
    "# None\n",
    "np.newaxis"
   ]
  },
  {
   "cell_type": "markdown",
   "id": "ea8806f1",
   "metadata": {},
   "source": [
    "### 空值"
   ]
  },
  {
   "cell_type": "code",
   "execution_count": 13,
   "id": "05fdfa94",
   "metadata": {},
   "outputs": [
    {
     "data": {
      "text/plain": [
       "nan"
      ]
     },
     "execution_count": 13,
     "metadata": {},
     "output_type": "execute_result"
    }
   ],
   "source": [
    "# 空值\n",
    "np.nan"
   ]
  },
  {
   "cell_type": "code",
   "execution_count": 39,
   "id": "b6aed6ec",
   "metadata": {},
   "outputs": [
    {
     "data": {
      "text/plain": [
       "float"
      ]
     },
     "execution_count": 39,
     "metadata": {},
     "output_type": "execute_result"
    }
   ],
   "source": [
    "type(np.nan)"
   ]
  },
  {
   "cell_type": "markdown",
   "id": "3fb76d72",
   "metadata": {},
   "source": [
    "注意，`np.nan` 是一个值，两个 `np.nan` 不相等，虽然它们同属于一个类型。"
   ]
  },
  {
   "cell_type": "code",
   "execution_count": 17,
   "id": "019c69f2",
   "metadata": {},
   "outputs": [
    {
     "data": {
      "text/plain": [
       "True"
      ]
     },
     "execution_count": 17,
     "metadata": {},
     "output_type": "execute_result"
    }
   ],
   "source": [
    "np.nan is np.nan"
   ]
  },
  {
   "cell_type": "code",
   "execution_count": 18,
   "id": "5336027f",
   "metadata": {},
   "outputs": [
    {
     "data": {
      "text/plain": [
       "False"
      ]
     },
     "execution_count": 18,
     "metadata": {},
     "output_type": "execute_result"
    }
   ],
   "source": [
    "np.nan == np.nan"
   ]
  },
  {
   "cell_type": "markdown",
   "id": "806a64d4",
   "metadata": {},
   "source": [
    "可以使用 `np.isnan` 方法进行判断。"
   ]
  },
  {
   "cell_type": "code",
   "execution_count": 34,
   "id": "17f1e437",
   "metadata": {
    "scrolled": true
   },
   "outputs": [
    {
     "name": "stderr",
     "output_type": "stream",
     "text": [
      "<ipython-input-34-1060db748605>:1: RuntimeWarning: invalid value encountered in log\n",
      "  np.isnan(1), np.isnan(2.0), np.isnan(np.nan), np.isnan(np.log(-10.))\n"
     ]
    },
    {
     "data": {
      "text/plain": [
       "(False, False, True, True)"
      ]
     },
     "execution_count": 34,
     "metadata": {},
     "output_type": "execute_result"
    }
   ],
   "source": [
    "np.isnan(1), np.isnan(2.0), np.isnan(np.nan), np.isnan(np.log(-10.))"
   ]
  },
  {
   "cell_type": "code",
   "execution_count": 71,
   "id": "181e6c26",
   "metadata": {},
   "outputs": [
    {
     "data": {
      "text/plain": [
       "True"
      ]
     },
     "execution_count": 71,
     "metadata": {},
     "output_type": "execute_result"
    }
   ],
   "source": [
    "# 以下等价\n",
    "np.nan is np.NAN is np.NaN"
   ]
  },
  {
   "cell_type": "markdown",
   "id": "14fbe916",
   "metadata": {},
   "source": [
    "### 无穷"
   ]
  },
  {
   "cell_type": "code",
   "execution_count": 83,
   "id": "d294bdb8",
   "metadata": {},
   "outputs": [
    {
     "data": {
      "text/plain": [
       "inf"
      ]
     },
     "execution_count": 83,
     "metadata": {},
     "output_type": "execute_result"
    }
   ],
   "source": [
    "# 正无穷\n",
    "np.inf"
   ]
  },
  {
   "cell_type": "code",
   "execution_count": 87,
   "id": "521fea1b",
   "metadata": {},
   "outputs": [
    {
     "data": {
      "text/plain": [
       "True"
      ]
     },
     "execution_count": 87,
     "metadata": {},
     "output_type": "execute_result"
    }
   ],
   "source": [
    "# 负无穷\n",
    "np.NINF == -np.inf"
   ]
  },
  {
   "cell_type": "code",
   "execution_count": 38,
   "id": "618d477c",
   "metadata": {},
   "outputs": [
    {
     "data": {
      "text/plain": [
       "float"
      ]
     },
     "execution_count": 38,
     "metadata": {},
     "output_type": "execute_result"
    }
   ],
   "source": [
    "type(np.inf)"
   ]
  },
  {
   "cell_type": "code",
   "execution_count": 93,
   "id": "be939279",
   "metadata": {},
   "outputs": [
    {
     "name": "stderr",
     "output_type": "stream",
     "text": [
      "<ipython-input-93-f6e7c0610b57>:1: RuntimeWarning: divide by zero encountered in log\n",
      "  np.log(0)\n"
     ]
    },
    {
     "data": {
      "text/plain": [
       "-inf"
      ]
     },
     "execution_count": 93,
     "metadata": {},
     "output_type": "execute_result"
    }
   ],
   "source": [
    "np.log(0)"
   ]
  },
  {
   "cell_type": "code",
   "execution_count": 42,
   "id": "b1a54ac3",
   "metadata": {
    "scrolled": true
   },
   "outputs": [
    {
     "data": {
      "text/plain": [
       "True"
      ]
     },
     "execution_count": 42,
     "metadata": {},
     "output_type": "execute_result"
    }
   ],
   "source": [
    "-np.inf < -100"
   ]
  },
  {
   "cell_type": "code",
   "execution_count": 43,
   "id": "51450183",
   "metadata": {},
   "outputs": [
    {
     "data": {
      "text/plain": [
       "False"
      ]
     },
     "execution_count": 43,
     "metadata": {},
     "output_type": "execute_result"
    }
   ],
   "source": [
    "np.inf < 10"
   ]
  },
  {
   "cell_type": "markdown",
   "id": "ea9856c8",
   "metadata": {},
   "source": [
    "可以使用 `np.isxx` 进行判断。"
   ]
  },
  {
   "cell_type": "code",
   "execution_count": 76,
   "id": "c829678a",
   "metadata": {},
   "outputs": [
    {
     "data": {
      "text/plain": [
       "True"
      ]
     },
     "execution_count": 76,
     "metadata": {},
     "output_type": "execute_result"
    }
   ],
   "source": [
    "# 是否正或负去穷\n",
    "np.isinf(-np.inf)"
   ]
  },
  {
   "cell_type": "code",
   "execution_count": 77,
   "id": "84c03369",
   "metadata": {},
   "outputs": [
    {
     "data": {
      "text/plain": [
       "False"
      ]
     },
     "execution_count": 77,
     "metadata": {},
     "output_type": "execute_result"
    }
   ],
   "source": [
    "# 哪些元素正无穷\n",
    "np.isposinf(-np.inf)"
   ]
  },
  {
   "cell_type": "code",
   "execution_count": 78,
   "id": "e90755df",
   "metadata": {},
   "outputs": [
    {
     "data": {
      "text/plain": [
       "False"
      ]
     },
     "execution_count": 78,
     "metadata": {},
     "output_type": "execute_result"
    }
   ],
   "source": [
    "# 哪些元素负无穷\n",
    "np.isneginf(np.inf)"
   ]
  },
  {
   "cell_type": "code",
   "execution_count": 79,
   "id": "234946d5",
   "metadata": {},
   "outputs": [
    {
     "data": {
      "text/plain": [
       "True"
      ]
     },
     "execution_count": 79,
     "metadata": {},
     "output_type": "execute_result"
    }
   ],
   "source": [
    "# 哪些元素有限的（不是非数字、正无穷或负无穷）\n",
    "np.isfinite(3)"
   ]
  },
  {
   "cell_type": "code",
   "execution_count": 82,
   "id": "fe6e2eb9",
   "metadata": {},
   "outputs": [
    {
     "data": {
      "text/plain": [
       "False"
      ]
     },
     "execution_count": 82,
     "metadata": {},
     "output_type": "execute_result"
    }
   ],
   "source": [
    "np.isfinite(np.inf)"
   ]
  },
  {
   "cell_type": "code",
   "execution_count": 98,
   "id": "63bcc281",
   "metadata": {},
   "outputs": [
    {
     "data": {
      "text/plain": [
       "True"
      ]
     },
     "execution_count": 98,
     "metadata": {},
     "output_type": "execute_result"
    }
   ],
   "source": [
    "# 以下几个方法等价\n",
    "np.inf == np.Inf == np.Infinity == np.infty == np.PINF "
   ]
  },
  {
   "cell_type": "markdown",
   "id": "c90d5667",
   "metadata": {},
   "source": [
    "## 数据类型\n",
    "\n",
    "\n",
    "numpy 支持丰富的数据类型，[官方文档](https://numpy.org/devdocs/user/basics.types.html)中介绍的非常全面。这里我们不要陷入太多纠结，尝试从整体的角度重新梳理一遍。其实我们更需要关注的应该是其内置的数据类型对象 `dtype`，也就是这个文档：[Data type objects](https://numpy.org/devdocs/reference/arrays.dtypes.html#arrays-dtypes)。"
   ]
  },
  {
   "cell_type": "code",
   "execution_count": 73,
   "id": "727a0508",
   "metadata": {
    "scrolled": false
   },
   "outputs": [
    {
     "data": {
      "text/plain": [
       "(type, numpy.dtype)"
      ]
     },
     "execution_count": 73,
     "metadata": {},
     "output_type": "execute_result"
    }
   ],
   "source": [
    "# 数据类型 和 数据类型对象\n",
    "type(np.int8), type(np.dtype(np.int8))"
   ]
  },
  {
   "cell_type": "markdown",
   "id": "62db31a3",
   "metadata": {},
   "source": [
    "数据类型对象描述了如何解释与数组项对应的固定大小的内存块中的字节。主要包括以下几个方面（当然有很多其他信息）：\n",
    "\n",
    "- 数据类型\n",
    "- 数据大小\n",
    "- 数据的顺序\n",
    "- 如果是「结构化数据类型」则是其他数据类型的集合\n",
    "- 如果数据类型是子数组，它的形状和数据类型\n",
    "\n",
    "\n",
    "之前咱们创建 array 的时候都没有关心过数据类型，这种情况下，numpy 会自动匹配当前输入最合适的数据类型，并将其 cast 到所有元素。\n",
    "\n",
    "\n",
    "总的来说可以大致分成以下几种，而我们绝大多数情况下最应该关注的其实就是 int 和 float 这两种：\n",
    "\n",
    "- bool：`bool8`, `bool_`，不是 int\n",
    "- int：`int8/byte`, `int16/short`, `int32`, `int64/longlong`, `int_`\n",
    "- uint：无符号类型，表示 `unsigned`，对应 int\n",
    "- float：`float16/half`, `float32/single`, `float64/double`, `float_`\n",
    "- complex：复数，`complex64`, `complex128`, `complex_`\n",
    "- str：`str0`, `str_`，表示 unicode 编码\n",
    "- bytes: `bytes_`, `string_`\n",
    "- datetime/timedelta\n",
    "- structed array\n",
    "\n",
    "后面的数字表示一个数字在内存中占几位，**一般比较推荐使用这种表示**；带下划线的表示 python 的数据类型，numpy 可以自动将 python 的类型转为它；此外，浮点数还支持不同精度以及扩展精度。"
   ]
  },
  {
   "cell_type": "markdown",
   "id": "a93ed670",
   "metadata": {},
   "source": [
    "### 类型\n",
    "\n",
    "首先看这个图：\n",
    "\n",
    "![](https://numpy.org/devdocs/_images/dtype-hierarchy.png)\n",
    "\n",
    "来自：[Scalars — NumPy v1.23.dev0 Manual](https://numpy.org/devdocs/reference/arrays.scalars.html)\n",
    "\n",
    "基本涵盖了上面除 datetime 和 structed array 之外的所有类型，这两种类型我们后面单独来说。"
   ]
  },
  {
   "cell_type": "code",
   "execution_count": 592,
   "id": "6c5bae22",
   "metadata": {},
   "outputs": [
    {
     "data": {
      "text/plain": [
       "(True, True, True, True, True, True)"
      ]
     },
     "execution_count": 592,
     "metadata": {},
     "output_type": "execute_result"
    }
   ],
   "source": [
    "# 直观验证上图的关系\n",
    "(\n",
    "    isinstance(np.str_(), np.flexible),\n",
    "    isinstance(np.bytes_(), np.flexible),\n",
    "    isinstance(np.void(b\"\"), np.flexible),\n",
    "    \n",
    "    isinstance(np.int_(), np.integer),\n",
    "    isinstance(np.float_(), np.floating),\n",
    "    isinstance(np.complex_(), np.complexfloating)\n",
    ")"
   ]
  },
  {
   "cell_type": "code",
   "execution_count": 557,
   "id": "925609f9",
   "metadata": {
    "code_folding": [],
    "scrolled": true
   },
   "outputs": [
    {
     "data": {
      "text/plain": [
       "(True, True, True, True, True, True, True, True, True)"
      ]
     },
     "execution_count": 557,
     "metadata": {},
     "output_type": "execute_result"
    }
   ],
   "source": [
    "# 很多类型都有 alias，它们其实是一回事\n",
    "(\n",
    "    np.longlong is np.int64, np.short is np.int16, np.byte is np.int8,\n",
    "    # 不同精度\n",
    "    np.half is np.float16, np.single is np.float32, np.double is np.float64,\n",
    "    # 扩展精度\n",
    "    np.longfloat is np.longdouble,\n",
    "    # 字符串\n",
    "    np.unicode_ is np.str_,\n",
    "    # bytes\n",
    "    np.bytes_ is np.string_\n",
    ")"
   ]
  },
  {
   "cell_type": "code",
   "execution_count": 454,
   "id": "6aaf8dc5",
   "metadata": {},
   "outputs": [
    {
     "data": {
      "text/plain": [
       "(True, True, True, True, True)"
      ]
     },
     "execution_count": 454,
     "metadata": {},
     "output_type": "execute_result"
    }
   ],
   "source": [
    "# python 内置类型\n",
    "(\n",
    "    np.bool_ is np.bool8, \n",
    "    np.int_ is np.int32,\n",
    "    np.float_ is np.float64,\n",
    "    np.str_ is np.str0,\n",
    "    np.complex_ is np.complex128\n",
    ")"
   ]
  },
  {
   "cell_type": "markdown",
   "id": "ef1f108c",
   "metadata": {},
   "source": [
    "接下来以整型为例来说明，其他的类似。"
   ]
  },
  {
   "cell_type": "code",
   "execution_count": 456,
   "id": "c52ac155",
   "metadata": {},
   "outputs": [
    {
     "data": {
      "text/plain": [
       "dtype('int32')"
      ]
     },
     "execution_count": 456,
     "metadata": {},
     "output_type": "execute_result"
    }
   ],
   "source": [
    "# 创建一个「数据类型对象」\n",
    "# 如果使用 python 的类型，会自动识别支持，不过建议使用 numpy 的 dtype 类型指定类型\n",
    "i32 = np.dtype(\"int\")\n",
    "i32"
   ]
  },
  {
   "cell_type": "code",
   "execution_count": 447,
   "id": "1e9c36bc",
   "metadata": {},
   "outputs": [
    {
     "data": {
      "text/plain": [
       "(numpy.int32, numpy.float64, numpy.bool_, numpy.complex128, numpy.str_)"
      ]
     },
     "execution_count": 447,
     "metadata": {},
     "output_type": "execute_result"
    }
   ],
   "source": [
    "# numpy 支持的 python 类型\n",
    "np.int_, np.float_, np.bool_, np.complex_, np.str_"
   ]
  },
  {
   "cell_type": "code",
   "execution_count": 445,
   "id": "19958697",
   "metadata": {},
   "outputs": [
    {
     "data": {
      "text/plain": [
       "dtype('int32')"
      ]
     },
     "execution_count": 445,
     "metadata": {},
     "output_type": "execute_result"
    }
   ],
   "source": [
    "# 比较推荐这样创建\n",
    "i32 = np.dtype(np.int32)\n",
    "i32"
   ]
  },
  {
   "cell_type": "markdown",
   "id": "01de86ec",
   "metadata": {},
   "source": [
    "Tips：建议在创建 array 时指定数据类型，且使用统一的数据类型计算。"
   ]
  },
  {
   "cell_type": "code",
   "execution_count": 21,
   "id": "1870e8d6",
   "metadata": {},
   "outputs": [
    {
     "name": "stdout",
     "output_type": "stream",
     "text": [
      "27 µs ± 1.51 µs per loop (mean ± std. dev. of 7 runs, 10000 loops each)\n"
     ]
    }
   ],
   "source": [
    "%timeit np.arange(100, dtype=np.float32).reshape(10, 10) * np.arange(100, dtype=np.int32).reshape(10, 10)"
   ]
  },
  {
   "cell_type": "code",
   "execution_count": 20,
   "id": "cb3841dc",
   "metadata": {},
   "outputs": [
    {
     "name": "stdout",
     "output_type": "stream",
     "text": [
      "19.9 µs ± 2.4 µs per loop (mean ± std. dev. of 7 runs, 10000 loops each)\n"
     ]
    }
   ],
   "source": [
    "%timeit np.arange(100, dtype=np.int32).reshape(10, 10) * np.arange(100, dtype=np.int32).reshape(10, 10)"
   ]
  },
  {
   "cell_type": "markdown",
   "id": "f4058ab2",
   "metadata": {},
   "source": [
    "### 大小"
   ]
  },
  {
   "cell_type": "markdown",
   "id": "e8290259",
   "metadata": {},
   "source": [
    "类型暂时先看到这儿，先来看看大小："
   ]
  },
  {
   "cell_type": "code",
   "execution_count": 302,
   "id": "386fa7ce",
   "metadata": {},
   "outputs": [
    {
     "data": {
      "text/plain": [
       "dtype('int32')"
      ]
     },
     "execution_count": 302,
     "metadata": {},
     "output_type": "execute_result"
    }
   ],
   "source": [
    "# int 默认 32 位\n",
    "arr = np.array([2**31-1])\n",
    "arr.dtype"
   ]
  },
  {
   "cell_type": "code",
   "execution_count": 275,
   "id": "a21064c4",
   "metadata": {},
   "outputs": [
    {
     "data": {
      "text/plain": [
       "4"
      ]
     },
     "execution_count": 275,
     "metadata": {},
     "output_type": "execute_result"
    }
   ],
   "source": [
    "# 每个数字 4 bytes = 32 bits\n",
    "arr.nbytes"
   ]
  },
  {
   "cell_type": "code",
   "execution_count": 277,
   "id": "854dfa32",
   "metadata": {
    "scrolled": true
   },
   "outputs": [
    {
     "data": {
      "text/plain": [
       "b'\\xff\\xff\\xff\\x7f'"
      ]
     },
     "execution_count": 277,
     "metadata": {},
     "output_type": "execute_result"
    }
   ],
   "source": [
    "bytes(arr)"
   ]
  },
  {
   "cell_type": "code",
   "execution_count": 276,
   "id": "62be5cd5",
   "metadata": {},
   "outputs": [
    {
     "data": {
      "text/plain": [
       "['0x7fffffff']"
      ]
     },
     "execution_count": 276,
     "metadata": {},
     "output_type": "execute_result"
    }
   ],
   "source": [
    "list(map(hex, arr))"
   ]
  },
  {
   "cell_type": "code",
   "execution_count": 289,
   "id": "10714383",
   "metadata": {},
   "outputs": [
    {
     "data": {
      "text/plain": [
       "True"
      ]
     },
     "execution_count": 289,
     "metadata": {},
     "output_type": "execute_result"
    }
   ],
   "source": [
    "15 *(16**0+16**1+16**2+16**3+16**4+16**5+16**6) + 7*16**7 == 2 ** 31 - 1"
   ]
  },
  {
   "cell_type": "code",
   "execution_count": 282,
   "id": "9762952e",
   "metadata": {},
   "outputs": [
    {
     "data": {
      "text/plain": [
       "dtype('int64')"
      ]
     },
     "execution_count": 282,
     "metadata": {},
     "output_type": "execute_result"
    }
   ],
   "source": [
    "# 超出32位表示的范围，自动用64位\n",
    "arr = np.array([2**31])\n",
    "arr.dtype"
   ]
  },
  {
   "cell_type": "code",
   "execution_count": 283,
   "id": "555d7742",
   "metadata": {
    "scrolled": true
   },
   "outputs": [
    {
     "data": {
      "text/plain": [
       "8"
      ]
     },
     "execution_count": 283,
     "metadata": {},
     "output_type": "execute_result"
    }
   ],
   "source": [
    "# 一共是 8 个字节（Byte），64 位（bit）\n",
    "arr.nbytes"
   ]
  },
  {
   "cell_type": "code",
   "execution_count": 284,
   "id": "1c15ade1",
   "metadata": {},
   "outputs": [
    {
     "data": {
      "text/plain": [
       "b'\\x00\\x00\\x00\\x80\\x00\\x00\\x00\\x00'"
      ]
     },
     "execution_count": 284,
     "metadata": {},
     "output_type": "execute_result"
    }
   ],
   "source": [
    "bytes(arr)"
   ]
  },
  {
   "cell_type": "code",
   "execution_count": 285,
   "id": "6eb39c91",
   "metadata": {
    "scrolled": true
   },
   "outputs": [
    {
     "data": {
      "text/plain": [
       "['0x80000000']"
      ]
     },
     "execution_count": 285,
     "metadata": {},
     "output_type": "execute_result"
    }
   ],
   "source": [
    "list(map(hex, arr))"
   ]
  },
  {
   "cell_type": "code",
   "execution_count": 286,
   "id": "9dc6d1c1",
   "metadata": {
    "scrolled": true
   },
   "outputs": [
    {
     "data": {
      "text/plain": [
       "True"
      ]
     },
     "execution_count": 286,
     "metadata": {},
     "output_type": "execute_result"
    }
   ],
   "source": [
    "8 * 16**7  == 2 ** 31"
   ]
  },
  {
   "cell_type": "code",
   "execution_count": 475,
   "id": "8b529e19",
   "metadata": {},
   "outputs": [
    {
     "data": {
      "text/plain": [
       "iinfo(min=-2147483648, max=2147483647, dtype=int32)"
      ]
     },
     "execution_count": 475,
     "metadata": {},
     "output_type": "execute_result"
    }
   ],
   "source": [
    "# 可以使用 iinfo 查看\n",
    "np.iinfo(np.int32)"
   ]
  },
  {
   "cell_type": "code",
   "execution_count": 495,
   "id": "b725d44c",
   "metadata": {},
   "outputs": [
    {
     "data": {
      "text/plain": [
       "finfo(resolution=1e-15, min=-1.7976931348623157e+308, max=1.7976931348623157e+308, dtype=float64)"
      ]
     },
     "execution_count": 495,
     "metadata": {},
     "output_type": "execute_result"
    }
   ],
   "source": [
    "# finfo 查看 float\n",
    "np.finfo(np.float64)"
   ]
  },
  {
   "cell_type": "markdown",
   "id": "ed174600",
   "metadata": {},
   "source": [
    "### 顺序\n",
    "\n",
    "这个看起来就不那么直观了。咱们先了解下背景知识。\n",
    "\n",
    "字节顺序（Endianness）在计算机科学中指内存中字节的排列顺序。字节的排列有两个通用规则：\n",
    "\n",
    "- 将低位放在较小的地址处，高位放在较大的地址处，称为小端序（little-endian）。\n",
    "- 与上面相反的就是大端序（big-endian）。\n",
    "\n",
    "\n",
    "![](https://qnimg.lovevivian.cn/cs-endian-1.jpg)\n",
    "\n",
    "图片来自：[Endianness - Wikipedia](https://en.wikipedia.org/wiki/Endianness)\n",
    "\n",
    "\n",
    "我们常用的 x86 计算机是小端位，因为内存地址一般是从低到高逐渐增加的，而我们的二进制（或者其他进制）是高位在前，低位在后，这样用小端序就会很自然，也便于编程。不过刚好人读起来正好是反着的。\n",
    "\n",
    "拿上面的图片为例，0A0B0C0D 是自然顺序，0D 是低位，在小端序中就被放在了低地址；0A 是高位，在大端序中被放在低位。\n",
    "\n",
    "\n",
    "在 `numpy` 中，dtype 的每个类型都可以用一个字符表示，而使用字符表示时，可以增加字节序。\n",
    "\n",
    "支持的字符表示如下（大小写分别表示无符号和有符号）：\n",
    "\n",
    "\n",
    "Format | C Type | Python Type | Standard Size \n",
    "-------|--------|-------------|--------------\n",
    "`?`    | `_Bool`| `bool`      | 1\n",
    "`b/B`  | `char` | `int`       | 1\n",
    "`h/H`  | `short`| `int`       | 2\n",
    "`i/I`  | `int`  | `int`       | 4\n",
    "`l/L`  | `long` | `int`       | 4\n",
    "`q/Q`  | `long long` | `int`  | 8\n",
    "`e`    | `half`   | `float`   | 2\n",
    "`f`    | `float` | `float`    | 4\n",
    "`d`    | `double` | `float`   | 8\n",
    "\n",
    "\n",
    "另外还有几个复杂类型：\n",
    "\n",
    "- `c`：复数浮点\n",
    "- `m/M`: timedelta / datetime\n",
    "- `O`: Python 对象\n",
    "- `U`: Unicode 字符串\n",
    "- `V`: void\n",
    "- `S/a`: 零终止字节（不推荐）\n",
    "\n",
    "而字节序共有以下几种：\n",
    "\n",
    "Character | Byte order | Size \n",
    "-----------|-----------|-------\n",
    "`=`       | native     | standard\n",
    "`<`       | little-endian     | standard\n",
    "`>`       | big-endian     | standard\n",
    "\n",
    "默认是 `=`。\n",
    "\n",
    "上面部分参考自：https://docs.python.org/3/library/struct.html"
   ]
  },
  {
   "cell_type": "code",
   "execution_count": 34,
   "id": "f59d3a81",
   "metadata": {
    "scrolled": false
   },
   "outputs": [
    {
     "data": {
      "text/plain": [
       "(dtype('int32'), dtype('>i4'), dtype('int32'))"
      ]
     },
     "execution_count": 34,
     "metadata": {},
     "output_type": "execute_result"
    }
   ],
   "source": [
    "# 不同顺序\n",
    "np.dtype('<i'), np.dtype('>i'), np.dtype(\"=i\")"
   ]
  },
  {
   "cell_type": "code",
   "execution_count": 14,
   "id": "3cec3e35",
   "metadata": {
    "scrolled": false
   },
   "outputs": [
    {
     "data": {
      "text/plain": [
       "True"
      ]
     },
     "execution_count": 14,
     "metadata": {},
     "output_type": "execute_result"
    }
   ],
   "source": [
    "# 小端序 int 类型\n",
    "np.dtype(\"<i\") == np.dtype(np.int32)"
   ]
  },
  {
   "cell_type": "code",
   "execution_count": 18,
   "id": "50d5228e",
   "metadata": {},
   "outputs": [
    {
     "data": {
      "text/plain": [
       "('=', '=', '>')"
      ]
     },
     "execution_count": 18,
     "metadata": {},
     "output_type": "execute_result"
    }
   ],
   "source": [
    "# 默认为 =\n",
    "np.dtype(np.int32).byteorder, np.dtype(\"<i\").byteorder, np.dtype(\">i\").byteorder"
   ]
  },
  {
   "cell_type": "code",
   "execution_count": 31,
   "id": "2af53d13",
   "metadata": {},
   "outputs": [
    {
     "data": {
      "text/plain": [
       "(dtype('int32'), dtype('float64'), dtype('<U3'))"
      ]
     },
     "execution_count": 31,
     "metadata": {},
     "output_type": "execute_result"
    }
   ],
   "source": [
    "# 也可以显式指定长度\n",
    "# U 可以是任意长度\n",
    "np.dtype('<i4'), np.dtype('=f8'), np.dtype('<U3')"
   ]
  },
  {
   "cell_type": "code",
   "execution_count": 24,
   "id": "7672f0fd",
   "metadata": {},
   "outputs": [
    {
     "ename": "TypeError",
     "evalue": "data type '<i3' not understood",
     "output_type": "error",
     "traceback": [
      "\u001b[0;31m---------------------------------------------------------------------------\u001b[0m",
      "\u001b[0;31mTypeError\u001b[0m                                 Traceback (most recent call last)",
      "\u001b[0;32m<ipython-input-24-5d7ad68fd17a>\u001b[0m in \u001b[0;36m<module>\u001b[0;34m\u001b[0m\n\u001b[1;32m      1\u001b[0m \u001b[0;31m# 但是你不能随意指定不存在的\u001b[0m\u001b[0;34m\u001b[0m\u001b[0;34m\u001b[0m\u001b[0;34m\u001b[0m\u001b[0m\n\u001b[0;32m----> 2\u001b[0;31m \u001b[0mnp\u001b[0m\u001b[0;34m.\u001b[0m\u001b[0mdtype\u001b[0m\u001b[0;34m(\u001b[0m\u001b[0;34m\"<i3\"\u001b[0m\u001b[0;34m)\u001b[0m\u001b[0;34m\u001b[0m\u001b[0;34m\u001b[0m\u001b[0m\n\u001b[0m",
      "\u001b[0;31mTypeError\u001b[0m: data type '<i3' not understood"
     ]
    }
   ],
   "source": [
    "# 但是你不能随意指定不存在的\n",
    "np.dtype(\"<i3\")"
   ]
  },
  {
   "cell_type": "code",
   "execution_count": 42,
   "id": "78fe3c36",
   "metadata": {},
   "outputs": [
    {
     "data": {
      "text/plain": [
       "(b'\\x03\\x01', b'\\x01\\x03')"
      ]
     },
     "execution_count": 42,
     "metadata": {},
     "output_type": "execute_result"
    }
   ],
   "source": [
    "# 以 01 03 为例（十进制 259，16x16+3），二者顺序相反\n",
    "# 从左到右地址由低到高，因为是 16 进制，所以正好是 32 位\n",
    "bytes(np.array([259], dtype=\"<i2\")), bytes(np.array([259], dtype=\">i2\"))"
   ]
  },
  {
   "cell_type": "markdown",
   "id": "ebaeb848",
   "metadata": {},
   "source": [
    "字节顺序常用于**不同设备**（字节序不同）之间数据交互，也可以互相转换。"
   ]
  },
  {
   "cell_type": "markdown",
   "id": "3ec8268b",
   "metadata": {},
   "source": [
    "### 结构化\n",
    "\n",
    "结构化数组就是数据类型是**一组**（而不是只有一个）不同的类型的数组，常常用于计算时需要将多个类型的数据放在一起的场景。"
   ]
  },
  {
   "cell_type": "code",
   "execution_count": 4,
   "id": "3fc54a2b",
   "metadata": {},
   "outputs": [
    {
     "data": {
      "text/plain": [
       "array([('Rex', 9, 81.), ('Fido', 3, 27.)],\n",
       "      dtype=[('name', '<U10'), ('age', '<i4'), ('weight', '<f4')])"
      ]
     },
     "execution_count": 4,
     "metadata": {},
     "output_type": "execute_result"
    }
   ],
   "source": [
    "arr = np.array(\n",
    "    [('Rex', 9, 81.0), ('Fido', 3, 27.0)],\n",
    "    dtype=[('name', 'U10'), ('age', 'i4'), ('weight', 'f4')]\n",
    ")\n",
    "arr"
   ]
  },
  {
   "cell_type": "code",
   "execution_count": 5,
   "id": "d8bdcdbd",
   "metadata": {},
   "outputs": [
    {
     "data": {
      "text/plain": [
       "(2,)"
      ]
     },
     "execution_count": 5,
     "metadata": {},
     "output_type": "execute_result"
    }
   ],
   "source": [
    "arr.shape"
   ]
  },
  {
   "cell_type": "markdown",
   "id": "58dcb643",
   "metadata": {},
   "source": [
    "如果我们去掉 `dtype`，就和之前介绍的一样了（转成统一的类型）："
   ]
  },
  {
   "cell_type": "code",
   "execution_count": 37,
   "id": "ab4f64e2",
   "metadata": {
    "scrolled": true
   },
   "outputs": [
    {
     "data": {
      "text/plain": [
       "array([['Rex', '9', '81.0'],\n",
       "       ['Fido', '3', '27.0']], dtype='<U4')"
      ]
     },
     "execution_count": 37,
     "metadata": {},
     "output_type": "execute_result"
    }
   ],
   "source": [
    "np.array(\n",
    "    [('Rex', 9, 81.0), ('Fido', 3, 27.0)])"
   ]
  },
  {
   "cell_type": "markdown",
   "id": "cda7fd30",
   "metadata": {},
   "source": [
    "因为每个元素都是「一组结构化的数据」，所以也叫结构化数组。\n",
    "\n",
    "⚠️ 注意：`dtype` 的每一个 tuple 对应元素中的一个元素。比如上面的例子中，第一个元素是 U10 类型，表示的是每一个 tuple 的第一个元素是 U10 类型。"
   ]
  },
  {
   "cell_type": "code",
   "execution_count": 11,
   "id": "ddae55f0",
   "metadata": {
    "scrolled": true
   },
   "outputs": [
    {
     "data": {
      "text/plain": [
       "('Rex', 9, 81.)"
      ]
     },
     "execution_count": 11,
     "metadata": {},
     "output_type": "execute_result"
    }
   ],
   "source": [
    "arr[0]"
   ]
  },
  {
   "cell_type": "markdown",
   "id": "7652cbfa",
   "metadata": {},
   "source": [
    "另外，我们也可以创建多维的结构化数组，但这个多维和正常的多维不一样，它会把每个元素重复多遍；也就是说，每个 array 的类型其实还是一致的，然后变成了多个 array。"
   ]
  },
  {
   "cell_type": "code",
   "execution_count": 24,
   "id": "f23904a7",
   "metadata": {},
   "outputs": [
    {
     "data": {
      "text/plain": [
       "array([[( 1,  1., '1',  1,  1.), ( 2,  2., '2',  2,  2.),\n",
       "        ( 5,  5., '5',  5,  5.)],\n",
       "       [( 4,  4., '4',  4,  4.), ( 5,  5., '5',  5,  5.),\n",
       "        ( 7,  7., '7',  7,  7.)],\n",
       "       [( 7,  7., '7',  7,  7.), ( 8,  8., '8',  8,  8.),\n",
       "        (11, 11., '11', 11, 11.)],\n",
       "       [(10, 10., '10', 10, 10.), (11, 11., '11', 11, 11.),\n",
       "        (12, 12., '12', 12, 12.)]],\n",
       "      dtype=[('x', '<i4'), ('y', '<f4'), ('z', '<U3'), ('u', '<i8'), ('v', '<f8')])"
      ]
     },
     "execution_count": 24,
     "metadata": {},
     "output_type": "execute_result"
    }
   ],
   "source": [
    "marr = np.array([\n",
    "    [1, 2, 5], \n",
    "    [4, 5, 7], \n",
    "    [7, 8 ,11], \n",
    "    [10, 11, 12]\n",
    "], dtype=[('x', 'i4'), ('y', 'f4'), ('z', 'U3'), ('u', 'i8'), ('v', 'f8')])\n",
    "marr"
   ]
  },
  {
   "cell_type": "code",
   "execution_count": 25,
   "id": "30d28d25",
   "metadata": {},
   "outputs": [
    {
     "data": {
      "text/plain": [
       "True"
      ]
     },
     "execution_count": 25,
     "metadata": {},
     "output_type": "execute_result"
    }
   ],
   "source": [
    "marr.shape == (4, 3)"
   ]
  },
  {
   "cell_type": "code",
   "execution_count": 7,
   "id": "8f0cd937",
   "metadata": {},
   "outputs": [
    {
     "data": {
      "text/plain": [
       "array([[ 1,  2,  5],\n",
       "       [ 4,  5,  7],\n",
       "       [ 7,  8, 11],\n",
       "       [10, 11, 12]])"
      ]
     },
     "execution_count": 7,
     "metadata": {},
     "output_type": "execute_result"
    }
   ],
   "source": [
    "marr['x']"
   ]
  },
  {
   "cell_type": "code",
   "execution_count": 8,
   "id": "2d767dc1",
   "metadata": {
    "scrolled": true
   },
   "outputs": [
    {
     "data": {
      "text/plain": [
       "array([[ 1,  2,  5],\n",
       "       [ 4,  5,  7],\n",
       "       [ 7,  8, 11],\n",
       "       [10, 11, 12]], dtype=int64)"
      ]
     },
     "execution_count": 8,
     "metadata": {},
     "output_type": "execute_result"
    }
   ],
   "source": [
    "marr['u']"
   ]
  },
  {
   "cell_type": "code",
   "execution_count": 10,
   "id": "6c85dd19",
   "metadata": {
    "scrolled": true
   },
   "outputs": [
    {
     "data": {
      "text/plain": [
       "array([( 1,  2.,  5.), ( 4,  5.,  7.), ( 7,  8., 11.), (10, 11., 12.)],\n",
       "      dtype=[('x', '<i4'), ('y', '<f4'), ('z', '<f8')])"
      ]
     },
     "execution_count": 10,
     "metadata": {},
     "output_type": "execute_result"
    }
   ],
   "source": [
    "# 用 tuple 不行哦\n",
    "np.array([(1, 2, 5), (4, 5, 7), (7, 8 ,11), (10, 11, 12)],\n",
    "             dtype=[('x', 'i4'), ('y', 'f4'), ('z', 'f8')])"
   ]
  },
  {
   "cell_type": "code",
   "execution_count": 11,
   "id": "f8fb499a",
   "metadata": {},
   "outputs": [
    {
     "data": {
      "text/plain": [
       "array([ 1,  4,  7, 10])"
      ]
     },
     "execution_count": 11,
     "metadata": {},
     "output_type": "execute_result"
    }
   ],
   "source": [
    "_[\"x\"]"
   ]
  },
  {
   "cell_type": "markdown",
   "id": "85118c99",
   "metadata": {},
   "source": [
    "`zeros` 和 `ones` 和正常接口一样，可以快速创建多维（结构化）数组。"
   ]
  },
  {
   "cell_type": "code",
   "execution_count": 12,
   "id": "85652ffe",
   "metadata": {
    "scrolled": true
   },
   "outputs": [
    {
     "data": {
      "text/plain": [
       "array([[(b'', 0), (b'', 0), (b'', 0)],\n",
       "       [(b'', 0), (b'', 0), (b'', 0)]], dtype=[('a', 'S1'), ('b', '<i4')])"
      ]
     },
     "execution_count": 12,
     "metadata": {},
     "output_type": "execute_result"
    }
   ],
   "source": [
    "# zeros 会有不同反应，注意第一个元素是空\n",
    "np.zeros((2, 3), dtype=[('a', 'S1'), ('b', 'i4')])"
   ]
  },
  {
   "cell_type": "code",
   "execution_count": 13,
   "id": "79e69a56",
   "metadata": {
    "scrolled": false
   },
   "outputs": [
    {
     "data": {
      "text/plain": [
       "array([[(b'1', 1), (b'1', 1), (b'1', 1)],\n",
       "       [(b'1', 1), (b'1', 1), (b'1', 1)]],\n",
       "      dtype=[('a', 'S1'), ('b', '<i4')])"
      ]
     },
     "execution_count": 13,
     "metadata": {},
     "output_type": "execute_result"
    }
   ],
   "source": [
    "np.ones((2, 3), dtype=[('a', 'S1'), ('b', 'i4')])"
   ]
  },
  {
   "cell_type": "markdown",
   "id": "29b19749",
   "metadata": {},
   "source": [
    "`rec` 接口可以使 array 能够通过属性名访问。"
   ]
  },
  {
   "cell_type": "code",
   "execution_count": 15,
   "id": "fbf3358a",
   "metadata": {},
   "outputs": [],
   "source": [
    "arr = np.rec.array(\n",
    "    [(1, 2., 'Hello'), (2, 3., \"World\")], \n",
    "    dtype=[('foo', 'i4'),('bar', 'f4'), ('baz', 'S10')]\n",
    ")"
   ]
  },
  {
   "cell_type": "code",
   "execution_count": 16,
   "id": "52b33479",
   "metadata": {},
   "outputs": [
    {
     "data": {
      "text/plain": [
       "array([1, 2])"
      ]
     },
     "execution_count": 16,
     "metadata": {},
     "output_type": "execute_result"
    }
   ],
   "source": [
    "arr.foo"
   ]
  },
  {
   "cell_type": "markdown",
   "id": "59287652",
   "metadata": {},
   "source": [
    "普通 array 也可以转换成结构化数组。"
   ]
  },
  {
   "cell_type": "code",
   "execution_count": 17,
   "id": "c0259337",
   "metadata": {},
   "outputs": [],
   "source": [
    "arr = np.array([[1, 2], [3, 4]], dtype=(\"i, i\"))"
   ]
  },
  {
   "cell_type": "code",
   "execution_count": 18,
   "id": "1eef9db7",
   "metadata": {
    "scrolled": true
   },
   "outputs": [
    {
     "data": {
      "text/plain": [
       "(rec.array([[(1, 1), (2, 2)],\n",
       "            [(3, 3), (4, 4)]],\n",
       "           dtype=[('f0', '<i4'), ('f1', '<i4')]),\n",
       " rec.array([[(1, 1), (2, 2)],\n",
       "            [(3, 3), (4, 4)]],\n",
       "           dtype=[('f0', '<i4'), ('f1', '<i4')]))"
      ]
     },
     "execution_count": 18,
     "metadata": {},
     "output_type": "execute_result"
    }
   ],
   "source": [
    "# 两种转换方式\n",
    "a = np.rec.array(arr)\n",
    "b = arr.view(np.recarray)\n",
    "a, b"
   ]
  },
  {
   "cell_type": "code",
   "execution_count": 21,
   "id": "2ac57929",
   "metadata": {},
   "outputs": [
    {
     "data": {
      "text/plain": [
       "((2, 2), (2, 2))"
      ]
     },
     "execution_count": 21,
     "metadata": {},
     "output_type": "execute_result"
    }
   ],
   "source": [
    "a.shape, b.shape"
   ]
  },
  {
   "cell_type": "code",
   "execution_count": 22,
   "id": "1070660c",
   "metadata": {
    "scrolled": true
   },
   "outputs": [
    {
     "data": {
      "text/plain": [
       "(array([[1, 2],\n",
       "        [3, 4]], dtype=int32),\n",
       " array([[1, 2],\n",
       "        [3, 4]], dtype=int32))"
      ]
     },
     "execution_count": 22,
     "metadata": {},
     "output_type": "execute_result"
    }
   ],
   "source": [
    "a.f0, b.f1"
   ]
  },
  {
   "cell_type": "code",
   "execution_count": 23,
   "id": "e6f76b44",
   "metadata": {},
   "outputs": [
    {
     "data": {
      "text/plain": [
       "((2, 2), (2, 2))"
      ]
     },
     "execution_count": 23,
     "metadata": {},
     "output_type": "execute_result"
    }
   ],
   "source": [
    "a.f0.shape, b.f1.shape"
   ]
  },
  {
   "cell_type": "markdown",
   "id": "1304f15d",
   "metadata": {},
   "source": [
    "另外，结构化数组也可以在类型中加入前缀作为 shape。"
   ]
  },
  {
   "cell_type": "code",
   "execution_count": 44,
   "id": "1ddffc2c",
   "metadata": {},
   "outputs": [
    {
     "data": {
      "text/plain": [
       "array([([1, 1, 1], [[1., 1., 1.], [1., 1., 1.]], [[b'1', b'1'], [b'1', b'1']]),\n",
       "       ([1, 1, 1], [[1., 1., 1.], [1., 1., 1.]], [[b'1', b'1'], [b'1', b'1']])],\n",
       "      dtype=[('f0', '<i4', (3,)), ('f1', '<f4', (2, 3)), ('f2', 'S2', (2, 2))])"
      ]
     },
     "execution_count": 44,
     "metadata": {},
     "output_type": "execute_result"
    }
   ],
   "source": [
    "parr = np.ones((2, ), dtype=('3i4, (2,3)f4, (2, 2)S2'))\n",
    "parr"
   ]
  },
  {
   "cell_type": "code",
   "execution_count": 46,
   "id": "9e64d656",
   "metadata": {},
   "outputs": [
    {
     "data": {
      "text/plain": [
       "array([([1, 1, 1], [[b'1', b'1'], [b'1', b'1']]),\n",
       "       ([1, 1, 1], [[b'1', b'1'], [b'1', b'1']])],\n",
       "      dtype={'names':['f0','f2'], 'formats':[('<i4', (3,)),('S2', (2, 2))], 'offsets':[0,36], 'itemsize':44})"
      ]
     },
     "execution_count": 46,
     "metadata": {},
     "output_type": "execute_result"
    }
   ],
   "source": [
    "# 同时选择多个 field\n",
    "parr[['f0', 'f2']]"
   ]
  },
  {
   "cell_type": "code",
   "execution_count": 47,
   "id": "ae100ef1",
   "metadata": {},
   "outputs": [
    {
     "data": {
      "text/plain": [
       "((2, 3), (2, 2, 3))"
      ]
     },
     "execution_count": 47,
     "metadata": {},
     "output_type": "execute_result"
    }
   ],
   "source": [
    "parr['f0'].shape, parr['f1'].shape"
   ]
  },
  {
   "cell_type": "markdown",
   "id": "1403ca67",
   "metadata": {},
   "source": [
    "结构化数组还有一些快捷的操纵方式，具体可查看[文档](https://numpy.org/devdocs/user/basics.rec.html#module-numpy.lib.recfunctions)，此处不再深入介绍。"
   ]
  },
  {
   "cell_type": "markdown",
   "id": "0acf43f0",
   "metadata": {},
   "source": [
    "### 时间\n",
    "\n",
    "`datetime` 是专门处理时间的 API，在处理时间序列时非常有用。为了和 Python 中的 `datetime` 区分，Numpy 中是 `datetime64`，格式是 [ISO 8601](https://en.wikipedia.org/wiki/ISO_8601)。"
   ]
  },
  {
   "cell_type": "code",
   "execution_count": 57,
   "id": "245b696a",
   "metadata": {},
   "outputs": [],
   "source": [
    "t1 = np.datetime64(\"2022-02-28\")\n",
    "t2 = np.datetime64(\"2023\")\n",
    "t3 = np.datetime64(\"12\")"
   ]
  },
  {
   "cell_type": "code",
   "execution_count": 59,
   "id": "494e5da0",
   "metadata": {},
   "outputs": [
    {
     "data": {
      "text/plain": [
       "(dtype('<M8[D]'), dtype('<M8[Y]'), dtype('<M8[Y]'))"
      ]
     },
     "execution_count": 59,
     "metadata": {},
     "output_type": "execute_result"
    }
   ],
   "source": [
    "# 分别到天和年，但是它可没聪明到自己识别月\n",
    "t1.dtype, t2.dtype, t3.dtype"
   ]
  },
  {
   "cell_type": "code",
   "execution_count": 68,
   "id": "c10a3012",
   "metadata": {},
   "outputs": [
    {
     "data": {
      "text/plain": [
       "numpy.datetime64('0012')"
      ]
     },
     "execution_count": 68,
     "metadata": {},
     "output_type": "execute_result"
    }
   ],
   "source": [
    "# 它会直接给你转成月份，四位数的「年」\n",
    "t3"
   ]
  },
  {
   "cell_type": "code",
   "execution_count": null,
   "id": "3f97d9db",
   "metadata": {},
   "outputs": [],
   "source": []
  },
  {
   "cell_type": "code",
   "execution_count": null,
   "id": "0ac41c68",
   "metadata": {},
   "outputs": [],
   "source": []
  },
  {
   "cell_type": "code",
   "execution_count": null,
   "id": "48dceedd",
   "metadata": {},
   "outputs": [],
   "source": []
  },
  {
   "cell_type": "markdown",
   "id": "0fab8f4a",
   "metadata": {},
   "source": [
    "## 数组对象"
   ]
  },
  {
   "cell_type": "markdown",
   "id": "7d90ac13",
   "metadata": {},
   "source": [
    "### ndarray\n",
    "\n",
    "NumPy 提供了一个 N 维数组类型，即 `ndarray`，描述了**相同类型**「元素」集合。它是偏底层的 array 接口。\n",
    "\n",
    "所有的 `ndarray` 元素都是同质的，每个元素占用大小相同的内存块，具体大小由「数据类型」决定。`ndarray` 可以共享相同数据。\n",
    "\n",
    "对象签名如下：\n",
    "\n",
    "```python\n",
    "numpy.ndarray(shape, dtype=float, buffer=None, offset=0, strides=None, order=None)\n",
    "```\n",
    "\n",
    "- shape：整数元组，表示形状\n",
    "- dtype：数据类型对象\n",
    "- buffer：使用 buffer 中的数据填充 `ndarray`\n",
    "- offset：buffer 中的偏移量\n",
    "- stride：内存中数据跨度\n",
    "- order：行为主（C-Style）或列为主（Fortran-Style）\n",
    "\n",
    "\n",
    "当 buffer 为空时，shape, dtype 和 order 三个参数会被使用；  \n",
    "当 buffer 不为空时，所有参数都会被使用。"
   ]
  },
  {
   "cell_type": "code",
   "execution_count": 358,
   "id": "6526527c",
   "metadata": {},
   "outputs": [
    {
     "data": {
      "text/plain": [
       "array([[38203952,        0,        0],\n",
       "       [       0,        0,        0]])"
      ]
     },
     "execution_count": 358,
     "metadata": {},
     "output_type": "execute_result"
    }
   ],
   "source": [
    "# buffer 为空，结果随机\n",
    "arr = np.ndarray(shape=(2, 3), dtype=np.int, order=\"C\")\n",
    "arr"
   ]
  },
  {
   "cell_type": "code",
   "execution_count": 394,
   "id": "5e228233",
   "metadata": {
    "scrolled": true
   },
   "outputs": [
    {
     "data": {
      "text/plain": [
       "array([[1, 2],\n",
       "       [2, 3]])"
      ]
     },
     "execution_count": 394,
     "metadata": {},
     "output_type": "execute_result"
    }
   ],
   "source": [
    "# buffer 不为空\n",
    "buf = np.array([1, 2, 3, 4], dtype=np.int)\n",
    "arr = np.ndarray(shape=(2, 2), \n",
    "                 dtype=np.int, \n",
    "                 offset=0,\n",
    "                 buffer=buf,\n",
    "                 strides=(np.int_().itemsize, np.int_().itemsize),\n",
    "                 )\n",
    "arr"
   ]
  },
  {
   "cell_type": "code",
   "execution_count": 398,
   "id": "1dcbcadc",
   "metadata": {},
   "outputs": [
    {
     "data": {
      "text/plain": [
       "array([[1, 2],\n",
       "       [2, 3]])"
      ]
     },
     "execution_count": 398,
     "metadata": {},
     "output_type": "execute_result"
    }
   ],
   "source": [
    "# buf 的 shape 并无关系\n",
    "buf = np.array([[[[1, 2]], [[3, 4]], [[5, 6]], [[7, 8]]]], dtype=np.int, order=\"C\")\n",
    "arr = np.ndarray(shape=(2, 2), \n",
    "                 dtype=np.int, \n",
    "                 offset=0,\n",
    "                 buffer=buf,\n",
    "                 strides=(np.int_().itemsize, np.int_().itemsize),\n",
    "                 )\n",
    "arr"
   ]
  },
  {
   "cell_type": "code",
   "execution_count": 399,
   "id": "01d5f5b3",
   "metadata": {},
   "outputs": [
    {
     "data": {
      "text/plain": [
       "array([[1, 3],\n",
       "       [3, 5]])"
      ]
     },
     "execution_count": 399,
     "metadata": {},
     "output_type": "execute_result"
    }
   ],
   "source": [
    "# buf 的 order 有关，原因我们后面解释\n",
    "buf = np.array([[[[1, 2]], [[3, 4]], [[5, 6]], [[7, 8]]]], dtype=np.int, order=\"F\")\n",
    "arr = np.ndarray(shape=(2, 2), \n",
    "                 dtype=np.int, \n",
    "                 offset=0,\n",
    "                 buffer=buf,\n",
    "                 strides=(np.int_().itemsize, np.int_().itemsize),\n",
    "                 )\n",
    "arr"
   ]
  },
  {
   "cell_type": "markdown",
   "id": "ab12a439",
   "metadata": {},
   "source": [
    "由于我们平时很少用到这个接口，您可能会对其中的一些参数有些困惑。接下来我们稍微解释一下。buffer 为空时没有太多要强调的，重点说一下 buffer 不为空时。\n",
    "\n",
    "`shape` 和 `dtype` 也比较清晰，`buffer` 刚刚也说明了，使用一位数组即可。主要是剩下的三个参数：`offset`, `strides` 和 `order`。"
   ]
  },
  {
   "cell_type": "markdown",
   "id": "7666efaa",
   "metadata": {},
   "source": [
    "`order` 是指采用哪种风格进行存储。计算中，行主序（C Style）和列主序（F Style）是将多维数组存储在线性存储器（例如 RAM）中的方法。在行主序中，一行的连续元素彼此相邻，而在列主序中，一列连续元素彼此相邻。具体可参考：[Row- and column-major order - Wikipedia](https://en.wikipedia.org/wiki/Row-_and_column-major_order)。\n",
    "\n",
    "**需要注意的是**：不同的存储方式会导致计算效率的不同，可以针对具体的场景（处理行多还是列多）选择不同的 Style。"
   ]
  },
  {
   "cell_type": "code",
   "execution_count": 387,
   "id": "cc45eb8e",
   "metadata": {},
   "outputs": [
    {
     "data": {
      "text/plain": [
       "  C_CONTIGUOUS : True\n",
       "  F_CONTIGUOUS : False\n",
       "  OWNDATA : True\n",
       "  WRITEABLE : True\n",
       "  ALIGNED : True\n",
       "  WRITEBACKIFCOPY : False\n",
       "  UPDATEIFCOPY : False"
      ]
     },
     "execution_count": 387,
     "metadata": {},
     "output_type": "execute_result"
    }
   ],
   "source": [
    "# copy 让 carr 拥有数据，否则只是 view\n",
    "carr = np.arange(1000000).reshape(1000, 1000).copy()\n",
    "carr.flags"
   ]
  },
  {
   "cell_type": "code",
   "execution_count": 388,
   "id": "ebeb082e",
   "metadata": {},
   "outputs": [
    {
     "data": {
      "text/plain": [
       "  C_CONTIGUOUS : False\n",
       "  F_CONTIGUOUS : True\n",
       "  OWNDATA : True\n",
       "  WRITEABLE : True\n",
       "  ALIGNED : True\n",
       "  WRITEBACKIFCOPY : False\n",
       "  UPDATEIFCOPY : False"
      ]
     },
     "execution_count": 388,
     "metadata": {},
     "output_type": "execute_result"
    }
   ],
   "source": [
    "farr = np.asfortranarray(carr)\n",
    "farr.flags"
   ]
  },
  {
   "cell_type": "code",
   "execution_count": 389,
   "id": "6a5fd1c9",
   "metadata": {},
   "outputs": [
    {
     "name": "stdout",
     "output_type": "stream",
     "text": [
      "6.8 µs ± 255 ns per loop (mean ± std. dev. of 7 runs, 100000 loops each)\n"
     ]
    }
   ],
   "source": [
    "# 加第一行所有列\n",
    "# C style 应该比 F style 快一些\n",
    "%timeit np.sum(carr[0,:])"
   ]
  },
  {
   "cell_type": "code",
   "execution_count": 390,
   "id": "9acdfe0d",
   "metadata": {},
   "outputs": [
    {
     "name": "stdout",
     "output_type": "stream",
     "text": [
      "9.63 µs ± 234 ns per loop (mean ± std. dev. of 7 runs, 100000 loops each)\n"
     ]
    }
   ],
   "source": [
    "%timeit np.sum(farr[0,:])"
   ]
  },
  {
   "cell_type": "code",
   "execution_count": 391,
   "id": "1d55a93d",
   "metadata": {},
   "outputs": [
    {
     "name": "stdout",
     "output_type": "stream",
     "text": [
      "6.76 µs ± 151 ns per loop (mean ± std. dev. of 7 runs, 100000 loops each)\n"
     ]
    }
   ],
   "source": [
    "# 加第一列所有行\n",
    "# F style 应该比 C style 快一些\n",
    "%timeit np.sum(farr[:, 0])"
   ]
  },
  {
   "cell_type": "code",
   "execution_count": 392,
   "id": "dc669a0d",
   "metadata": {},
   "outputs": [
    {
     "name": "stdout",
     "output_type": "stream",
     "text": [
      "9.69 µs ± 447 ns per loop (mean ± std. dev. of 7 runs, 100000 loops each)\n"
     ]
    }
   ],
   "source": [
    "%timeit np.sum(carr[:, 0])"
   ]
  },
  {
   "cell_type": "markdown",
   "id": "7438886f",
   "metadata": {},
   "source": [
    "`offset` 和 `strides` 是配合使用的，前者是偏移位置，后者是步幅，它必须与 shape 等长。也就是根据给定的 buffer，生成目标 shape 的 array。至于这么做的原因，主要是和内部存储有关，事实上，`ndarray` 就是通过这两个参数来控制 shape，不同的 shape 其实存储是一样的。"
   ]
  },
  {
   "cell_type": "code",
   "execution_count": 526,
   "id": "e177156b",
   "metadata": {},
   "outputs": [
    {
     "data": {
      "text/plain": [
       "array([1, 2, 3, 4, 5, 6, 7, 8])"
      ]
     },
     "execution_count": 526,
     "metadata": {},
     "output_type": "execute_result"
    }
   ],
   "source": [
    "buf = np.arange(1, 9)\n",
    "buf"
   ]
  },
  {
   "cell_type": "code",
   "execution_count": 532,
   "id": "98262f30",
   "metadata": {},
   "outputs": [
    {
     "data": {
      "text/plain": [
       "(8,)"
      ]
     },
     "execution_count": 532,
     "metadata": {},
     "output_type": "execute_result"
    }
   ],
   "source": [
    "# 因为咱们是 int64，所以 1 个数字是 64 位，即 8 个 Bytes\n",
    "buf.strides"
   ]
  },
  {
   "cell_type": "code",
   "execution_count": 528,
   "id": "32f1172b",
   "metadata": {},
   "outputs": [
    {
     "data": {
      "text/plain": [
       "array([[2, 3, 4],\n",
       "       [3, 4, 5]], dtype=int8)"
      ]
     },
     "execution_count": 528,
     "metadata": {},
     "output_type": "execute_result"
    }
   ],
   "source": [
    "# 这个例子 偏移了「1」个数字，步幅也正好是「1」\n",
    "# 结果是 从 2 开始\n",
    "# strides 两个数字分别控制 行和列 的步幅：从左往右看，每次增加 1 个数字，从上往下看，每次增加 1 个数字\n",
    "arr1 = np.ndarray(\n",
    "    shape=(2, 3), \n",
    "    dtype=np.int8, \n",
    "    offset=8,\n",
    "    buffer=buf,\n",
    "    strides=(8, 8),\n",
    "    order=\"C\")\n",
    "arr1"
   ]
  },
  {
   "cell_type": "code",
   "execution_count": 530,
   "id": "ab3caddf",
   "metadata": {},
   "outputs": [
    {
     "data": {
      "text/plain": [
       "array([[1, 2],\n",
       "       [3, 4],\n",
       "       [5, 6]], dtype=int8)"
      ]
     },
     "execution_count": 530,
     "metadata": {},
     "output_type": "execute_result"
    }
   ],
   "source": [
    "# 再来个例子\n",
    "# 没有偏移，ok，从 1 开始\n",
    "# 从左到右是列，每次加 1 个数字，从上到下是行，每次增加 2 个数字\n",
    "arr2 = np.ndarray(\n",
    "    shape=(3, 2), \n",
    "    dtype=np.int8, \n",
    "    offset=0,\n",
    "    buffer=buf,\n",
    "    strides=(16, 8),\n",
    "    order=\"C\")\n",
    "arr2"
   ]
  },
  {
   "cell_type": "markdown",
   "id": "ff4e3e76",
   "metadata": {},
   "source": [
    "ok，接下来，我们看一下不同的 shape 的存储情况。"
   ]
  },
  {
   "cell_type": "code",
   "execution_count": 537,
   "id": "fbf4f15d",
   "metadata": {},
   "outputs": [
    {
     "data": {
      "text/plain": [
       "array([1, 2, 3, 4, 5, 6, 7, 8], dtype=int8)"
      ]
     },
     "execution_count": 537,
     "metadata": {},
     "output_type": "execute_result"
    }
   ],
   "source": [
    "buf = np.arange(1, 9, dtype=np.int8)\n",
    "buf"
   ]
  },
  {
   "cell_type": "code",
   "execution_count": 538,
   "id": "732ff119",
   "metadata": {},
   "outputs": [
    {
     "data": {
      "text/plain": [
       "(1,)"
      ]
     },
     "execution_count": 538,
     "metadata": {},
     "output_type": "execute_result"
    }
   ],
   "source": [
    "# int8 的，每次正好 8 位，即 1 个 Byte\n",
    "buf.strides"
   ]
  },
  {
   "cell_type": "code",
   "execution_count": 539,
   "id": "020cab81",
   "metadata": {},
   "outputs": [
    {
     "data": {
      "text/plain": [
       "b'\\x01\\x02\\x03\\x04\\x05\\x06\\x07\\x08'"
      ]
     },
     "execution_count": 539,
     "metadata": {},
     "output_type": "execute_result"
    }
   ],
   "source": [
    "bytes(buf)"
   ]
  },
  {
   "cell_type": "code",
   "execution_count": 540,
   "id": "60e6d34f",
   "metadata": {},
   "outputs": [],
   "source": [
    "# 改一下 shape\n",
    "buf.shape = 2, 4"
   ]
  },
  {
   "cell_type": "code",
   "execution_count": 542,
   "id": "1393c577",
   "metadata": {},
   "outputs": [
    {
     "data": {
      "text/plain": [
       "(4, 1)"
      ]
     },
     "execution_count": 542,
     "metadata": {},
     "output_type": "execute_result"
    }
   ],
   "source": [
    "buf.strides"
   ]
  },
  {
   "cell_type": "code",
   "execution_count": 541,
   "id": "7834b10b",
   "metadata": {},
   "outputs": [
    {
     "data": {
      "text/plain": [
       "array([[1, 2, 3, 4],\n",
       "       [5, 6, 7, 8]], dtype=int8)"
      ]
     },
     "execution_count": 541,
     "metadata": {},
     "output_type": "execute_result"
    }
   ],
   "source": [
    "# 发现规律了吗？\n",
    "buf"
   ]
  },
  {
   "cell_type": "code",
   "execution_count": 544,
   "id": "726e5e82",
   "metadata": {},
   "outputs": [
    {
     "data": {
      "text/plain": [
       "b'\\x01\\x02\\x03\\x04\\x05\\x06\\x07\\x08'"
      ]
     },
     "execution_count": 544,
     "metadata": {},
     "output_type": "execute_result"
    }
   ],
   "source": [
    "# 此时再看 内存布局\n",
    "# 和之前是一样的，也就是说，用 strides 我们就可以给同一个 array 不同的 shape\n",
    "bytes(buf)"
   ]
  },
  {
   "cell_type": "markdown",
   "id": "4fb35efe",
   "metadata": {},
   "source": [
    "事实上，无论 shape 怎么变化，内存是完全没变化的，不同的 array 其实就是不同的 strides 方式而已。感兴趣的可以进一步尝试。\n",
    "\n",
    "另外，使用 buffer 创建的 `ndarray` 都使用了同一块内存。"
   ]
  },
  {
   "cell_type": "code",
   "execution_count": 565,
   "id": "b145fbac",
   "metadata": {},
   "outputs": [],
   "source": [
    "buf = np.arange(1, 9, dtype=np.int8)"
   ]
  },
  {
   "cell_type": "code",
   "execution_count": 566,
   "id": "2c8ea09f",
   "metadata": {},
   "outputs": [
    {
     "data": {
      "text/plain": [
       "array([[1, 2, 3],\n",
       "       [2, 3, 4]], dtype=int8)"
      ]
     },
     "execution_count": 566,
     "metadata": {},
     "output_type": "execute_result"
    }
   ],
   "source": [
    "arr1 = np.ndarray(\n",
    "    shape=(2, 3), \n",
    "    dtype=np.int8, \n",
    "    offset=0,\n",
    "    buffer=buf,\n",
    "    strides=(1, 1),\n",
    "    order=\"C\")\n",
    "arr1"
   ]
  },
  {
   "cell_type": "code",
   "execution_count": 567,
   "id": "124d58b9",
   "metadata": {},
   "outputs": [
    {
     "data": {
      "text/plain": [
       "array([[1, 2],\n",
       "       [2, 3],\n",
       "       [3, 4]], dtype=int8)"
      ]
     },
     "execution_count": 567,
     "metadata": {},
     "output_type": "execute_result"
    }
   ],
   "source": [
    "arr2 = np.ndarray(\n",
    "    shape=(3, 2), \n",
    "    dtype=np.int8, \n",
    "    offset=0,\n",
    "    buffer=buf,\n",
    "    strides=(1, 1),\n",
    "    order=\"C\")\n",
    "arr2"
   ]
  },
  {
   "cell_type": "code",
   "execution_count": 574,
   "id": "0e804163",
   "metadata": {
    "scrolled": true
   },
   "outputs": [
    {
     "data": {
      "text/plain": [
       "(b'\\x01\\x02\\x03\\x02\\x03\\x04', b'\\x01\\x02\\x02\\x03\\x03\\x04')"
      ]
     },
     "execution_count": 574,
     "metadata": {},
     "output_type": "execute_result"
    }
   ],
   "source": [
    "bytes(arr1), bytes(arr2)"
   ]
  },
  {
   "cell_type": "code",
   "execution_count": 575,
   "id": "92e4c1b5",
   "metadata": {
    "scrolled": true
   },
   "outputs": [
    {
     "data": {
      "text/plain": [
       "(True, True)"
      ]
     },
     "execution_count": 575,
     "metadata": {},
     "output_type": "execute_result"
    }
   ],
   "source": [
    "np.may_share_memory(arr1, arr2), np.may_share_memory(buf, arr1)"
   ]
  },
  {
   "cell_type": "markdown",
   "id": "e38bf341",
   "metadata": {},
   "source": [
    "其实，无论 arr1 还是 arr2 都是 buf 的一个 view（引用），与此相对的是 copy。\n",
    "\n",
    "`reshape` 在大多数时候会改变 strides 获取 view，但在数组不连续时（比如转置后）就不能这样操作了，因为转置改变了排列方式（其实就是 C-style 与 F-style 互转）。"
   ]
  },
  {
   "cell_type": "code",
   "execution_count": 123,
   "id": "3bcc0c1f",
   "metadata": {},
   "outputs": [],
   "source": [
    "arr = np.ones((2, 3))\n",
    "arr.shape = (3, 2)"
   ]
  },
  {
   "cell_type": "code",
   "execution_count": 124,
   "id": "94bd1b1e",
   "metadata": {},
   "outputs": [
    {
     "data": {
      "text/plain": [
       "  C_CONTIGUOUS : True\n",
       "  F_CONTIGUOUS : False\n",
       "  OWNDATA : True\n",
       "  WRITEABLE : True\n",
       "  ALIGNED : True\n",
       "  WRITEBACKIFCOPY : False\n",
       "  UPDATEIFCOPY : False"
      ]
     },
     "execution_count": 124,
     "metadata": {},
     "output_type": "execute_result"
    }
   ],
   "source": [
    "arr.flags"
   ]
  },
  {
   "cell_type": "code",
   "execution_count": 125,
   "id": "1461aa39",
   "metadata": {},
   "outputs": [
    {
     "data": {
      "text/plain": [
       "  C_CONTIGUOUS : False\n",
       "  F_CONTIGUOUS : True\n",
       "  OWNDATA : False\n",
       "  WRITEABLE : True\n",
       "  ALIGNED : True\n",
       "  WRITEBACKIFCOPY : False\n",
       "  UPDATEIFCOPY : False"
      ]
     },
     "execution_count": 125,
     "metadata": {},
     "output_type": "execute_result"
    }
   ],
   "source": [
    "arr.T.flags"
   ]
  },
  {
   "cell_type": "code",
   "execution_count": 126,
   "id": "290fd677",
   "metadata": {},
   "outputs": [
    {
     "ename": "AttributeError",
     "evalue": "Incompatible shape for in-place modification. Use `.reshape()` to make a copy with the desired shape.",
     "output_type": "error",
     "traceback": [
      "\u001b[0;31m---------------------------------------------------------------------------\u001b[0m",
      "\u001b[0;31mAttributeError\u001b[0m                            Traceback (most recent call last)",
      "\u001b[0;32m<ipython-input-126-a5df655be35d>\u001b[0m in \u001b[0;36m<module>\u001b[0;34m\u001b[0m\n\u001b[1;32m      1\u001b[0m \u001b[0marr_t\u001b[0m \u001b[0;34m=\u001b[0m \u001b[0marr\u001b[0m\u001b[0;34m.\u001b[0m\u001b[0mT\u001b[0m\u001b[0;34m\u001b[0m\u001b[0;34m\u001b[0m\u001b[0m\n\u001b[0;32m----> 2\u001b[0;31m \u001b[0marr_t\u001b[0m\u001b[0;34m.\u001b[0m\u001b[0mshape\u001b[0m \u001b[0;34m=\u001b[0m \u001b[0;36m6\u001b[0m\u001b[0;34m\u001b[0m\u001b[0;34m\u001b[0m\u001b[0m\n\u001b[0m",
      "\u001b[0;31mAttributeError\u001b[0m: Incompatible shape for in-place modification. Use `.reshape()` to make a copy with the desired shape."
     ]
    }
   ],
   "source": [
    "arr_t = arr.T\n",
    "arr_t.shape = 6"
   ]
  },
  {
   "cell_type": "markdown",
   "id": "38050417",
   "metadata": {},
   "source": [
    "顺带补充，**一般来说**，切片（slicing）会创建 view，索引（indexing）会创建 copy。关于切片和索引我们会在后面进一步介绍。"
   ]
  },
  {
   "cell_type": "code",
   "execution_count": 66,
   "id": "561ecefd",
   "metadata": {},
   "outputs": [
    {
     "data": {
      "text/plain": [
       "array([[0, 1, 2],\n",
       "       [3, 4, 5]])"
      ]
     },
     "execution_count": 66,
     "metadata": {},
     "output_type": "execute_result"
    }
   ],
   "source": [
    "a = np.arange(6).reshape(2, 3)\n",
    "a"
   ]
  },
  {
   "cell_type": "code",
   "execution_count": 71,
   "id": "367fecfe",
   "metadata": {},
   "outputs": [
    {
     "data": {
      "text/plain": [
       "array([[0, 1, 2]])"
      ]
     },
     "execution_count": 71,
     "metadata": {},
     "output_type": "execute_result"
    }
   ],
   "source": [
    "# view\n",
    "b = a[:1]\n",
    "b"
   ]
  },
  {
   "cell_type": "code",
   "execution_count": 72,
   "id": "4f452701",
   "metadata": {},
   "outputs": [
    {
     "data": {
      "text/plain": [
       "array([[100, 100, 100],\n",
       "       [  3,   4,   5]])"
      ]
     },
     "execution_count": 72,
     "metadata": {},
     "output_type": "execute_result"
    }
   ],
   "source": [
    "a[:1] = 100\n",
    "a"
   ]
  },
  {
   "cell_type": "code",
   "execution_count": 74,
   "id": "4fa7f26c",
   "metadata": {},
   "outputs": [
    {
     "data": {
      "text/plain": [
       "array([[100, 100, 100]])"
      ]
     },
     "execution_count": 74,
     "metadata": {},
     "output_type": "execute_result"
    }
   ],
   "source": [
    "# view 的效果\n",
    "b"
   ]
  },
  {
   "cell_type": "code",
   "execution_count": 84,
   "id": "94f7c966",
   "metadata": {
    "scrolled": true
   },
   "outputs": [
    {
     "data": {
      "text/plain": [
       "array([100, 100, 100,   3,   4,   5])"
      ]
     },
     "execution_count": 84,
     "metadata": {},
     "output_type": "execute_result"
    }
   ],
   "source": [
    "b.base"
   ]
  },
  {
   "cell_type": "code",
   "execution_count": 75,
   "id": "eab771c0",
   "metadata": {},
   "outputs": [
    {
     "data": {
      "text/plain": [
       "array([[0, 1, 2],\n",
       "       [3, 4, 5],\n",
       "       [6, 7, 8]])"
      ]
     },
     "execution_count": 75,
     "metadata": {},
     "output_type": "execute_result"
    }
   ],
   "source": [
    "x = np.arange(9).reshape(3, 3)\n",
    "x"
   ]
  },
  {
   "cell_type": "code",
   "execution_count": 79,
   "id": "736cdd01",
   "metadata": {},
   "outputs": [
    {
     "data": {
      "text/plain": [
       "array([[3, 4, 5]])"
      ]
     },
     "execution_count": 79,
     "metadata": {},
     "output_type": "execute_result"
    }
   ],
   "source": [
    "# copy\n",
    "y = x[[1]]\n",
    "y"
   ]
  },
  {
   "cell_type": "code",
   "execution_count": 82,
   "id": "4b42ed2b",
   "metadata": {},
   "outputs": [
    {
     "data": {
      "text/plain": [
       "array([[  0,   1,   2],\n",
       "       [100, 100, 100],\n",
       "       [  6,   7,   8]])"
      ]
     },
     "execution_count": 82,
     "metadata": {},
     "output_type": "execute_result"
    }
   ],
   "source": [
    "x[[1]] = 100\n",
    "x"
   ]
  },
  {
   "cell_type": "code",
   "execution_count": 83,
   "id": "63edcc6b",
   "metadata": {},
   "outputs": [
    {
     "data": {
      "text/plain": [
       "array([[3, 4, 5]])"
      ]
     },
     "execution_count": 83,
     "metadata": {},
     "output_type": "execute_result"
    }
   ],
   "source": [
    "# copy 的效果\n",
    "y"
   ]
  },
  {
   "cell_type": "code",
   "execution_count": 87,
   "id": "9a4d2fd3",
   "metadata": {},
   "outputs": [
    {
     "data": {
      "text/plain": [
       "True"
      ]
     },
     "execution_count": 87,
     "metadata": {},
     "output_type": "execute_result"
    }
   ],
   "source": [
    "y.base is None"
   ]
  },
  {
   "cell_type": "markdown",
   "id": "67e597c2",
   "metadata": {},
   "source": [
    "也就是说，使用 buffer 创建 `ndarray` 其实可以理解成一种「切片」。实际上，如果您查看 `np.array` 的接口，就会发现其中有个 `copy` 参数，它默认是 `True`。"
   ]
  },
  {
   "cell_type": "code",
   "execution_count": 579,
   "id": "f075a0f1",
   "metadata": {},
   "outputs": [
    {
     "data": {
      "text/plain": [
       "(array([1, 2, 3, 4, 5, 6, 7, 8], dtype=int8),\n",
       " array([[1, 2, 3],\n",
       "        [2, 3, 4]], dtype=int8),\n",
       " array([[1, 2],\n",
       "        [2, 3],\n",
       "        [3, 4]], dtype=int8))"
      ]
     },
     "execution_count": 579,
     "metadata": {},
     "output_type": "execute_result"
    }
   ],
   "source": [
    "buf, arr1, arr2"
   ]
  },
  {
   "cell_type": "code",
   "execution_count": 580,
   "id": "e36db867",
   "metadata": {},
   "outputs": [],
   "source": [
    "buf[0] = 9"
   ]
  },
  {
   "cell_type": "code",
   "execution_count": 581,
   "id": "e3cfb8bb",
   "metadata": {},
   "outputs": [
    {
     "data": {
      "text/plain": [
       "(array([9, 2, 3, 4, 5, 6, 7, 8], dtype=int8),\n",
       " array([[9, 2, 3],\n",
       "        [2, 3, 4]], dtype=int8),\n",
       " array([[9, 2],\n",
       "        [2, 3],\n",
       "        [3, 4]], dtype=int8))"
      ]
     },
     "execution_count": 581,
     "metadata": {},
     "output_type": "execute_result"
    }
   ],
   "source": [
    "buf, arr1, arr2"
   ]
  },
  {
   "cell_type": "markdown",
   "id": "5d0510a7",
   "metadata": {},
   "source": [
    "`strides`　不同时，处理的效率也有差异。当步长增加时，找到对应位置的值会变慢。其原因是，CPU 在处理任务时会将数据从内存读取到缓存，步长小时，需要的传输更少。比如要取 10 个数，连在一起的（步长=1个数字）可以一次取到，但步长大时却要取多次。\n",
    "\n",
    ">注：CPU 缓存是用于减少处理器访问内存所需平均时间的部件。在金字塔式存储体系中它位于自顶向下的第二层，仅次于 CPU 寄存器。其容量远小于内存，但速度却可以接近处理器的频率。一般会有多级缓存。——维基百科"
   ]
  },
  {
   "cell_type": "code",
   "execution_count": 628,
   "id": "06bf019c",
   "metadata": {},
   "outputs": [
    {
     "data": {
      "text/plain": [
       "((1000, 100), (1000, 100))"
      ]
     },
     "execution_count": 628,
     "metadata": {},
     "output_type": "execute_result"
    }
   ],
   "source": [
    "arr1 = np.ones((1000, 100), dtype=np.int8)\n",
    "arr2 = np.ones((10000, 100), dtype=np.int8)[::10]\n",
    "arr1.shape, arr2.shape"
   ]
  },
  {
   "cell_type": "code",
   "execution_count": 639,
   "id": "5c571b5f",
   "metadata": {},
   "outputs": [
    {
     "data": {
      "text/plain": [
       "  C_CONTIGUOUS : True\n",
       "  F_CONTIGUOUS : False\n",
       "  OWNDATA : True\n",
       "  WRITEABLE : True\n",
       "  ALIGNED : True\n",
       "  WRITEBACKIFCOPY : False\n",
       "  UPDATEIFCOPY : False"
      ]
     },
     "execution_count": 639,
     "metadata": {},
     "output_type": "execute_result"
    }
   ],
   "source": [
    "arr1.flags"
   ]
  },
  {
   "cell_type": "code",
   "execution_count": 638,
   "id": "70c609d4",
   "metadata": {},
   "outputs": [
    {
     "data": {
      "text/plain": [
       "  C_CONTIGUOUS : False\n",
       "  F_CONTIGUOUS : False\n",
       "  OWNDATA : False\n",
       "  WRITEABLE : True\n",
       "  ALIGNED : True\n",
       "  WRITEBACKIFCOPY : False\n",
       "  UPDATEIFCOPY : False"
      ]
     },
     "execution_count": 638,
     "metadata": {},
     "output_type": "execute_result"
    }
   ],
   "source": [
    "# OWNDATA=False，意思是这个 array 的数据是从其他地方「借」来的\n",
    "# 从哪个地方呢？当然就是 `np.ones((10000, 100), dtype=np.int8)` 这里了\n",
    "arr2.flags"
   ]
  },
  {
   "cell_type": "code",
   "execution_count": 631,
   "id": "58139f75",
   "metadata": {},
   "outputs": [
    {
     "data": {
      "text/plain": [
       "True"
      ]
     },
     "execution_count": 631,
     "metadata": {},
     "output_type": "execute_result"
    }
   ],
   "source": [
    "np.any(arr1 == arr2)"
   ]
  },
  {
   "cell_type": "code",
   "execution_count": 632,
   "id": "674bef0d",
   "metadata": {},
   "outputs": [
    {
     "data": {
      "text/plain": [
       "((100, 1), (1000, 1))"
      ]
     },
     "execution_count": 632,
     "metadata": {},
     "output_type": "execute_result"
    }
   ],
   "source": [
    "arr1.strides, arr2.strides"
   ]
  },
  {
   "cell_type": "code",
   "execution_count": 633,
   "id": "41f9fa8e",
   "metadata": {},
   "outputs": [
    {
     "name": "stdout",
     "output_type": "stream",
     "text": [
      "673 µs ± 23.5 µs per loop (mean ± std. dev. of 7 runs, 1000 loops each)\n"
     ]
    }
   ],
   "source": [
    "%timeit arr1.sum()"
   ]
  },
  {
   "cell_type": "code",
   "execution_count": 634,
   "id": "b3d4169e",
   "metadata": {},
   "outputs": [
    {
     "name": "stdout",
     "output_type": "stream",
     "text": [
      "785 µs ± 8.11 µs per loop (mean ± std. dev. of 7 runs, 1000 loops each)\n"
     ]
    }
   ],
   "source": [
    "%timeit arr2.sum()"
   ]
  },
  {
   "cell_type": "markdown",
   "id": "d014ee10",
   "metadata": {},
   "source": [
    "最后说明下，我们上面的例子都是用 `int` 类型来说明，其他数据类型类似。\n",
    "\n",
    "另外，源码中的大致逻辑是：`arrayobject.c` 中的 `array_new` 方法调用了 ctors.c 中的 `PyArray_NewFromDescr_int` 来实现创建一个 `ndarray`。"
   ]
  },
  {
   "cell_type": "markdown",
   "id": "5f3b9190",
   "metadata": {},
   "source": [
    "除了上面提到的可以影响性能，其实不同的调用接口也是有差异的。比如转置操作，一共有三种方法：\n",
    "\n",
    "- `arr.T`\n",
    "- `arr.transpose`\n",
    "- `np.transpose`\n",
    "\n",
    "其实它们几乎是一样的，只是调用方式不同，性能也表现出不同的差异（很自然嘛）。"
   ]
  },
  {
   "cell_type": "code",
   "execution_count": 117,
   "id": "34339e6e",
   "metadata": {},
   "outputs": [],
   "source": [
    "rng = np.random.default_rng(42)"
   ]
  },
  {
   "cell_type": "code",
   "execution_count": 379,
   "id": "88d1debe",
   "metadata": {},
   "outputs": [
    {
     "data": {
      "text/plain": [
       "array([[0, 7, 6],\n",
       "       [4, 4, 8]], dtype=int64)"
      ]
     },
     "execution_count": 379,
     "metadata": {},
     "output_type": "execute_result"
    }
   ],
   "source": [
    "arr = rng.integers(0, 10, (2, 3))\n",
    "arr"
   ]
  },
  {
   "cell_type": "code",
   "execution_count": 373,
   "id": "5323b91b",
   "metadata": {
    "scrolled": true
   },
   "outputs": [
    {
     "name": "stdout",
     "output_type": "stream",
     "text": [
      "190 ns ± 8.08 ns per loop (mean ± std. dev. of 7 runs, 1000000 loops each)\n"
     ]
    }
   ],
   "source": [
    "%timeit arr.T"
   ]
  },
  {
   "cell_type": "code",
   "execution_count": 374,
   "id": "dc10cef7",
   "metadata": {},
   "outputs": [
    {
     "name": "stdout",
     "output_type": "stream",
     "text": [
      "211 ns ± 3.77 ns per loop (mean ± std. dev. of 7 runs, 1000000 loops each)\n"
     ]
    }
   ],
   "source": [
    "%timeit arr.transpose()"
   ]
  },
  {
   "cell_type": "code",
   "execution_count": 372,
   "id": "0785f73b",
   "metadata": {},
   "outputs": [
    {
     "name": "stdout",
     "output_type": "stream",
     "text": [
      "1.45 µs ± 131 ns per loop (mean ± std. dev. of 7 runs, 1000000 loops each)\n"
     ]
    }
   ],
   "source": [
    "%timeit np.transpose(arr)"
   ]
  },
  {
   "cell_type": "markdown",
   "id": "141af82a",
   "metadata": {},
   "source": [
    "稍微解释一下，`arr.T` 和 `arr.transpose` 是差不多的，后者稍微慢的原因是还有一个 `axes` 参数；而 `np.transpose` 慢则是因为它的调用方式：\n",
    "\n",
    "```python\n",
    "def transpose(a, axes=None):\n",
    "    return _wrapfunc(a, 'transpose', axes)\n",
    "\n",
    "def _wrapfunc(obj, method, *args, **kwds):\n",
    "    try:\n",
    "        return getattr(obj, method)(*args, **kwds)\n",
    "    except (AttributeError, TypeError):\n",
    "        return _wrapit(obj, method, *args, **kwds)\n",
    "```\n",
    "\n",
    "所以如果可以的话，推荐尽量在 array 上调用方法。"
   ]
  },
  {
   "cell_type": "markdown",
   "id": "9f2cb93d",
   "metadata": {},
   "source": [
    "### array\n",
    "\n",
    "首先要明确，`array` 只是快速创建 `ndarray` 的接口函数，源代码是 `core/src/multiarray/methods.c` 中的 `array_getarray`。这玩意儿其实就调用了上面提到的 `PyArray_NewFromDescr_int`。"
   ]
  },
  {
   "cell_type": "code",
   "execution_count": null,
   "id": "4c5c7794",
   "metadata": {},
   "outputs": [],
   "source": []
  },
  {
   "cell_type": "code",
   "execution_count": null,
   "id": "392a1960",
   "metadata": {},
   "outputs": [],
   "source": []
  },
  {
   "cell_type": "code",
   "execution_count": null,
   "id": "509bfa0c",
   "metadata": {},
   "outputs": [],
   "source": []
  },
  {
   "cell_type": "code",
   "execution_count": null,
   "id": "197e600e",
   "metadata": {},
   "outputs": [],
   "source": []
  },
  {
   "cell_type": "markdown",
   "id": "79820e82",
   "metadata": {},
   "source": [
    "## 小结\n",
    "\n",
    "\n",
    "- `ndarray` 是基本的数组对象，它底层有两种存储方式（C Style 和 F Style），可以根据实际处理逻辑选择合适的方式。另外注意，切片后的引用，步长长的比步长短的处理起来要慢。"
   ]
  },
  {
   "cell_type": "markdown",
   "id": "77dc61c8",
   "metadata": {},
   "source": [
    "## 资料\n",
    "\n",
    "- [What Is Little-Endian And Big-Endian Byte Ordering? | Engineering Education (EngEd) Program | Section](https://www.section.io/engineering-education/what-is-little-endian-and-big-endian/)\n",
    "- [Understanding Big and Little Endian Byte Order – BetterExplained](https://betterexplained.com/articles/understanding-big-and-little-endian-byte-order/)"
   ]
  },
  {
   "cell_type": "code",
   "execution_count": null,
   "id": "23498b19",
   "metadata": {},
   "outputs": [],
   "source": []
  }
 ],
 "metadata": {
  "kernelspec": {
   "display_name": "Python 3",
   "language": "python",
   "name": "python3"
  },
  "language_info": {
   "codemirror_mode": {
    "name": "ipython",
    "version": 3
   },
   "file_extension": ".py",
   "mimetype": "text/x-python",
   "name": "python",
   "nbconvert_exporter": "python",
   "pygments_lexer": "ipython3",
   "version": "3.8.10"
  },
  "latex_envs": {
   "LaTeX_envs_menu_present": true,
   "autoclose": false,
   "autocomplete": true,
   "bibliofile": "biblio.bib",
   "cite_by": "apalike",
   "current_citInitial": 1,
   "eqLabelWithNumbers": true,
   "eqNumInitial": 1,
   "hotkeys": {
    "equation": "Ctrl-E",
    "itemize": "Ctrl-I"
   },
   "labels_anchors": false,
   "latex_user_defs": false,
   "report_style_numbering": false,
   "user_envs_cfg": false
  },
  "toc": {
   "base_numbering": 1,
   "nav_menu": {},
   "number_sections": true,
   "sideBar": true,
   "skip_h1_title": false,
   "title_cell": "Table of Contents",
   "title_sidebar": "Contents",
   "toc_cell": false,
   "toc_position": {
    "height": "calc(100% - 180px)",
    "left": "10px",
    "top": "150px",
    "width": "165px"
   },
   "toc_section_display": true,
   "toc_window_display": true
  }
 },
 "nbformat": 4,
 "nbformat_minor": 5
}
