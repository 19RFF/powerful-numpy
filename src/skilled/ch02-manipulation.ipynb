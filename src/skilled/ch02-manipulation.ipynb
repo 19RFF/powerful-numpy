{
 "cells": [
  {
   "cell_type": "code",
   "execution_count": 730,
   "id": "34de71fa",
   "metadata": {},
   "outputs": [
    {
     "data": {
      "text/plain": [
       "'1.22.3'"
      ]
     },
     "execution_count": 730,
     "metadata": {},
     "output_type": "execute_result"
    }
   ],
   "source": [
    "import numpy as np\n",
    "np.__version__"
   ]
  },
  {
   "cell_type": "markdown",
   "id": "64389993",
   "metadata": {},
   "source": [
    "文档阅读说明：\n",
    "\n",
    "- 🐧 表示 Tip\n",
    "- ⚠️ 表示注意事项"
   ]
  },
  {
   "cell_type": "markdown",
   "id": "efab7541",
   "metadata": {},
   "source": [
    "## 广播\n",
    "\n",
    "广播描述了NumPy在数值计算如何处理不同形状的数组。在一定限制条件下，小数组会广播大大数组以适配其形状。"
   ]
  },
  {
   "cell_type": "code",
   "execution_count": 464,
   "id": "86a1afcf",
   "metadata": {},
   "outputs": [
    {
     "data": {
      "text/plain": [
       "array([1., 2., 3.])"
      ]
     },
     "execution_count": 464,
     "metadata": {},
     "output_type": "execute_result"
    }
   ],
   "source": [
    "# 最简单的例子\n",
    "a = np.array([1., 2., 3.])\n",
    "a"
   ]
  },
  {
   "cell_type": "code",
   "execution_count": 465,
   "id": "4d423b86",
   "metadata": {},
   "outputs": [
    {
     "data": {
      "text/plain": [
       "array([2., 4., 6.])"
      ]
     },
     "execution_count": 465,
     "metadata": {},
     "output_type": "execute_result"
    }
   ],
   "source": [
    "a * 2"
   ]
  },
  {
   "cell_type": "code",
   "execution_count": 466,
   "id": "272ffe58",
   "metadata": {},
   "outputs": [
    {
     "data": {
      "text/plain": [
       "array([2., 4., 6.])"
      ]
     },
     "execution_count": 466,
     "metadata": {},
     "output_type": "execute_result"
    }
   ],
   "source": [
    "# 上面的例子等价于\n",
    "b = np.array([2, 2, 2])\n",
    "a * b"
   ]
  },
  {
   "cell_type": "markdown",
   "id": "06d356fa",
   "metadata": {},
   "source": [
    "广播的规则如下：\n",
    "\n",
    "- 从右到左比较\n",
    "- 兼容时相等或某个维度为1\n",
    "- 数组可以不同维度"
   ]
  },
  {
   "cell_type": "code",
   "execution_count": 467,
   "id": "097c8eae",
   "metadata": {},
   "outputs": [],
   "source": [
    "a = np.ones((8, 1, 6, 1))\n",
    "b = np.ones((7, 1, 5))"
   ]
  },
  {
   "cell_type": "code",
   "execution_count": 468,
   "id": "f834c977",
   "metadata": {},
   "outputs": [
    {
     "data": {
      "text/plain": [
       "(8, 7, 6, 5)"
      ]
     },
     "execution_count": 468,
     "metadata": {},
     "output_type": "execute_result"
    }
   ],
   "source": [
    "# b 等价于变成了 (1, 7, 1, 5) 的shape\n",
    "c = a + b\n",
    "c.shape"
   ]
  },
  {
   "cell_type": "code",
   "execution_count": 475,
   "id": "5db289e3",
   "metadata": {},
   "outputs": [
    {
     "ename": "ValueError",
     "evalue": "operands could not be broadcast together with shapes (2,3,4) (2,3) ",
     "output_type": "error",
     "traceback": [
      "\u001b[0;31m---------------------------------------------------------------------------\u001b[0m",
      "\u001b[0;31mValueError\u001b[0m                                Traceback (most recent call last)",
      "\u001b[0;32m<ipython-input-475-796f45d71953>\u001b[0m in \u001b[0;36m<module>\u001b[0;34m\u001b[0m\n\u001b[1;32m      2\u001b[0m \u001b[0ma\u001b[0m \u001b[0;34m=\u001b[0m \u001b[0mnp\u001b[0m\u001b[0;34m.\u001b[0m\u001b[0mones\u001b[0m\u001b[0;34m(\u001b[0m\u001b[0;34m(\u001b[0m\u001b[0;36m2\u001b[0m\u001b[0;34m,\u001b[0m \u001b[0;36m3\u001b[0m\u001b[0;34m,\u001b[0m \u001b[0;36m4\u001b[0m\u001b[0;34m)\u001b[0m\u001b[0;34m)\u001b[0m\u001b[0;34m\u001b[0m\u001b[0;34m\u001b[0m\u001b[0m\n\u001b[1;32m      3\u001b[0m \u001b[0mb\u001b[0m \u001b[0;34m=\u001b[0m \u001b[0mnp\u001b[0m\u001b[0;34m.\u001b[0m\u001b[0mones\u001b[0m\u001b[0;34m(\u001b[0m\u001b[0;34m(\u001b[0m\u001b[0;36m2\u001b[0m\u001b[0;34m,\u001b[0m \u001b[0;36m3\u001b[0m\u001b[0;34m)\u001b[0m\u001b[0;34m)\u001b[0m\u001b[0;34m\u001b[0m\u001b[0;34m\u001b[0m\u001b[0m\n\u001b[0;32m----> 4\u001b[0;31m \u001b[0ma\u001b[0m \u001b[0;34m+\u001b[0m \u001b[0mb\u001b[0m\u001b[0;34m\u001b[0m\u001b[0;34m\u001b[0m\u001b[0m\n\u001b[0m",
      "\u001b[0;31mValueError\u001b[0m: operands could not be broadcast together with shapes (2,3,4) (2,3) "
     ]
    }
   ],
   "source": [
    "# 不能广播的例子\n",
    "a = np.ones((2, 3, 4))\n",
    "b = np.ones((2, 3))\n",
    "a + b"
   ]
  },
  {
   "cell_type": "code",
   "execution_count": 476,
   "id": "1a9a5ed0",
   "metadata": {},
   "outputs": [
    {
     "data": {
      "text/plain": [
       "(2,)"
      ]
     },
     "execution_count": 476,
     "metadata": {},
     "output_type": "execute_result"
    }
   ],
   "source": [
    "# 当然一维向量数字的数量就是维度\n",
    "# 这样是不行的\n",
    "a = np.ones((2, 3))\n",
    "b = np.ones((2, ))\n",
    "b.shape"
   ]
  },
  {
   "cell_type": "code",
   "execution_count": 472,
   "id": "077d7885",
   "metadata": {},
   "outputs": [
    {
     "ename": "ValueError",
     "evalue": "operands could not be broadcast together with shapes (2,3) (2,) ",
     "output_type": "error",
     "traceback": [
      "\u001b[0;31m---------------------------------------------------------------------------\u001b[0m",
      "\u001b[0;31mValueError\u001b[0m                                Traceback (most recent call last)",
      "\u001b[0;32m<ipython-input-472-bd58363a63fc>\u001b[0m in \u001b[0;36m<module>\u001b[0;34m\u001b[0m\n\u001b[0;32m----> 1\u001b[0;31m \u001b[0ma\u001b[0m \u001b[0;34m+\u001b[0m \u001b[0mb\u001b[0m\u001b[0;34m\u001b[0m\u001b[0;34m\u001b[0m\u001b[0m\n\u001b[0m",
      "\u001b[0;31mValueError\u001b[0m: operands could not be broadcast together with shapes (2,3) (2,) "
     ]
    }
   ],
   "source": [
    "a + b"
   ]
  },
  {
   "cell_type": "code",
   "execution_count": 473,
   "id": "f2893e35",
   "metadata": {},
   "outputs": [
    {
     "data": {
      "text/plain": [
       "array([[2., 2., 2.],\n",
       "       [2., 2., 2.]])"
      ]
     },
     "execution_count": 473,
     "metadata": {},
     "output_type": "execute_result"
    }
   ],
   "source": [
    "# 这样就可以\n",
    "b = np.ones((3, ))\n",
    "a + b"
   ]
  },
  {
   "cell_type": "markdown",
   "id": "b8767666",
   "metadata": {},
   "source": [
    "大部分时候我们可以无伤地使用它，但当数据量很大时，广播会复制数组，可能会导致内存溢出。"
   ]
  },
  {
   "cell_type": "code",
   "execution_count": 477,
   "id": "fd4f5c60",
   "metadata": {},
   "outputs": [],
   "source": [
    "rng = np.random.default_rng(42)\n",
    "a = rng.random((102400, 256, 64))\n",
    "b = rng.random((102400, 256))\n",
    "c = rng.random((256, 64))"
   ]
  },
  {
   "cell_type": "code",
   "execution_count": 478,
   "id": "f8d56982",
   "metadata": {},
   "outputs": [
    {
     "data": {
      "text/plain": [
       "12.5"
      ]
     },
     "execution_count": 478,
     "metadata": {},
     "output_type": "execute_result"
    }
   ],
   "source": [
    "# a=12.5G\n",
    "102400*256*64*8/1024/1024/1024"
   ]
  },
  {
   "cell_type": "code",
   "execution_count": null,
   "id": "fbb04525",
   "metadata": {},
   "outputs": [],
   "source": [
    "# 如果内存小于25G，这里会超出内存，因为差的结果还是会存在临时空间\n",
    "a[:] = b[:, :, np.newaxis] - c"
   ]
  },
  {
   "cell_type": "code",
   "execution_count": null,
   "id": "f35a78f5",
   "metadata": {},
   "outputs": [],
   "source": [
    "# 可以用之前提到的 out 参数，不会额外增加内存\n",
    "d = np.subtract(b[:, :, np.newaxis], c, out=a)"
   ]
  },
  {
   "cell_type": "markdown",
   "id": "fdb7c00f",
   "metadata": {},
   "source": [
    "不过，一般会使用虚拟内存，不用过于担心。"
   ]
  },
  {
   "cell_type": "markdown",
   "id": "1ce31caf",
   "metadata": {},
   "source": [
    "## 通函数\n",
    "\n",
    "通函数（ufunc）是以逐个元素的方式对ndarray进行操作的函数，支持数组广播、类型转换等。在NumPy中，通用函数都是`np.ufunc`的实例。"
   ]
  },
  {
   "cell_type": "code",
   "execution_count": 479,
   "id": "6860d473",
   "metadata": {},
   "outputs": [
    {
     "data": {
      "text/plain": [
       "True"
      ]
     },
     "execution_count": 479,
     "metadata": {},
     "output_type": "execute_result"
    }
   ],
   "source": [
    "isinstance(np.add, np.ufunc)"
   ]
  },
  {
   "cell_type": "markdown",
   "id": "7e626321",
   "metadata": {},
   "source": [
    "`+`是`np.add`的快捷方式，其他的函数也类似："
   ]
  },
  {
   "cell_type": "code",
   "execution_count": 481,
   "id": "f8ef1a84",
   "metadata": {},
   "outputs": [],
   "source": [
    "x1 = np.arange(9).reshape((3, 3))\n",
    "x2 = np.arange(3)"
   ]
  },
  {
   "cell_type": "code",
   "execution_count": 482,
   "id": "8d181094",
   "metadata": {},
   "outputs": [
    {
     "data": {
      "text/plain": [
       "array([[ 0,  2,  4],\n",
       "       [ 3,  5,  7],\n",
       "       [ 6,  8, 10]])"
      ]
     },
     "execution_count": 482,
     "metadata": {},
     "output_type": "execute_result"
    }
   ],
   "source": [
    "x1 + x2"
   ]
  },
  {
   "cell_type": "code",
   "execution_count": 483,
   "id": "3da9d145",
   "metadata": {},
   "outputs": [
    {
     "data": {
      "text/plain": [
       "array([[ 0,  2,  4],\n",
       "       [ 3,  5,  7],\n",
       "       [ 6,  8, 10]])"
      ]
     },
     "execution_count": 483,
     "metadata": {},
     "output_type": "execute_result"
    }
   ],
   "source": [
    "np.add(x1, x2)"
   ]
  },
  {
   "cell_type": "code",
   "execution_count": 484,
   "id": "21f98ffb",
   "metadata": {},
   "outputs": [
    {
     "data": {
      "text/plain": [
       "array([[ 0,  1,  4],\n",
       "       [ 0,  4, 10],\n",
       "       [ 0,  7, 16]])"
      ]
     },
     "execution_count": 484,
     "metadata": {},
     "output_type": "execute_result"
    }
   ],
   "source": [
    "x1 * x2"
   ]
  },
  {
   "cell_type": "code",
   "execution_count": 485,
   "id": "9ee192f0",
   "metadata": {},
   "outputs": [
    {
     "data": {
      "text/plain": [
       "array([[ 0,  1,  4],\n",
       "       [ 0,  4, 10],\n",
       "       [ 0,  7, 16]])"
      ]
     },
     "execution_count": 485,
     "metadata": {},
     "output_type": "execute_result"
    }
   ],
   "source": [
    "np.multiply(x1, x2)"
   ]
  },
  {
   "cell_type": "markdown",
   "id": "1d7bf9b7",
   "metadata": {},
   "source": [
    "out 参数主要是用来存储计算结果："
   ]
  },
  {
   "cell_type": "code",
   "execution_count": 486,
   "id": "56d43f80",
   "metadata": {},
   "outputs": [
    {
     "data": {
      "text/plain": [
       "array([[0, 0, 0],\n",
       "       [0, 0, 0],\n",
       "       [0, 0, 0]], dtype=int8)"
      ]
     },
     "execution_count": 486,
     "metadata": {},
     "output_type": "execute_result"
    }
   ],
   "source": [
    "x3 = np.zeros((3, 3), dtype=np.int8)\n",
    "x3"
   ]
  },
  {
   "cell_type": "code",
   "execution_count": 487,
   "id": "c66d5013",
   "metadata": {},
   "outputs": [
    {
     "data": {
      "text/plain": [
       "array([[ 0,  2,  4],\n",
       "       [ 3,  5,  7],\n",
       "       [ 6,  8, 10]], dtype=int8)"
      ]
     },
     "execution_count": 487,
     "metadata": {},
     "output_type": "execute_result"
    }
   ],
   "source": [
    "np.add(x1, x2, out=x3)"
   ]
  },
  {
   "cell_type": "code",
   "execution_count": 488,
   "id": "edd7c872",
   "metadata": {},
   "outputs": [
    {
     "data": {
      "text/plain": [
       "array([[ 0,  2,  4],\n",
       "       [ 3,  5,  7],\n",
       "       [ 6,  8, 10]], dtype=int8)"
      ]
     },
     "execution_count": 488,
     "metadata": {},
     "output_type": "execute_result"
    }
   ],
   "source": [
    "x3"
   ]
  },
  {
   "cell_type": "markdown",
   "id": "37421292",
   "metadata": {},
   "source": [
    "where 参数确定哪些可以存储："
   ]
  },
  {
   "cell_type": "code",
   "execution_count": 489,
   "id": "1546c0bd",
   "metadata": {},
   "outputs": [
    {
     "data": {
      "text/plain": [
       "array([[0, 0, 0],\n",
       "       [0, 0, 0],\n",
       "       [0, 0, 0]], dtype=int8)"
      ]
     },
     "execution_count": 489,
     "metadata": {},
     "output_type": "execute_result"
    }
   ],
   "source": [
    "x4 = np.zeros((3, 3), dtype=np.int8)\n",
    "x4"
   ]
  },
  {
   "cell_type": "code",
   "execution_count": 490,
   "id": "72822f01",
   "metadata": {},
   "outputs": [
    {
     "data": {
      "text/plain": [
       "array([[0, 0, 0],\n",
       "       [3, 0, 0],\n",
       "       [6, 0, 0]], dtype=int8)"
      ]
     },
     "execution_count": 490,
     "metadata": {},
     "output_type": "execute_result"
    }
   ],
   "source": [
    "np.add(x1, x2, out=x4, where=[True, False, False])"
   ]
  },
  {
   "cell_type": "code",
   "execution_count": 491,
   "id": "424ee4fb",
   "metadata": {},
   "outputs": [
    {
     "data": {
      "text/plain": [
       "array([[0, 0, 0],\n",
       "       [3, 0, 0],\n",
       "       [6, 0, 0]], dtype=int8)"
      ]
     },
     "execution_count": 491,
     "metadata": {},
     "output_type": "execute_result"
    }
   ],
   "source": [
    "x4"
   ]
  },
  {
   "cell_type": "markdown",
   "id": "9cf8a983",
   "metadata": {},
   "source": [
    "NumPy中的ufunc数量很多，包括数学运算、三角函数、位操作、逻辑函数、浮点函数等，具体可查看：\n",
    "\n",
    "- https://numpy.org/devdocs/reference/ufuncs.html#available-ufuncs\n",
    "\n",
    "ufunc可以被`__array_ufunc__`方法覆盖，具体可参考第一章《核心概念：自定义数组容器》。\n",
    "\n",
    "ufunc支持以下方法：\n",
    "\n",
    "- reduce：沿着某个维度累积\n",
    "- accumulate：所有元素累积\n",
    "- reduceat：沿着某个维度指定的slice累积\n",
    "- outer：对A和B中所有元素对运算\n",
    "- at：对指定索引的元素的执行无缓冲的就地运算"
   ]
  },
  {
   "cell_type": "code",
   "execution_count": 492,
   "id": "f2268e86",
   "metadata": {},
   "outputs": [
    {
     "data": {
      "text/plain": [
       "array([[ 0,  1,  2],\n",
       "       [ 3,  4,  5],\n",
       "       [ 6,  7,  8],\n",
       "       [ 9, 10, 11]])"
      ]
     },
     "execution_count": 492,
     "metadata": {},
     "output_type": "execute_result"
    }
   ],
   "source": [
    "a = np.arange(12).reshape(4, 3)\n",
    "a"
   ]
  },
  {
   "cell_type": "markdown",
   "id": "35c76acb",
   "metadata": {},
   "source": [
    "`reduce`的参数和初级课程介绍的很多接口差不多：\n",
    "\n",
    "- array：数组\n",
    "- axis：维度\n",
    "- dtype：数据类型\n",
    "- out：同上\n",
    "- where：同上\n",
    "- keepdims：是否保持维度，《基础教程》中有介绍\n",
    "- initial：初始值"
   ]
  },
  {
   "cell_type": "code",
   "execution_count": 493,
   "id": "07450a60",
   "metadata": {},
   "outputs": [
    {
     "data": {
      "text/plain": [
       "array([28, 32, 36])"
      ]
     },
     "execution_count": 493,
     "metadata": {},
     "output_type": "execute_result"
    }
   ],
   "source": [
    "np.add.reduce(a, axis=0, initial=10)"
   ]
  },
  {
   "cell_type": "code",
   "execution_count": 494,
   "id": "92b63a9d",
   "metadata": {},
   "outputs": [
    {
     "data": {
      "text/plain": [
       "array([[13],\n",
       "       [22],\n",
       "       [31],\n",
       "       [40]])"
      ]
     },
     "execution_count": 494,
     "metadata": {},
     "output_type": "execute_result"
    }
   ],
   "source": [
    "np.add.reduce(a, axis=1, initial=10, keepdims=True)"
   ]
  },
  {
   "cell_type": "markdown",
   "id": "7160af9e",
   "metadata": {},
   "source": [
    "`accumulate`的参数少很多：\n",
    "\n",
    "- array：数组\n",
    "- axis：维度\n",
    "- dtype：数据类型\n",
    "- out：同上"
   ]
  },
  {
   "cell_type": "code",
   "execution_count": 495,
   "id": "d745fe31",
   "metadata": {},
   "outputs": [
    {
     "data": {
      "text/plain": [
       "array([[ 0,  1,  2],\n",
       "       [ 3,  4,  5],\n",
       "       [ 6,  7,  8],\n",
       "       [ 9, 10, 11]])"
      ]
     },
     "execution_count": 495,
     "metadata": {},
     "output_type": "execute_result"
    }
   ],
   "source": [
    "a"
   ]
  },
  {
   "cell_type": "code",
   "execution_count": 496,
   "id": "3475ccdb",
   "metadata": {},
   "outputs": [
    {
     "data": {
      "text/plain": [
       "array([[  0,   0,   0],\n",
       "       [  3,  12,  60],\n",
       "       [  6,  42, 336],\n",
       "       [  9,  90, 990]])"
      ]
     },
     "execution_count": 496,
     "metadata": {},
     "output_type": "execute_result"
    }
   ],
   "source": [
    "# 沿着行\n",
    "np.multiply.accumulate(a, axis=1)"
   ]
  },
  {
   "cell_type": "code",
   "execution_count": 497,
   "id": "d10082c8",
   "metadata": {},
   "outputs": [
    {
     "data": {
      "text/plain": [
       "array([[  0,   1,   2],\n",
       "       [  0,   4,  10],\n",
       "       [  0,  28,  80],\n",
       "       [  0, 280, 880]])"
      ]
     },
     "execution_count": 497,
     "metadata": {},
     "output_type": "execute_result"
    }
   ],
   "source": [
    "np.multiply.accumulate(a)"
   ]
  },
  {
   "cell_type": "markdown",
   "id": "e6e46a58",
   "metadata": {},
   "source": [
    "`reduceat`相比`accumulate`增加了索引位置：\n",
    "\n",
    "- indices：index的复数\n",
    "- 其他参数同`accumulate`\n",
    "\n",
    "\n",
    "计算 `array[indices[i]:indices[i+1]]`，i 表示第i行/列，计算规则如下：\n",
    "\n",
    "- 当`i = len(indices) - 1`（最后一个index）：`indices[i+1] = array.shape[axis]`\n",
    "- 当`indices[i] >= indices[i + 1]`，第i个就是 `array[indices[i]]`\n",
    "- 当`indices[i] >= len(array)` 或 `indices[i] < 0`，错误"
   ]
  },
  {
   "cell_type": "code",
   "execution_count": 498,
   "id": "59935854",
   "metadata": {},
   "outputs": [
    {
     "data": {
      "text/plain": [
       "array([[ 0,  1,  2],\n",
       "       [ 3,  4,  5],\n",
       "       [ 6,  7,  8],\n",
       "       [ 9, 10, 11]])"
      ]
     },
     "execution_count": 498,
     "metadata": {},
     "output_type": "execute_result"
    }
   ],
   "source": [
    "a"
   ]
  },
  {
   "cell_type": "code",
   "execution_count": 499,
   "id": "b7f7495f",
   "metadata": {},
   "outputs": [
    {
     "data": {
      "text/plain": [
       "array([[ 3,  4,  5],\n",
       "       [15, 17, 19]])"
      ]
     },
     "execution_count": 499,
     "metadata": {},
     "output_type": "execute_result"
    }
   ],
   "source": [
    "np.add.reduceat(a, [1,2])"
   ]
  },
  {
   "cell_type": "code",
   "execution_count": 500,
   "id": "2084ba8e",
   "metadata": {},
   "outputs": [
    {
     "data": {
      "text/plain": [
       "array([[ 1,  2,  1,  3],\n",
       "       [ 7,  5,  4, 12],\n",
       "       [13,  8,  7, 21],\n",
       "       [19, 11, 10, 30]])"
      ]
     },
     "execution_count": 500,
     "metadata": {},
     "output_type": "execute_result"
    }
   ],
   "source": [
    "# 四列\n",
    "# 第0列：indices[0]: indices[1]，即第0:2累积（0+1列）\n",
    "# 第1列：indices[1] > indices[2]，等于第2列\n",
    "# 第2列：indices[2] > indices[3]，等于第1列\n",
    "# 第3列：最后一个，indices[3]: indices[a.shape[1]=3]，等于0:3累积（0,1,2列）\n",
    "np.add.reduceat(a, [0, 2, 1, 0], axis=1)"
   ]
  },
  {
   "cell_type": "markdown",
   "id": "ef5c7b53",
   "metadata": {},
   "source": [
    "`outer`接受两个数组，等价于以下结果：\n",
    "\n",
    "```python\n",
    "r = empty(len(A),len(B))\n",
    "for i in range(len(A)):\n",
    "    for j in range(len(B)):\n",
    "        r[i,j] = op(A[i], B[j])\n",
    "```"
   ]
  },
  {
   "cell_type": "code",
   "execution_count": 501,
   "id": "95034c76",
   "metadata": {},
   "outputs": [
    {
     "data": {
      "text/plain": [
       "(4, 3, 4, 3)"
      ]
     },
     "execution_count": 501,
     "metadata": {},
     "output_type": "execute_result"
    }
   ],
   "source": [
    "np.add.outer(a, a).shape"
   ]
  },
  {
   "cell_type": "code",
   "execution_count": 502,
   "id": "d03ec26d",
   "metadata": {},
   "outputs": [
    {
     "data": {
      "text/plain": [
       "array([[5, 6, 7],\n",
       "       [6, 7, 8],\n",
       "       [7, 8, 9]])"
      ]
     },
     "execution_count": 502,
     "metadata": {},
     "output_type": "execute_result"
    }
   ],
   "source": [
    "np.add.outer([1,2,3], [4,5,6])"
   ]
  },
  {
   "cell_type": "markdown",
   "id": "c58f645d",
   "metadata": {},
   "source": [
    "`at` 参数如下：\n",
    "\n",
    "- a：数组\n",
    "- indices：索引\n",
    "- b：两个操作对象时另一个操作对象"
   ]
  },
  {
   "cell_type": "code",
   "execution_count": 503,
   "id": "dee3c753",
   "metadata": {},
   "outputs": [
    {
     "data": {
      "text/plain": [
       "array([[ 0,  1,  2],\n",
       "       [ 3,  4,  5],\n",
       "       [ 6,  7,  8],\n",
       "       [ 9, 10, 11]])"
      ]
     },
     "execution_count": 503,
     "metadata": {},
     "output_type": "execute_result"
    }
   ],
   "source": [
    "a = np.arange(12).reshape(4, 3)\n",
    "a"
   ]
  },
  {
   "cell_type": "code",
   "execution_count": 504,
   "id": "f44cefa8",
   "metadata": {},
   "outputs": [],
   "source": [
    "# 对第0和1行加1\n",
    "np.add.at(a, [0, 1], [1])"
   ]
  },
  {
   "cell_type": "code",
   "execution_count": 505,
   "id": "b58d39f7",
   "metadata": {},
   "outputs": [
    {
     "data": {
      "text/plain": [
       "array([[ 1,  2,  3],\n",
       "       [ 4,  5,  6],\n",
       "       [ 6,  7,  8],\n",
       "       [ 9, 10, 11]])"
      ]
     },
     "execution_count": 505,
     "metadata": {},
     "output_type": "execute_result"
    }
   ],
   "source": [
    "a"
   ]
  },
  {
   "cell_type": "code",
   "execution_count": 506,
   "id": "b423fac0",
   "metadata": {},
   "outputs": [
    {
     "data": {
      "text/plain": [
       "array([[ 0,  1,  2],\n",
       "       [ 3,  4,  5],\n",
       "       [ 6,  7,  8],\n",
       "       [ 9, 10, 11]])"
      ]
     },
     "execution_count": 506,
     "metadata": {},
     "output_type": "execute_result"
    }
   ],
   "source": [
    "# 4x3 和 1x3 可以通过广播运算\n",
    "a = np.arange(12).reshape(4, 3)\n",
    "a"
   ]
  },
  {
   "cell_type": "code",
   "execution_count": 507,
   "id": "763b857d",
   "metadata": {},
   "outputs": [
    {
     "data": {
      "text/plain": [
       "array([[ 1,  3,  5],\n",
       "       [ 4,  6,  8],\n",
       "       [ 6,  7,  8],\n",
       "       [ 9, 10, 11]])"
      ]
     },
     "execution_count": 507,
     "metadata": {},
     "output_type": "execute_result"
    }
   ],
   "source": [
    "np.add.at(a, [0, 1], np.array([[1, 2, 3]]))\n",
    "a"
   ]
  },
  {
   "cell_type": "markdown",
   "id": "7b08e20b",
   "metadata": {},
   "source": [
    "可以使用`np.fromfunc`来生成通函数实例。本章后面会进一步介绍，不再赘述。"
   ]
  },
  {
   "cell_type": "markdown",
   "id": "f415da93",
   "metadata": {},
   "source": [
    "## 基本操作"
   ]
  },
  {
   "cell_type": "code",
   "execution_count": null,
   "id": "209913ad",
   "metadata": {},
   "outputs": [],
   "source": []
  },
  {
   "cell_type": "code",
   "execution_count": null,
   "id": "fdad16ca",
   "metadata": {},
   "outputs": [],
   "source": []
  },
  {
   "cell_type": "code",
   "execution_count": null,
   "id": "8d6aeb93",
   "metadata": {},
   "outputs": [],
   "source": []
  },
  {
   "cell_type": "markdown",
   "id": "dc5ae242",
   "metadata": {},
   "source": [
    "## 排序搜索"
   ]
  },
  {
   "cell_type": "markdown",
   "id": "de927642",
   "metadata": {},
   "source": [
    "### 极值"
   ]
  },
  {
   "cell_type": "markdown",
   "id": "25084417",
   "metadata": {},
   "source": [
    "关于最大最小值的方法不少，我们看看。\n",
    "\n",
    "`np.maximum`和`np.minimum`是通函数，以max为例，其他相关的还有`np.max`（等价的`np.amax`），`np.fmax`和`np.nanmax`。区分如下：\n",
    "\n",
    "- `minimum`：两个数组逐元素比较\n",
    "- `fmax`：同上，但忽略缺失值\n",
    "- `amax`：沿着给定维度\n",
    "- `nanmax`：同上，但忽略缺失值\n",
    "\n",
    "我们以极大值为例。"
   ]
  },
  {
   "cell_type": "code",
   "execution_count": 15,
   "id": "0d8cdfab",
   "metadata": {},
   "outputs": [
    {
     "data": {
      "text/plain": [
       "array([1., 5., 3.])"
      ]
     },
     "execution_count": 15,
     "metadata": {},
     "output_type": "execute_result"
    }
   ],
   "source": [
    "# 等价于 np.where(x1 >= x2, x1, x2)\n",
    "np.fmax([np.nan, 2, 3], [1, 5, np.nan])"
   ]
  },
  {
   "cell_type": "code",
   "execution_count": 13,
   "id": "c1eb5135",
   "metadata": {},
   "outputs": [
    {
     "data": {
      "text/plain": [
       "array([2., 3., 5.])"
      ]
     },
     "execution_count": 13,
     "metadata": {},
     "output_type": "execute_result"
    }
   ],
   "source": [
    "np.nanmax([[np.nan, 3, 5], [2, 1, np.nan]], axis=0)"
   ]
  },
  {
   "cell_type": "markdown",
   "id": "47e4efdb",
   "metadata": {},
   "source": [
    "### 搜索"
   ]
  },
  {
   "cell_type": "markdown",
   "id": "b47fafb1",
   "metadata": {},
   "source": [
    "`argmax/argmin`我们在《从小白到入门》中已经做了介绍，这里主要介绍带非数值的版本，以极小值为例。"
   ]
  },
  {
   "cell_type": "code",
   "execution_count": 513,
   "id": "ed5037e9",
   "metadata": {},
   "outputs": [],
   "source": [
    "a = np.array([\n",
    "    [np.nan, 2, 3],\n",
    "    [1, np.nan, 4]\n",
    "])"
   ]
  },
  {
   "cell_type": "code",
   "execution_count": 516,
   "id": "5cd04d78",
   "metadata": {},
   "outputs": [
    {
     "data": {
      "text/plain": [
       "array([0, 1, 0])"
      ]
     },
     "execution_count": 516,
     "metadata": {},
     "output_type": "execute_result"
    }
   ],
   "source": [
    "np.argmin(a, axis=0)"
   ]
  },
  {
   "cell_type": "code",
   "execution_count": 517,
   "id": "a2f4a096",
   "metadata": {},
   "outputs": [
    {
     "data": {
      "text/plain": [
       "array([1, 0, 0])"
      ]
     },
     "execution_count": 517,
     "metadata": {},
     "output_type": "execute_result"
    }
   ],
   "source": [
    "np.nanargmin(a, axis=0)"
   ]
  },
  {
   "cell_type": "markdown",
   "id": "bc7db098",
   "metadata": {},
   "source": [
    "`argwhere`和《从小白到入门》中介绍的`where`有所不同，它返回所有非0元素的index，是`where`的弱化版本。"
   ]
  },
  {
   "cell_type": "code",
   "execution_count": 524,
   "id": "c88bd6bc",
   "metadata": {},
   "outputs": [
    {
     "data": {
      "text/plain": [
       "array([[0, 1, 2],\n",
       "       [3, 4, 5]])"
      ]
     },
     "execution_count": 524,
     "metadata": {},
     "output_type": "execute_result"
    }
   ],
   "source": [
    "a = np.arange(6).reshape(2, 3)\n",
    "a"
   ]
  },
  {
   "cell_type": "code",
   "execution_count": 526,
   "id": "4c9cc09a",
   "metadata": {},
   "outputs": [
    {
     "data": {
      "text/plain": [
       "array([[0, 1],\n",
       "       [0, 2],\n",
       "       [1, 0],\n",
       "       [1, 1],\n",
       "       [1, 2]])"
      ]
     },
     "execution_count": 526,
     "metadata": {},
     "output_type": "execute_result"
    }
   ],
   "source": [
    "# 默认返回非0的元素index\n",
    "np.argwhere(a)"
   ]
  },
  {
   "cell_type": "code",
   "execution_count": 529,
   "id": "af48928d",
   "metadata": {},
   "outputs": [
    {
     "data": {
      "text/plain": [
       "array([[1, 1],\n",
       "       [1, 2]])"
      ]
     },
     "execution_count": 529,
     "metadata": {},
     "output_type": "execute_result"
    }
   ],
   "source": [
    "# 这个不是指定条件，而是a>3本身是个数组\n",
    "np.argwhere(a>3)"
   ]
  },
  {
   "cell_type": "markdown",
   "id": "93556dfe",
   "metadata": {},
   "source": [
    "对于非0位置的索引，还有两个API："
   ]
  },
  {
   "cell_type": "code",
   "execution_count": 535,
   "id": "8aeac6b4",
   "metadata": {},
   "outputs": [
    {
     "data": {
      "text/plain": [
       "(array([1, 1, 1]), array([0, 1, 2]))"
      ]
     },
     "execution_count": 535,
     "metadata": {},
     "output_type": "execute_result"
    }
   ],
   "source": [
    "# 返回非0元素的索引\n",
    "np.nonzero(a>2)"
   ]
  },
  {
   "cell_type": "code",
   "execution_count": 537,
   "id": "47611950",
   "metadata": {},
   "outputs": [
    {
     "data": {
      "text/plain": [
       "array([3, 4, 5])"
      ]
     },
     "execution_count": 537,
     "metadata": {},
     "output_type": "execute_result"
    }
   ],
   "source": [
    "# 返回打平后的索引\n",
    "np.flatnonzero(a>2)"
   ]
  },
  {
   "cell_type": "markdown",
   "id": "963de8f8",
   "metadata": {},
   "source": [
    "最后是`searchsorted`，返回给定值应该插入的位置索引。给定的数组应为一维，但插入的值可以是数组。参数如下：\n",
    "\n",
    "- 被插入的一维数组。\n",
    "- 要插入的值，数组。\n",
    "- side：默认left，第一个合适的位置；right为最后一个合适的位置。\n",
    "- sorter：一维数组，可选的索引，将要插入的数组排序为升序。"
   ]
  },
  {
   "cell_type": "code",
   "execution_count": 558,
   "id": "7024556a",
   "metadata": {},
   "outputs": [
    {
     "data": {
      "text/plain": [
       "array([1, 2, 3, 4, 5])"
      ]
     },
     "execution_count": 558,
     "metadata": {},
     "output_type": "execute_result"
    }
   ],
   "source": [
    "a = np.arange(1, 6)\n",
    "b = np.array([3, 2, 1, 5, 4])\n",
    "a"
   ]
  },
  {
   "cell_type": "code",
   "execution_count": 547,
   "id": "90023577",
   "metadata": {},
   "outputs": [
    {
     "data": {
      "text/plain": [
       "1"
      ]
     },
     "execution_count": 547,
     "metadata": {},
     "output_type": "execute_result"
    }
   ],
   "source": [
    "np.searchsorted(a, 2)"
   ]
  },
  {
   "cell_type": "code",
   "execution_count": 548,
   "id": "7a1cd1ed",
   "metadata": {},
   "outputs": [
    {
     "data": {
      "text/plain": [
       "3"
      ]
     },
     "execution_count": 548,
     "metadata": {},
     "output_type": "execute_result"
    }
   ],
   "source": [
    "np.searchsorted(b, 2)"
   ]
  },
  {
   "cell_type": "code",
   "execution_count": 554,
   "id": "03ee518c",
   "metadata": {},
   "outputs": [
    {
     "data": {
      "text/plain": [
       "array([[1, 1],\n",
       "       [1, 1]])"
      ]
     },
     "execution_count": 554,
     "metadata": {},
     "output_type": "execute_result"
    }
   ],
   "source": [
    "# 要插入的值可以是多维数组\n",
    "np.searchsorted(a, [[2,2],[2,2]])"
   ]
  },
  {
   "cell_type": "markdown",
   "id": "b4fde366",
   "metadata": {},
   "source": [
    "side控制在所有合适位置中插入位置的index："
   ]
  },
  {
   "cell_type": "code",
   "execution_count": 564,
   "id": "1382c56c",
   "metadata": {
    "code_folding": []
   },
   "outputs": [
    {
     "data": {
      "text/plain": [
       "5"
      ]
     },
     "execution_count": 564,
     "metadata": {},
     "output_type": "execute_result"
    }
   ],
   "source": [
    "np.searchsorted([1,1,1,1,1], 1, \"right\")"
   ]
  },
  {
   "cell_type": "code",
   "execution_count": 565,
   "id": "43ff163d",
   "metadata": {},
   "outputs": [
    {
     "data": {
      "text/plain": [
       "0"
      ]
     },
     "execution_count": 565,
     "metadata": {},
     "output_type": "execute_result"
    }
   ],
   "source": [
    "np.searchsorted([1,1,1,1,1], 1, \"left\")"
   ]
  },
  {
   "cell_type": "markdown",
   "id": "c8228b15",
   "metadata": {},
   "source": [
    "sorter表示被插入数组元素的索引，该索引将数组按升序排列。"
   ]
  },
  {
   "cell_type": "code",
   "execution_count": 578,
   "id": "3f205ffc",
   "metadata": {},
   "outputs": [
    {
     "data": {
      "text/plain": [
       "array([3, 2, 1, 5, 4])"
      ]
     },
     "execution_count": 578,
     "metadata": {},
     "output_type": "execute_result"
    }
   ],
   "source": [
    "b"
   ]
  },
  {
   "cell_type": "code",
   "execution_count": 579,
   "id": "bc0550e2",
   "metadata": {},
   "outputs": [
    {
     "data": {
      "text/plain": [
       "3"
      ]
     },
     "execution_count": 579,
     "metadata": {},
     "output_type": "execute_result"
    }
   ],
   "source": [
    "np.searchsorted(b, 2)"
   ]
  },
  {
   "cell_type": "code",
   "execution_count": 583,
   "id": "6e02c877",
   "metadata": {},
   "outputs": [
    {
     "data": {
      "text/plain": [
       "1"
      ]
     },
     "execution_count": 583,
     "metadata": {},
     "output_type": "execute_result"
    }
   ],
   "source": [
    "# 1 2 3 4 5\n",
    "np.searchsorted(b, 2, sorter=[2,1,0,4,3])"
   ]
  },
  {
   "cell_type": "code",
   "execution_count": 587,
   "id": "f78cdd5d",
   "metadata": {},
   "outputs": [
    {
     "data": {
      "text/plain": [
       "1"
      ]
     },
     "execution_count": 587,
     "metadata": {},
     "output_type": "execute_result"
    }
   ],
   "source": [
    "np.searchsorted([1,2,3,4,5],2)"
   ]
  },
  {
   "cell_type": "code",
   "execution_count": 585,
   "id": "d3317016",
   "metadata": {},
   "outputs": [
    {
     "data": {
      "text/plain": [
       "0"
      ]
     },
     "execution_count": 585,
     "metadata": {},
     "output_type": "execute_result"
    }
   ],
   "source": [
    "# 5 4 3 2 1\n",
    "np.searchsorted(b, 2, sorter=[3,4,0,1,2])"
   ]
  },
  {
   "cell_type": "code",
   "execution_count": 586,
   "id": "905843a9",
   "metadata": {},
   "outputs": [
    {
     "data": {
      "text/plain": [
       "0"
      ]
     },
     "execution_count": 586,
     "metadata": {},
     "output_type": "execute_result"
    }
   ],
   "source": [
    "np.searchsorted([5,4,3,2,1],2)"
   ]
  },
  {
   "cell_type": "markdown",
   "id": "01ccc20a",
   "metadata": {},
   "source": [
    "### 排序\n",
    "\n",
    "`argsort`在《从小白到入门》中已有介绍，此处不再赘述。这里介绍其他几个和排序相关的API：\n",
    "\n",
    "- `sort/lexsort/ndarray.sort`：数组排序\n",
    "- `msort`：排序第一轴\n",
    "- `sort_complex`：复数排序\n",
    "- `prtition/argpartition/ndarray.partition`：部分排序"
   ]
  },
  {
   "cell_type": "code",
   "execution_count": 633,
   "id": "230b3c0c",
   "metadata": {},
   "outputs": [
    {
     "data": {
      "text/plain": [
       "array([[0, 7, 6, 4],\n",
       "       [4, 8, 0, 6],\n",
       "       [2, 0, 5, 9]])"
      ]
     },
     "execution_count": 633,
     "metadata": {},
     "output_type": "execute_result"
    }
   ],
   "source": [
    "rng = np.random.default_rng(42)\n",
    "a = rng.integers(0, 10, (3, 4))\n",
    "a"
   ]
  },
  {
   "cell_type": "markdown",
   "id": "7fd3d0cc",
   "metadata": {},
   "source": [
    "`sort`包括以下参数：\n",
    "\n",
    "- 数组\n",
    "- axis：默认最后一个轴（-1）\n",
    "- kind：kind是排序算法，支持：quicksort、mergesort、heapsort和stable，默认quicksort\n",
    "- order：用来排序的field（数组有field时）\n",
    "\n",
    "沿着最后一个维度（默认）排序时不创建临时复制，因此速度最快，不占用额外空间。\n",
    "\n",
    "stable会根据被排序的数据类型自动选择最稳定的排序算法。"
   ]
  },
  {
   "cell_type": "code",
   "execution_count": 634,
   "id": "0ec298b8",
   "metadata": {},
   "outputs": [
    {
     "data": {
      "text/plain": [
       "array([[0, 4, 6, 7],\n",
       "       [0, 4, 6, 8],\n",
       "       [0, 2, 5, 9]])"
      ]
     },
     "execution_count": 634,
     "metadata": {},
     "output_type": "execute_result"
    }
   ],
   "source": [
    "# 默认axis=-1\n",
    "np.sort(a)"
   ]
  },
  {
   "cell_type": "code",
   "execution_count": 635,
   "id": "8342a675",
   "metadata": {},
   "outputs": [
    {
     "data": {
      "text/plain": [
       "array([[0, 0, 0, 4],\n",
       "       [2, 7, 5, 6],\n",
       "       [4, 8, 6, 9]])"
      ]
     },
     "execution_count": 635,
     "metadata": {},
     "output_type": "execute_result"
    }
   ],
   "source": [
    "# 指定轴\n",
    "np.sort(a, axis=0)"
   ]
  },
  {
   "cell_type": "code",
   "execution_count": 636,
   "id": "0ea38d2d",
   "metadata": {},
   "outputs": [
    {
     "data": {
      "text/plain": [
       "array([[0, 4, 6, 7],\n",
       "       [0, 4, 6, 8],\n",
       "       [0, 2, 5, 9]])"
      ]
     },
     "execution_count": 636,
     "metadata": {},
     "output_type": "execute_result"
    }
   ],
   "source": [
    "# 指定排序算法\n",
    "np.sort(a, kind=\"stable\")"
   ]
  },
  {
   "cell_type": "code",
   "execution_count": 637,
   "id": "d4bfad43",
   "metadata": {},
   "outputs": [
    {
     "data": {
      "text/plain": [
       "array([('Galahad', 1.7, 38), ('Arthur', 1.8, 41), ('Lancelot', 1.9, 38)],\n",
       "      dtype=[('name', '<U10'), ('height', '<f2'), ('age', '<i4')])"
      ]
     },
     "execution_count": 637,
     "metadata": {},
     "output_type": "execute_result"
    }
   ],
   "source": [
    "# 指定order\n",
    "# String, float16, int32\n",
    "dtype = [(\"name\", \"U10\"), (\"height\", \"f2\"), (\"age\", \"i4\")]\n",
    "values = [\n",
    "    (\"Arthur\", 1.8, 41), \n",
    "    (\"Lancelot\", 1.9, 38), \n",
    "    (\"Galahad\", 1.7, 38)\n",
    "]\n",
    "b = np.array(values, dtype=dtype)\n",
    "np.sort(b, order=[\"height\"])"
   ]
  },
  {
   "cell_type": "markdown",
   "id": "52d76bc7",
   "metadata": {},
   "source": [
    "`lexsort`，后面的key优先。"
   ]
  },
  {
   "cell_type": "code",
   "execution_count": 638,
   "id": "b31d5674",
   "metadata": {},
   "outputs": [
    {
     "data": {
      "text/plain": [
       "array([2, 1, 0])"
      ]
     },
     "execution_count": 638,
     "metadata": {},
     "output_type": "execute_result"
    }
   ],
   "source": [
    "surnames =    ('Zertz',    'Halilei', 'Halilei')\n",
    "first_names = ('Heinrich', 'Gzlileo', 'Gustav')\n",
    "# 先surname，在按firstname\n",
    "ind = np.lexsort((first_names, surnames))\n",
    "ind"
   ]
  },
  {
   "cell_type": "code",
   "execution_count": 639,
   "id": "8da90109",
   "metadata": {},
   "outputs": [
    {
     "data": {
      "text/plain": [
       "['Halilei, Gustav', 'Halilei, Gzlileo', 'Zertz, Heinrich']"
      ]
     },
     "execution_count": 639,
     "metadata": {},
     "output_type": "execute_result"
    }
   ],
   "source": [
    "[surnames[i] + \", \" + first_names[i] for i in ind]"
   ]
  },
  {
   "cell_type": "markdown",
   "id": "6df13a12",
   "metadata": {},
   "source": [
    "`ndarray.sort`是in-place排序。其余参数与`np.sort`一样。"
   ]
  },
  {
   "cell_type": "code",
   "execution_count": 645,
   "id": "f23ee2ce",
   "metadata": {},
   "outputs": [
    {
     "data": {
      "text/plain": [
       "array([[0, 7, 6, 4],\n",
       "       [4, 8, 0, 6],\n",
       "       [2, 0, 5, 9]])"
      ]
     },
     "execution_count": 645,
     "metadata": {},
     "output_type": "execute_result"
    }
   ],
   "source": [
    "rng = np.random.default_rng(42)\n",
    "a = rng.integers(0, 10, (3, 4))\n",
    "a"
   ]
  },
  {
   "cell_type": "code",
   "execution_count": 646,
   "id": "f34aaf09",
   "metadata": {},
   "outputs": [],
   "source": [
    "a.sort()"
   ]
  },
  {
   "cell_type": "code",
   "execution_count": 647,
   "id": "01115411",
   "metadata": {},
   "outputs": [
    {
     "data": {
      "text/plain": [
       "array([[0, 4, 6, 7],\n",
       "       [0, 4, 6, 8],\n",
       "       [0, 2, 5, 9]])"
      ]
     },
     "execution_count": 647,
     "metadata": {},
     "output_type": "execute_result"
    }
   ],
   "source": [
    "a"
   ]
  },
  {
   "cell_type": "markdown",
   "id": "a8525d4a",
   "metadata": {},
   "source": [
    "`msort`与`np.sort(a, axis=0)`等价。"
   ]
  },
  {
   "cell_type": "code",
   "execution_count": 650,
   "id": "9a20cb68",
   "metadata": {},
   "outputs": [
    {
     "data": {
      "text/plain": [
       "array([[0, 7, 6, 4],\n",
       "       [4, 8, 0, 6],\n",
       "       [2, 0, 5, 9]])"
      ]
     },
     "execution_count": 650,
     "metadata": {},
     "output_type": "execute_result"
    }
   ],
   "source": [
    "rng = np.random.default_rng(42)\n",
    "a = rng.integers(0, 10, (3, 4))\n",
    "a"
   ]
  },
  {
   "cell_type": "code",
   "execution_count": 651,
   "id": "8948a81f",
   "metadata": {},
   "outputs": [
    {
     "data": {
      "text/plain": [
       "array([[0, 0, 0, 4],\n",
       "       [2, 7, 5, 6],\n",
       "       [4, 8, 6, 9]])"
      ]
     },
     "execution_count": 651,
     "metadata": {},
     "output_type": "execute_result"
    }
   ],
   "source": [
    "np.msort(a)"
   ]
  },
  {
   "cell_type": "markdown",
   "id": "30042b5e",
   "metadata": {},
   "source": [
    "`sort_complex`先用实部排，再用虚部。"
   ]
  },
  {
   "cell_type": "code",
   "execution_count": 657,
   "id": "138d366f",
   "metadata": {},
   "outputs": [
    {
     "data": {
      "text/plain": [
       "array([1.+1.j, 1.+2.j, 2.-1.j, 3.-3.j, 3.-2.j, 3.+5.j])"
      ]
     },
     "execution_count": 657,
     "metadata": {},
     "output_type": "execute_result"
    }
   ],
   "source": [
    "np.sort_complex([1 + 2j, 1+1j, 2 - 1j, 3 - 2j, 3 - 3j, 3 + 5j])"
   ]
  },
  {
   "cell_type": "markdown",
   "id": "8d8b73c5",
   "metadata": {},
   "source": [
    "`partition`和`argpartition`的关系和`sort`与`argsort`类似。参数包括：\n",
    "\n",
    "- 数组\n",
    "- kth：切分的位置，整数或整数序列\n",
    "- axis：轴，默认-1\n",
    "- kind：选择算法，默认`introselect`\n",
    "- order：str或List[str]，和前面介绍的`sort`中的参数用法一样。\n",
    "\n",
    "注意，返回的结果中，第k个元素的位置是排好序时的位置（不是原始数组中的index）。"
   ]
  },
  {
   "cell_type": "code",
   "execution_count": 723,
   "id": "acf28e0a",
   "metadata": {},
   "outputs": [
    {
     "data": {
      "text/plain": [
       "array([ 78,  87,  88, 101,  99, 100,  98])"
      ]
     },
     "execution_count": 723,
     "metadata": {},
     "output_type": "execute_result"
    }
   ],
   "source": [
    "a = [100, 99, 87, 101, 88, 78, 98]\n",
    "# 88 排好时在index=2的数字\n",
    "# 比88小的在左边，比88大或相等的在右边\n",
    "np.partition(a, 2)"
   ]
  },
  {
   "cell_type": "code",
   "execution_count": 724,
   "id": "5e66b57e",
   "metadata": {},
   "outputs": [
    {
     "data": {
      "text/plain": [
       "array([5, 2, 4, 3, 1, 0, 6])"
      ]
     },
     "execution_count": 724,
     "metadata": {},
     "output_type": "execute_result"
    }
   ],
   "source": [
    "np.argpartition(a, 2)"
   ]
  },
  {
   "cell_type": "code",
   "execution_count": 725,
   "id": "3f1aaa7d",
   "metadata": {},
   "outputs": [
    {
     "data": {
      "text/plain": [
       "array([2, 1, 3, 4])"
      ]
     },
     "execution_count": 725,
     "metadata": {},
     "output_type": "execute_result"
    }
   ],
   "source": [
    "a = [3, 4, 2, 1]\n",
    "# 4 是排好序时index=3的数字\n",
    "np.partition(a, 3)"
   ]
  },
  {
   "cell_type": "code",
   "execution_count": 726,
   "id": "864d14b8",
   "metadata": {},
   "outputs": [
    {
     "data": {
      "text/plain": [
       "array([2, 3, 0, 1])"
      ]
     },
     "execution_count": 726,
     "metadata": {},
     "output_type": "execute_result"
    }
   ],
   "source": [
    "np.argpartition(a, 3)"
   ]
  },
  {
   "cell_type": "code",
   "execution_count": 727,
   "id": "b6b267ea",
   "metadata": {},
   "outputs": [
    {
     "data": {
      "text/plain": [
       "array([[0, 7, 6, 4, 4, 8, 0, 6],\n",
       "       [2, 0, 5, 9, 7, 7, 7, 7],\n",
       "       [5, 1, 8, 4, 5, 3, 1, 9]])"
      ]
     },
     "execution_count": 727,
     "metadata": {},
     "output_type": "execute_result"
    }
   ],
   "source": [
    "rng = np.random.default_rng(42)\n",
    "a = rng.integers(0, 10, (3, 8))\n",
    "a"
   ]
  },
  {
   "cell_type": "code",
   "execution_count": 728,
   "id": "4fbd4be8",
   "metadata": {},
   "outputs": [
    {
     "data": {
      "text/plain": [
       "array([[0, 0, 4, 6, 4, 8, 7, 6],\n",
       "       [0, 2, 5, 9, 7, 7, 7, 7],\n",
       "       [1, 1, 3, 4, 5, 8, 5, 9]])"
      ]
     },
     "execution_count": 728,
     "metadata": {},
     "output_type": "execute_result"
    }
   ],
   "source": [
    "# 注意第一行，比4大或相等的在右边 \n",
    "np.partition(a, 2)"
   ]
  },
  {
   "cell_type": "code",
   "execution_count": 729,
   "id": "3418fbe4",
   "metadata": {
    "scrolled": true
   },
   "outputs": [
    {
     "data": {
      "text/plain": [
       "array([[0, 6, 3, 2, 4, 5, 1, 7],\n",
       "       [1, 0, 2, 3, 4, 5, 6, 7],\n",
       "       [1, 6, 5, 3, 4, 2, 0, 7]])"
      ]
     },
     "execution_count": 729,
     "metadata": {},
     "output_type": "execute_result"
    }
   ],
   "source": [
    "np.argpartition(a, 2)"
   ]
  },
  {
   "cell_type": "markdown",
   "id": "dae0f68b",
   "metadata": {},
   "source": [
    "## 集合操作"
   ]
  },
  {
   "cell_type": "markdown",
   "id": "df4b1866",
   "metadata": {},
   "source": [
    "第一个数组的元素是否在第二个数组："
   ]
  },
  {
   "cell_type": "code",
   "execution_count": 192,
   "id": "a49206e6",
   "metadata": {},
   "outputs": [
    {
     "data": {
      "text/plain": [
       "array([1, 2, 3])"
      ]
     },
     "execution_count": 192,
     "metadata": {},
     "output_type": "execute_result"
    }
   ],
   "source": [
    "a = np.array([[1, 2], [2, 3]])\n",
    "np.unique(a)"
   ]
  },
  {
   "cell_type": "code",
   "execution_count": 193,
   "id": "dbad5744",
   "metadata": {
    "scrolled": true
   },
   "outputs": [
    {
     "data": {
      "text/plain": [
       "array([ True,  True,  True, False])"
      ]
     },
     "execution_count": 193,
     "metadata": {},
     "output_type": "execute_result"
    }
   ],
   "source": [
    "np.in1d([1,2,3,4], a)"
   ]
  },
  {
   "cell_type": "code",
   "execution_count": 194,
   "id": "edb53b2f",
   "metadata": {},
   "outputs": [
    {
     "data": {
      "text/plain": [
       "array([False, False, False,  True])"
      ]
     },
     "execution_count": 194,
     "metadata": {},
     "output_type": "execute_result"
    }
   ],
   "source": [
    "# 翻转\n",
    "np.in1d([1,2,3,4], a, invert=True)"
   ]
  },
  {
   "cell_type": "code",
   "execution_count": 195,
   "id": "fc31a60e",
   "metadata": {},
   "outputs": [
    {
     "data": {
      "text/plain": [
       "array([ True,  True,  True, False])"
      ]
     },
     "execution_count": 195,
     "metadata": {},
     "output_type": "execute_result"
    }
   ],
   "source": [
    "# 两个数组里的值均unique\n",
    "# 可以加速计算\n",
    "np.in1d([1,2,3,4], a, assume_unique=True)"
   ]
  },
  {
   "cell_type": "code",
   "execution_count": 200,
   "id": "f9019f31",
   "metadata": {},
   "outputs": [
    {
     "data": {
      "text/plain": [
       "array([ True,  True,  True, False])"
      ]
     },
     "execution_count": 200,
     "metadata": {},
     "output_type": "execute_result"
    }
   ],
   "source": [
    "# 打平\n",
    "np.in1d([[1,2],[3,4]], a)"
   ]
  },
  {
   "cell_type": "code",
   "execution_count": 201,
   "id": "80fd2d67",
   "metadata": {},
   "outputs": [
    {
     "data": {
      "text/plain": [
       "array([ True,  True,  True, False])"
      ]
     },
     "execution_count": 201,
     "metadata": {},
     "output_type": "execute_result"
    }
   ],
   "source": [
    "# 不打平\n",
    "np.isin([1,2,3,4], a)"
   ]
  },
  {
   "cell_type": "code",
   "execution_count": 198,
   "id": "a49b953d",
   "metadata": {},
   "outputs": [
    {
     "data": {
      "text/plain": [
       "array([[ True,  True],\n",
       "       [ True, False]])"
      ]
     },
     "execution_count": 198,
     "metadata": {},
     "output_type": "execute_result"
    }
   ],
   "source": [
    "np.isin([[1,2],[3,4]], a)"
   ]
  },
  {
   "cell_type": "markdown",
   "id": "5be5f611",
   "metadata": {},
   "source": [
    "其余参数和`in1d`一样。"
   ]
  },
  {
   "cell_type": "markdown",
   "id": "f38645bb",
   "metadata": {},
   "source": [
    "交集，输入的数组会打平："
   ]
  },
  {
   "cell_type": "code",
   "execution_count": 210,
   "id": "f1b992dd",
   "metadata": {},
   "outputs": [
    {
     "data": {
      "text/plain": [
       "array([[1, 2],\n",
       "       [2, 3]])"
      ]
     },
     "execution_count": 210,
     "metadata": {},
     "output_type": "execute_result"
    }
   ],
   "source": [
    "a"
   ]
  },
  {
   "cell_type": "code",
   "execution_count": 211,
   "id": "7e666d4e",
   "metadata": {},
   "outputs": [],
   "source": [
    "b = np.array([[2, 4, 1]])"
   ]
  },
  {
   "cell_type": "code",
   "execution_count": 212,
   "id": "2f96179f",
   "metadata": {},
   "outputs": [
    {
     "data": {
      "text/plain": [
       "array([1, 2])"
      ]
     },
     "execution_count": 212,
     "metadata": {},
     "output_type": "execute_result"
    }
   ],
   "source": [
    "np.intersect1d(a, b)"
   ]
  },
  {
   "cell_type": "code",
   "execution_count": 213,
   "id": "ecc46a3e",
   "metadata": {},
   "outputs": [
    {
     "data": {
      "text/plain": [
       "array([1, 2, 2])"
      ]
     },
     "execution_count": 213,
     "metadata": {},
     "output_type": "execute_result"
    }
   ],
   "source": [
    "# 如果假设为unique，其实不是，结果会有误\n",
    "np.intersect1d(a, b, assume_unique=True)"
   ]
  },
  {
   "cell_type": "code",
   "execution_count": 214,
   "id": "bfbaf02f",
   "metadata": {},
   "outputs": [
    {
     "data": {
      "text/plain": [
       "(array([1, 2]), array([0, 1]), array([2, 0]))"
      ]
     },
     "execution_count": 214,
     "metadata": {},
     "output_type": "execute_result"
    }
   ],
   "source": [
    "# 返回索引，如果有多个，返回第一个\n",
    "np.intersect1d(a, b, return_indices=True)"
   ]
  },
  {
   "cell_type": "markdown",
   "id": "baa5dfce",
   "metadata": {},
   "source": [
    "并集，输入的数组会打平："
   ]
  },
  {
   "cell_type": "code",
   "execution_count": 215,
   "id": "a49a700f",
   "metadata": {},
   "outputs": [
    {
     "data": {
      "text/plain": [
       "array([[1, 2],\n",
       "       [2, 3]])"
      ]
     },
     "execution_count": 215,
     "metadata": {},
     "output_type": "execute_result"
    }
   ],
   "source": [
    "a"
   ]
  },
  {
   "cell_type": "code",
   "execution_count": 218,
   "id": "bd272ae7",
   "metadata": {},
   "outputs": [
    {
     "data": {
      "text/plain": [
       "array([[2, 4, 1]])"
      ]
     },
     "execution_count": 218,
     "metadata": {},
     "output_type": "execute_result"
    }
   ],
   "source": [
    "b"
   ]
  },
  {
   "cell_type": "code",
   "execution_count": 216,
   "id": "0bf207c8",
   "metadata": {
    "scrolled": true
   },
   "outputs": [
    {
     "data": {
      "text/plain": [
       "array([1, 2, 3, 4])"
      ]
     },
     "execution_count": 216,
     "metadata": {},
     "output_type": "execute_result"
    }
   ],
   "source": [
    "np.union1d(a, b)"
   ]
  },
  {
   "cell_type": "markdown",
   "id": "12b28391",
   "metadata": {},
   "source": [
    "差集，返回在数组1不在数组2的："
   ]
  },
  {
   "cell_type": "code",
   "execution_count": 219,
   "id": "bf0ec774",
   "metadata": {},
   "outputs": [
    {
     "data": {
      "text/plain": [
       "array([3])"
      ]
     },
     "execution_count": 219,
     "metadata": {},
     "output_type": "execute_result"
    }
   ],
   "source": [
    "np.setdiff1d(a, b)"
   ]
  },
  {
   "cell_type": "code",
   "execution_count": 220,
   "id": "01f16857",
   "metadata": {},
   "outputs": [
    {
     "data": {
      "text/plain": [
       "array([4])"
      ]
     },
     "execution_count": 220,
     "metadata": {},
     "output_type": "execute_result"
    }
   ],
   "source": [
    "np.setdiff1d(b, a)"
   ]
  },
  {
   "cell_type": "markdown",
   "id": "3f66bdcd",
   "metadata": {},
   "source": [
    "异或集："
   ]
  },
  {
   "cell_type": "code",
   "execution_count": 224,
   "id": "b1a0eaa9",
   "metadata": {},
   "outputs": [
    {
     "data": {
      "text/plain": [
       "array([3, 4])"
      ]
     },
     "execution_count": 224,
     "metadata": {},
     "output_type": "execute_result"
    }
   ],
   "source": [
    "np.setxor1d(a, b)"
   ]
  },
  {
   "cell_type": "markdown",
   "id": "4947830c",
   "metadata": {},
   "source": [
    "对于多个数组，可以使用`reduce`方法："
   ]
  },
  {
   "cell_type": "code",
   "execution_count": 206,
   "id": "4bb7a1b0",
   "metadata": {},
   "outputs": [],
   "source": [
    "from functools import reduce"
   ]
  },
  {
   "cell_type": "code",
   "execution_count": 208,
   "id": "29520389",
   "metadata": {},
   "outputs": [
    {
     "data": {
      "text/plain": [
       "array([1, 2, 3, 4, 6])"
      ]
     },
     "execution_count": 208,
     "metadata": {},
     "output_type": "execute_result"
    }
   ],
   "source": [
    "reduce(\n",
    "    np.union1d, \n",
    "    ([1, 3, 4, 3], [3, 1, 2, 1], [6, 3, 4, 2])\n",
    ")"
   ]
  },
  {
   "cell_type": "markdown",
   "id": "0ef6cc1f",
   "metadata": {},
   "source": [
    "## 函数式编程\n",
    "\n",
    "NumPy的向量化计算也可以被自定义使用。下面我们就看看如何在NumPy上使用自定义方法。"
   ]
  },
  {
   "cell_type": "markdown",
   "id": "9efd3adc",
   "metadata": {},
   "source": [
    "`apply_along_axis`是沿着某个维度应用一个函数，等于是沿着某个维度对原数组值进行映射。"
   ]
  },
  {
   "cell_type": "code",
   "execution_count": 230,
   "id": "b833c46d",
   "metadata": {},
   "outputs": [],
   "source": [
    "def func(a):\n",
    "    return (a[0] + a[-1]) / 2"
   ]
  },
  {
   "cell_type": "code",
   "execution_count": 232,
   "id": "dedb08f5",
   "metadata": {},
   "outputs": [
    {
     "data": {
      "text/plain": [
       "array([[1, 2, 3],\n",
       "       [4, 5, 6],\n",
       "       [7, 8, 9]])"
      ]
     },
     "execution_count": 232,
     "metadata": {},
     "output_type": "execute_result"
    }
   ],
   "source": [
    "b = np.arange(1, 10).reshape(3, 3)\n",
    "b"
   ]
  },
  {
   "cell_type": "code",
   "execution_count": 233,
   "id": "abd7a3f5",
   "metadata": {},
   "outputs": [
    {
     "data": {
      "text/plain": [
       "array([4., 5., 6.])"
      ]
     },
     "execution_count": 233,
     "metadata": {},
     "output_type": "execute_result"
    }
   ],
   "source": [
    "np.apply_along_axis(func, 0, b)"
   ]
  },
  {
   "cell_type": "code",
   "execution_count": 236,
   "id": "22f673ee",
   "metadata": {},
   "outputs": [
    {
     "data": {
      "text/plain": [
       "array([2., 5., 8.])"
      ]
     },
     "execution_count": 236,
     "metadata": {},
     "output_type": "execute_result"
    }
   ],
   "source": [
    "np.apply_along_axis(func, 1, b)"
   ]
  },
  {
   "cell_type": "code",
   "execution_count": 242,
   "id": "c8261bcc",
   "metadata": {},
   "outputs": [
    {
     "data": {
      "text/plain": [
       "array([[8, 1, 7],\n",
       "       [4, 3, 9],\n",
       "       [5, 2, 6]])"
      ]
     },
     "execution_count": 242,
     "metadata": {},
     "output_type": "execute_result"
    }
   ],
   "source": [
    "b = np.array([[8,1,7], [4,3,9], [5,2,6]])\n",
    "b"
   ]
  },
  {
   "cell_type": "code",
   "execution_count": 240,
   "id": "f0ced5d7",
   "metadata": {},
   "outputs": [
    {
     "data": {
      "text/plain": [
       "array([[1, 7, 8],\n",
       "       [3, 4, 9],\n",
       "       [2, 5, 6]])"
      ]
     },
     "execution_count": 240,
     "metadata": {},
     "output_type": "execute_result"
    }
   ],
   "source": [
    "np.apply_along_axis(sorted, 1, b)"
   ]
  },
  {
   "cell_type": "code",
   "execution_count": 245,
   "id": "8addab98",
   "metadata": {},
   "outputs": [
    {
     "data": {
      "text/plain": [
       "array([[4, 1, 6],\n",
       "       [5, 2, 7],\n",
       "       [8, 3, 9]])"
      ]
     },
     "execution_count": 245,
     "metadata": {},
     "output_type": "execute_result"
    }
   ],
   "source": [
    "np.apply_along_axis(sorted, 0, b)"
   ]
  },
  {
   "cell_type": "code",
   "execution_count": 253,
   "id": "0276def6",
   "metadata": {},
   "outputs": [
    {
     "data": {
      "text/plain": [
       "array([[[8, 0, 0],\n",
       "        [0, 1, 0],\n",
       "        [0, 0, 7]],\n",
       "\n",
       "       [[4, 0, 0],\n",
       "        [0, 3, 0],\n",
       "        [0, 0, 9]],\n",
       "\n",
       "       [[5, 0, 0],\n",
       "        [0, 2, 0],\n",
       "        [0, 0, 6]]])"
      ]
     },
     "execution_count": 253,
     "metadata": {},
     "output_type": "execute_result"
    }
   ],
   "source": [
    "np.apply_along_axis(np.diag, 1, b)"
   ]
  },
  {
   "cell_type": "code",
   "execution_count": 254,
   "id": "3a504339",
   "metadata": {},
   "outputs": [
    {
     "data": {
      "text/plain": [
       "array([[[8, 0, 0],\n",
       "        [0, 4, 0],\n",
       "        [0, 0, 5]],\n",
       "\n",
       "       [[1, 0, 0],\n",
       "        [0, 3, 0],\n",
       "        [0, 0, 2]],\n",
       "\n",
       "       [[7, 0, 0],\n",
       "        [0, 9, 0],\n",
       "        [0, 0, 6]]])"
      ]
     },
     "execution_count": 254,
     "metadata": {},
     "output_type": "execute_result"
    }
   ],
   "source": [
    "np.apply_along_axis(np.diag, 0, b).T"
   ]
  },
  {
   "cell_type": "markdown",
   "id": "b26da83b",
   "metadata": {},
   "source": [
    "`apply_over_axes`会将一个函数重复多次应用到多个轴。\n",
    "\n",
    "注意：函数接受两个参数（和`apply_along_axis`的一个参数区别），分别是数组和维度。"
   ]
  },
  {
   "cell_type": "code",
   "execution_count": 268,
   "id": "907c5a32",
   "metadata": {},
   "outputs": [
    {
     "data": {
      "text/plain": [
       "array([[8, 1, 7],\n",
       "       [4, 3, 9],\n",
       "       [5, 2, 6]])"
      ]
     },
     "execution_count": 268,
     "metadata": {},
     "output_type": "execute_result"
    }
   ],
   "source": [
    "b"
   ]
  },
  {
   "cell_type": "code",
   "execution_count": 266,
   "id": "45003d95",
   "metadata": {},
   "outputs": [
    {
     "data": {
      "text/plain": [
       "array([[16],\n",
       "       [16],\n",
       "       [13]])"
      ]
     },
     "execution_count": 266,
     "metadata": {},
     "output_type": "execute_result"
    }
   ],
   "source": [
    "np.apply_over_axes(np.sum, b, 1)"
   ]
  },
  {
   "cell_type": "code",
   "execution_count": 267,
   "id": "7acfb40c",
   "metadata": {},
   "outputs": [
    {
     "data": {
      "text/plain": [
       "array([[17,  6, 22]])"
      ]
     },
     "execution_count": 267,
     "metadata": {},
     "output_type": "execute_result"
    }
   ],
   "source": [
    "np.apply_over_axes(np.sum, b, 0)"
   ]
  },
  {
   "cell_type": "code",
   "execution_count": 265,
   "id": "6547be2f",
   "metadata": {
    "scrolled": true
   },
   "outputs": [
    {
     "data": {
      "text/plain": [
       "array([[45]])"
      ]
     },
     "execution_count": 265,
     "metadata": {},
     "output_type": "execute_result"
    }
   ],
   "source": [
    "np.apply_over_axes(np.sum, b, [0, 1])"
   ]
  },
  {
   "cell_type": "markdown",
   "id": "b71c1ea1",
   "metadata": {},
   "source": [
    "`vectorize`是通用类，将自定义函数向量化，主要是方便，而不是为了提高性能，内部实际是一个for循环。"
   ]
  },
  {
   "cell_type": "code",
   "execution_count": 270,
   "id": "ac272151",
   "metadata": {},
   "outputs": [],
   "source": [
    "def func(a, b):\n",
    "    if a > b:\n",
    "        return a - b\n",
    "    else:\n",
    "        return a + b"
   ]
  },
  {
   "cell_type": "code",
   "execution_count": 271,
   "id": "9b660641",
   "metadata": {},
   "outputs": [],
   "source": [
    "vfunc = np.vectorize(func)"
   ]
  },
  {
   "cell_type": "code",
   "execution_count": 272,
   "id": "9d3b6b86",
   "metadata": {},
   "outputs": [
    {
     "data": {
      "text/plain": [
       "array([3, 4, 5, 6, 1, 2, 3, 4, 5, 6])"
      ]
     },
     "execution_count": 272,
     "metadata": {},
     "output_type": "execute_result"
    }
   ],
   "source": [
    "vfunc(np.arange(10), 3)"
   ]
  },
  {
   "cell_type": "markdown",
   "id": "9400bfa7",
   "metadata": {},
   "source": [
    "可以指定输出的类型："
   ]
  },
  {
   "cell_type": "code",
   "execution_count": 274,
   "id": "320e49d9",
   "metadata": {},
   "outputs": [],
   "source": [
    "vfunc = np.vectorize(func, otypes=[np.float16])"
   ]
  },
  {
   "cell_type": "code",
   "execution_count": 275,
   "id": "bf15539b",
   "metadata": {},
   "outputs": [
    {
     "data": {
      "text/plain": [
       "array([3., 4., 5., 6., 1., 2., 3., 4., 5., 6.], dtype=float16)"
      ]
     },
     "execution_count": 275,
     "metadata": {},
     "output_type": "execute_result"
    }
   ],
   "source": [
    "vfunc(np.arange(10), 3)"
   ]
  },
  {
   "cell_type": "markdown",
   "id": "e2517b3f",
   "metadata": {},
   "source": [
    "或者指定不进行向量化的参数："
   ]
  },
  {
   "cell_type": "code",
   "execution_count": 290,
   "id": "7c1b07f1",
   "metadata": {},
   "outputs": [],
   "source": [
    "def func(a, b):\n",
    "    res = np.zeros_like(b)\n",
    "    for i in a:\n",
    "        res += i * b\n",
    "    return res"
   ]
  },
  {
   "cell_type": "code",
   "execution_count": 291,
   "id": "6218ca90",
   "metadata": {},
   "outputs": [
    {
     "data": {
      "text/plain": [
       "array([12, 24])"
      ]
     },
     "execution_count": 291,
     "metadata": {},
     "output_type": "execute_result"
    }
   ],
   "source": [
    "func([1,2,3], np.array([2,4]))"
   ]
  },
  {
   "cell_type": "code",
   "execution_count": 305,
   "id": "e7a19389",
   "metadata": {},
   "outputs": [],
   "source": [
    "vfunc = np.vectorize(func, excluded=[\"a\"])"
   ]
  },
  {
   "cell_type": "code",
   "execution_count": 306,
   "id": "9222fe25",
   "metadata": {},
   "outputs": [
    {
     "data": {
      "text/plain": [
       "array([12, 24])"
      ]
     },
     "execution_count": 306,
     "metadata": {},
     "output_type": "execute_result"
    }
   ],
   "source": [
    "vfunc(a=[1,2,3], b=[2,4])"
   ]
  },
  {
   "cell_type": "markdown",
   "id": "6ed24eb0",
   "metadata": {},
   "source": [
    "或事后指定："
   ]
  },
  {
   "cell_type": "code",
   "execution_count": 328,
   "id": "31d43b5c",
   "metadata": {},
   "outputs": [],
   "source": [
    "vfunc = np.vectorize(func)\n",
    "# 第一个参数排除\n",
    "vfunc.excluded.add(0)"
   ]
  },
  {
   "cell_type": "code",
   "execution_count": 329,
   "id": "94b07327",
   "metadata": {},
   "outputs": [
    {
     "data": {
      "text/plain": [
       "array([12, 24])"
      ]
     },
     "execution_count": 329,
     "metadata": {},
     "output_type": "execute_result"
    }
   ],
   "source": [
    "vfunc([1,2,3], [2,4])"
   ]
  },
  {
   "cell_type": "markdown",
   "id": "bb371da8",
   "metadata": {},
   "source": [
    "如果输入的参数不能直接执行，则需要签名："
   ]
  },
  {
   "cell_type": "code",
   "execution_count": 426,
   "id": "19e96843",
   "metadata": {},
   "outputs": [],
   "source": [
    "conv = np.vectorize(np.convolve, signature=\"(n),(m)->(k)\")"
   ]
  },
  {
   "cell_type": "code",
   "execution_count": 427,
   "id": "6fd8b796",
   "metadata": {},
   "outputs": [
    {
     "data": {
      "text/plain": [
       "array([[ 1. ,  2.5,  4. ,  1.5],\n",
       "       [ 4. ,  7. ,  8.5,  3. ],\n",
       "       [ 7. , 11.5, 13. ,  4.5]])"
      ]
     },
     "execution_count": 427,
     "metadata": {},
     "output_type": "execute_result"
    }
   ],
   "source": [
    "conv([[1,2,3],[4,5,6],[7,8,9]], [1, 0.5])"
   ]
  },
  {
   "cell_type": "code",
   "execution_count": 428,
   "id": "3f18d9fd",
   "metadata": {},
   "outputs": [
    {
     "data": {
      "text/plain": [
       "array([ 1. ,  2.5,  4. ,  5.5,  7. ,  8.5, 10. , 11.5, 13. ,  4.5])"
      ]
     },
     "execution_count": 428,
     "metadata": {},
     "output_type": "execute_result"
    }
   ],
   "source": [
    "np.convolve([1,2,3,4,5,6,7,8,9], [1, 0.5])"
   ]
  },
  {
   "cell_type": "markdown",
   "id": "351fe187",
   "metadata": {},
   "source": [
    "相比`vectorize`，`frompyfunc`更加通用，它可以将任意的Python函数转为通函数。"
   ]
  },
  {
   "cell_type": "code",
   "execution_count": 433,
   "id": "57c4e136",
   "metadata": {},
   "outputs": [],
   "source": [
    "def func(x):\n",
    "    return str(x)"
   ]
  },
  {
   "cell_type": "code",
   "execution_count": 439,
   "id": "741bb2a6",
   "metadata": {},
   "outputs": [],
   "source": [
    "ufunc = np.frompyfunc(func, 1, 1)"
   ]
  },
  {
   "cell_type": "code",
   "execution_count": 441,
   "id": "26cae211",
   "metadata": {},
   "outputs": [
    {
     "data": {
      "text/plain": [
       "array(['0', '1', '2', '3', '4'], dtype=object)"
      ]
     },
     "execution_count": 441,
     "metadata": {},
     "output_type": "execute_result"
    }
   ],
   "source": [
    "ufunc(np.arange(5))"
   ]
  },
  {
   "cell_type": "markdown",
   "id": "9bfb9c8c",
   "metadata": {},
   "source": [
    "`piecewise`会执行一组条件和对应的函数，当条件为真时执行该函数。"
   ]
  },
  {
   "cell_type": "code",
   "execution_count": 447,
   "id": "51bd2ac3",
   "metadata": {},
   "outputs": [],
   "source": [
    "a = np.arange(10)"
   ]
  },
  {
   "cell_type": "code",
   "execution_count": 448,
   "id": "66937d38",
   "metadata": {},
   "outputs": [
    {
     "data": {
      "text/plain": [
       "array([-1, -1, -1, -1, -1,  0,  1,  1,  1,  1])"
      ]
     },
     "execution_count": 448,
     "metadata": {},
     "output_type": "execute_result"
    }
   ],
   "source": [
    "np.piecewise(a, [a<5, a==5, a>5], [-1, 0, 1])"
   ]
  },
  {
   "cell_type": "code",
   "execution_count": 453,
   "id": "bf75ed57",
   "metadata": {},
   "outputs": [],
   "source": [
    "def func(a, b):\n",
    "    return a + b"
   ]
  },
  {
   "cell_type": "code",
   "execution_count": 463,
   "id": "b134be08",
   "metadata": {},
   "outputs": [
    {
     "data": {
      "text/plain": [
       "array([ 5,  6,  7,  8,  9,  0, 36, 49, 64, 81])"
      ]
     },
     "execution_count": 463,
     "metadata": {},
     "output_type": "execute_result"
    }
   ],
   "source": [
    "# 注意后面的参数是所有函数通用的\n",
    "np.piecewise(a, [a<5, a==5, a>5], [func, 0, lambda x, b: x**2], b=5)"
   ]
  },
  {
   "cell_type": "markdown",
   "id": "43255fb4",
   "metadata": {},
   "source": [
    "## 测试"
   ]
  },
  {
   "cell_type": "code",
   "execution_count": null,
   "id": "5d23aac0",
   "metadata": {},
   "outputs": [],
   "source": []
  },
  {
   "cell_type": "code",
   "execution_count": null,
   "id": "c5a42059",
   "metadata": {},
   "outputs": [],
   "source": []
  },
  {
   "cell_type": "markdown",
   "id": "8aab032a",
   "metadata": {},
   "source": [
    "## 小结"
   ]
  },
  {
   "cell_type": "markdown",
   "id": "b421e980",
   "metadata": {},
   "source": []
  },
  {
   "cell_type": "markdown",
   "id": "d7473b13",
   "metadata": {},
   "source": [
    "## 参考"
   ]
  },
  {
   "cell_type": "code",
   "execution_count": null,
   "id": "eee20fe8",
   "metadata": {},
   "outputs": [],
   "source": []
  },
  {
   "cell_type": "code",
   "execution_count": null,
   "id": "e72973ec",
   "metadata": {},
   "outputs": [],
   "source": []
  }
 ],
 "metadata": {
  "kernelspec": {
   "display_name": "Python 3",
   "language": "python",
   "name": "python3"
  },
  "language_info": {
   "codemirror_mode": {
    "name": "ipython",
    "version": 3
   },
   "file_extension": ".py",
   "mimetype": "text/x-python",
   "name": "python",
   "nbconvert_exporter": "python",
   "pygments_lexer": "ipython3",
   "version": "3.8.10"
  },
  "latex_envs": {
   "LaTeX_envs_menu_present": true,
   "autoclose": false,
   "autocomplete": true,
   "bibliofile": "biblio.bib",
   "cite_by": "apalike",
   "current_citInitial": 1,
   "eqLabelWithNumbers": true,
   "eqNumInitial": 1,
   "hotkeys": {
    "equation": "Ctrl-E",
    "itemize": "Ctrl-I"
   },
   "labels_anchors": false,
   "latex_user_defs": false,
   "report_style_numbering": false,
   "user_envs_cfg": false
  },
  "toc": {
   "base_numbering": 1,
   "nav_menu": {},
   "number_sections": true,
   "sideBar": true,
   "skip_h1_title": false,
   "title_cell": "Table of Contents",
   "title_sidebar": "Contents",
   "toc_cell": false,
   "toc_position": {
    "height": "calc(100% - 180px)",
    "left": "10px",
    "top": "150px",
    "width": "166px"
   },
   "toc_section_display": true,
   "toc_window_display": true
  }
 },
 "nbformat": 4,
 "nbformat_minor": 5
}
