{
 "cells": [
  {
   "cell_type": "code",
   "execution_count": 10,
   "id": "7841c98b",
   "metadata": {},
   "outputs": [],
   "source": [
    "import numpy as np"
   ]
  },
  {
   "cell_type": "code",
   "execution_count": null,
   "id": "ad8a9c23",
   "metadata": {},
   "outputs": [],
   "source": []
  },
  {
   "cell_type": "code",
   "execution_count": null,
   "id": "adc9064a",
   "metadata": {},
   "outputs": [],
   "source": []
  },
  {
   "cell_type": "markdown",
   "id": "ad1334e0",
   "metadata": {},
   "source": [
    "## 线性代数"
   ]
  },
  {
   "cell_type": "code",
   "execution_count": null,
   "id": "d5216fd9",
   "metadata": {},
   "outputs": [],
   "source": []
  },
  {
   "cell_type": "code",
   "execution_count": null,
   "id": "617763b4",
   "metadata": {},
   "outputs": [],
   "source": []
  },
  {
   "cell_type": "markdown",
   "id": "c24d7361",
   "metadata": {},
   "source": [
    "## 数组乘法"
   ]
  },
  {
   "cell_type": "markdown",
   "id": "42647681",
   "metadata": {},
   "source": [
    ">引子：不要关注它们是什么，看看它们做了什么。"
   ]
  },
  {
   "cell_type": "markdown",
   "id": "a484e488",
   "metadata": {},
   "source": [
    "### 点积/内积/数量积/标量积\n",
    "\n",
    "**点积**\n",
    "\n",
    "`np.dot`:\n",
    "\n",
    "- 如果 a 和 b 是一维的，就是内积 `np.inner`\n",
    "- 如果 a 和 b 是二维的，是矩阵乘法 `np.matmul or a @ b`\n",
    "- 如果 a 或 b 任意一个是常量 `np.maltiply or a * b`\n",
    "- 如果 a 是 N 维，b 是一维 `sump roduct`\n",
    "- 如果 a 是 N 维，b 是 M 维 `dot(a, b)[i,j,k,m] = sum(a[i,j,:] * b[k,:,m])`\n",
    "\n",
    "**内积**\n",
    "\n",
    "`np.inner`: 一维数组向量的普通内积（无复数共轭），在更高维度上，是最后一个轴上的sum product。\n",
    "\n",
    "- 对一维数组，就是元素乘积之和 `sum(a * b)\n",
    "- 如果有一个是标量，那就是直接相乘\n",
    "- 对多维数组，等于 `np.tensordot(a, b, axes=(-1, -1))`，对于某个具体的索引，就是相乘后在最后一个维度上求和 `inner(a, b)[i0,...,ir-2,j0,...,js-2] = sum(a[i0,...,ir-2,:]*b[j0,...,js-2,:])`\n",
    "\n",
    "[数量积 - 维基百科，自由的百科全书](https://zh.wikipedia.org/wiki/%E7%82%B9%E7%A7%AF)"
   ]
  },
  {
   "cell_type": "markdown",
   "id": "241d147c",
   "metadata": {},
   "source": [
    "a和b都是一维："
   ]
  },
  {
   "cell_type": "code",
   "execution_count": 451,
   "id": "dfa694ac",
   "metadata": {},
   "outputs": [],
   "source": [
    "a = np.array([1, 2, 4])\n",
    "b = np.array([4, 5, 6])"
   ]
  },
  {
   "cell_type": "code",
   "execution_count": 452,
   "id": "031e214f",
   "metadata": {
    "scrolled": false
   },
   "outputs": [
    {
     "data": {
      "text/plain": [
       "(38, 38, 38, 38)"
      ]
     },
     "execution_count": 452,
     "metadata": {},
     "output_type": "execute_result"
    }
   ],
   "source": [
    "np.dot(a, b), 1*4 + 2*5 + 4*6, np.inner(a, b), sum(a * b)"
   ]
  },
  {
   "cell_type": "markdown",
   "id": "438ae4fd",
   "metadata": {},
   "source": [
    "a和b都是二维："
   ]
  },
  {
   "cell_type": "code",
   "execution_count": 453,
   "id": "d02b8960",
   "metadata": {},
   "outputs": [],
   "source": [
    "rng = np.random.default_rng(42)\n",
    "a = rng.integers(0, 10, (3, 4))\n",
    "b = rng.integers(0, 10, (3, 4))"
   ]
  },
  {
   "cell_type": "code",
   "execution_count": 454,
   "id": "fdb394a8",
   "metadata": {},
   "outputs": [
    {
     "data": {
      "text/plain": [
       "array([[119,  71,  63],\n",
       "       [126,  52,  98],\n",
       "       [112,  86,  96]])"
      ]
     },
     "execution_count": 454,
     "metadata": {},
     "output_type": "execute_result"
    }
   ],
   "source": [
    "np.inner(a, b)"
   ]
  },
  {
   "cell_type": "code",
   "execution_count": 455,
   "id": "6e96a9d7",
   "metadata": {},
   "outputs": [
    {
     "data": {
      "text/plain": [
       "array([[119,  71,  63],\n",
       "       [126,  52,  98],\n",
       "       [112,  86,  96]])"
      ]
     },
     "execution_count": 455,
     "metadata": {},
     "output_type": "execute_result"
    }
   ],
   "source": [
    "np.tensordot(a, b, axes=(-1, -1))"
   ]
  },
  {
   "cell_type": "code",
   "execution_count": 456,
   "id": "59a30a5a",
   "metadata": {},
   "outputs": [
    {
     "data": {
      "text/plain": [
       "array([[119,  71,  63],\n",
       "       [126,  52,  98],\n",
       "       [112,  86,  96]])"
      ]
     },
     "execution_count": 456,
     "metadata": {},
     "output_type": "execute_result"
    }
   ],
   "source": [
    "a @ b.T"
   ]
  },
  {
   "cell_type": "code",
   "execution_count": 457,
   "id": "c22b254b",
   "metadata": {},
   "outputs": [
    {
     "data": {
      "text/plain": [
       "array([[119,  71,  63],\n",
       "       [126,  52,  98],\n",
       "       [112,  86,  96]])"
      ]
     },
     "execution_count": 457,
     "metadata": {},
     "output_type": "execute_result"
    }
   ],
   "source": [
    "np.matmul(a, b.T)"
   ]
  },
  {
   "cell_type": "markdown",
   "id": "b90bb780",
   "metadata": {},
   "source": [
    "a或b是常量："
   ]
  },
  {
   "cell_type": "code",
   "execution_count": 458,
   "id": "abffa463",
   "metadata": {},
   "outputs": [
    {
     "data": {
      "text/plain": [
       "array([[ 0, 14, 12,  8],\n",
       "       [ 8, 16,  0, 12],\n",
       "       [ 4,  0, 10, 18]])"
      ]
     },
     "execution_count": 458,
     "metadata": {},
     "output_type": "execute_result"
    }
   ],
   "source": [
    "a * 2"
   ]
  },
  {
   "cell_type": "code",
   "execution_count": 461,
   "id": "3396ca68",
   "metadata": {},
   "outputs": [
    {
     "data": {
      "text/plain": [
       "array([[ 0, 14, 12,  8],\n",
       "       [ 8, 16,  0, 12],\n",
       "       [ 4,  0, 10, 18]])"
      ]
     },
     "execution_count": 461,
     "metadata": {},
     "output_type": "execute_result"
    }
   ],
   "source": [
    "np.dot(a, 2)"
   ]
  },
  {
   "cell_type": "code",
   "execution_count": 459,
   "id": "1cafc63d",
   "metadata": {},
   "outputs": [
    {
     "data": {
      "text/plain": [
       "array([[ 0, 14, 12,  8],\n",
       "       [ 8, 16,  0, 12],\n",
       "       [ 4,  0, 10, 18]])"
      ]
     },
     "execution_count": 459,
     "metadata": {},
     "output_type": "execute_result"
    }
   ],
   "source": [
    "np.multiply(a, 2)"
   ]
  },
  {
   "cell_type": "code",
   "execution_count": 460,
   "id": "a1139a43",
   "metadata": {},
   "outputs": [
    {
     "data": {
      "text/plain": [
       "array([[ 0, 14, 12,  8],\n",
       "       [ 8, 16,  0, 12],\n",
       "       [ 4,  0, 10, 18]])"
      ]
     },
     "execution_count": 460,
     "metadata": {},
     "output_type": "execute_result"
    }
   ],
   "source": [
    "np.inner(a, 2)"
   ]
  },
  {
   "cell_type": "markdown",
   "id": "ef991908",
   "metadata": {},
   "source": [
    "a是多维b是一维："
   ]
  },
  {
   "cell_type": "code",
   "execution_count": 462,
   "id": "4b62f3eb",
   "metadata": {},
   "outputs": [],
   "source": [
    "rng = np.random.default_rng(42)\n",
    "a = rng.integers(0, 10, (2, 3, 4))\n",
    "b = np.array([1, 2, 3, 4])"
   ]
  },
  {
   "cell_type": "code",
   "execution_count": 463,
   "id": "a54b0e92",
   "metadata": {
    "scrolled": true
   },
   "outputs": [
    {
     "data": {
      "text/plain": [
       "array([[48, 44, 53],\n",
       "       [70, 47, 50]])"
      ]
     },
     "execution_count": 463,
     "metadata": {},
     "output_type": "execute_result"
    }
   ],
   "source": [
    "np.dot(a, b)"
   ]
  },
  {
   "cell_type": "code",
   "execution_count": 464,
   "id": "101cb706",
   "metadata": {},
   "outputs": [
    {
     "data": {
      "text/plain": [
       "array([[48, 44, 53],\n",
       "       [70, 47, 50]])"
      ]
     },
     "execution_count": 464,
     "metadata": {},
     "output_type": "execute_result"
    }
   ],
   "source": [
    "# 最后一个维度乘积和\n",
    "np.inner(a, b)"
   ]
  },
  {
   "cell_type": "code",
   "execution_count": 465,
   "id": "741a34af",
   "metadata": {},
   "outputs": [
    {
     "data": {
      "text/plain": [
       "array([[48, 44, 53],\n",
       "       [70, 47, 50]])"
      ]
     },
     "execution_count": 465,
     "metadata": {},
     "output_type": "execute_result"
    }
   ],
   "source": [
    "np.tensordot(a, b, axes=(-1, -1))"
   ]
  },
  {
   "cell_type": "code",
   "execution_count": 466,
   "id": "e65a5fff",
   "metadata": {},
   "outputs": [
    {
     "data": {
      "text/plain": [
       "array([[48, 44, 53],\n",
       "       [70, 47, 50]])"
      ]
     },
     "execution_count": 466,
     "metadata": {},
     "output_type": "execute_result"
    }
   ],
   "source": [
    "np.sum(a*b, axis=-1)"
   ]
  },
  {
   "cell_type": "code",
   "execution_count": 467,
   "id": "7d6744bc",
   "metadata": {},
   "outputs": [
    {
     "data": {
      "text/plain": [
       "array([[48, 44, 53],\n",
       "       [70, 47, 50]])"
      ]
     },
     "execution_count": 467,
     "metadata": {},
     "output_type": "execute_result"
    }
   ],
   "source": [
    "a @ b"
   ]
  },
  {
   "cell_type": "markdown",
   "id": "6cbd9802",
   "metadata": {},
   "source": [
    "a是m维b是n维："
   ]
  },
  {
   "cell_type": "code",
   "execution_count": 720,
   "id": "79648b2d",
   "metadata": {},
   "outputs": [],
   "source": [
    "rng = np.random.default_rng(42)\n",
    "a = rng.integers(0, 10, (2, 4, 3))\n",
    "b = rng.integers(0, 10, (2, 3, 3))"
   ]
  },
  {
   "cell_type": "code",
   "execution_count": 721,
   "id": "f9ef1e5a",
   "metadata": {
    "scrolled": true
   },
   "outputs": [
    {
     "data": {
      "text/plain": [
       "(2, 4, 2, 3)"
      ]
     },
     "execution_count": 721,
     "metadata": {},
     "output_type": "execute_result"
    }
   ],
   "source": [
    "# a 和 b 最后一个维度可以不一样，也就是最后一个维度是自由的\n",
    "dab = np.dot(a, b)\n",
    "dab.shape"
   ]
  },
  {
   "cell_type": "code",
   "execution_count": 487,
   "id": "bbbd8f75",
   "metadata": {},
   "outputs": [
    {
     "data": {
      "text/plain": [
       "(102, 102)"
      ]
     },
     "execution_count": 487,
     "metadata": {},
     "output_type": "execute_result"
    }
   ],
   "source": [
    "# dot(a, b)[i,j,k,m] = sum(a[i,j,:] * b[k,:,m])\n",
    "dab[1,2,1,0], sum(a[1,2,:] * b[1,:,0])"
   ]
  },
  {
   "cell_type": "code",
   "execution_count": 483,
   "id": "b9714dc4",
   "metadata": {},
   "outputs": [
    {
     "data": {
      "text/plain": [
       "(2, 4, 2, 3)"
      ]
     },
     "execution_count": 483,
     "metadata": {},
     "output_type": "execute_result"
    }
   ],
   "source": [
    "# a 和 b 最后一个维度必须一样\n",
    "iab = np.inner(a, b)\n",
    "iab.shape"
   ]
  },
  {
   "cell_type": "code",
   "execution_count": 489,
   "id": "131a6a3d",
   "metadata": {},
   "outputs": [
    {
     "data": {
      "text/plain": [
       "(72, 72)"
      ]
     },
     "execution_count": 489,
     "metadata": {},
     "output_type": "execute_result"
    }
   ],
   "source": [
    "# inner(a, b)[i0,...,ir-2,j0,...,js-2] = sum(a[i0,...,ir-2,:]*b[j0,...,js-2,:])\n",
    "iab[1,2,1,0], sum(a[1,2,:] * b[1,0,:])"
   ]
  },
  {
   "cell_type": "code",
   "execution_count": 442,
   "id": "7aa32d37",
   "metadata": {},
   "outputs": [
    {
     "data": {
      "text/plain": [
       "True"
      ]
     },
     "execution_count": 442,
     "metadata": {},
     "output_type": "execute_result"
    }
   ],
   "source": [
    "np.alltrue(iab == np.tensordot(a, b, axes=(-1, -1)))"
   ]
  },
  {
   "cell_type": "code",
   "execution_count": 449,
   "id": "8c436890",
   "metadata": {},
   "outputs": [
    {
     "data": {
      "text/plain": [
       "(False, False)"
      ]
     },
     "execution_count": 449,
     "metadata": {},
     "output_type": "execute_result"
    }
   ],
   "source": [
    "np.alltrue(iab == dab), np.any(iab == dab)"
   ]
  },
  {
   "cell_type": "markdown",
   "id": "da44ade0",
   "metadata": {},
   "source": [
    "### 叉积/外积/向量积\n",
    "\n",
    "\n",
    "\\begin{aligned}\\mathbf {u\\times v} &={\\begin{vmatrix}u_{2}&u_{3}\\\\v_{2}&v_{3}\\end{vmatrix}}\\mathbf {i} -{\\begin{vmatrix}u_{1}&u_{3}\\\\v_{1}&v_{3}\\end{vmatrix}}\\mathbf {j} +{\\begin{vmatrix}u_{1}&u_{2}\\\\v_{1}&v_{2}\\end{vmatrix}}\\mathbf {k} \\\\&=(u_{2}v_{3}-u_{3}v_{2})\\mathbf {i} -(u_{1}v_{3}-u_{3}v_{1})\\mathbf {j} +(u_{1}v_{2}-u_{2}v_{1})\\mathbf {k} \\end{aligned}\n",
    "\n",
    "只支持二维或三维，表示与u和v都垂直的向量。\n",
    "\n",
    "[叉积 - 维基百科，自由的百科全书](https://zh.wikipedia.org/wiki/%E5%8F%89%E7%A7%AF)"
   ]
  },
  {
   "cell_type": "code",
   "execution_count": 546,
   "id": "99d34c2d",
   "metadata": {},
   "outputs": [],
   "source": [
    "# 二维\n",
    "a = [1, 1]\n",
    "b = [-1, 1]"
   ]
  },
  {
   "cell_type": "code",
   "execution_count": 551,
   "id": "3fc2e859",
   "metadata": {},
   "outputs": [
    {
     "data": {
      "text/plain": [
       "array(2)"
      ]
     },
     "execution_count": 551,
     "metadata": {},
     "output_type": "execute_result"
    }
   ],
   "source": [
    "# 向量积在二维中不起作用，因为返回的向量在二维之外\n",
    "# 长度就是面积（根号2×根号2）\n",
    "np.cross(a, b)"
   ]
  },
  {
   "cell_type": "code",
   "execution_count": 566,
   "id": "f39303fc",
   "metadata": {},
   "outputs": [
    {
     "data": {
      "text/plain": [
       "(array([[0, 7],\n",
       "        [6, 4]]),\n",
       " array([[4, 8],\n",
       "        [0, 6]]))"
      ]
     },
     "execution_count": 566,
     "metadata": {},
     "output_type": "execute_result"
    }
   ],
   "source": [
    "# 行变多并不等于维度变多\n",
    "rng = np.random.default_rng(42)\n",
    "a = rng.integers(0, 10, (2, 2))\n",
    "b = rng.integers(0, 10, (2, 2))\n",
    "a, b"
   ]
  },
  {
   "cell_type": "code",
   "execution_count": 567,
   "id": "bd16cf95",
   "metadata": {},
   "outputs": [
    {
     "data": {
      "text/plain": [
       "array([-28,  36])"
      ]
     },
     "execution_count": 567,
     "metadata": {},
     "output_type": "execute_result"
    }
   ],
   "source": [
    "np.cross(a, b)"
   ]
  },
  {
   "cell_type": "code",
   "execution_count": 568,
   "id": "41bdec6c",
   "metadata": {},
   "outputs": [
    {
     "data": {
      "text/plain": [
       "(array(-28), array(36))"
      ]
     },
     "execution_count": 568,
     "metadata": {},
     "output_type": "execute_result"
    }
   ],
   "source": [
    "np.cross([0,7], [4,8]), np.cross([6, 4], [0, 6])"
   ]
  },
  {
   "cell_type": "code",
   "execution_count": 589,
   "id": "15b838f1",
   "metadata": {},
   "outputs": [],
   "source": [
    "# 三维\n",
    "a = [1, 2, 4]\n",
    "b = [4, 5, 6]"
   ]
  },
  {
   "cell_type": "code",
   "execution_count": 590,
   "id": "b9b5c133",
   "metadata": {},
   "outputs": [
    {
     "data": {
      "text/plain": [
       "(-8, 10, -3)"
      ]
     },
     "execution_count": 590,
     "metadata": {},
     "output_type": "execute_result"
    }
   ],
   "source": [
    "2*6-4*5, -(1*6-4*4), 1*5-2*4"
   ]
  },
  {
   "cell_type": "code",
   "execution_count": 591,
   "id": "757426b3",
   "metadata": {
    "scrolled": true
   },
   "outputs": [
    {
     "data": {
      "text/plain": [
       "array([-8, 10, -3])"
      ]
     },
     "execution_count": 591,
     "metadata": {},
     "output_type": "execute_result"
    }
   ],
   "source": [
    "# 与a和b都垂直的向量\n",
    "np.cross(a, b)"
   ]
  },
  {
   "cell_type": "markdown",
   "id": "842b7d0e",
   "metadata": {},
   "source": [
    "还有几个关于维度的三参数，用于改变数组的定义（有点类似C和F Style）。"
   ]
  },
  {
   "cell_type": "code",
   "execution_count": 596,
   "id": "549772e3",
   "metadata": {},
   "outputs": [
    {
     "data": {
      "text/plain": [
       "(array([[0, 7, 6],\n",
       "        [4, 4, 8]]),\n",
       " array([[0, 6, 2],\n",
       "        [0, 5, 9]]))"
      ]
     },
     "execution_count": 596,
     "metadata": {},
     "output_type": "execute_result"
    }
   ],
   "source": [
    "# 行变多并不等于维度变多\n",
    "rng = np.random.default_rng(42)\n",
    "a = rng.integers(0, 10, (2, 3))\n",
    "b = rng.integers(0, 10, (2, 3))\n",
    "a, b"
   ]
  },
  {
   "cell_type": "code",
   "execution_count": 600,
   "id": "bc8f61c5",
   "metadata": {},
   "outputs": [
    {
     "data": {
      "text/plain": [
       "array([[-22,   0,   0],\n",
       "       [ -4, -36,  20]])"
      ]
     },
     "execution_count": 600,
     "metadata": {},
     "output_type": "execute_result"
    }
   ],
   "source": [
    "np.cross(a, b)"
   ]
  },
  {
   "cell_type": "code",
   "execution_count": 611,
   "id": "4163ecdf",
   "metadata": {},
   "outputs": [
    {
     "data": {
      "text/plain": [
       "(array([-22,   0,   0]), array([ -4, -36,  20]))"
      ]
     },
     "execution_count": 611,
     "metadata": {},
     "output_type": "execute_result"
    }
   ],
   "source": [
    "np.cross([0,7,6], [0,6,2]), np.cross([4,4,8], [0,5,9])"
   ]
  },
  {
   "cell_type": "code",
   "execution_count": 627,
   "id": "21b0ae6c",
   "metadata": {},
   "outputs": [
    {
     "data": {
      "text/plain": [
       "array([[-22,  -4],\n",
       "       [  0, -36],\n",
       "       [  0,  20]])"
      ]
     },
     "execution_count": 627,
     "metadata": {},
     "output_type": "execute_result"
    }
   ],
   "source": [
    "np.cross(a, b, axisc=0)"
   ]
  },
  {
   "cell_type": "code",
   "execution_count": 628,
   "id": "fd1a9fb4",
   "metadata": {},
   "outputs": [
    {
     "data": {
      "text/plain": [
       "(array([[0, 4],\n",
       "        [7, 4],\n",
       "        [6, 8]]),\n",
       " array([[0, 0],\n",
       "        [6, 5],\n",
       "        [2, 9]]))"
      ]
     },
     "execution_count": 628,
     "metadata": {},
     "output_type": "execute_result"
    }
   ],
   "source": [
    "a.T,b.T"
   ]
  },
  {
   "cell_type": "code",
   "execution_count": 630,
   "id": "d557c986",
   "metadata": {},
   "outputs": [
    {
     "data": {
      "text/plain": [
       "array([ 0, 11, 38])"
      ]
     },
     "execution_count": 630,
     "metadata": {},
     "output_type": "execute_result"
    }
   ],
   "source": [
    "np.cross(a.T, b.T)"
   ]
  },
  {
   "cell_type": "code",
   "execution_count": 631,
   "id": "1f7a9006",
   "metadata": {},
   "outputs": [
    {
     "data": {
      "text/plain": [
       "array([ 0, 11, 38])"
      ]
     },
     "execution_count": 631,
     "metadata": {},
     "output_type": "execute_result"
    }
   ],
   "source": [
    "np.cross(a, b, axisa=0, axisb=0)"
   ]
  },
  {
   "cell_type": "code",
   "execution_count": 633,
   "id": "21b660bd",
   "metadata": {},
   "outputs": [
    {
     "data": {
      "text/plain": [
       "(array(0), array(11), array(38))"
      ]
     },
     "execution_count": 633,
     "metadata": {},
     "output_type": "execute_result"
    }
   ],
   "source": [
    "np.cross([0,4], [0,0]), np.cross([7,4],[6,5]), np.cross([6,8], [2,9])"
   ]
  },
  {
   "cell_type": "code",
   "execution_count": 641,
   "id": "057e0a43",
   "metadata": {},
   "outputs": [
    {
     "data": {
      "text/plain": [
       "array([ 0, 11, 38])"
      ]
     },
     "execution_count": 641,
     "metadata": {},
     "output_type": "execute_result"
    }
   ],
   "source": [
    "# 这个是实际计算时沿着的维度，和上面的不一样\n",
    "np.cross(a, b, axis=0)"
   ]
  },
  {
   "cell_type": "markdown",
   "id": "ec4ca440",
   "metadata": {},
   "source": [
    "### 张量积/外积\n",
    "\n",
    "- [张量积 - 维基百科，自由的百科全书](https://zh.wikipedia.org/wiki/%E5%BC%A0%E9%87%8F%E7%A7%AF)\n",
    "- [外积 - 维基百科，自由的百科全书](https://zh.wikipedia.org/wiki/%E5%A4%96%E7%A7%AF)"
   ]
  },
  {
   "cell_type": "code",
   "execution_count": 522,
   "id": "c823c47c",
   "metadata": {},
   "outputs": [],
   "source": [
    "a = [1, 2, 4]\n",
    "b = [4, 5, 6]"
   ]
  },
  {
   "cell_type": "code",
   "execution_count": 523,
   "id": "a25d651f",
   "metadata": {},
   "outputs": [
    {
     "data": {
      "text/plain": [
       "array([[ 4,  5,  6],\n",
       "       [ 8, 10, 12],\n",
       "       [16, 20, 24]])"
      ]
     },
     "execution_count": 523,
     "metadata": {},
     "output_type": "execute_result"
    }
   ],
   "source": [
    "np.outer(a, b)"
   ]
  },
  {
   "cell_type": "code",
   "execution_count": 524,
   "id": "de216354",
   "metadata": {},
   "outputs": [],
   "source": [
    "rng = np.random.default_rng(42)\n",
    "a = rng.integers(0, 10, (2, 3, 4))\n",
    "b = rng.integers(0, 10, (2, 3, 4))"
   ]
  },
  {
   "cell_type": "code",
   "execution_count": 525,
   "id": "a21e2d16",
   "metadata": {},
   "outputs": [
    {
     "data": {
      "text/plain": [
       "True"
      ]
     },
     "execution_count": 525,
     "metadata": {},
     "output_type": "execute_result"
    }
   ],
   "source": [
    "np.alltrue(\n",
    "    np.outer(a,b) == a.ravel().reshape(24, 1) @ b.ravel().reshape(1, 24)\n",
    ")"
   ]
  },
  {
   "cell_type": "code",
   "execution_count": 526,
   "id": "d8aa26ef",
   "metadata": {},
   "outputs": [
    {
     "data": {
      "text/plain": [
       "True"
      ]
     },
     "execution_count": 526,
     "metadata": {},
     "output_type": "execute_result"
    }
   ],
   "source": [
    "np.alltrue(np.outer(a, b) == np.tensordot(a.ravel(), b.ravel(), axes=((), ())))"
   ]
  },
  {
   "cell_type": "markdown",
   "id": "3d6ee0de",
   "metadata": {},
   "source": [
    "### 矩阵乘法\n",
    "\n",
    "`np.dot`上面已经提过了，其实还有个`np.matmul`和它很类似，但二者是有一些区别的。\n",
    "\n",
    "- `dot`不是通函数，而`matmul`是通函数，也就意味这有通函数的一些通用参数\n",
    "- `matmul`不支持向量和数字相乘\n",
    "- `matmul`矩阵（好像元素一样）堆叠在一起广播\n",
    "\n",
    "关于`np.matmul`：\n",
    "\n",
    "- 如果都是二维，就是常规的矩阵乘法\n",
    "- 如果任意个是多维（>2），则把它当成驻留在最后两个索引中的矩阵堆栈，并相应地广播\n",
    "- 如果第一个是一维，则通过在其维度前面加上 1 来将其提升为矩阵，矩阵乘法后删除前面附加的 1\n",
    "- 如果第二个是一维，则在维度上append 1，矩阵乘法后再删除后面附加的 1"
   ]
  },
  {
   "cell_type": "markdown",
   "id": "8c02410a",
   "metadata": {},
   "source": [
    "二维的情况："
   ]
  },
  {
   "cell_type": "code",
   "execution_count": 652,
   "id": "cd35c8e4",
   "metadata": {},
   "outputs": [
    {
     "data": {
      "text/plain": [
       "(array([[0, 7, 6],\n",
       "        [4, 4, 8]]),\n",
       " array([[0, 6],\n",
       "        [2, 0],\n",
       "        [5, 9]]))"
      ]
     },
     "execution_count": 652,
     "metadata": {},
     "output_type": "execute_result"
    }
   ],
   "source": [
    "rng = np.random.default_rng(42)\n",
    "a = rng.integers(0, 10, (2, 3))\n",
    "b = rng.integers(0, 10, (3, 2))\n",
    "a, b"
   ]
  },
  {
   "cell_type": "code",
   "execution_count": 653,
   "id": "a557ce47",
   "metadata": {},
   "outputs": [
    {
     "data": {
      "text/plain": [
       "array([[44, 54],\n",
       "       [48, 96]])"
      ]
     },
     "execution_count": 653,
     "metadata": {},
     "output_type": "execute_result"
    }
   ],
   "source": [
    "np.matmul(a, b)"
   ]
  },
  {
   "cell_type": "markdown",
   "id": "73bfb761",
   "metadata": {},
   "source": [
    "其中一个是一维的情况："
   ]
  },
  {
   "cell_type": "code",
   "execution_count": 655,
   "id": "07a63037",
   "metadata": {},
   "outputs": [
    {
     "data": {
      "text/plain": [
       "(array([[0, 7, 6],\n",
       "        [4, 4, 8]]),\n",
       " array([0, 6, 2]))"
      ]
     },
     "execution_count": 655,
     "metadata": {},
     "output_type": "execute_result"
    }
   ],
   "source": [
    "rng = np.random.default_rng(42)\n",
    "a = rng.integers(0, 10, (2, 3))\n",
    "b = rng.integers(0, 10, (3,))\n",
    "a, b"
   ]
  },
  {
   "cell_type": "code",
   "execution_count": 680,
   "id": "a01602c1",
   "metadata": {},
   "outputs": [
    {
     "data": {
      "text/plain": [
       "(array([54, 40]), array([54, 40]))"
      ]
     },
     "execution_count": 680,
     "metadata": {},
     "output_type": "execute_result"
    }
   ],
   "source": [
    "np.matmul(a, b), (a @ np.stack((b, [1, 1, 1]), axis=1))[:,0]"
   ]
  },
  {
   "cell_type": "code",
   "execution_count": 690,
   "id": "fcf27367",
   "metadata": {
    "scrolled": true
   },
   "outputs": [
    {
     "data": {
      "text/plain": [
       "(array([54, 40]), array([54, 40]))"
      ]
     },
     "execution_count": 690,
     "metadata": {},
     "output_type": "execute_result"
    }
   ],
   "source": [
    "np.matmul(b, a.T), (np.stack(([1, 1, 1], b), axis=0) @ a.T)[1,:]"
   ]
  },
  {
   "cell_type": "markdown",
   "id": "17b8ceb4",
   "metadata": {},
   "source": [
    "任意一个是多维："
   ]
  },
  {
   "cell_type": "code",
   "execution_count": 723,
   "id": "0916ef34",
   "metadata": {},
   "outputs": [],
   "source": [
    "rng = np.random.default_rng(42)\n",
    "a = rng.integers(0, 10, (2, 3, 4, 5))\n",
    "b = rng.integers(0, 10, (2, 3, 5, 9))"
   ]
  },
  {
   "cell_type": "code",
   "execution_count": 712,
   "id": "83d29c43",
   "metadata": {},
   "outputs": [
    {
     "data": {
      "text/plain": [
       "(2, 3, 4, 9)"
      ]
     },
     "execution_count": 712,
     "metadata": {},
     "output_type": "execute_result"
    }
   ],
   "source": [
    "np.matmul(a, b).shape"
   ]
  },
  {
   "cell_type": "code",
   "execution_count": 725,
   "id": "24117140",
   "metadata": {},
   "outputs": [
    {
     "data": {
      "text/plain": [
       "(2, 3, 4, 9)"
      ]
     },
     "execution_count": 725,
     "metadata": {},
     "output_type": "execute_result"
    }
   ],
   "source": [
    "(a @ b).shape"
   ]
  },
  {
   "cell_type": "code",
   "execution_count": 713,
   "id": "4be5524a",
   "metadata": {},
   "outputs": [
    {
     "data": {
      "text/plain": [
       "(2, 3, 4, 2, 3, 9)"
      ]
     },
     "execution_count": 713,
     "metadata": {},
     "output_type": "execute_result"
    }
   ],
   "source": [
    "np.dot(a, b).shape"
   ]
  },
  {
   "cell_type": "code",
   "execution_count": 702,
   "id": "0209a2e3",
   "metadata": {},
   "outputs": [
    {
     "data": {
      "text/plain": [
       "True"
      ]
     },
     "execution_count": 702,
     "metadata": {},
     "output_type": "execute_result"
    }
   ],
   "source": [
    "np.alltrue(np.dot(a, b) == np.matmul(a, b))"
   ]
  },
  {
   "cell_type": "markdown",
   "id": "290a564a",
   "metadata": {},
   "source": [
    "看个简单点的例子："
   ]
  },
  {
   "cell_type": "code",
   "execution_count": 728,
   "id": "a53d249d",
   "metadata": {},
   "outputs": [],
   "source": [
    "rng = np.random.default_rng(42)\n",
    "a = rng.integers(0, 10, (2, 3, 2))\n",
    "b = rng.integers(0, 10, (2, 2, 2))"
   ]
  },
  {
   "cell_type": "code",
   "execution_count": 767,
   "id": "31323f34",
   "metadata": {},
   "outputs": [
    {
     "data": {
      "text/plain": [
       "array([[[49, 49],\n",
       "        [70, 70],\n",
       "        [84, 84]],\n",
       "\n",
       "       [[48, 24],\n",
       "        [10,  2],\n",
       "        [97, 41]]])"
      ]
     },
     "execution_count": 767,
     "metadata": {},
     "output_type": "execute_result"
    }
   ],
   "source": [
    "# 2x3x2\n",
    "np.matmul(a, b)"
   ]
  },
  {
   "cell_type": "code",
   "execution_count": 739,
   "id": "fc219f66",
   "metadata": {},
   "outputs": [
    {
     "data": {
      "text/plain": [
       "array([[49, 49],\n",
       "       [70, 70],\n",
       "       [84, 84]])"
      ]
     },
     "execution_count": 739,
     "metadata": {},
     "output_type": "execute_result"
    }
   ],
   "source": [
    "a[0,:,:] @ b[0,:,:]"
   ]
  },
  {
   "cell_type": "code",
   "execution_count": 745,
   "id": "d3be2aff",
   "metadata": {},
   "outputs": [
    {
     "data": {
      "text/plain": [
       "array([[48, 24],\n",
       "       [10,  2],\n",
       "       [97, 41]])"
      ]
     },
     "execution_count": 745,
     "metadata": {},
     "output_type": "execute_result"
    }
   ],
   "source": [
    "a[1,:,:] @ b[1,:,:]"
   ]
  },
  {
   "cell_type": "code",
   "execution_count": 761,
   "id": "cb6aff10",
   "metadata": {},
   "outputs": [
    {
     "data": {
      "text/plain": [
       "array([[[49, 49],\n",
       "        [70, 70],\n",
       "        [84, 84]],\n",
       "\n",
       "       [[56, 28],\n",
       "        [62, 22],\n",
       "        [84, 36]]])"
      ]
     },
     "execution_count": 761,
     "metadata": {},
     "output_type": "execute_result"
    }
   ],
   "source": [
    "# 2x3x2\n",
    "np.matmul(a[0,:,:], b)"
   ]
  },
  {
   "cell_type": "code",
   "execution_count": 763,
   "id": "36837587",
   "metadata": {},
   "outputs": [
    {
     "data": {
      "text/plain": [
       "array([[[42, 42],\n",
       "        [14, 14],\n",
       "        [98, 98]],\n",
       "\n",
       "       [[48, 24],\n",
       "        [10,  2],\n",
       "        [97, 41]]])"
      ]
     },
     "execution_count": 763,
     "metadata": {},
     "output_type": "execute_result"
    }
   ],
   "source": [
    "# 2x3x2\n",
    "np.matmul(a[1,:,:], b)"
   ]
  },
  {
   "cell_type": "markdown",
   "id": "8ebbbbc9",
   "metadata": {},
   "source": [
    "看看dot是咋样表现的："
   ]
  },
  {
   "cell_type": "code",
   "execution_count": 756,
   "id": "bfcd2142",
   "metadata": {
    "scrolled": true
   },
   "outputs": [
    {
     "data": {
      "text/plain": [
       "array([[[[49, 49],\n",
       "         [56, 28]],\n",
       "\n",
       "        [[70, 70],\n",
       "         [62, 22]],\n",
       "\n",
       "        [[84, 84],\n",
       "         [84, 36]]],\n",
       "\n",
       "\n",
       "       [[[42, 42],\n",
       "         [48, 24]],\n",
       "\n",
       "        [[14, 14],\n",
       "         [10,  2]],\n",
       "\n",
       "        [[98, 98],\n",
       "         [97, 41]]]])"
      ]
     },
     "execution_count": 756,
     "metadata": {},
     "output_type": "execute_result"
    }
   ],
   "source": [
    "# 2x3x2x2\n",
    "np.dot(a,b)"
   ]
  },
  {
   "cell_type": "code",
   "execution_count": 758,
   "id": "39458a79",
   "metadata": {},
   "outputs": [
    {
     "data": {
      "text/plain": [
       "array([[[49, 49],\n",
       "        [56, 28]],\n",
       "\n",
       "       [[70, 70],\n",
       "        [62, 22]],\n",
       "\n",
       "       [[84, 84],\n",
       "        [84, 36]]])"
      ]
     },
     "execution_count": 758,
     "metadata": {},
     "output_type": "execute_result"
    }
   ],
   "source": [
    "# 3x2x2\n",
    "np.dot(a[0,:,:], b[:,:,:])"
   ]
  },
  {
   "cell_type": "code",
   "execution_count": 765,
   "id": "00bd858c",
   "metadata": {
    "scrolled": true
   },
   "outputs": [
    {
     "data": {
      "text/plain": [
       "array([[[42, 42],\n",
       "        [48, 24]],\n",
       "\n",
       "       [[14, 14],\n",
       "        [10,  2]],\n",
       "\n",
       "       [[98, 98],\n",
       "        [97, 41]]])"
      ]
     },
     "execution_count": 765,
     "metadata": {},
     "output_type": "execute_result"
    }
   ],
   "source": [
    "# 3x2x2\n",
    "np.dot(a[1,:,:], b[:,:,:])"
   ]
  },
  {
   "cell_type": "markdown",
   "id": "d2ff60c6",
   "metadata": {},
   "source": [
    "## Padding"
   ]
  },
  {
   "cell_type": "markdown",
   "id": "80edf45f",
   "metadata": {},
   "source": [
    "Padding操作，参数如下：\n",
    "\n",
    "- 数组\n",
    "- pad_width：序列、整数或数组，每个轴边缘扩展的数量。\n",
    "- 模式：默认constant。还包括：edge, linear_ramp, maximum, mean, median, minimum, reflect, symmetric, wrap, empty。\n",
    "- stat_length：序列、整数或数组，模式是`maximum`, `minimum`, `mean`, `median`\\时，用来计算每个轴边缘的值，默认None。\n",
    "- constant_values：序列或标量，padding的值，默认0。\n",
    "- end_values：虚列或标量，模式是`linear_ramp`时使用，用于结束值，经形成填充数组的边缘，默认0。\n",
    "- reflect_type：模式是`reflect`和`symmetric`时使用，默认使用`even`风格，边缘值周围不改变反射，`odd`模式，数组的拓展部分是通过从边缘值的两倍中减去反射值来创建的。"
   ]
  },
  {
   "cell_type": "markdown",
   "id": "42bfd420",
   "metadata": {},
   "source": [
    "首先看pad_width参数："
   ]
  },
  {
   "cell_type": "code",
   "execution_count": 798,
   "id": "8a909e30",
   "metadata": {},
   "outputs": [
    {
     "data": {
      "text/plain": [
       "array([4, 4, 1, 2, 3, 4, 5, 6, 6, 6])"
      ]
     },
     "execution_count": 798,
     "metadata": {},
     "output_type": "execute_result"
    }
   ],
   "source": [
    "# tuple\n",
    "np.pad(\n",
    "    [1,2,3,4,5], \n",
    "    (2,3),  # 等于((2,3),), ((2,3))\n",
    "    \"constant\", \n",
    "    constant_values=(4, 6)\n",
    ")"
   ]
  },
  {
   "cell_type": "code",
   "execution_count": 805,
   "id": "7bd14602",
   "metadata": {},
   "outputs": [
    {
     "data": {
      "text/plain": [
       "array([4, 4, 1, 2, 3, 4, 5, 6, 6])"
      ]
     },
     "execution_count": 805,
     "metadata": {},
     "output_type": "execute_result"
    }
   ],
   "source": [
    "np.pad(\n",
    "    [1,2,3,4,5], \n",
    "    2, # 等于(2), (2, )\n",
    "    \"constant\", \n",
    "    constant_values=(4, 6)\n",
    ")"
   ]
  },
  {
   "cell_type": "code",
   "execution_count": 809,
   "id": "232ef822",
   "metadata": {},
   "outputs": [
    {
     "data": {
      "text/plain": [
       "array([[0, 0, 0, 0, 0, 0],\n",
       "       [0, 1, 2, 3, 0, 0],\n",
       "       [0, 4, 5, 6, 0, 0],\n",
       "       [0, 0, 0, 0, 0, 0],\n",
       "       [0, 0, 0, 0, 0, 0]])"
      ]
     },
     "execution_count": 809,
     "metadata": {},
     "output_type": "execute_result"
    }
   ],
   "source": [
    "# 分别左上，右下\n",
    "np.pad(\n",
    "    [[1,2,3],[4,5,6]],\n",
    "    (1, 2)\n",
    ")"
   ]
  },
  {
   "cell_type": "code",
   "execution_count": 813,
   "id": "d79c23c3",
   "metadata": {},
   "outputs": [
    {
     "data": {
      "text/plain": [
       "array([[0, 0, 0, 0, 0, 0],\n",
       "       [0, 0, 1, 2, 3, 0],\n",
       "       [0, 0, 4, 5, 6, 0],\n",
       "       [0, 0, 0, 0, 0, 0],\n",
       "       [0, 0, 0, 0, 0, 0]])"
      ]
     },
     "execution_count": 813,
     "metadata": {},
     "output_type": "execute_result"
    }
   ],
   "source": [
    "# 行（1,2）\n",
    "# 列（2,1）\n",
    "np.pad(\n",
    "    [[1,2,3],[4,5,6]],\n",
    "    ((1, 2), (2, 1))\n",
    ")"
   ]
  },
  {
   "cell_type": "code",
   "execution_count": 815,
   "id": "99f8b988",
   "metadata": {},
   "outputs": [
    {
     "data": {
      "text/plain": [
       "array([[0, 0, 0, 0, 0],\n",
       "       [0, 1, 2, 3, 0],\n",
       "       [0, 4, 5, 6, 0],\n",
       "       [0, 0, 0, 0, 0]])"
      ]
     },
     "execution_count": 815,
     "metadata": {},
     "output_type": "execute_result"
    }
   ],
   "source": [
    "np.pad(\n",
    "    [[1,2,3],[4,5,6]],\n",
    "    1\n",
    ")"
   ]
  },
  {
   "cell_type": "markdown",
   "id": "c9f64901",
   "metadata": {},
   "source": [
    "接下来看下不同模式，顺带了解不同模式对应的额外参数。简单起见，`pad_width`我们统一使用整数。"
   ]
  },
  {
   "cell_type": "code",
   "execution_count": 816,
   "id": "35658c27",
   "metadata": {},
   "outputs": [
    {
     "data": {
      "text/plain": [
       "array([[1, 2],\n",
       "       [3, 4],\n",
       "       [5, 6]])"
      ]
     },
     "execution_count": 816,
     "metadata": {},
     "output_type": "execute_result"
    }
   ],
   "source": [
    "a = np.arange(1, 7).reshape(3, 2)\n",
    "a"
   ]
  },
  {
   "cell_type": "code",
   "execution_count": 817,
   "id": "643667bc",
   "metadata": {},
   "outputs": [
    {
     "data": {
      "text/plain": [
       "array([[1, 1, 2, 2],\n",
       "       [1, 1, 2, 2],\n",
       "       [3, 3, 4, 4],\n",
       "       [5, 5, 6, 6],\n",
       "       [5, 5, 6, 6]])"
      ]
     },
     "execution_count": 817,
     "metadata": {},
     "output_type": "execute_result"
    }
   ],
   "source": [
    "# edge\n",
    "np.pad(a, 1, \"edge\")"
   ]
  },
  {
   "cell_type": "code",
   "execution_count": 821,
   "id": "2a870aaa",
   "metadata": {},
   "outputs": [
    {
     "data": {
      "text/plain": [
       "array([[0, 0, 0, 0],\n",
       "       [0, 1, 2, 0],\n",
       "       [0, 3, 4, 0],\n",
       "       [0, 5, 6, 0],\n",
       "       [0, 0, 0, 0]])"
      ]
     },
     "execution_count": 821,
     "metadata": {},
     "output_type": "execute_result"
    }
   ],
   "source": [
    "# linear_ramp\n",
    "# 需要额外参数：end_values，默认0\n",
    "np.pad(a, 1, \"linear_ramp\")"
   ]
  },
  {
   "cell_type": "code",
   "execution_count": 824,
   "id": "4fe82295",
   "metadata": {},
   "outputs": [
    {
     "data": {
      "text/plain": [
       "array([[1, 1, 1, 1],\n",
       "       [1, 1, 2, 1],\n",
       "       [1, 3, 4, 1],\n",
       "       [1, 5, 6, 1],\n",
       "       [1, 1, 1, 1]])"
      ]
     },
     "execution_count": 824,
     "metadata": {},
     "output_type": "execute_result"
    }
   ],
   "source": [
    "np.pad(a, 1, \"linear_ramp\", end_values=(1, ))"
   ]
  },
  {
   "cell_type": "code",
   "execution_count": 825,
   "id": "2e5d30aa",
   "metadata": {},
   "outputs": [
    {
     "data": {
      "text/plain": [
       "array([[1, 1, 1, 2],\n",
       "       [1, 1, 2, 2],\n",
       "       [1, 3, 4, 2],\n",
       "       [1, 5, 6, 2],\n",
       "       [1, 2, 2, 2]])"
      ]
     },
     "execution_count": 825,
     "metadata": {},
     "output_type": "execute_result"
    }
   ],
   "source": [
    "np.pad(a, 1, \"linear_ramp\", end_values=(1, 2), )"
   ]
  },
  {
   "cell_type": "code",
   "execution_count": 827,
   "id": "7ab49da0",
   "metadata": {},
   "outputs": [
    {
     "data": {
      "text/plain": [
       "array([[3, 1, 1, 4],\n",
       "       [3, 1, 2, 4],\n",
       "       [3, 3, 4, 4],\n",
       "       [3, 5, 6, 4],\n",
       "       [3, 2, 2, 4]])"
      ]
     },
     "execution_count": 827,
     "metadata": {},
     "output_type": "execute_result"
    }
   ],
   "source": [
    "# 行（1,2）\n",
    "# 列（3,4）\n",
    "np.pad(a, 1, \"linear_ramp\", end_values=((1, 2), (3, 4)))"
   ]
  },
  {
   "cell_type": "code",
   "execution_count": 829,
   "id": "5d07f1dc",
   "metadata": {},
   "outputs": [
    {
     "data": {
      "text/plain": [
       "array([[3, 1, 1, 4],\n",
       "       [3, 1, 2, 4],\n",
       "       [3, 3, 4, 4],\n",
       "       [3, 5, 6, 4],\n",
       "       [3, 2, 2, 4]])"
      ]
     },
     "execution_count": 829,
     "metadata": {},
     "output_type": "execute_result"
    }
   ],
   "source": [
    "# 和这个等价\n",
    "np.pad(\n",
    "    a,\n",
    "    1,\n",
    "    \"constant\", \n",
    "    constant_values=((1, 2), (3,4))\n",
    ")"
   ]
  },
  {
   "cell_type": "code",
   "execution_count": 832,
   "id": "8c91e8df",
   "metadata": {},
   "outputs": [
    {
     "data": {
      "text/plain": [
       "array([[6, 5, 6, 6],\n",
       "       [2, 1, 2, 2],\n",
       "       [4, 3, 4, 4],\n",
       "       [6, 5, 6, 6],\n",
       "       [6, 5, 6, 6]])"
      ]
     },
     "execution_count": 832,
     "metadata": {},
     "output_type": "execute_result"
    }
   ],
   "source": [
    "# maximum, minmum, mean, median\n",
    "# 需要额外参数stat_length，默认None，使用该轴所有值\n",
    "np.pad(a, 1, \"maximum\")"
   ]
  },
  {
   "cell_type": "code",
   "execution_count": 837,
   "id": "f00c8e07",
   "metadata": {},
   "outputs": [
    {
     "data": {
      "text/plain": [
       "array([[4, 3, 4, 4],\n",
       "       [2, 1, 2, 2],\n",
       "       [4, 3, 4, 4],\n",
       "       [6, 5, 6, 6],\n",
       "       [6, 5, 6, 6]])"
      ]
     },
     "execution_count": 837,
     "metadata": {},
     "output_type": "execute_result"
    }
   ],
   "source": [
    "# 只取2个\n",
    "np.pad(a, 1, \"maximum\", stat_length=2)"
   ]
  },
  {
   "cell_type": "code",
   "execution_count": 844,
   "id": "b2b0c012",
   "metadata": {},
   "outputs": [
    {
     "data": {
      "text/plain": [
       "array([[4, 3, 4, 4],\n",
       "       [2, 1, 2, 2],\n",
       "       [4, 3, 4, 4],\n",
       "       [6, 5, 6, 6],\n",
       "       [6, 5, 6, 6]])"
      ]
     },
     "execution_count": 844,
     "metadata": {},
     "output_type": "execute_result"
    }
   ],
   "source": [
    "# 分别取，左上2，右下1\n",
    "np.pad(a, 1, \"maximum\", stat_length=((2, 1), ))"
   ]
  },
  {
   "cell_type": "code",
   "execution_count": 850,
   "id": "9764083e",
   "metadata": {},
   "outputs": [
    {
     "data": {
      "text/plain": [
       "array([[3, 3, 4, 4],\n",
       "       [1, 1, 2, 2],\n",
       "       [3, 3, 4, 4],\n",
       "       [5, 5, 6, 6],\n",
       "       [5, 5, 6, 6]])"
      ]
     },
     "execution_count": 850,
     "metadata": {},
     "output_type": "execute_result"
    }
   ],
   "source": [
    "# 各自分别指定\n",
    "# 行（2,1）\n",
    "# 列（1,2）\n",
    "np.pad(a, 1, \"maximum\", stat_length=((2, 1), (1, 2)))"
   ]
  },
  {
   "cell_type": "code",
   "execution_count": 858,
   "id": "b3c7e18a",
   "metadata": {},
   "outputs": [],
   "source": [
    "b = a.astype(np.float16)"
   ]
  },
  {
   "cell_type": "code",
   "execution_count": 860,
   "id": "2fdd671e",
   "metadata": {},
   "outputs": [
    {
     "data": {
      "text/plain": [
       "array([[2. , 2. , 3. , 2.5],\n",
       "       [1. , 1. , 2. , 1.5],\n",
       "       [3. , 3. , 4. , 3.5],\n",
       "       [5. , 5. , 6. , 5.5],\n",
       "       [5. , 5. , 6. , 5.5]], dtype=float16)"
      ]
     },
     "execution_count": 860,
     "metadata": {},
     "output_type": "execute_result"
    }
   ],
   "source": [
    "# mean和median类似\n",
    "# 行（2,1）\n",
    "# 列（1,2）\n",
    "np.pad(b, 1, \"mean\", stat_length=((2, 1), (1, 2)))"
   ]
  },
  {
   "cell_type": "code",
   "execution_count": 870,
   "id": "83118df5",
   "metadata": {},
   "outputs": [],
   "source": [
    "a = [1,2,3,4,5]"
   ]
  },
  {
   "cell_type": "code",
   "execution_count": 883,
   "id": "0aa96f52",
   "metadata": {},
   "outputs": [
    {
     "data": {
      "text/plain": [
       "array([4, 3, 2, 1, 2, 3, 4, 5, 4, 3, 2])"
      ]
     },
     "execution_count": 883,
     "metadata": {},
     "output_type": "execute_result"
    }
   ],
   "source": [
    "# reflect, symmetric\n",
    "# 需要额外参数reflect_type，默认even\n",
    "# 首末是对称轴\n",
    "np.pad(a, 3, \"reflect\")"
   ]
  },
  {
   "cell_type": "code",
   "execution_count": 884,
   "id": "d4a39ca7",
   "metadata": {},
   "outputs": [
    {
     "data": {
      "text/plain": [
       "array([-2, -1,  0,  1,  2,  3,  4,  5,  6,  7,  8])"
      ]
     },
     "execution_count": 884,
     "metadata": {},
     "output_type": "execute_result"
    }
   ],
   "source": [
    "# 首末是对称轴\n",
    "np.pad(a, 3, \"reflect\", reflect_type=\"odd\")"
   ]
  },
  {
   "cell_type": "code",
   "execution_count": 885,
   "id": "daef54bd",
   "metadata": {},
   "outputs": [
    {
     "data": {
      "text/plain": [
       "array([3, 2, 1, 1, 2, 3, 4, 5, 5, 4, 3])"
      ]
     },
     "execution_count": 885,
     "metadata": {},
     "output_type": "execute_result"
    }
   ],
   "source": [
    "# 边缘是对称轴\n",
    "np.pad(a, 3, \"symmetric\")"
   ]
  },
  {
   "cell_type": "code",
   "execution_count": 886,
   "id": "cde365b8",
   "metadata": {},
   "outputs": [
    {
     "data": {
      "text/plain": [
       "array([-1,  0,  1,  1,  2,  3,  4,  5,  5,  6,  7])"
      ]
     },
     "execution_count": 886,
     "metadata": {},
     "output_type": "execute_result"
    }
   ],
   "source": [
    "# 边缘是对称轴\n",
    "np.pad(a, 3, \"symmetric\", reflect_type=\"odd\")"
   ]
  },
  {
   "cell_type": "code",
   "execution_count": 889,
   "id": "5369e18e",
   "metadata": {},
   "outputs": [
    {
     "data": {
      "text/plain": [
       "array([4, 5, 1, 2, 3, 4, 5, 1, 2])"
      ]
     },
     "execution_count": 889,
     "metadata": {},
     "output_type": "execute_result"
    }
   ],
   "source": [
    "# wrap\n",
    "# 首尾互换\n",
    "np.pad(a, 2, \"wrap\")"
   ]
  },
  {
   "cell_type": "code",
   "execution_count": 900,
   "id": "e25aaf6a",
   "metadata": {},
   "outputs": [
    {
     "data": {
      "text/plain": [
       "array([              0,               1,               2,               3,\n",
       "                     4,               5, 123145302310976])"
      ]
     },
     "execution_count": 900,
     "metadata": {},
     "output_type": "execute_result"
    }
   ],
   "source": [
    "# empty\n",
    "# 未定义值扩展\n",
    "np.pad(a, 1, \"empty\")"
   ]
  },
  {
   "cell_type": "markdown",
   "id": "161f0a43",
   "metadata": {},
   "source": [
    "## 卷积"
   ]
  },
  {
   "cell_type": "markdown",
   "id": "2ce302ad",
   "metadata": {},
   "source": [
    "卷积函数（一维）遵循以下规则：\n",
    "\n",
    "$$\n",
    "(a * v)[n] = \\sum_{m = -\\infty}^{\\infty} a[m] v[n - m]\n",
    "$$"
   ]
  },
  {
   "cell_type": "code",
   "execution_count": 782,
   "id": "7d454796",
   "metadata": {},
   "outputs": [
    {
     "data": {
      "text/plain": [
       "(array([2.5]), 2.5)"
      ]
     },
     "execution_count": 782,
     "metadata": {},
     "output_type": "execute_result"
    }
   ],
   "source": [
    "np.convolve([1, 2, 3], [0, 1, 0.5], \"valid\"), 0.5*1+1*2+0*3"
   ]
  },
  {
   "cell_type": "code",
   "execution_count": 783,
   "id": "fd39acb4",
   "metadata": {},
   "outputs": [
    {
     "data": {
      "text/plain": [
       "array([1. , 2.5, 4. ])"
      ]
     },
     "execution_count": 783,
     "metadata": {},
     "output_type": "execute_result"
    }
   ],
   "source": [
    "np.convolve([1, 2, 3], [0, 1, 0.5], \"same\")"
   ]
  },
  {
   "cell_type": "code",
   "execution_count": 784,
   "id": "f04e156a",
   "metadata": {},
   "outputs": [
    {
     "data": {
      "text/plain": [
       "array([1. , 2.5, 4. ])"
      ]
     },
     "execution_count": 784,
     "metadata": {},
     "output_type": "execute_result"
    }
   ],
   "source": [
    "np.convolve([0, 1, 2, 3, 0], [0, 1, 0.5], \"valid\") "
   ]
  },
  {
   "cell_type": "code",
   "execution_count": 785,
   "id": "bea29c40",
   "metadata": {
    "scrolled": true
   },
   "outputs": [
    {
     "data": {
      "text/plain": [
       "array([0. , 1. , 2.5, 4. , 1.5])"
      ]
     },
     "execution_count": 785,
     "metadata": {},
     "output_type": "execute_result"
    }
   ],
   "source": [
    "# 默认 full\n",
    "np.convolve([1, 2, 3], [0, 1, 0.5])"
   ]
  },
  {
   "cell_type": "code",
   "execution_count": 786,
   "id": "79932b86",
   "metadata": {},
   "outputs": [
    {
     "data": {
      "text/plain": [
       "array([0. , 1. , 2.5, 4. , 1.5])"
      ]
     },
     "execution_count": 786,
     "metadata": {},
     "output_type": "execute_result"
    }
   ],
   "source": [
    "np.convolve([0, 0, 1, 2, 3, 0, 0], [0, 1, 0.5], \"valid\")"
   ]
  },
  {
   "cell_type": "markdown",
   "id": "07eaa0bf",
   "metadata": {},
   "source": [
    "## 掩码运算"
   ]
  },
  {
   "cell_type": "code",
   "execution_count": null,
   "id": "91cd2b7d",
   "metadata": {},
   "outputs": [],
   "source": []
  },
  {
   "cell_type": "code",
   "execution_count": null,
   "id": "bfda2471",
   "metadata": {},
   "outputs": [],
   "source": []
  },
  {
   "cell_type": "code",
   "execution_count": null,
   "id": "0cbccd77",
   "metadata": {},
   "outputs": [],
   "source": []
  },
  {
   "cell_type": "code",
   "execution_count": null,
   "id": "330e7252",
   "metadata": {},
   "outputs": [],
   "source": []
  },
  {
   "cell_type": "code",
   "execution_count": null,
   "id": "ae68c940",
   "metadata": {},
   "outputs": [],
   "source": []
  }
 ],
 "metadata": {
  "kernelspec": {
   "display_name": "Python 3",
   "language": "python",
   "name": "python3"
  },
  "language_info": {
   "codemirror_mode": {
    "name": "ipython",
    "version": 3
   },
   "file_extension": ".py",
   "mimetype": "text/x-python",
   "name": "python",
   "nbconvert_exporter": "python",
   "pygments_lexer": "ipython3",
   "version": "3.8.10"
  },
  "latex_envs": {
   "LaTeX_envs_menu_present": true,
   "autoclose": false,
   "autocomplete": true,
   "bibliofile": "biblio.bib",
   "cite_by": "apalike",
   "current_citInitial": 1,
   "eqLabelWithNumbers": true,
   "eqNumInitial": 1,
   "hotkeys": {
    "equation": "Ctrl-E",
    "itemize": "Ctrl-I"
   },
   "labels_anchors": false,
   "latex_user_defs": false,
   "report_style_numbering": false,
   "user_envs_cfg": false
  },
  "toc": {
   "base_numbering": 1,
   "nav_menu": {},
   "number_sections": true,
   "sideBar": true,
   "skip_h1_title": false,
   "title_cell": "Table of Contents",
   "title_sidebar": "Contents",
   "toc_cell": false,
   "toc_position": {
    "height": "calc(100% - 180px)",
    "left": "10px",
    "top": "150px",
    "width": "238px"
   },
   "toc_section_display": true,
   "toc_window_display": true
  }
 },
 "nbformat": 4,
 "nbformat_minor": 5
}
