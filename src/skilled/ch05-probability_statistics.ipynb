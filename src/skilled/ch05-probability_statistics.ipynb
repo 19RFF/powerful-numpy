{
 "cells": [
  {
   "cell_type": "code",
   "execution_count": 1,
   "id": "0ff95308",
   "metadata": {},
   "outputs": [
    {
     "data": {
      "text/plain": [
       "'1.22.3'"
      ]
     },
     "execution_count": 1,
     "metadata": {},
     "output_type": "execute_result"
    }
   ],
   "source": [
    "import numpy as np\n",
    "np.__version__"
   ]
  },
  {
   "cell_type": "markdown",
   "id": "8da82e9a",
   "metadata": {},
   "source": [
    "文档阅读说明：\n",
    "\n",
    "- 🐧 表示 Tip\n",
    "- ⚠️ 表示注意事项"
   ]
  },
  {
   "cell_type": "markdown",
   "id": "c4a34c89",
   "metadata": {},
   "source": [
    "## 统计\n",
    "\n",
    "有一部分常用的基础API在《从小白到入门》中已经做了介绍，此处不再赘述。"
   ]
  },
  {
   "cell_type": "markdown",
   "id": "420eb814",
   "metadata": {},
   "source": [
    "### 基本指标\n",
    "\n",
    "主要是均值、中位、方差和标准差——支持非值（NaN）的情况。"
   ]
  },
  {
   "cell_type": "code",
   "execution_count": 19,
   "id": "fc61e2b7",
   "metadata": {},
   "outputs": [
    {
     "data": {
      "text/plain": [
       "array([[ 1.,  2.,  3.,  4.],\n",
       "       [ 5., nan, nan,  6.],\n",
       "       [ 7.,  8., nan,  9.]])"
      ]
     },
     "execution_count": 19,
     "metadata": {},
     "output_type": "execute_result"
    }
   ],
   "source": [
    "a = np.array([\n",
    "    [1, 2, 3, 4],\n",
    "    [5, np.nan, np.nan, 6],\n",
    "    [7, 8, np.nan, 9]\n",
    "])\n",
    "a"
   ]
  },
  {
   "cell_type": "markdown",
   "id": "2b6286cb",
   "metadata": {},
   "source": [
    "均值："
   ]
  },
  {
   "cell_type": "code",
   "execution_count": 20,
   "id": "df678e2b",
   "metadata": {},
   "outputs": [
    {
     "data": {
      "text/plain": [
       "nan"
      ]
     },
     "execution_count": 20,
     "metadata": {},
     "output_type": "execute_result"
    }
   ],
   "source": [
    "np.average(a)"
   ]
  },
  {
   "cell_type": "code",
   "execution_count": 21,
   "id": "a445cdc1",
   "metadata": {},
   "outputs": [
    {
     "data": {
      "text/plain": [
       "5.0"
      ]
     },
     "execution_count": 21,
     "metadata": {},
     "output_type": "execute_result"
    }
   ],
   "source": [
    "np.nanmean(a)"
   ]
  },
  {
   "cell_type": "code",
   "execution_count": 24,
   "id": "1605c3ad",
   "metadata": {},
   "outputs": [
    {
     "data": {
      "text/plain": [
       "array([4.33333333,        nan,        nan, 6.33333333])"
      ]
     },
     "execution_count": 24,
     "metadata": {},
     "output_type": "execute_result"
    }
   ],
   "source": [
    "np.mean(a, axis=0)"
   ]
  },
  {
   "cell_type": "code",
   "execution_count": 25,
   "id": "8b15521c",
   "metadata": {},
   "outputs": [
    {
     "data": {
      "text/plain": [
       "(array([4.33333333, 5.        , 3.        , 6.33333333]),\n",
       " 4.333333333333333,\n",
       " 5.0,\n",
       " 3.0,\n",
       " 6.333333333333333)"
      ]
     },
     "execution_count": 25,
     "metadata": {},
     "output_type": "execute_result"
    }
   ],
   "source": [
    "np.nanmean(a, axis=0), 13/3, 10/2, 3/1, 19/3"
   ]
  },
  {
   "cell_type": "markdown",
   "id": "c4950558",
   "metadata": {},
   "source": [
    "中位："
   ]
  },
  {
   "cell_type": "code",
   "execution_count": 27,
   "id": "feb1e854",
   "metadata": {},
   "outputs": [
    {
     "data": {
      "text/plain": [
       "nan"
      ]
     },
     "execution_count": 27,
     "metadata": {},
     "output_type": "execute_result"
    }
   ],
   "source": [
    "np.median(a)"
   ]
  },
  {
   "cell_type": "code",
   "execution_count": 26,
   "id": "f5a0384a",
   "metadata": {},
   "outputs": [
    {
     "data": {
      "text/plain": [
       "5.0"
      ]
     },
     "execution_count": 26,
     "metadata": {},
     "output_type": "execute_result"
    }
   ],
   "source": [
    "np.nanmedian(a)"
   ]
  },
  {
   "cell_type": "markdown",
   "id": "95b5e415",
   "metadata": {},
   "source": [
    "标准差："
   ]
  },
  {
   "cell_type": "code",
   "execution_count": 29,
   "id": "2650d677",
   "metadata": {},
   "outputs": [
    {
     "data": {
      "text/plain": [
       "2.581988897471611"
      ]
     },
     "execution_count": 29,
     "metadata": {},
     "output_type": "execute_result"
    }
   ],
   "source": [
    "np.nanstd(a)"
   ]
  },
  {
   "cell_type": "code",
   "execution_count": 31,
   "id": "2cad1485",
   "metadata": {},
   "outputs": [
    {
     "data": {
      "text/plain": [
       "array([1.25      , 0.25      , 0.66666667])"
      ]
     },
     "execution_count": 31,
     "metadata": {},
     "output_type": "execute_result"
    }
   ],
   "source": [
    "np.nanvar(a, axis=1)"
   ]
  },
  {
   "cell_type": "markdown",
   "id": "f3a238e5",
   "metadata": {},
   "source": [
    "分位数："
   ]
  },
  {
   "cell_type": "code",
   "execution_count": 34,
   "id": "ed38cf61",
   "metadata": {},
   "outputs": [
    {
     "data": {
      "text/plain": [
       "array([[ 1.,  2.,  3.,  4.],\n",
       "       [ 5., nan, nan,  6.],\n",
       "       [ 7.,  8., nan,  9.]])"
      ]
     },
     "execution_count": 34,
     "metadata": {},
     "output_type": "execute_result"
    }
   ],
   "source": [
    "a"
   ]
  },
  {
   "cell_type": "code",
   "execution_count": 36,
   "id": "f368a2c3",
   "metadata": {},
   "outputs": [
    {
     "data": {
      "text/plain": [
       "nan"
      ]
     },
     "execution_count": 36,
     "metadata": {},
     "output_type": "execute_result"
    }
   ],
   "source": [
    "np.percentile(a, 25)"
   ]
  },
  {
   "cell_type": "code",
   "execution_count": 39,
   "id": "efc10df2",
   "metadata": {},
   "outputs": [
    {
     "data": {
      "text/plain": [
       "3.0"
      ]
     },
     "execution_count": 39,
     "metadata": {},
     "output_type": "execute_result"
    }
   ],
   "source": [
    "# 百分位\n",
    "np.nanpercentile(a, 25)"
   ]
  },
  {
   "cell_type": "code",
   "execution_count": 42,
   "id": "94d42ef4",
   "metadata": {},
   "outputs": [
    {
     "data": {
      "text/plain": [
       "3.0"
      ]
     },
     "execution_count": 42,
     "metadata": {},
     "output_type": "execute_result"
    }
   ],
   "source": [
    "# 分位数\n",
    "np.nanquantile(a, 0.25)"
   ]
  },
  {
   "cell_type": "code",
   "execution_count": 46,
   "id": "87dfa4ea",
   "metadata": {},
   "outputs": [
    {
     "data": {
      "text/plain": [
       "array([[ 0,  1,  2,  3],\n",
       "       [ 4,  5,  6,  7],\n",
       "       [ 8,  9, 10, 11]])"
      ]
     },
     "execution_count": 46,
     "metadata": {},
     "output_type": "execute_result"
    }
   ],
   "source": [
    "a = np.arange(12).reshape(3, 4)\n",
    "a"
   ]
  },
  {
   "cell_type": "code",
   "execution_count": 48,
   "id": "1f22b931",
   "metadata": {},
   "outputs": [
    {
     "data": {
      "text/plain": [
       "11"
      ]
     },
     "execution_count": 48,
     "metadata": {},
     "output_type": "execute_result"
    }
   ],
   "source": [
    "# 极值\n",
    "np.ptp(a)"
   ]
  },
  {
   "cell_type": "code",
   "execution_count": 49,
   "id": "210a3680",
   "metadata": {},
   "outputs": [
    {
     "data": {
      "text/plain": [
       "array([8, 8, 8, 8])"
      ]
     },
     "execution_count": 49,
     "metadata": {},
     "output_type": "execute_result"
    }
   ],
   "source": [
    "np.ptp(a, axis=0)"
   ]
  },
  {
   "cell_type": "code",
   "execution_count": 50,
   "id": "bc1474fc",
   "metadata": {},
   "outputs": [
    {
     "data": {
      "text/plain": [
       "array([3, 3, 3])"
      ]
     },
     "execution_count": 50,
     "metadata": {},
     "output_type": "execute_result"
    }
   ],
   "source": [
    "np.ptp(a, axis=1)"
   ]
  },
  {
   "cell_type": "markdown",
   "id": "3296092e",
   "metadata": {},
   "source": [
    "### 相关性"
   ]
  },
  {
   "cell_type": "markdown",
   "id": "8ee9534c",
   "metadata": {},
   "source": [
    "`correlate`计算两个一维数组的互相关性，参数：\n",
    "\n",
    "- 数组：a，v\n",
    "- mode：valid、same或full，默认valid，与ch04的《卷积》中的mode含义相同。"
   ]
  },
  {
   "cell_type": "code",
   "execution_count": 98,
   "id": "584cf254",
   "metadata": {},
   "outputs": [],
   "source": [
    "a = np.array([1,2,3])\n",
    "b = np.array([4,5,6])"
   ]
  },
  {
   "cell_type": "code",
   "execution_count": 68,
   "id": "65d3d650",
   "metadata": {},
   "outputs": [
    {
     "data": {
      "text/plain": [
       "(array([32]), 32)"
      ]
     },
     "execution_count": 68,
     "metadata": {},
     "output_type": "execute_result"
    }
   ],
   "source": [
    "np.correlate(a, b), np.sum(a * np.conj(b))"
   ]
  },
  {
   "cell_type": "code",
   "execution_count": 73,
   "id": "efaac0e6",
   "metadata": {},
   "outputs": [
    {
     "data": {
      "text/plain": [
       "array([17, 32, 23])"
      ]
     },
     "execution_count": 73,
     "metadata": {},
     "output_type": "execute_result"
    }
   ],
   "source": [
    "np.correlate(a, b, \"same\")"
   ]
  },
  {
   "cell_type": "code",
   "execution_count": 99,
   "id": "011464fc",
   "metadata": {},
   "outputs": [
    {
     "data": {
      "text/plain": [
       "(17, 32, 23)"
      ]
     },
     "execution_count": 99,
     "metadata": {},
     "output_type": "execute_result"
    }
   ],
   "source": [
    "(\n",
    "    np.sum(np.array([0,1,2])*np.array([4,5,6])),\n",
    "    np.sum(np.array([1,2,3])*np.array([4,5,6])),\n",
    "    np.sum(np.array([2,3,0])*np.array([4,5,6])),\n",
    ")"
   ]
  },
  {
   "cell_type": "code",
   "execution_count": 100,
   "id": "501b7b04",
   "metadata": {},
   "outputs": [
    {
     "data": {
      "text/plain": [
       "array([ 6, 17, 32, 23, 12])"
      ]
     },
     "execution_count": 100,
     "metadata": {},
     "output_type": "execute_result"
    }
   ],
   "source": [
    "np.correlate(a, b, \"full\")"
   ]
  },
  {
   "cell_type": "code",
   "execution_count": 101,
   "id": "75dfe00e",
   "metadata": {},
   "outputs": [
    {
     "data": {
      "text/plain": [
       "(6, 17, 32, 23, 12)"
      ]
     },
     "execution_count": 101,
     "metadata": {},
     "output_type": "execute_result"
    }
   ],
   "source": [
    "(\n",
    "    np.sum(np.array([0,0,1])*np.array([4,5,6])),\n",
    "    np.sum(np.array([0,1,2])*np.array([4,5,6])),\n",
    "    np.sum(np.array([1,2,3])*np.array([4,5,6])),\n",
    "    np.sum(np.array([2,3,0])*np.array([4,5,6])),\n",
    "    np.sum(np.array([3,0,0])*np.array([4,5,6])),\n",
    ")"
   ]
  },
  {
   "cell_type": "markdown",
   "id": "b23a1c08",
   "metadata": {},
   "source": [
    "`corrcoef`是皮尔逊相关系数，参数：\n",
    "\n",
    "- 数组\n",
    "- rowvar：默认True。为True时，每一行表示一个变量，为False时，每一列表示一个变量。\n",
    "\n",
    "公式：\n",
    "\n",
    "$$\n",
    "R_{ij} = \\frac{ C_{ij} } { \\sqrt{ C_{ii} * C_{jj} } }\n",
    "$$"
   ]
  },
  {
   "cell_type": "code",
   "execution_count": 120,
   "id": "eb23ea7a",
   "metadata": {},
   "outputs": [
    {
     "data": {
      "text/plain": [
       "array([1., 1., 1.])"
      ]
     },
     "execution_count": 120,
     "metadata": {},
     "output_type": "execute_result"
    }
   ],
   "source": [
    "a * b /np.sqrt((a*a) * (b*b))"
   ]
  },
  {
   "cell_type": "code",
   "execution_count": 121,
   "id": "42778307",
   "metadata": {},
   "outputs": [
    {
     "data": {
      "text/plain": [
       "array([[1., 1.],\n",
       "       [1., 1.]])"
      ]
     },
     "execution_count": 121,
     "metadata": {},
     "output_type": "execute_result"
    }
   ],
   "source": [
    "np.corrcoef(a,b)"
   ]
  },
  {
   "cell_type": "markdown",
   "id": "8c688566",
   "metadata": {},
   "source": [
    "`cov`是协方差矩阵，参数包括：\n",
    "\n",
    "- 数组\n",
    "- rowvar：布尔值，同`corrcoef`。\n",
    "- bias：布尔值，默认False，归一值为N-1，N为观测数量；为True时，归一值为N。会被ddof覆盖。\n",
    "- ddof：`int`，可取1或0，为1时表示使用N-1（不管后面两个weights怎么设置），为0时使用N。\n",
    "- fweights：频率权重，表示每个观测值重复的次数。\n",
    "- aweights：观测向量权重，重要的相对权重较大，不重要的较小，如果ddof=0，可用于将概率分配给观察向量。\n",
    "\n",
    "\n",
    "公式：\n",
    "$$\n",
    "\\operatorname{cov}_{x, y}=\\frac{\\sum\\left(x_{i}-\\bar{x}\\right)\\left(y_{i}-\\bar{y}\\right)}{N-1}\n",
    "$$\n",
    "\n",
    "其中u和v分别是X和Y的期望。\n",
    "\n",
    "返回的矩阵中，`c[i][j]` 是`x[i]`和`x[j]`的协方差，`c[i][i]`则是`x{i]`的方差。"
   ]
  },
  {
   "cell_type": "code",
   "execution_count": 135,
   "id": "abc986c9",
   "metadata": {},
   "outputs": [
    {
     "data": {
      "text/plain": [
       "array([[1., 1.],\n",
       "       [1., 1.]])"
      ]
     },
     "execution_count": 135,
     "metadata": {},
     "output_type": "execute_result"
    }
   ],
   "source": [
    "np.cov(a,b)"
   ]
  },
  {
   "cell_type": "code",
   "execution_count": 136,
   "id": "934b3a9d",
   "metadata": {},
   "outputs": [
    {
     "data": {
      "text/plain": [
       "1.0"
      ]
     },
     "execution_count": 136,
     "metadata": {},
     "output_type": "execute_result"
    }
   ],
   "source": [
    "np.sum((a-np.average(a)) * (b-np.average(b)))/2"
   ]
  },
  {
   "cell_type": "code",
   "execution_count": 139,
   "id": "e387d5a7",
   "metadata": {},
   "outputs": [
    {
     "data": {
      "text/plain": [
       "array([[0, 1, 2],\n",
       "       [2, 1, 0]])"
      ]
     },
     "execution_count": 139,
     "metadata": {},
     "output_type": "execute_result"
    }
   ],
   "source": [
    "x = np.array([[0, 2], [1, 1], [2, 0]]).T\n",
    "x"
   ]
  },
  {
   "cell_type": "code",
   "execution_count": 147,
   "id": "08f9bd67",
   "metadata": {},
   "outputs": [
    {
     "data": {
      "text/plain": [
       "array([[ 1., -1.],\n",
       "       [-1.,  1.]])"
      ]
     },
     "execution_count": 147,
     "metadata": {},
     "output_type": "execute_result"
    }
   ],
   "source": [
    "# 默认每一行是一个变量\n",
    "# 对角线是方差，反对角线是协方差\n",
    "np.cov(x)"
   ]
  },
  {
   "cell_type": "code",
   "execution_count": 148,
   "id": "ace5cb8e",
   "metadata": {},
   "outputs": [],
   "source": [
    "# [0-1, 1-1, 2-1] * [2-1, 1-1, 0-1] = -1 + 0 + -1 = -2 \n",
    "# -2 / (3-1) = -1"
   ]
  },
  {
   "cell_type": "code",
   "execution_count": 166,
   "id": "ef507058",
   "metadata": {},
   "outputs": [
    {
     "data": {
      "text/plain": [
       "array([[-2.1 , -1.  ,  4.3 ],\n",
       "       [ 3.  ,  1.1 ,  0.12]])"
      ]
     },
     "execution_count": 166,
     "metadata": {},
     "output_type": "execute_result"
    }
   ],
   "source": [
    "# 再来一个例子\n",
    "x = np.array([-2.1, -1,  4.3])\n",
    "y = np.array([3,  1.1,  0.12])\n",
    "X = np.stack((x, y), axis=0)\n",
    "X"
   ]
  },
  {
   "cell_type": "code",
   "execution_count": 167,
   "id": "211a8f1a",
   "metadata": {},
   "outputs": [
    {
     "data": {
      "text/plain": [
       "(array([[11.71      , -4.286     ],\n",
       "        [-4.286     ,  2.14413333]]),\n",
       " array([[11.71      , -4.286     ],\n",
       "        [-4.286     ,  2.14413333]]))"
      ]
     },
     "execution_count": 167,
     "metadata": {},
     "output_type": "execute_result"
    }
   ],
   "source": [
    "np.cov(X), np.cov(x, y)"
   ]
  },
  {
   "cell_type": "code",
   "execution_count": 168,
   "id": "983d10ef",
   "metadata": {},
   "outputs": [
    {
     "data": {
      "text/plain": [
       "(array(11.71), array(2.14413333))"
      ]
     },
     "execution_count": 168,
     "metadata": {},
     "output_type": "execute_result"
    }
   ],
   "source": [
    "np.cov(x), np.cov(y)"
   ]
  },
  {
   "cell_type": "code",
   "execution_count": 175,
   "id": "caa2895c",
   "metadata": {},
   "outputs": [
    {
     "data": {
      "text/plain": [
       "-4.2860000000000005"
      ]
     },
     "execution_count": 175,
     "metadata": {},
     "output_type": "execute_result"
    }
   ],
   "source": [
    "np.sum((x - np.average(x)) * (y - np.average(y))) / (3-1)"
   ]
  },
  {
   "cell_type": "markdown",
   "id": "c73bf321",
   "metadata": {},
   "source": [
    "### 柱状图"
   ]
  },
  {
   "cell_type": "markdown",
   "id": "b4e65cd1",
   "metadata": {},
   "source": [
    "柱状图其实是对不同数据分布的一种描述。"
   ]
  },
  {
   "cell_type": "code",
   "execution_count": 183,
   "id": "701b8a79",
   "metadata": {},
   "outputs": [],
   "source": [
    "from collections import Counter"
   ]
  },
  {
   "cell_type": "code",
   "execution_count": 514,
   "id": "891081f1",
   "metadata": {},
   "outputs": [
    {
     "data": {
      "text/plain": [
       "array([[0, 3, 3, 2],\n",
       "       [2, 4, 0, 3],\n",
       "       [1, 0, 2, 4]])"
      ]
     },
     "execution_count": 514,
     "metadata": {},
     "output_type": "execute_result"
    }
   ],
   "source": [
    "rng = np.random.default_rng(42)\n",
    "a = rng.integers(0, 5, (3, 4))\n",
    "a"
   ]
  },
  {
   "cell_type": "markdown",
   "id": "4c4ac0bf",
   "metadata": {},
   "source": [
    "`histogram`接受几个参数：\n",
    "\n",
    "- 数组，会打平\n",
    "- bins：默认10，一个`int`或一组`int`或`str`，一个表示等距，一组表示单调递增的边缘数组，包括最右边的边缘，允许不均匀的bin宽度。`str`时参见下面的`histogram_bin_edges`接口。\n",
    "- range：一个Tuple的浮点数，bin的上下界，不提供时默认为`(a.min(), a.max())`，超出的会被忽略，第一个元素必须小于第二个。\n",
    "- weights：与a同样shape的一组数，如果`density=True`，会被归一化。\n",
    "- density：布尔值，False时结果包含每个bin的样本数，True时结果为概率密度函数。\n",
    "\n",
    "返回hist和bin边界。注意，除了最后一组边界，其他的都是「左闭右开」。"
   ]
  },
  {
   "cell_type": "code",
   "execution_count": 322,
   "id": "bee51a54",
   "metadata": {},
   "outputs": [
    {
     "data": {
      "text/plain": [
       "[(0, 3), (1, 1), (2, 3), (3, 3), (4, 2)]"
      ]
     },
     "execution_count": 322,
     "metadata": {},
     "output_type": "execute_result"
    }
   ],
   "source": [
    "sa = sorted(Counter(a.flatten()).items())\n",
    "sa"
   ]
  },
  {
   "cell_type": "code",
   "execution_count": 323,
   "id": "ea2af2ad",
   "metadata": {},
   "outputs": [
    {
     "data": {
      "text/plain": [
       "((array([7, 5]), array([0, 3, 5])), 7, 5)"
      ]
     },
     "execution_count": 323,
     "metadata": {},
     "output_type": "execute_result"
    }
   ],
   "source": [
    "# 注意：3个数其实是2个区间\n",
    "np.histogram(a, bins=[0, 3, 5]), np.sum([v[1] for v in sa if v[0] < 3]), np.sum([v[1] for v in sa if v[0] >= 3])"
   ]
  },
  {
   "cell_type": "code",
   "execution_count": 324,
   "id": "fc481215",
   "metadata": {},
   "outputs": [
    {
     "data": {
      "text/plain": [
       "[(0, 0.25),\n",
       " (1, 0.08333333333333333),\n",
       " (2, 0.25),\n",
       " (3, 0.25),\n",
       " (4, 0.16666666666666666)]"
      ]
     },
     "execution_count": 324,
     "metadata": {},
     "output_type": "execute_result"
    }
   ],
   "source": [
    "total = a.shape[0] * a.shape[1]\n",
    "sa = [(v[0], v[1]/total) for v in sorted(Counter(a.flatten()).items())]\n",
    "sa"
   ]
  },
  {
   "cell_type": "code",
   "execution_count": 325,
   "id": "4fddea6c",
   "metadata": {},
   "outputs": [
    {
     "data": {
      "text/plain": [
       "((array([0.19444444, 0.20833333]), array([0, 3, 5])),\n",
       " 0.19444444444444442,\n",
       " 0.20833333333333331)"
      ]
     },
     "execution_count": 325,
     "metadata": {},
     "output_type": "execute_result"
    }
   ],
   "source": [
    "(\n",
    "    np.histogram(a, bins=[0, 3, 5], density=True), \n",
    "    np.sum([v[1] for v in sa if v[0] < 3])/3, np.sum([v[1] for v in sa if v[0] >= 3])/2\n",
    ")"
   ]
  },
  {
   "cell_type": "code",
   "execution_count": 359,
   "id": "f4d5499e",
   "metadata": {
    "scrolled": true
   },
   "outputs": [
    {
     "data": {
      "text/plain": [
       "(array([0.09722222, 0.35416667]), array([0, 3, 5]))"
      ]
     },
     "execution_count": 359,
     "metadata": {},
     "output_type": "execute_result"
    }
   ],
   "source": [
    "# 带权重的\n",
    "np.histogram(a, bins=[0, 3, 5], weights=a,  density=True)"
   ]
  },
  {
   "cell_type": "code",
   "execution_count": 360,
   "id": "2a891132",
   "metadata": {},
   "outputs": [
    {
     "data": {
      "text/plain": [
       "array([0, 3, 3, 2, 2, 4, 0, 3, 1, 0, 2, 4])"
      ]
     },
     "execution_count": 360,
     "metadata": {},
     "output_type": "execute_result"
    }
   ],
   "source": [
    "a.flatten()"
   ]
  },
  {
   "cell_type": "code",
   "execution_count": 361,
   "id": "cfddf644",
   "metadata": {},
   "outputs": [],
   "source": [
    "# 0个0，3个3 …… 4个4\n",
    "b = [3, 3, 3, 3, 3, 3, 2, 2, 2, 2, 4, 4, 4, 4, 3, 3, 3, 1, 2, 2, 4, 4, 4, 4]"
   ]
  },
  {
   "cell_type": "code",
   "execution_count": 362,
   "id": "ce15bd33",
   "metadata": {},
   "outputs": [
    {
     "data": {
      "text/plain": [
       "(array([0.09722222, 0.35416667]), array([0, 3, 5]))"
      ]
     },
     "execution_count": 362,
     "metadata": {},
     "output_type": "execute_result"
    }
   ],
   "source": [
    "np.histogram(b, bins=[0,3,5], density=True)"
   ]
  },
  {
   "cell_type": "markdown",
   "id": "ee2f0e77",
   "metadata": {},
   "source": [
    "`histogram2d`是上个接口的二维版本，处理两组数组（一维的）。\n",
    "\n",
    "- x,y：x和y一维数组\n",
    "- bins：含义同上，但情况更多（不过不支持string），支持：\n",
    "  - x和y共享：`int`, `array`\n",
    "  - x和y分别：`[int,int]`, `[array, array]`\n",
    "  - `int`表示bin的数量，`array`表示分组边界：`[int, array]`, `[array, int]`\n",
    "- range：同上\n",
    "- density：同上，默认False，返回每个bin的样本数，为True返回bin的概率密度\n",
    "- weights：同上\n",
    "\n",
    "如果x和y完全无交集，其实和分别算是一样的，但两者有交集是会在二维平面上统计。"
   ]
  },
  {
   "cell_type": "code",
   "execution_count": 515,
   "id": "2c3358b5",
   "metadata": {},
   "outputs": [
    {
     "data": {
      "text/plain": [
       "array([[0, 3, 3, 2],\n",
       "       [2, 4, 0, 3],\n",
       "       [1, 0, 2, 4]])"
      ]
     },
     "execution_count": 515,
     "metadata": {},
     "output_type": "execute_result"
    }
   ],
   "source": [
    "a"
   ]
  },
  {
   "cell_type": "code",
   "execution_count": 516,
   "id": "388315f1",
   "metadata": {
    "scrolled": true
   },
   "outputs": [
    {
     "data": {
      "text/plain": [
       "array([[5, 8, 8, 7],\n",
       "       [7, 9, 5, 8],\n",
       "       [6, 5, 7, 9]])"
      ]
     },
     "execution_count": 516,
     "metadata": {},
     "output_type": "execute_result"
    }
   ],
   "source": [
    "rng = np.random.default_rng(42)\n",
    "c = rng.integers(5, 10, (3, 4))\n",
    "c"
   ]
  },
  {
   "cell_type": "code",
   "execution_count": 517,
   "id": "96c495d4",
   "metadata": {},
   "outputs": [
    {
     "data": {
      "text/plain": [
       "array([[0, 3, 3, 2],\n",
       "       [2, 4, 0, 3],\n",
       "       [1, 0, 2, 4]])"
      ]
     },
     "execution_count": 517,
     "metadata": {},
     "output_type": "execute_result"
    }
   ],
   "source": [
    "rng = np.random.default_rng(42)\n",
    "d = rng.integers(0, 5, (3, 4))\n",
    "d"
   ]
  },
  {
   "cell_type": "code",
   "execution_count": 573,
   "id": "6ee41a4f",
   "metadata": {},
   "outputs": [
    {
     "data": {
      "text/plain": [
       "array([[7., 0.],\n",
       "       [3., 2.]])"
      ]
     },
     "execution_count": 573,
     "metadata": {},
     "output_type": "execute_result"
    }
   ],
   "source": [
    "Hac,xe,ye =np.histogram2d(a.flatten(), c.flatten(), bins=[[0,3,5],[5,9,10]])\n",
    "Hac"
   ]
  },
  {
   "cell_type": "code",
   "execution_count": 581,
   "id": "a6e202b8",
   "metadata": {},
   "outputs": [
    {
     "data": {
      "text/plain": [
       "(7, 5, 7, 5)"
      ]
     },
     "execution_count": 581,
     "metadata": {},
     "output_type": "execute_result"
    }
   ],
   "source": [
    "(a.flatten() < 3).sum(), (a.flatten() >=3).sum(), 7+0, 3+2"
   ]
  },
  {
   "cell_type": "code",
   "execution_count": 582,
   "id": "b51dbf2c",
   "metadata": {},
   "outputs": [
    {
     "data": {
      "text/plain": [
       "(10, 2, 10, 2)"
      ]
     },
     "execution_count": 582,
     "metadata": {},
     "output_type": "execute_result"
    }
   ],
   "source": [
    "(c.flatten()<9).sum(), (c.flatten()>=9).sum(), 7+3, 0+2"
   ]
  },
  {
   "cell_type": "code",
   "execution_count": 586,
   "id": "937b7284",
   "metadata": {},
   "outputs": [
    {
     "data": {
      "text/plain": [
       "array([[4., 3.],\n",
       "       [0., 5.]])"
      ]
     },
     "execution_count": 586,
     "metadata": {},
     "output_type": "execute_result"
    }
   ],
   "source": [
    "Had, xe,ye = np.histogram2d(a.flatten(), d.flatten(), bins=[[0,3,4], [0,2,4]])\n",
    "Had"
   ]
  },
  {
   "cell_type": "code",
   "execution_count": 590,
   "id": "cff3e18f",
   "metadata": {},
   "outputs": [
    {
     "data": {
      "text/plain": [
       "(7, 5, 7, 5)"
      ]
     },
     "execution_count": 590,
     "metadata": {},
     "output_type": "execute_result"
    }
   ],
   "source": [
    "(a.flatten() < 3).sum(), (a.flatten() >=3).sum(), 4+3, 0+5"
   ]
  },
  {
   "cell_type": "code",
   "execution_count": 591,
   "id": "09a4b87e",
   "metadata": {},
   "outputs": [
    {
     "data": {
      "text/plain": [
       "(4, 8, 4, 8)"
      ]
     },
     "execution_count": 591,
     "metadata": {},
     "output_type": "execute_result"
    }
   ],
   "source": [
    "(d.flatten()<2).sum(), (d.flatten()>=2).sum(), 4+0,3+5"
   ]
  },
  {
   "cell_type": "code",
   "execution_count": 589,
   "id": "b986d06e",
   "metadata": {},
   "outputs": [
    {
     "data": {
      "text/plain": [
       "<matplotlib.image.AxesImage at 0x1137c5af0>"
      ]
     },
     "execution_count": 589,
     "metadata": {},
     "output_type": "execute_result"
    },
    {
     "data": {
      "image/png": "[encoded data removed]",
      "text/plain": [
       "<Figure size 504x216 with 1 Axes>"
      ]
     },
     "metadata": {
      "needs_background": "light"
     },
     "output_type": "display_data"
    }
   ],
   "source": [
    "import matplotlib.pyplot as plt\n",
    "fig = plt.figure(figsize=(7, 3))\n",
    "ax = fig.add_subplot(131, title='imshow: square bins')\n",
    "plt.imshow(Had, interpolation='nearest', origin='lower', extent=[xe[0], xe[-1], ye[0], ye[-1]])"
   ]
  },
  {
   "cell_type": "markdown",
   "id": "c5820e46",
   "metadata": {},
   "source": [
    "`histogramdd`是多维版本，除了输入的数组外，其他参数与前面的基本一致。"
   ]
  },
  {
   "cell_type": "code",
   "execution_count": 596,
   "id": "91dcf080",
   "metadata": {},
   "outputs": [],
   "source": [
    "rng = np.random.default_rng(42)\n",
    "a = rng.integers(0, 10, (100, 3))"
   ]
  },
  {
   "cell_type": "code",
   "execution_count": 604,
   "id": "c7db0496",
   "metadata": {},
   "outputs": [],
   "source": [
    "H, edges = np.histogramdd(a, bins=[5, 3, 4])"
   ]
  },
  {
   "cell_type": "code",
   "execution_count": 606,
   "id": "20b0c3ec",
   "metadata": {},
   "outputs": [
    {
     "data": {
      "text/plain": [
       "(5, 3, 4)"
      ]
     },
     "execution_count": 606,
     "metadata": {},
     "output_type": "execute_result"
    }
   ],
   "source": [
    "H.shape"
   ]
  },
  {
   "cell_type": "code",
   "execution_count": 605,
   "id": "4697ecde",
   "metadata": {},
   "outputs": [
    {
     "data": {
      "text/plain": [
       "[array([0. , 1.8, 3.6, 5.4, 7.2, 9. ]),\n",
       " array([0., 3., 6., 9.]),\n",
       " array([0.  , 2.25, 4.5 , 6.75, 9.  ])]"
      ]
     },
     "execution_count": 605,
     "metadata": {},
     "output_type": "execute_result"
    }
   ],
   "source": [
    "edges"
   ]
  },
  {
   "cell_type": "markdown",
   "id": "a01ae7a8",
   "metadata": {},
   "source": [
    "`histogram_bin_edges`用来计算bin的边界，只算边界。\n",
    "\n",
    "不过这里的bin参数支持string，这里定义了很多方法：\n",
    "\n",
    "- auto：折中的方法获得不错的效果，小数据集一般会采用\n",
    "- fd：Freedam Diaconis Estimator，大数据集一般会采用\n",
    "\n",
    "$$\n",
    "2 \\frac {IQR} {\\sqrt[3] {n}}\n",
    "$$\n",
    "\n",
    "- scott：与标准差成正比，与数据集size的立方根成反比，对小数据集过于保守，但是和大数据集。标准差对异常值不是很鲁棒。在没有异常值时，它的值和FD很相似。\n",
    "\n",
    "$$\n",
    "h = \\sigma \\sqrt[3]{\\frac{24 * \\sqrt{\\pi}}{n}}\n",
    "$$\n",
    "\n",
    "- rice：bin的数量与数据集size的立方根成反比，它倾向于高估条柱的数量，并且没有考虑数据可变性。\n",
    "\n",
    "$$\n",
    "n_h = 2 n^{1/3}\n",
    "$$\n",
    "\n",
    "- sturges：数据集size的2为底对数，此估计器假定数据是正态的，对于较大的非正态数据集过于保守。R语言的`hist`的默认方法。\n",
    "\n",
    "$$\n",
    "n_h = \\log_{2}{n} +1\n",
    "$$\n",
    "\n",
    "- doane：Sturges的改进版本，可为非正态数据集生成更好的估计值。此估计器尝试解释数据的偏斜。\n",
    "\n",
    "$$\n",
    "n_h = 1 + \\log_{2}(n) + \\log_{2} (1 + \\frac {|g_1|} {\\sigma_{g_1}}) \\\\\n",
    "g_1 = mean[(\\frac{x - \\mu}{\\sigma})^3]\\\\\n",
    "\\sigma_{g_1} = \\sqrt{\\frac{6(n - 2)}{(n + 1)(n + 3)}}\n",
    "$$\n",
    "\n",
    "- sqrt：最简单和快速的估计器，只考虑数据集大小。\n",
    "\n",
    "$$\n",
    "n_h = \\sqrt n\n",
    "$$"
   ]
  },
  {
   "cell_type": "code",
   "execution_count": 613,
   "id": "0dd3507a",
   "metadata": {
    "scrolled": true
   },
   "outputs": [
    {
     "data": {
      "text/plain": [
       "array([0., 3., 6., 9.])"
      ]
     },
     "execution_count": 613,
     "metadata": {},
     "output_type": "execute_result"
    }
   ],
   "source": [
    "# 随机数本来就是0-9\n",
    "np.histogram_bin_edges(a, bins=3)"
   ]
  },
  {
   "cell_type": "code",
   "execution_count": 679,
   "id": "7bae0a5d",
   "metadata": {},
   "outputs": [],
   "source": [
    "rng = np.random.default_rng(42)\n",
    "a = rng.integers(0, 10, 500)"
   ]
  },
  {
   "cell_type": "code",
   "execution_count": 680,
   "id": "db29ebe8",
   "metadata": {
    "scrolled": true
   },
   "outputs": [
    {
     "data": {
      "text/plain": [
       "array([0. , 0.9, 1.8, 2.7, 3.6, 4.5, 5.4, 6.3, 7.2, 8.1, 9. ])"
      ]
     },
     "execution_count": 680,
     "metadata": {},
     "output_type": "execute_result"
    }
   ],
   "source": [
    "np.histogram_bin_edges(a, bins=\"auto\")"
   ]
  },
  {
   "cell_type": "markdown",
   "id": "32e2266c",
   "metadata": {},
   "source": [
    "`fd`："
   ]
  },
  {
   "cell_type": "code",
   "execution_count": 681,
   "id": "9fbdc6bd",
   "metadata": {},
   "outputs": [],
   "source": [
    "IQR = np.percentile(a, 75) - np.percentile(a, 25)"
   ]
  },
  {
   "cell_type": "code",
   "execution_count": 709,
   "id": "ed5fb448",
   "metadata": {},
   "outputs": [
    {
     "data": {
      "text/plain": [
       "1.2599210498948732"
      ]
     },
     "execution_count": 709,
     "metadata": {},
     "output_type": "execute_result"
    }
   ],
   "source": [
    "2 * IQR / (a.size ** (1/3))"
   ]
  },
  {
   "cell_type": "code",
   "execution_count": 683,
   "id": "dd22a7f6",
   "metadata": {},
   "outputs": [
    {
     "data": {
      "text/plain": [
       "array([0.   , 1.125, 2.25 , 3.375, 4.5  , 5.625, 6.75 , 7.875, 9.   ])"
      ]
     },
     "execution_count": 683,
     "metadata": {},
     "output_type": "execute_result"
    }
   ],
   "source": [
    "np.histogram_bin_edges(a, bins=\"fd\")"
   ]
  },
  {
   "cell_type": "markdown",
   "id": "cca795a0",
   "metadata": {},
   "source": [
    "`scott`:"
   ]
  },
  {
   "cell_type": "code",
   "execution_count": 685,
   "id": "8713bffb",
   "metadata": {},
   "outputs": [
    {
     "data": {
      "text/plain": [
       "array([0.   , 1.125, 2.25 , 3.375, 4.5  , 5.625, 6.75 , 7.875, 9.   ])"
      ]
     },
     "execution_count": 685,
     "metadata": {},
     "output_type": "execute_result"
    }
   ],
   "source": [
    "np.histogram_bin_edges(a, bins=\"scott\")"
   ]
  },
  {
   "cell_type": "code",
   "execution_count": 708,
   "id": "70577a73",
   "metadata": {},
   "outputs": [
    {
     "data": {
      "text/plain": [
       "1.2524886807479167"
      ]
     },
     "execution_count": 708,
     "metadata": {},
     "output_type": "execute_result"
    }
   ],
   "source": [
    "(24*np.sqrt(np.pi)/a.size)**(1/3)* np.std(a)"
   ]
  },
  {
   "cell_type": "markdown",
   "id": "a79744db",
   "metadata": {},
   "source": [
    "`rice`:"
   ]
  },
  {
   "cell_type": "code",
   "execution_count": 702,
   "id": "e5e82377",
   "metadata": {},
   "outputs": [
    {
     "data": {
      "text/plain": [
       "(17,)"
      ]
     },
     "execution_count": 702,
     "metadata": {},
     "output_type": "execute_result"
    }
   ],
   "source": [
    "# 16个区间（柱子）\n",
    "np.histogram_bin_edges(a, bins=\"rice\").shape"
   ]
  },
  {
   "cell_type": "code",
   "execution_count": 707,
   "id": "08834562",
   "metadata": {},
   "outputs": [
    {
     "data": {
      "text/plain": [
       "15.874010519681994"
      ]
     },
     "execution_count": 707,
     "metadata": {},
     "output_type": "execute_result"
    }
   ],
   "source": [
    "2 * (a.size**(1/3))"
   ]
  },
  {
   "cell_type": "markdown",
   "id": "c4839b42",
   "metadata": {},
   "source": [
    "`sturges`:"
   ]
  },
  {
   "cell_type": "code",
   "execution_count": 726,
   "id": "3d5f38b9",
   "metadata": {},
   "outputs": [
    {
     "data": {
      "text/plain": [
       "array([0. , 0.9, 1.8, 2.7, 3.6, 4.5, 5.4, 6.3, 7.2, 8.1, 9. ])"
      ]
     },
     "execution_count": 726,
     "metadata": {},
     "output_type": "execute_result"
    }
   ],
   "source": [
    "np.histogram_bin_edges(a, bins=\"sturges\")"
   ]
  },
  {
   "cell_type": "code",
   "execution_count": 725,
   "id": "4e85021e",
   "metadata": {},
   "outputs": [
    {
     "data": {
      "text/plain": [
       "(11,)"
      ]
     },
     "execution_count": 725,
     "metadata": {},
     "output_type": "execute_result"
    }
   ],
   "source": [
    "np.histogram_bin_edges(a, bins=\"sturges\").shape"
   ]
  },
  {
   "cell_type": "code",
   "execution_count": 706,
   "id": "c07fb8ee",
   "metadata": {
    "scrolled": true
   },
   "outputs": [
    {
     "data": {
      "text/plain": [
       "9.965784284662087"
      ]
     },
     "execution_count": 706,
     "metadata": {},
     "output_type": "execute_result"
    }
   ],
   "source": [
    "np.log2(a.size) + 1"
   ]
  },
  {
   "cell_type": "markdown",
   "id": "c7cfe99b",
   "metadata": {},
   "source": [
    "`doane`："
   ]
  },
  {
   "cell_type": "code",
   "execution_count": 722,
   "id": "7dd3283a",
   "metadata": {},
   "outputs": [
    {
     "data": {
      "text/plain": [
       "(11,)"
      ]
     },
     "execution_count": 722,
     "metadata": {},
     "output_type": "execute_result"
    }
   ],
   "source": [
    "np.histogram_bin_edges(a, bins=\"doane\").shape"
   ]
  },
  {
   "cell_type": "code",
   "execution_count": 721,
   "id": "bc659eb4",
   "metadata": {},
   "outputs": [
    {
     "data": {
      "text/plain": [
       "9.970039609658638"
      ]
     },
     "execution_count": 721,
     "metadata": {},
     "output_type": "execute_result"
    }
   ],
   "source": [
    "(1+\n",
    " np.log2(a.size)+\n",
    " np.log2(1+abs(np.mean(((a - np.mean(a))/np.std(a))**3)) / np.sqrt(6*(a.size-2)/((a.size+1)*(a.size+3)))))"
   ]
  },
  {
   "cell_type": "markdown",
   "id": "47252cdc",
   "metadata": {},
   "source": [
    "`sqrt`:"
   ]
  },
  {
   "cell_type": "code",
   "execution_count": 723,
   "id": "b5ab2bb3",
   "metadata": {},
   "outputs": [
    {
     "data": {
      "text/plain": [
       "24"
      ]
     },
     "execution_count": 723,
     "metadata": {},
     "output_type": "execute_result"
    }
   ],
   "source": [
    "np.histogram_bin_edges(a, bins=\"sqrt\").size"
   ]
  },
  {
   "cell_type": "code",
   "execution_count": 724,
   "id": "0dd46c58",
   "metadata": {},
   "outputs": [
    {
     "data": {
      "text/plain": [
       "22.360679774997898"
      ]
     },
     "execution_count": 724,
     "metadata": {},
     "output_type": "execute_result"
    }
   ],
   "source": [
    "np.sqrt(a.size)"
   ]
  },
  {
   "cell_type": "markdown",
   "id": "a145f2f9",
   "metadata": {},
   "source": [
    "`auto`：会选择`fd`和`sturges`的较大者。"
   ]
  },
  {
   "cell_type": "code",
   "execution_count": 729,
   "id": "8c35f157",
   "metadata": {},
   "outputs": [
    {
     "data": {
      "text/plain": [
       "(9, 11)"
      ]
     },
     "execution_count": 729,
     "metadata": {},
     "output_type": "execute_result"
    }
   ],
   "source": [
    "np.histogram_bin_edges(a, bins=\"fd\").size, np.histogram_bin_edges(a, bins=\"sturges\").size"
   ]
  },
  {
   "cell_type": "code",
   "execution_count": 731,
   "id": "56bad574",
   "metadata": {},
   "outputs": [
    {
     "data": {
      "text/plain": [
       "11"
      ]
     },
     "execution_count": 731,
     "metadata": {},
     "output_type": "execute_result"
    }
   ],
   "source": [
    "np.histogram_bin_edges(a, \"auto\").size"
   ]
  },
  {
   "cell_type": "markdown",
   "id": "83b8429a",
   "metadata": {},
   "source": [
    "`digitize`会告诉我们输入的数组都属于哪个bin。"
   ]
  },
  {
   "cell_type": "code",
   "execution_count": 822,
   "id": "545f0070",
   "metadata": {},
   "outputs": [],
   "source": [
    "x = np.array([0.2, 6.4, 3.0, 1.6])\n",
    "bins = np.array([0.0, 1.0, 2.5, 4.0, 10.0])\n",
    "inds = np.digitize(x, bins)"
   ]
  },
  {
   "cell_type": "code",
   "execution_count": 825,
   "id": "b2d10eac",
   "metadata": {},
   "outputs": [
    {
     "data": {
      "text/plain": [
       "array([1, 4, 3, 2])"
      ]
     },
     "execution_count": 825,
     "metadata": {},
     "output_type": "execute_result"
    }
   ],
   "source": [
    "# 0.0 <= 0.2 < 1.0\n",
    "# 4.0 <= 6.4 < 10.0\n",
    "# 2.5 <= 3.0 < 4.0\n",
    "# 1.0 <= 1.6 < 2.5\n",
    "inds"
   ]
  },
  {
   "cell_type": "code",
   "execution_count": null,
   "id": "a6e8945d",
   "metadata": {},
   "outputs": [],
   "source": []
  },
  {
   "cell_type": "code",
   "execution_count": null,
   "id": "5538515a",
   "metadata": {},
   "outputs": [],
   "source": []
  },
  {
   "cell_type": "markdown",
   "id": "bead325a",
   "metadata": {},
   "source": [
    "### 计数"
   ]
  },
  {
   "cell_type": "markdown",
   "id": "1729510f",
   "metadata": {},
   "source": [
    "`bincount`用来统计非负数组中每个值的出现次数。它也和柱状图有关。"
   ]
  },
  {
   "cell_type": "code",
   "execution_count": 761,
   "id": "db3daadd",
   "metadata": {},
   "outputs": [],
   "source": [
    "rng = np.random.default_rng(42)\n",
    "a = rng.integers(0, 10, 100)"
   ]
  },
  {
   "cell_type": "code",
   "execution_count": 762,
   "id": "fa61b408",
   "metadata": {},
   "outputs": [
    {
     "data": {
      "text/plain": [
       "[(0, 9),\n",
       " (1, 9),\n",
       " (2, 6),\n",
       " (3, 9),\n",
       " (4, 15),\n",
       " (5, 7),\n",
       " (6, 11),\n",
       " (7, 15),\n",
       " (8, 12),\n",
       " (9, 7)]"
      ]
     },
     "execution_count": 762,
     "metadata": {},
     "output_type": "execute_result"
    }
   ],
   "source": [
    "sorted(Counter(a).items())"
   ]
  },
  {
   "cell_type": "code",
   "execution_count": 763,
   "id": "3f488417",
   "metadata": {},
   "outputs": [
    {
     "data": {
      "text/plain": [
       "array([ 9,  9,  6,  9, 15,  7, 11, 15, 12,  7])"
      ]
     },
     "execution_count": 763,
     "metadata": {},
     "output_type": "execute_result"
    }
   ],
   "source": [
    "np.bincount(a)"
   ]
  },
  {
   "cell_type": "code",
   "execution_count": 764,
   "id": "c8ba042c",
   "metadata": {},
   "outputs": [],
   "source": [
    "b = np.array([1, 1, 1, -1, -1, -1])"
   ]
  },
  {
   "cell_type": "code",
   "execution_count": 765,
   "id": "35a3f3e6",
   "metadata": {},
   "outputs": [
    {
     "ename": "ValueError",
     "evalue": "'list' argument must have no negative elements",
     "output_type": "error",
     "traceback": [
      "\u001b[0;31m---------------------------------------------------------------------------\u001b[0m",
      "\u001b[0;31mValueError\u001b[0m                                Traceback (most recent call last)",
      "\u001b[0;32m<ipython-input-765-54605025760c>\u001b[0m in \u001b[0;36m<module>\u001b[0;34m\u001b[0m\n\u001b[1;32m      1\u001b[0m \u001b[0;31m# 必须非负\u001b[0m\u001b[0;34m\u001b[0m\u001b[0;34m\u001b[0m\u001b[0;34m\u001b[0m\u001b[0m\n\u001b[0;32m----> 2\u001b[0;31m \u001b[0mnp\u001b[0m\u001b[0;34m.\u001b[0m\u001b[0mbincount\u001b[0m\u001b[0;34m(\u001b[0m\u001b[0mb\u001b[0m\u001b[0;34m)\u001b[0m\u001b[0;34m\u001b[0m\u001b[0;34m\u001b[0m\u001b[0m\n\u001b[0m",
      "\u001b[0;32m/usr/local/lib/python3.8/site-packages/numpy/core/overrides.py\u001b[0m in \u001b[0;36mbincount\u001b[0;34m(*args, **kwargs)\u001b[0m\n",
      "\u001b[0;31mValueError\u001b[0m: 'list' argument must have no negative elements"
     ]
    }
   ],
   "source": [
    "# 必须非负\n",
    "np.bincount(b)"
   ]
  },
  {
   "cell_type": "code",
   "execution_count": 758,
   "id": "45a05d8b",
   "metadata": {},
   "outputs": [
    {
     "ename": "ValueError",
     "evalue": "object too deep for desired array",
     "output_type": "error",
     "traceback": [
      "\u001b[0;31m---------------------------------------------------------------------------\u001b[0m",
      "\u001b[0;31mValueError\u001b[0m                                Traceback (most recent call last)",
      "\u001b[0;32m<ipython-input-758-f01c373d0299>\u001b[0m in \u001b[0;36m<module>\u001b[0;34m\u001b[0m\n\u001b[1;32m      1\u001b[0m \u001b[0;31m# 必须一维\u001b[0m\u001b[0;34m\u001b[0m\u001b[0;34m\u001b[0m\u001b[0;34m\u001b[0m\u001b[0m\n\u001b[0;32m----> 2\u001b[0;31m \u001b[0mnp\u001b[0m\u001b[0;34m.\u001b[0m\u001b[0mbincount\u001b[0m\u001b[0;34m(\u001b[0m\u001b[0mnp\u001b[0m\u001b[0;34m.\u001b[0m\u001b[0marray\u001b[0m\u001b[0;34m(\u001b[0m\u001b[0;34m[\u001b[0m\u001b[0;34m[\u001b[0m\u001b[0;36m1\u001b[0m\u001b[0;34m]\u001b[0m\u001b[0;34m,\u001b[0m\u001b[0;34m[\u001b[0m\u001b[0;36m2\u001b[0m\u001b[0;34m]\u001b[0m\u001b[0;34m]\u001b[0m\u001b[0;34m)\u001b[0m\u001b[0;34m)\u001b[0m\u001b[0;34m\u001b[0m\u001b[0;34m\u001b[0m\u001b[0m\n\u001b[0m",
      "\u001b[0;32m/usr/local/lib/python3.8/site-packages/numpy/core/overrides.py\u001b[0m in \u001b[0;36mbincount\u001b[0;34m(*args, **kwargs)\u001b[0m\n",
      "\u001b[0;31mValueError\u001b[0m: object too deep for desired array"
     ]
    }
   ],
   "source": [
    "# 必须一维\n",
    "np.bincount(np.array([[1],[2]]))"
   ]
  },
  {
   "cell_type": "markdown",
   "id": "e23d120c",
   "metadata": {},
   "source": [
    "另外，它还可以指定权重：\n",
    "\n",
    "`out[n] = out[n] + weight[i]`\n",
    "\n",
    "默认情况下是：\n",
    "\n",
    "`out[n] = out[n] + 1`\n",
    "\n",
    "注意：给定数组是位置，权重和这些位置对应。"
   ]
  },
  {
   "cell_type": "code",
   "execution_count": 785,
   "id": "6d15999a",
   "metadata": {},
   "outputs": [],
   "source": [
    "c = np.array([2,3,4,2,3,4])"
   ]
  },
  {
   "cell_type": "code",
   "execution_count": 806,
   "id": "1674191a",
   "metadata": {},
   "outputs": [
    {
     "data": {
      "text/plain": [
       "array([0, 0, 2, 2, 2])"
      ]
     },
     "execution_count": 806,
     "metadata": {},
     "output_type": "execute_result"
    }
   ],
   "source": [
    "# 在第2 3 4 个位置上+1\n",
    "# 在第2 3 4 个位置上+1\n",
    "np.bincount(c)"
   ]
  },
  {
   "cell_type": "code",
   "execution_count": 819,
   "id": "451bb2fb",
   "metadata": {},
   "outputs": [
    {
     "data": {
      "text/plain": [
       "array([0., 0., 4., 6., 8.])"
      ]
     },
     "execution_count": 819,
     "metadata": {},
     "output_type": "execute_result"
    }
   ],
   "source": [
    "# 在第2 3 4 个位置上+2 3 4\n",
    "# 在第2 3 4 个位置上+2 3 4\n",
    "np.bincount(c, weights=[2,3,4,2,3,4])"
   ]
  },
  {
   "cell_type": "code",
   "execution_count": 820,
   "id": "76d99987",
   "metadata": {},
   "outputs": [
    {
     "data": {
      "text/plain": [
       "array([0.3, 0.7, 1.1])"
      ]
     },
     "execution_count": 820,
     "metadata": {},
     "output_type": "execute_result"
    }
   ],
   "source": [
    "# loc 0  0.3\n",
    "# loc 1  0.5+0.2\n",
    "# loc 2  0.7+1.0-0.6\n",
    "w = np.array([0.3, 0.5, 0.2, 0.7, 1., -0.6])\n",
    "x = np.array([0, 1, 1, 2, 2, 2])\n",
    "np.bincount(x,  weights=w)"
   ]
  },
  {
   "cell_type": "markdown",
   "id": "a3566335",
   "metadata": {},
   "source": [
    "也可以指定返回的bin数量："
   ]
  },
  {
   "cell_type": "code",
   "execution_count": 767,
   "id": "e8df1e1d",
   "metadata": {},
   "outputs": [
    {
     "data": {
      "text/plain": [
       "array([ 9,  9,  6,  9, 15,  7, 11, 15, 12,  7])"
      ]
     },
     "execution_count": 767,
     "metadata": {},
     "output_type": "execute_result"
    }
   ],
   "source": [
    "np.bincount(a)"
   ]
  },
  {
   "cell_type": "code",
   "execution_count": 772,
   "id": "1ecf7f5b",
   "metadata": {},
   "outputs": [
    {
     "data": {
      "text/plain": [
       "array([ 9,  9,  6,  9, 15,  7, 11, 15, 12,  7,  0,  0])"
      ]
     },
     "execution_count": 772,
     "metadata": {},
     "output_type": "execute_result"
    }
   ],
   "source": [
    "# 多出2个数字\n",
    "np.bincount(a, minlength=12)"
   ]
  },
  {
   "cell_type": "markdown",
   "id": "8fc16383",
   "metadata": {},
   "source": [
    "`count_nonzero`用来统计非零的数量。"
   ]
  },
  {
   "cell_type": "code",
   "execution_count": 738,
   "id": "427fd7c4",
   "metadata": {},
   "outputs": [
    {
     "data": {
      "text/plain": [
       "4"
      ]
     },
     "execution_count": 738,
     "metadata": {},
     "output_type": "execute_result"
    }
   ],
   "source": [
    "# 统计非0\n",
    "np.count_nonzero(np.eye(4))"
   ]
  },
  {
   "cell_type": "code",
   "execution_count": 739,
   "id": "3be8172a",
   "metadata": {},
   "outputs": [
    {
     "data": {
      "text/plain": [
       "453"
      ]
     },
     "execution_count": 739,
     "metadata": {},
     "output_type": "execute_result"
    }
   ],
   "source": [
    "np.count_nonzero(a)"
   ]
  },
  {
   "cell_type": "code",
   "execution_count": 741,
   "id": "807ab91b",
   "metadata": {},
   "outputs": [
    {
     "data": {
      "text/plain": [
       "453"
      ]
     },
     "execution_count": 741,
     "metadata": {},
     "output_type": "execute_result"
    }
   ],
   "source": [
    "(a>0).sum()"
   ]
  },
  {
   "cell_type": "code",
   "execution_count": null,
   "id": "1cd4e632",
   "metadata": {},
   "outputs": [],
   "source": []
  }
 ],
 "metadata": {
  "kernelspec": {
   "display_name": "Python 3",
   "language": "python",
   "name": "python3"
  },
  "language_info": {
   "codemirror_mode": {
    "name": "ipython",
    "version": 3
   },
   "file_extension": ".py",
   "mimetype": "text/x-python",
   "name": "python",
   "nbconvert_exporter": "python",
   "pygments_lexer": "ipython3",
   "version": "3.8.10"
  },
  "latex_envs": {
   "LaTeX_envs_menu_present": true,
   "autoclose": false,
   "autocomplete": true,
   "bibliofile": "biblio.bib",
   "cite_by": "apalike",
   "current_citInitial": 1,
   "eqLabelWithNumbers": true,
   "eqNumInitial": 1,
   "hotkeys": {
    "equation": "Ctrl-E",
    "itemize": "Ctrl-I"
   },
   "labels_anchors": false,
   "latex_user_defs": false,
   "report_style_numbering": false,
   "user_envs_cfg": false
  },
  "toc": {
   "base_numbering": 1,
   "nav_menu": {},
   "number_sections": true,
   "sideBar": true,
   "skip_h1_title": false,
   "title_cell": "Table of Contents",
   "title_sidebar": "Contents",
   "toc_cell": false,
   "toc_position": {},
   "toc_section_display": true,
   "toc_window_display": true
  }
 },
 "nbformat": 4,
 "nbformat_minor": 5
}
