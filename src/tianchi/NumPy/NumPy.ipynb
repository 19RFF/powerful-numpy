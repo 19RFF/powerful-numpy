{
 "cells": [
  {
   "cell_type": "markdown",
   "id": "f7dd2ba6",
   "metadata": {
    "toc": true
   },
   "source": [
    "<h1>Table of Contents<span class=\"tocSkip\"></span></h1>\n",
    "<div class=\"toc\"><ul class=\"toc-item\"><li><span><a href=\"#认识NumPy\" data-toc-modified-id=\"认识NumPy-1\"><span class=\"toc-item-num\">1&nbsp;&nbsp;</span>认识NumPy</a></span><ul class=\"toc-item\"><li><span><a href=\"#NumPy地位\" data-toc-modified-id=\"NumPy地位-1.1\"><span class=\"toc-item-num\">1.1&nbsp;&nbsp;</span>NumPy地位</a></span></li><li><span><a href=\"#ndarray\" data-toc-modified-id=\"ndarray-1.2\"><span class=\"toc-item-num\">1.2&nbsp;&nbsp;</span>ndarray</a></span></li><li><span><a href=\"#dtype\" data-toc-modified-id=\"dtype-1.3\"><span class=\"toc-item-num\">1.3&nbsp;&nbsp;</span>dtype</a></span></li><li><span><a href=\"#shape\" data-toc-modified-id=\"shape-1.4\"><span class=\"toc-item-num\">1.4&nbsp;&nbsp;</span>shape</a></span></li><li><span><a href=\"#向量化计算\" data-toc-modified-id=\"向量化计算-1.5\"><span class=\"toc-item-num\">1.5&nbsp;&nbsp;</span>向量化计算</a></span></li></ul></li><li><span><a href=\"#创建\" data-toc-modified-id=\"创建-2\"><span class=\"toc-item-num\">2&nbsp;&nbsp;</span>创建</a></span><ul class=\"toc-item\"><li><span><a href=\"#np.arange\" data-toc-modified-id=\"np.arange-2.1\"><span class=\"toc-item-num\">2.1&nbsp;&nbsp;</span>np.arange</a></span></li><li><span><a href=\"#reshape\" data-toc-modified-id=\"reshape-2.2\"><span class=\"toc-item-num\">2.2&nbsp;&nbsp;</span>reshape</a></span></li><li><span><a href=\"#np.array\" data-toc-modified-id=\"np.array-2.3\"><span class=\"toc-item-num\">2.3&nbsp;&nbsp;</span>np.array</a></span></li><li><span><a href=\"#np.ones/zeros\" data-toc-modified-id=\"np.ones/zeros-2.4\"><span class=\"toc-item-num\">2.4&nbsp;&nbsp;</span>np.ones/zeros</a></span></li><li><span><a href=\"#np.full\" data-toc-modified-id=\"np.full-2.5\"><span class=\"toc-item-num\">2.5&nbsp;&nbsp;</span>np.full</a></span></li><li><span><a href=\"#指定类型\" data-toc-modified-id=\"指定类型-2.6\"><span class=\"toc-item-num\">2.6&nbsp;&nbsp;</span>指定类型</a></span></li></ul></li><li><span><a href=\"#查看与选取\" data-toc-modified-id=\"查看与选取-3\"><span class=\"toc-item-num\">3&nbsp;&nbsp;</span>查看与选取</a></span><ul class=\"toc-item\"><li><span><a href=\"#切片/索引\" data-toc-modified-id=\"切片/索引-3.1\"><span class=\"toc-item-num\">3.1&nbsp;&nbsp;</span>切片/索引</a></span></li><li><span><a href=\"#不规则切片/花式索引\" data-toc-modified-id=\"不规则切片/花式索引-3.2\"><span class=\"toc-item-num\">3.2&nbsp;&nbsp;</span>不规则切片/花式索引</a></span></li></ul></li><li><span><a href=\"#修改\" data-toc-modified-id=\"修改-4\"><span class=\"toc-item-num\">4&nbsp;&nbsp;</span>修改</a></span><ul class=\"toc-item\"><li><span><a href=\"#拆分\" data-toc-modified-id=\"拆分-4.1\"><span class=\"toc-item-num\">4.1&nbsp;&nbsp;</span>拆分</a></span></li><li><span><a href=\"#合并\" data-toc-modified-id=\"合并-4.2\"><span class=\"toc-item-num\">4.2&nbsp;&nbsp;</span>合并</a></span></li><li><span><a href=\"#缺失值处理\" data-toc-modified-id=\"缺失值处理-4.3\"><span class=\"toc-item-num\">4.3&nbsp;&nbsp;</span>缺失值处理</a></span></li><li><span><a href=\"#修改形状\" data-toc-modified-id=\"修改形状-4.4\"><span class=\"toc-item-num\">4.4&nbsp;&nbsp;</span>修改形状</a></span></li><li><span><a href=\"#轴的调换\" data-toc-modified-id=\"轴的调换-4.5\"><span class=\"toc-item-num\">4.5&nbsp;&nbsp;</span>轴的调换</a></span></li><li><span><a href=\"#修改数据类型\" data-toc-modified-id=\"修改数据类型-4.6\"><span class=\"toc-item-num\">4.6&nbsp;&nbsp;</span>修改数据类型</a></span></li><li><span><a href=\"#拷贝\" data-toc-modified-id=\"拷贝-4.7\"><span class=\"toc-item-num\">4.7&nbsp;&nbsp;</span>拷贝</a></span></li><li><span><a href=\"#排序\" data-toc-modified-id=\"排序-4.8\"><span class=\"toc-item-num\">4.8&nbsp;&nbsp;</span>排序</a></span></li></ul></li><li><span><a href=\"#统计分析\" data-toc-modified-id=\"统计分析-5\"><span class=\"toc-item-num\">5&nbsp;&nbsp;</span>统计分析</a></span><ul class=\"toc-item\"><li><span><a href=\"#平均数\" data-toc-modified-id=\"平均数-5.1\"><span class=\"toc-item-num\">5.1&nbsp;&nbsp;</span>平均数</a></span></li><li><span><a href=\"#中位数\" data-toc-modified-id=\"中位数-5.2\"><span class=\"toc-item-num\">5.2&nbsp;&nbsp;</span>中位数</a></span></li><li><span><a href=\"#众数\" data-toc-modified-id=\"众数-5.3\"><span class=\"toc-item-num\">5.3&nbsp;&nbsp;</span>众数</a></span></li><li><span><a href=\"#极差\" data-toc-modified-id=\"极差-5.4\"><span class=\"toc-item-num\">5.4&nbsp;&nbsp;</span>极差</a></span></li><li><span><a href=\"#方差\" data-toc-modified-id=\"方差-5.5\"><span class=\"toc-item-num\">5.5&nbsp;&nbsp;</span>方差</a></span></li><li><span><a href=\"#标准差\" data-toc-modified-id=\"标准差-5.6\"><span class=\"toc-item-num\">5.6&nbsp;&nbsp;</span>标准差</a></span></li></ul></li><li><span><a href=\"#运算方法\" data-toc-modified-id=\"运算方法-6\"><span class=\"toc-item-num\">6&nbsp;&nbsp;</span>运算方法</a></span><ul class=\"toc-item\"><li><span><a href=\"#算术运算\" data-toc-modified-id=\"算术运算-6.1\"><span class=\"toc-item-num\">6.1&nbsp;&nbsp;</span>算术运算</a></span></li><li><span><a href=\"#关系运算\" data-toc-modified-id=\"关系运算-6.2\"><span class=\"toc-item-num\">6.2&nbsp;&nbsp;</span>关系运算</a></span></li></ul></li><li><span><a href=\"#综合运用\" data-toc-modified-id=\"综合运用-7\"><span class=\"toc-item-num\">7&nbsp;&nbsp;</span>综合运用</a></span><ul class=\"toc-item\"><li><span><a href=\"#总结\" data-toc-modified-id=\"总结-7.1\"><span class=\"toc-item-num\">7.1&nbsp;&nbsp;</span>总结</a></span></li><li><span><a href=\"#案例1\" data-toc-modified-id=\"案例1-7.2\"><span class=\"toc-item-num\">7.2&nbsp;&nbsp;</span>案例1</a></span></li><li><span><a href=\"#案例2\" data-toc-modified-id=\"案例2-7.3\"><span class=\"toc-item-num\">7.3&nbsp;&nbsp;</span>案例2</a></span></li><li><span><a href=\"#扩充实践\" data-toc-modified-id=\"扩充实践-7.4\"><span class=\"toc-item-num\">7.4&nbsp;&nbsp;</span>扩充实践</a></span></li></ul></li><li><span><a href=\"#参考资料\" data-toc-modified-id=\"参考资料-8\"><span class=\"toc-item-num\">8&nbsp;&nbsp;</span>参考资料</a></span></li></ul></div>"
   ]
  },
  {
   "cell_type": "code",
   "execution_count": 1,
   "id": "1e6a294a",
   "metadata": {
    "scrolled": true
   },
   "outputs": [
    {
     "name": "stdout",
     "output_type": "stream",
     "text": [
      "Name: numpy\r\n",
      "Version: 1.22.3\r\n",
      "Summary: NumPy is the fundamental package for array computing with Python.\r\n",
      "Home-page: https://www.numpy.org\r\n",
      "Author: Travis E. Oliphant et al.\r\n",
      "Author-email: None\r\n",
      "License: BSD\r\n",
      "Location: /usr/local/lib/python3.8/site-packages\r\n",
      "Requires: \r\n",
      "Required-by: xgboost, visualdl, tritonclient, transformers, torchvision, torch, tifffile, thinc, tf2onnx, tensorflow, tensorflow-probability, tensorflow-hub, tensorflow-datasets, tensorboardX, tensorboard, tensorbay, tensor2tensor, spacy, sox, sk-video, seqeval, seaborn, scipy, scikit-learn, scikit-image, scalene, scaitk, scainer, resampy, PyWavelets, pyFluidSynth, pyarrow, pretty-midi, pnlp, paramz, pandas, paddlepaddle, paddlefsl, opt-einsum, opencv-python, onnxruntime, onnx, numpy-quaternion, numba, note-seq, mir-eval, matplotlib, magenta, librosa, kfac, Keras-Preprocessing, jaxlib, jax, imageio, h5py, gym, GPyOpt, GPy, geneticalgorithm, dm-sonnet, bokeh, blis, akshare\r\n"
     ]
    }
   ],
   "source": [
    "!pip3.8 show numpy"
   ]
  },
  {
   "cell_type": "code",
   "execution_count": 1,
   "id": "5f1b1e66",
   "metadata": {},
   "outputs": [],
   "source": [
    "import numpy as np"
   ]
  },
  {
   "cell_type": "code",
   "execution_count": 2,
   "id": "bb6b9a79",
   "metadata": {},
   "outputs": [
    {
     "name": "stdout",
     "output_type": "stream",
     "text": [
      "1.22.3\n"
     ]
    }
   ],
   "source": [
    "print(np.__version__)"
   ]
  },
  {
   "cell_type": "markdown",
   "id": "ac84cab3",
   "metadata": {},
   "source": [
    "## 认识NumPy"
   ]
  },
  {
   "cell_type": "markdown",
   "id": "4031b190",
   "metadata": {},
   "source": [
    "### NumPy地位\n",
    "\n",
    "毫不夸张的说，NumPy 是数据科学/计算领域『最重要』的library，之前提到的Pandas，Scipy底层都用到了NumPy，而且，深度学习的各大框架也都用到了NumPy。更值得一提的是，这些框架的API和NumPy是一脉相承的，可以说NumPy熟练了，几个深度学习框架的不少API也同时学会了。\n",
    "\n",
    "根据官方文档，主要特点包括：\n",
    "\n",
    "- 强大的N维数组：矢量化、索引和广播概念快速且通用，是当今数组计算的事实标准。\n",
    "- 数值计算工具：提供全面的数学函数，随机数生成器，线性代数例程，傅里叶变换等。\n",
    "- 互操作性：支持广泛的硬件和计算平台，并且可以很好地与分布式，GPU和稀疏数组库配合使用。\n",
    "- 性能强大：核心是经过良好优化的C代码。享受Python的灵活性和编译代码的速度。\n",
    "- 易于使用：高级语法使得来自任何背景或经验水平的程序员都可以访问和高效产出。\n",
    "- 开源：BSD协议（一个很宽松的协议，除了不能以NumPy的名义牟利，其他基本随意）。"
   ]
  },
  {
   "cell_type": "markdown",
   "id": "6f547c8c",
   "metadata": {},
   "source": [
    "### ndarray\n",
    "\n",
    "NumPy 提供了一个 N 维数组类型，即 `ndarray`，描述了**相同类型**「元素」集合。它是「**偏底层的 array 接口**」。\n",
    "\n",
    "所有的 `ndarray` 元素都是同质的，每个元素占用大小相同的内存块，具体大小由「数据类型」决定。`ndarray` 可以共享相同数据。\n",
    "\n",
    "对象签名如下：\n",
    "\n",
    "```python\n",
    "numpy.ndarray(shape, dtype=float, buffer=None, offset=0, strides=None, order=None)\n",
    "```\n",
    "\n",
    "- shape：整数元组，表示形状\n",
    "- dtype：数据类型对象\n",
    "- buffer：使用 buffer 中的数据填充 `ndarray`\n",
    "- offset：buffer 中的偏移量\n",
    "- stride：内存中数据跨度\n",
    "- order：行为主（C-Style）或列为主（Fortran-Style）\n",
    "\n",
    "\n",
    "当 buffer 为空时，shape, dtype 和 order 三个参数会被使用；  \n",
    "当 buffer 不为空时，所有参数都会被使用。"
   ]
  },
  {
   "cell_type": "code",
   "execution_count": 4,
   "id": "ca3928dc",
   "metadata": {
    "scrolled": true
   },
   "outputs": [
    {
     "data": {
      "text/plain": [
       "array([[ 0, 88,  0],\n",
       "       [ 0,  0,  0]])"
      ]
     },
     "execution_count": 4,
     "metadata": {},
     "output_type": "execute_result"
    }
   ],
   "source": [
    "# buffer 为空，结果随机\n",
    "arr = np.ndarray(shape=(2, 3), dtype=np.int, order=\"C\")\n",
    "arr"
   ]
  },
  {
   "cell_type": "code",
   "execution_count": 7,
   "id": "8b764e18",
   "metadata": {},
   "outputs": [
    {
     "data": {
      "text/plain": [
       "array([[1, 2],\n",
       "       [3, 4]])"
      ]
     },
     "execution_count": 7,
     "metadata": {},
     "output_type": "execute_result"
    }
   ],
   "source": [
    "# buffer 不为空\n",
    "buf = np.array([1, 2, 3, 4], dtype=np.int)\n",
    "arr = np.ndarray(shape=(2, 2), \n",
    "                 dtype=np.int, \n",
    "                 buffer=buf)\n",
    "arr"
   ]
  },
  {
   "cell_type": "markdown",
   "id": "d09a2af9",
   "metadata": {},
   "source": [
    "### dtype\n",
    "\n",
    "NumPy内置了dtype类（数据类型对象），定义了NumPy的数据类型，比Python内置的数据类型要丰富很多。\n",
    "\n",
    "总的来说可以大致分成以下几种，而我们绝大多数情况下最应该关注的其实就是 int 和 float 这两种：\n",
    "\n",
    "- bool：`bool8`, `bool_`，不是 int\n",
    "- int：`int8/byte`, `int16/short`, `int32`, `int64/longlong`, `int_`\n",
    "- uint：无符号类型，表示 `unsigned`，对应 int\n",
    "- float：`float16/half`, `float32/single`, `float64/double`, `float_`\n",
    "- complex：复数，`complex64`, `complex128`, `complex_`\n",
    "- str：`str0`, `str_`，表示 unicode 编码\n",
    "- bytes: `bytes_`, `string_`\n",
    "- datetime/timedelta\n",
    "- structed array\n",
    "\n",
    "后面的数字表示一个数字在内存中占几位，**一般比较推荐使用这种表示**；带下划线的表示 python 的数据类型，numpy 可以自动将 python 的类型转为它；此外，浮点数还支持不同精度以及扩展精度。\n",
    "\n",
    "![](https://numpy.org/devdocs/_images/dtype-hierarchy.png)"
   ]
  },
  {
   "cell_type": "code",
   "execution_count": 9,
   "id": "d998fd3c",
   "metadata": {},
   "outputs": [
    {
     "data": {
      "text/plain": [
       "(True, True, True, True, True, True)"
      ]
     },
     "execution_count": 9,
     "metadata": {},
     "output_type": "execute_result"
    }
   ],
   "source": [
    "# 直观验证上图的关系\n",
    "(\n",
    "    isinstance(np.str_(), np.flexible),\n",
    "    isinstance(np.bytes_(), np.flexible),\n",
    "    isinstance(np.void(b\"\"), np.flexible),\n",
    "    \n",
    "    isinstance(np.int_(), np.integer),\n",
    "    isinstance(np.float_(), np.floating),\n",
    "    isinstance(np.complex_(), np.complexfloating)\n",
    ")"
   ]
  },
  {
   "cell_type": "code",
   "execution_count": 15,
   "id": "335d8835",
   "metadata": {},
   "outputs": [
    {
     "data": {
      "text/plain": [
       "(True, True, True, True, True, True, True, True)"
      ]
     },
     "execution_count": 15,
     "metadata": {},
     "output_type": "execute_result"
    }
   ],
   "source": [
    "# 很多类型都有 alias，它们其实是一回事\n",
    "(\n",
    "    np.short is np.int16, np.byte is np.int8,\n",
    "    # 不同精度\n",
    "    np.half is np.float16, np.single is np.float32, np.double is np.float64,\n",
    "    # 扩展精度\n",
    "    np.longfloat is np.longdouble,\n",
    "    # 字符串\n",
    "    np.unicode_ is np.str_,\n",
    "    # bytes\n",
    "    np.bytes_ is np.string_\n",
    ")"
   ]
  },
  {
   "cell_type": "code",
   "execution_count": 17,
   "id": "49b93d3d",
   "metadata": {},
   "outputs": [
    {
     "data": {
      "text/plain": [
       "(True, True, True, True, True)"
      ]
     },
     "execution_count": 17,
     "metadata": {},
     "output_type": "execute_result"
    }
   ],
   "source": [
    "# python 内置类型\n",
    "(\n",
    "    np.bool_ is np.bool8, \n",
    "    np.int_ is np.int64,\n",
    "    np.float_ is np.float64,\n",
    "    np.str_ is np.str0,\n",
    "    np.complex_ is np.complex128\n",
    ")"
   ]
  },
  {
   "cell_type": "markdown",
   "id": "b8c649a0",
   "metadata": {},
   "source": [
    "### shape\n",
    "\n",
    "shape一般是个元组，表示数组的形状。"
   ]
  },
  {
   "cell_type": "code",
   "execution_count": 22,
   "id": "cab30135",
   "metadata": {},
   "outputs": [
    {
     "data": {
      "text/plain": [
       "array([1, 2, 3, 4, 5, 6, 7, 8], dtype=int8)"
      ]
     },
     "execution_count": 22,
     "metadata": {},
     "output_type": "execute_result"
    }
   ],
   "source": [
    "buf = np.arange(1, 9, dtype=np.int8)\n",
    "buf"
   ]
  },
  {
   "cell_type": "code",
   "execution_count": 23,
   "id": "f46435c6",
   "metadata": {},
   "outputs": [
    {
     "data": {
      "text/plain": [
       "b'\\x01\\x02\\x03\\x04\\x05\\x06\\x07\\x08'"
      ]
     },
     "execution_count": 23,
     "metadata": {},
     "output_type": "execute_result"
    }
   ],
   "source": [
    "bytes(buf)"
   ]
  },
  {
   "cell_type": "code",
   "execution_count": 26,
   "id": "2dc29690",
   "metadata": {},
   "outputs": [
    {
     "data": {
      "text/plain": [
       "array([[1, 2, 3, 4],\n",
       "       [5, 6, 7, 8]], dtype=int8)"
      ]
     },
     "execution_count": 26,
     "metadata": {},
     "output_type": "execute_result"
    }
   ],
   "source": [
    "# 改一下 shape\n",
    "buf.shape = 2, 4\n",
    "buf"
   ]
  },
  {
   "cell_type": "code",
   "execution_count": 27,
   "id": "93df363d",
   "metadata": {},
   "outputs": [
    {
     "data": {
      "text/plain": [
       "b'\\x01\\x02\\x03\\x04\\x05\\x06\\x07\\x08'"
      ]
     },
     "execution_count": 27,
     "metadata": {},
     "output_type": "execute_result"
    }
   ],
   "source": [
    "bytes(buf)"
   ]
  },
  {
   "cell_type": "markdown",
   "id": "42bba6e3",
   "metadata": {},
   "source": [
    "事实上，无论 shape 怎么变化，内存是完全没变化的，不同的 array 其实就是不同的 strides 方式而已。感兴趣的可以进一步阅读参考资料【2】。\n",
    "\n",
    "另外，使用 buffer 创建的 ndarray 都使用了同一块内存。"
   ]
  },
  {
   "cell_type": "code",
   "execution_count": 31,
   "id": "d2f5c7dc",
   "metadata": {},
   "outputs": [
    {
     "data": {
      "text/plain": [
       "array([[1, 2, 3, 4],\n",
       "       [5, 6, 7, 8]], dtype=int8)"
      ]
     },
     "execution_count": 31,
     "metadata": {},
     "output_type": "execute_result"
    }
   ],
   "source": [
    "arr1 = np.ndarray(\n",
    "    shape=(2, 4), \n",
    "    dtype=np.int8, \n",
    "    buffer=buf)\n",
    "arr1"
   ]
  },
  {
   "cell_type": "code",
   "execution_count": 30,
   "id": "6f1e21b7",
   "metadata": {},
   "outputs": [
    {
     "data": {
      "text/plain": [
       "array([[1, 2],\n",
       "       [3, 4],\n",
       "       [5, 6],\n",
       "       [7, 8]], dtype=int8)"
      ]
     },
     "execution_count": 30,
     "metadata": {},
     "output_type": "execute_result"
    }
   ],
   "source": [
    "arr2 = np.ndarray(\n",
    "    shape=(4, 2), \n",
    "    dtype=np.int8, \n",
    "    buffer=buf)\n",
    "arr2"
   ]
  },
  {
   "cell_type": "code",
   "execution_count": 33,
   "id": "9b387f6b",
   "metadata": {},
   "outputs": [
    {
     "data": {
      "text/plain": [
       "(b'\\x01\\x02\\x03\\x04\\x05\\x06\\x07\\x08', b'\\x01\\x02\\x03\\x04\\x05\\x06\\x07\\x08')"
      ]
     },
     "execution_count": 33,
     "metadata": {},
     "output_type": "execute_result"
    }
   ],
   "source": [
    "bytes(arr1), bytes(arr2)"
   ]
  },
  {
   "cell_type": "code",
   "execution_count": 32,
   "id": "ba176f36",
   "metadata": {},
   "outputs": [
    {
     "data": {
      "text/plain": [
       "(True, True)"
      ]
     },
     "execution_count": 32,
     "metadata": {},
     "output_type": "execute_result"
    }
   ],
   "source": [
    "np.may_share_memory(arr1, arr2), np.may_share_memory(buf, arr1)"
   ]
  },
  {
   "cell_type": "markdown",
   "id": "703502f9",
   "metadata": {},
   "source": [
    "其实，无论 arr1 还是 arr2 都是 buf 的一个 view（引用），与此相对的是 copy。感兴趣的可以进一步阅读参考资料【2】。"
   ]
  },
  {
   "cell_type": "markdown",
   "id": "0989fffd",
   "metadata": {},
   "source": [
    "### 向量化计算\n",
    "\n",
    "NumPy的ndarray是同构的：数组只能包含一种类型的数据。在知道数组的内容在数据类型上是同构的时，NumPy能够将对数组内容执行数学运算的任务委托给C代码执行。此过程称为矢量化。这和Python的list不同，Python在迭代数组时必须仔细检查每个元素的数据类型。\n",
    "\n",
    "如果不同类型，NumPy会自动匹配当前输入最合适的数据类型，并将其 cast 到所有元素。"
   ]
  },
  {
   "cell_type": "code",
   "execution_count": 42,
   "id": "951b1bf2",
   "metadata": {},
   "outputs": [
    {
     "data": {
      "text/plain": [
       "dtype('float64')"
      ]
     },
     "execution_count": 42,
     "metadata": {},
     "output_type": "execute_result"
    }
   ],
   "source": [
    "# float+int\n",
    "np.array([1, 2.0]).dtype"
   ]
  },
  {
   "cell_type": "code",
   "execution_count": 37,
   "id": "e4c20272",
   "metadata": {},
   "outputs": [
    {
     "data": {
      "text/plain": [
       "dtype('<U21')"
      ]
     },
     "execution_count": 37,
     "metadata": {},
     "output_type": "execute_result"
    }
   ],
   "source": [
    "# string+int\n",
    "np.array([1, \"s\"]).dtype"
   ]
  },
  {
   "cell_type": "markdown",
   "id": "76dc0726",
   "metadata": {},
   "source": [
    "## 创建"
   ]
  },
  {
   "cell_type": "markdown",
   "id": "a5c5d4df",
   "metadata": {},
   "source": [
    "### np.arange\n",
    "\n",
    "`np.arange` 与 Python 的 `range` 用法一样，都用来创建一维数组。\n",
    "\n",
    "接口参数：`[start], stop, [step]`，方括号里的是可选参数，默认值分别是 0 和 1。"
   ]
  },
  {
   "cell_type": "code",
   "execution_count": 35,
   "id": "cc15ff35",
   "metadata": {
    "scrolled": true
   },
   "outputs": [
    {
     "data": {
      "text/plain": [
       "[0, 1, 2, 3, 4, 5, 6, 7, 8, 9]"
      ]
     },
     "execution_count": 35,
     "metadata": {},
     "output_type": "execute_result"
    }
   ],
   "source": [
    "[v for v in range(10)]"
   ]
  },
  {
   "cell_type": "code",
   "execution_count": 9,
   "id": "bdd6e807",
   "metadata": {
    "scrolled": true
   },
   "outputs": [
    {
     "data": {
      "text/plain": [
       "array([0, 1, 2, 3, 4])"
      ]
     },
     "execution_count": 9,
     "metadata": {},
     "output_type": "execute_result"
    }
   ],
   "source": [
    "# 只有 stop\n",
    "np.arange(5)"
   ]
  },
  {
   "cell_type": "code",
   "execution_count": 10,
   "id": "f676af2d",
   "metadata": {},
   "outputs": [
    {
     "data": {
      "text/plain": [
       "array([2, 3, 4])"
      ]
     },
     "execution_count": 10,
     "metadata": {},
     "output_type": "execute_result"
    }
   ],
   "source": [
    "# 指定 start, stop\n",
    "np.arange(2, 5)"
   ]
  },
  {
   "cell_type": "code",
   "execution_count": 11,
   "id": "5d36dec2",
   "metadata": {},
   "outputs": [
    {
     "data": {
      "text/plain": [
       "array([2, 4])"
      ]
     },
     "execution_count": 11,
     "metadata": {},
     "output_type": "execute_result"
    }
   ],
   "source": [
    "# 指定 start, stop, step\n",
    "np.arange(2, 5, 2)"
   ]
  },
  {
   "cell_type": "markdown",
   "id": "129bcf1e",
   "metadata": {},
   "source": [
    "### reshape\n",
    "\n",
    "如果我们想创建一个多维数组，则需要将刚刚创建的一维数组 `reshape` 成多维。  \n",
    "`reshape` 中元素数量乘积（元素总数）必须与一维向量元素数量相等。\n",
    "\n",
    "\n",
    "注：在线性代数中一般一维数组=向量；二维数组=矩阵；三维+数组=张量。"
   ]
  },
  {
   "cell_type": "code",
   "execution_count": 12,
   "id": "4711a9a8",
   "metadata": {},
   "outputs": [
    {
     "data": {
      "text/plain": [
       "array([[0, 1, 2, 3, 4],\n",
       "       [5, 6, 7, 8, 9]])"
      ]
     },
     "execution_count": 12,
     "metadata": {},
     "output_type": "execute_result"
    }
   ],
   "source": [
    "# reshape 成 2 行 5 列的二维数组\n",
    "np.arange(10).reshape(2, 5)"
   ]
  },
  {
   "cell_type": "code",
   "execution_count": 13,
   "id": "03aa77ce",
   "metadata": {},
   "outputs": [
    {
     "data": {
      "text/plain": [
       "array([[[ 0,  1,  2],\n",
       "        [ 3,  4,  5]],\n",
       "\n",
       "       [[ 6,  7,  8],\n",
       "        [ 9, 10, 11]]])"
      ]
     },
     "execution_count": 13,
     "metadata": {},
     "output_type": "execute_result"
    }
   ],
   "source": [
    "# reshape 成 2×2×3 的三维数组\n",
    "np.arange(12).reshape(2, 2, 3)"
   ]
  },
  {
   "cell_type": "code",
   "execution_count": 14,
   "id": "82dfbc90",
   "metadata": {},
   "outputs": [
    {
     "ename": "ValueError",
     "evalue": "cannot reshape array of size 10 into shape (3,3)",
     "output_type": "error",
     "traceback": [
      "\u001b[1;31m---------------------------------------------------------------------------\u001b[0m",
      "\u001b[1;31mValueError\u001b[0m                                Traceback (most recent call last)",
      "\u001b[1;32m~\\AppData\\Local\\Temp/ipykernel_13268/138367377.py\u001b[0m in \u001b[0;36m<module>\u001b[1;34m\u001b[0m\n\u001b[0;32m      1\u001b[0m \u001b[1;31m# reshape 的 shape 中数字的乘积（元素数量）必须与一维向量元素数量相等\u001b[0m\u001b[1;33m\u001b[0m\u001b[1;33m\u001b[0m\u001b[1;33m\u001b[0m\u001b[0m\n\u001b[1;32m----> 2\u001b[1;33m \u001b[0mnp\u001b[0m\u001b[1;33m.\u001b[0m\u001b[0marange\u001b[0m\u001b[1;33m(\u001b[0m\u001b[1;36m10\u001b[0m\u001b[1;33m)\u001b[0m\u001b[1;33m.\u001b[0m\u001b[0mreshape\u001b[0m\u001b[1;33m(\u001b[0m\u001b[1;36m3\u001b[0m\u001b[1;33m,\u001b[0m \u001b[1;36m3\u001b[0m\u001b[1;33m)\u001b[0m\u001b[1;33m\u001b[0m\u001b[1;33m\u001b[0m\u001b[0m\n\u001b[0m",
      "\u001b[1;31mValueError\u001b[0m: cannot reshape array of size 10 into shape (3,3)"
     ]
    }
   ],
   "source": [
    "# reshape 的 shape 中数字的乘积（元素数量）必须与一维向量元素数量相等\n",
    "np.arange(10).reshape(3, 3)"
   ]
  },
  {
   "cell_type": "markdown",
   "id": "cdb24b08",
   "metadata": {},
   "source": [
    "### np.array\n",
    "\n",
    "创建 `ndarray` 的快捷接口，接受一个 object，可以是：\n",
    "\n",
    "- 一个 List\n",
    "- 一个 Tuple\n",
    "- 一个 List 的 Tuple\n",
    "- 一个嵌套的 List"
   ]
  },
  {
   "cell_type": "code",
   "execution_count": 16,
   "id": "20430e45",
   "metadata": {},
   "outputs": [
    {
     "data": {
      "text/plain": [
       "array([1, 2])"
      ]
     },
     "execution_count": 16,
     "metadata": {},
     "output_type": "execute_result"
    }
   ],
   "source": [
    "# list\n",
    "np.array([1, 2])"
   ]
  },
  {
   "cell_type": "code",
   "execution_count": 20,
   "id": "d9b1f6f6",
   "metadata": {},
   "outputs": [
    {
     "data": {
      "text/plain": [
       "array([1, 2])"
      ]
     },
     "execution_count": 20,
     "metadata": {},
     "output_type": "execute_result"
    }
   ],
   "source": [
    "# tuple\n",
    "np.array((1, 2))"
   ]
  },
  {
   "cell_type": "code",
   "execution_count": 18,
   "id": "ca3e02bd",
   "metadata": {},
   "outputs": [
    {
     "data": {
      "text/plain": [
       "array([[1, 2, 3],\n",
       "       [4, 5, 6]])"
      ]
     },
     "execution_count": 18,
     "metadata": {},
     "output_type": "execute_result"
    }
   ],
   "source": [
    "# list tuple\n",
    "np.array([\n",
    "    (1, 2, 3),\n",
    "    (4, 5, 6)\n",
    "])"
   ]
  },
  {
   "cell_type": "code",
   "execution_count": 19,
   "id": "09cfef2c",
   "metadata": {},
   "outputs": [
    {
     "data": {
      "text/plain": [
       "array([[1, 2, 3],\n",
       "       [4, 5, 6]])"
      ]
     },
     "execution_count": 19,
     "metadata": {},
     "output_type": "execute_result"
    }
   ],
   "source": [
    "# list list\n",
    "np.array([\n",
    "    [1, 2, 3],\n",
    "    [4, 5, 6]\n",
    "])"
   ]
  },
  {
   "cell_type": "markdown",
   "id": "749ac098",
   "metadata": {},
   "source": [
    "### np.ones/zeros\n",
    "\n",
    "快速创建全 1 或全 0 的数组，可以指定 `shape`。\n",
    "\n",
    "注意：创建的数字默认是 `float` 类型。"
   ]
  },
  {
   "cell_type": "code",
   "execution_count": 22,
   "id": "371769bd",
   "metadata": {},
   "outputs": [
    {
     "data": {
      "text/plain": [
       "array([[[1., 1.],\n",
       "        [1., 1.]],\n",
       "\n",
       "       [[1., 1.],\n",
       "        [1., 1.]]])"
      ]
     },
     "execution_count": 22,
     "metadata": {},
     "output_type": "execute_result"
    }
   ],
   "source": [
    "np.ones((2, 2, 2))"
   ]
  },
  {
   "cell_type": "code",
   "execution_count": 25,
   "id": "6880d2f4",
   "metadata": {},
   "outputs": [
    {
     "data": {
      "text/plain": [
       "array([[[[0., 0., 0.]],\n",
       "\n",
       "        [[0., 0., 0.]],\n",
       "\n",
       "        [[0., 0., 0.]]]])"
      ]
     },
     "execution_count": 25,
     "metadata": {},
     "output_type": "execute_result"
    }
   ],
   "source": [
    "np.zeros((1, 3, 1, 3))"
   ]
  },
  {
   "cell_type": "markdown",
   "id": "b1dd07fc",
   "metadata": {},
   "source": [
    "### np.full\n",
    "\n",
    "快速创建一个给定 shape 和填充值的数组。\n",
    "\n",
    "注意：给定的填充值 shape 需要与给定的 shape 对应。参数 `shape` 是一个 tuple。"
   ]
  },
  {
   "cell_type": "code",
   "execution_count": 44,
   "id": "c01ec8a2",
   "metadata": {},
   "outputs": [
    {
     "data": {
      "text/plain": [
       "array([[2, 2, 2],\n",
       "       [2, 2, 2]])"
      ]
     },
     "execution_count": 44,
     "metadata": {},
     "output_type": "execute_result"
    }
   ],
   "source": [
    "# 最简单的，给定 fill 是一个值\n",
    "np.full((2, 3), 2)"
   ]
  },
  {
   "cell_type": "code",
   "execution_count": 46,
   "id": "555629b7",
   "metadata": {},
   "outputs": [
    {
     "data": {
      "text/plain": [
       "(array([[1, 2, 3],\n",
       "        [1, 2, 3]]),\n",
       " array([[[1, 2, 3],\n",
       "         [1, 2, 3]]]))"
      ]
     },
     "execution_count": 46,
     "metadata": {},
     "output_type": "execute_result"
    }
   ],
   "source": [
    "# 如果 fill 是一个向量，那长度必须和 shape 的最后一维相等\n",
    "np.full((2, 3), [1, 2, 3]), np.full((1, 2, 3), [1, 2, 3])"
   ]
  },
  {
   "cell_type": "code",
   "execution_count": 53,
   "id": "b9d699c3",
   "metadata": {},
   "outputs": [
    {
     "name": "stdout",
     "output_type": "stream",
     "text": [
      "could not broadcast input array from shape (3,) into shape (2,2)\n"
     ]
    }
   ],
   "source": [
    "# 否则会提示错误\n",
    "try:\n",
    "    np.full((2, 2), [1, 2, 3])\n",
    "except Exception as e:\n",
    "    print(e)"
   ]
  },
  {
   "cell_type": "markdown",
   "id": "6d9e4535",
   "metadata": {},
   "source": [
    "如果 fill 是多维数组：\n",
    "\n",
    "- shape 必须在行或列上与给定的 shape 对应，另一个维度为 1\n",
    "- 或者与给定 shape 完全一致\n",
    "\n",
    "否则会提示上面的错误。"
   ]
  },
  {
   "cell_type": "code",
   "execution_count": 58,
   "id": "f5e875f2",
   "metadata": {
    "scrolled": true
   },
   "outputs": [
    {
     "data": {
      "text/plain": [
       "(array([[4, 4, 4],\n",
       "        [3, 3, 3]]),\n",
       " array([[4, 4],\n",
       "        [3, 3]]))"
      ]
     },
     "execution_count": 58,
     "metadata": {},
     "output_type": "execute_result"
    }
   ],
   "source": [
    "fill = [[4], [3]]\n",
    "# 2 行\n",
    "np.full((2, 3), fill), np.full((2, 2), fill)"
   ]
  },
  {
   "cell_type": "code",
   "execution_count": 59,
   "id": "7310f5ee",
   "metadata": {},
   "outputs": [
    {
     "data": {
      "text/plain": [
       "array([[3, 4, 5],\n",
       "       [3, 4, 5]])"
      ]
     },
     "execution_count": 59,
     "metadata": {},
     "output_type": "execute_result"
    }
   ],
   "source": [
    "fill = [[3, 4, 5]]\n",
    "# 或者 3 列\n",
    "np.full((2, 3), fill)"
   ]
  },
  {
   "cell_type": "code",
   "execution_count": 72,
   "id": "7e6d8ad3",
   "metadata": {
    "scrolled": true
   },
   "outputs": [
    {
     "data": {
      "text/plain": [
       "array([[1, 2, 3],\n",
       "       [4, 5, 6]])"
      ]
     },
     "execution_count": 72,
     "metadata": {},
     "output_type": "execute_result"
    }
   ],
   "source": [
    "fill = [[1, 2, 3], [4, 5, 6]]\n",
    "# 或者一致\n",
    "np.full((2, 3), fill)"
   ]
  },
  {
   "cell_type": "markdown",
   "id": "6d150245",
   "metadata": {},
   "source": [
    "### 指定类型\n",
    "\n",
    "一般创建数组时不需要指定类型。但如果需要制定，建议「显式」地指定。"
   ]
  },
  {
   "cell_type": "code",
   "execution_count": 68,
   "id": "8c755362",
   "metadata": {},
   "outputs": [
    {
     "data": {
      "text/plain": [
       "array([2, 3], dtype=int8)"
      ]
     },
     "execution_count": 68,
     "metadata": {},
     "output_type": "execute_result"
    }
   ],
   "source": [
    "# 指定为 int8 类型\n",
    "np.array([2, 3], np.int8)"
   ]
  },
  {
   "cell_type": "code",
   "execution_count": 61,
   "id": "43bd28d8",
   "metadata": {
    "scrolled": true
   },
   "outputs": [
    {
     "data": {
      "text/plain": [
       "array([[0., 1., 2., 3.],\n",
       "       [4., 5., 6., 7.]], dtype=float16)"
      ]
     },
     "execution_count": 61,
     "metadata": {},
     "output_type": "execute_result"
    }
   ],
   "source": [
    "# 指定为 float16 类型\n",
    "np.arange(8, dtype=np.float16).reshape(2, 4)"
   ]
  },
  {
   "cell_type": "code",
   "execution_count": 64,
   "id": "45e42235",
   "metadata": {},
   "outputs": [
    {
     "data": {
      "text/plain": [
       "(numpy.int8, numpy.int16, numpy.int32, numpy.int64)"
      ]
     },
     "execution_count": 64,
     "metadata": {},
     "output_type": "execute_result"
    }
   ],
   "source": [
    "# 常见的整型\n",
    "np.int8, np.int16, np.int32, np.int64"
   ]
  },
  {
   "cell_type": "code",
   "execution_count": 65,
   "id": "df91c7f0",
   "metadata": {},
   "outputs": [
    {
     "data": {
      "text/plain": [
       "(numpy.float16, numpy.float32, numpy.float64)"
      ]
     },
     "execution_count": 65,
     "metadata": {},
     "output_type": "execute_result"
    }
   ],
   "source": [
    "# 常见的浮点精度\n",
    "np.float16, np.float32, np.float64"
   ]
  },
  {
   "cell_type": "markdown",
   "id": "c8be70f5",
   "metadata": {},
   "source": [
    "## 查看与选取"
   ]
  },
  {
   "cell_type": "code",
   "execution_count": 64,
   "id": "42680f17",
   "metadata": {},
   "outputs": [
    {
     "data": {
      "text/plain": [
       "array([[ 1,  2,  3,  4],\n",
       "       [ 5,  6,  7,  8],\n",
       "       [ 9, 10, 11, 12],\n",
       "       [13, 14, 15, 16],\n",
       "       [17, 18, 19, 20]], dtype=int32)"
      ]
     },
     "execution_count": 64,
     "metadata": {},
     "output_type": "execute_result"
    }
   ],
   "source": [
    "arr = np.arange(1, 21, dtype=np.int32).reshape(5, 4)\n",
    "arr"
   ]
  },
  {
   "cell_type": "markdown",
   "id": "20bbb5b6",
   "metadata": {},
   "source": [
    "切片和索引是通过对已有 array 进行操作而得到想要的「部分」元素的行为过程。一般有两种方式：正下标和负下标，前者是从前往后的，后者是从后往前的。\n",
    "\n",
    "\n",
    "切片/索引核心动作可以概括为：按维度根据不同维度的 index 对 array 进行操作，其中切片常通过 `start:stop:step` 操作，不处理的维度统一用 `:` 或 `...` 代替。\n",
    "\n",
    "所以在看操作时，要首先关注「`,`」在哪里。要处理的维度和之前 `arange` `linspace` 等接口使用方法是一样的。\n",
    "\n",
    "\n",
    "切片和索引有一些区别：\n",
    "\n",
    "-  一般来说，索引（indexing）会创建 copy，切片（slicing）会创建 view。\n",
    "- 切片表示法指定开始和结束值 [start：end]，并将列表从start复制到end-1。\n",
    "- 索引返回数组的一个元素，切片返回一个元素的列表。\n",
    "\n",
    "通俗点理解，切片一般都是有一个范围的，而索引看起来就是「摘取」某些元素。切片和索引经常会一起使用。实际使用时无须过多纠结。"
   ]
  },
  {
   "cell_type": "markdown",
   "id": "da72f31b",
   "metadata": {},
   "source": [
    "### 切片/索引"
   ]
  },
  {
   "cell_type": "code",
   "execution_count": 91,
   "id": "56f889f0",
   "metadata": {
    "scrolled": false
   },
   "outputs": [
    {
     "data": {
      "text/plain": [
       "array([1, 2, 3, 4], dtype=int32)"
      ]
     },
     "execution_count": 91,
     "metadata": {},
     "output_type": "execute_result"
    }
   ],
   "source": [
    "# 正下标\n",
    "# 第一行\n",
    "arr[0]"
   ]
  },
  {
   "cell_type": "code",
   "execution_count": 93,
   "id": "29d9b3f9",
   "metadata": {},
   "outputs": [
    {
     "data": {
      "text/plain": [
       "array([1, 2, 3, 4], dtype=int32)"
      ]
     },
     "execution_count": 93,
     "metadata": {},
     "output_type": "execute_result"
    }
   ],
   "source": [
    "# 等价于\n",
    "arr[0,:]"
   ]
  },
  {
   "cell_type": "code",
   "execution_count": 95,
   "id": "e9dea7de",
   "metadata": {},
   "outputs": [
    {
     "data": {
      "text/plain": [
       "array([17, 18, 19, 20], dtype=int32)"
      ]
     },
     "execution_count": 95,
     "metadata": {},
     "output_type": "execute_result"
    }
   ],
   "source": [
    "# 负下标\n",
    "# 最后一行\n",
    "arr[-1]"
   ]
  },
  {
   "cell_type": "code",
   "execution_count": 97,
   "id": "3363bcaa",
   "metadata": {
    "scrolled": false
   },
   "outputs": [
    {
     "data": {
      "text/plain": [
       "array([[1, 2, 3, 4]], dtype=int32)"
      ]
     },
     "execution_count": 97,
     "metadata": {},
     "output_type": "execute_result"
    }
   ],
   "source": [
    "# 注意，这是个索引\n",
    "arr[[0]]"
   ]
  },
  {
   "cell_type": "code",
   "execution_count": 99,
   "id": "cb6b92b2",
   "metadata": {
    "scrolled": true
   },
   "outputs": [
    {
     "data": {
      "text/plain": [
       "2"
      ]
     },
     "execution_count": 99,
     "metadata": {},
     "output_type": "execute_result"
    }
   ],
   "source": [
    "# 取某个元素是一个数字，此时不需要创建引用\n",
    "a = arr[0, 1]\n",
    "a"
   ]
  },
  {
   "cell_type": "code",
   "execution_count": 101,
   "id": "e32ccd8b",
   "metadata": {},
   "outputs": [
    {
     "data": {
      "text/plain": [
       "array([ 1,  5,  9, 13, 17], dtype=int32)"
      ]
     },
     "execution_count": 101,
     "metadata": {},
     "output_type": "execute_result"
    }
   ],
   "source": [
    "# 第一列\n",
    "arr[:, 0]"
   ]
  },
  {
   "cell_type": "code",
   "execution_count": 103,
   "id": "7acab622",
   "metadata": {},
   "outputs": [
    {
     "data": {
      "text/plain": [
       "array([ 4,  8, 12, 16, 20], dtype=int32)"
      ]
     },
     "execution_count": 103,
     "metadata": {},
     "output_type": "execute_result"
    }
   ],
   "source": [
    "# 最后一列\n",
    "arr[:, -1]"
   ]
  },
  {
   "cell_type": "code",
   "execution_count": 105,
   "id": "a05b44b5",
   "metadata": {},
   "outputs": [
    {
     "data": {
      "text/plain": [
       "array([[ 1,  2,  3,  4],\n",
       "       [ 5,  6,  7,  8],\n",
       "       [ 9, 10, 11, 12]], dtype=int32)"
      ]
     },
     "execution_count": 105,
     "metadata": {},
     "output_type": "execute_result"
    }
   ],
   "source": [
    "# 然后带点范围 第 1-2 行\n",
    "arr[0:3]"
   ]
  },
  {
   "cell_type": "code",
   "execution_count": 107,
   "id": "5649fde7",
   "metadata": {
    "scrolled": true
   },
   "outputs": [
    {
     "data": {
      "text/plain": [
       "array([[ 1,  2,  3,  4],\n",
       "       [ 5,  6,  7,  8],\n",
       "       [ 9, 10, 11, 12]], dtype=int32)"
      ]
     },
     "execution_count": 107,
     "metadata": {},
     "output_type": "execute_result"
    }
   ],
   "source": [
    "# 等价于\n",
    "arr[0:3, :]"
   ]
  },
  {
   "cell_type": "markdown",
   "id": "58516ca0",
   "metadata": {},
   "source": [
    "### 不规则切片/花式索引"
   ]
  },
  {
   "cell_type": "code",
   "execution_count": 87,
   "id": "f287864a",
   "metadata": {},
   "outputs": [
    {
     "data": {
      "text/plain": [
       "array([[ 1,  2,  3,  4],\n",
       "       [ 5,  6,  7,  8],\n",
       "       [ 9, 10, 11, 12],\n",
       "       [13, 14, 15, 16],\n",
       "       [17, 18, 19, 20]], dtype=int32)"
      ]
     },
     "execution_count": 87,
     "metadata": {},
     "output_type": "execute_result"
    }
   ],
   "source": [
    "arr"
   ]
  },
  {
   "cell_type": "code",
   "execution_count": 111,
   "id": "4c9523d5",
   "metadata": {
    "scrolled": false
   },
   "outputs": [
    {
     "data": {
      "text/plain": [
       "array([7, 8], dtype=int32)"
      ]
     },
     "execution_count": 111,
     "metadata": {},
     "output_type": "execute_result"
    }
   ],
   "source": [
    "# 一个指定，一个范围，切片\n",
    "arr[1, 2:5]"
   ]
  },
  {
   "cell_type": "code",
   "execution_count": 115,
   "id": "9ede650a",
   "metadata": {
    "scrolled": true
   },
   "outputs": [
    {
     "data": {
      "text/plain": [
       "array([[ 5,  6,  7,  8],\n",
       "       [13, 14, 15, 16]], dtype=int32)"
      ]
     },
     "execution_count": 115,
     "metadata": {},
     "output_type": "execute_result"
    }
   ],
   "source": [
    "# 还可以来点跳跃，步长：start:stop:step，第 1 行到第 4 行，间隔为 2，即第 1、3 行，切片\n",
    "arr[1: 4: 2]"
   ]
  },
  {
   "cell_type": "code",
   "execution_count": 118,
   "id": "af390766",
   "metadata": {},
   "outputs": [
    {
     "data": {
      "text/plain": [
       "array([[ 5,  7],\n",
       "       [13, 15]], dtype=int32)"
      ]
     },
     "execution_count": 118,
     "metadata": {},
     "output_type": "execute_result"
    }
   ],
   "source": [
    "# 加上列也可以哦，第 1、3 行，第 0、2 列，切片\n",
    "arr[1:4:2, 0:3:2]"
   ]
  },
  {
   "cell_type": "code",
   "execution_count": 119,
   "id": "55cfa7ec",
   "metadata": {
    "scrolled": false
   },
   "outputs": [
    {
     "data": {
      "text/plain": [
       "array([2], dtype=int32)"
      ]
     },
     "execution_count": 119,
     "metadata": {},
     "output_type": "execute_result"
    }
   ],
   "source": [
    "# 这个是正常的索引\n",
    "arr[[0], [1]]"
   ]
  },
  {
   "cell_type": "code",
   "execution_count": 121,
   "id": "d624d44b",
   "metadata": {
    "scrolled": true
   },
   "outputs": [
    {
     "data": {
      "text/plain": [
       "array([[ 1,  2,  3,  4],\n",
       "       [13, 14, 15, 16]], dtype=int32)"
      ]
     },
     "execution_count": 121,
     "metadata": {},
     "output_type": "execute_result"
    }
   ],
   "source": [
    "# 离散也可以：第 1，3 行\n",
    "arr[[0, 3]]"
   ]
  },
  {
   "cell_type": "code",
   "execution_count": 125,
   "id": "5f33aa1c",
   "metadata": {},
   "outputs": [
    {
     "data": {
      "text/plain": [
       "array([[ 2,  3,  4],\n",
       "       [14, 15, 16]], dtype=int32)"
      ]
     },
     "execution_count": 125,
     "metadata": {},
     "output_type": "execute_result"
    }
   ],
   "source": [
    "# 再来一个维度\n",
    "arr[[0, 3], 1:4]"
   ]
  },
  {
   "cell_type": "markdown",
   "id": "308f7bdf",
   "metadata": {},
   "source": [
    "## 修改"
   ]
  },
  {
   "cell_type": "markdown",
   "id": "0da22471",
   "metadata": {},
   "source": [
    "### 拆分\n",
    "\n",
    "`np.split`，接受三个参数：\n",
    "\n",
    "- 给定的 array\n",
    "- 要拆分的个数\n",
    "- 拆分沿着的维度（即沿着哪个维度拆），或对「某个维度」进行拆分，0 表示列，1 表示行"
   ]
  },
  {
   "cell_type": "code",
   "execution_count": 127,
   "id": "a24523d7",
   "metadata": {},
   "outputs": [
    {
     "data": {
      "text/plain": [
       "array([[ 1,  2,  3,  4],\n",
       "       [ 5,  6,  7,  8],\n",
       "       [ 9, 10, 11, 12],\n",
       "       [13, 14, 15, 16]], dtype=int32)"
      ]
     },
     "execution_count": 127,
     "metadata": {},
     "output_type": "execute_result"
    }
   ],
   "source": [
    "a = np.arange(1, 17, dtype=np.int32).reshape(4, 4)\n",
    "a"
   ]
  },
  {
   "cell_type": "code",
   "execution_count": 128,
   "id": "1f4f1bfd",
   "metadata": {},
   "outputs": [
    {
     "data": {
      "text/plain": [
       "[array([[1, 2, 3, 4],\n",
       "        [5, 6, 7, 8]], dtype=int32),\n",
       " array([[ 9, 10, 11, 12],\n",
       "        [13, 14, 15, 16]], dtype=int32)]"
      ]
     },
     "execution_count": 128,
     "metadata": {},
     "output_type": "execute_result"
    }
   ],
   "source": [
    "# np.split(array, nparts)\n",
    "# axis=0，沿着列拆分，对列进行拆分\n",
    "np.split(a, 2)"
   ]
  },
  {
   "cell_type": "code",
   "execution_count": 129,
   "id": "6f41e51c",
   "metadata": {},
   "outputs": [
    {
     "data": {
      "text/plain": [
       "[array([[ 1,  2],\n",
       "        [ 5,  6],\n",
       "        [ 9, 10],\n",
       "        [13, 14]], dtype=int32),\n",
       " array([[ 3,  4],\n",
       "        [ 7,  8],\n",
       "        [11, 12],\n",
       "        [15, 16]], dtype=int32)]"
      ]
     },
     "execution_count": 129,
     "metadata": {},
     "output_type": "execute_result"
    }
   ],
   "source": [
    "# axis=1，对行进行拆分\n",
    "np.split(a, 2, 1)"
   ]
  },
  {
   "cell_type": "markdown",
   "id": "5adaf126",
   "metadata": {},
   "source": [
    "📢 特别注意：如果不满足拆分条件，则会提示错误。"
   ]
  },
  {
   "cell_type": "code",
   "execution_count": 36,
   "id": "e485be82",
   "metadata": {},
   "outputs": [
    {
     "ename": "ValueError",
     "evalue": "array split does not result in an equal division",
     "output_type": "error",
     "traceback": [
      "\u001b[0;31m---------------------------------------------------------------------------\u001b[0m",
      "\u001b[0;31mTypeError\u001b[0m                                 Traceback (most recent call last)",
      "\u001b[0;32m/usr/local/lib/python3.8/site-packages/numpy/lib/shape_base.py\u001b[0m in \u001b[0;36msplit\u001b[0;34m(ary, indices_or_sections, axis)\u001b[0m\n\u001b[1;32m    866\u001b[0m     \u001b[0;32mtry\u001b[0m\u001b[0;34m:\u001b[0m\u001b[0;34m\u001b[0m\u001b[0;34m\u001b[0m\u001b[0m\n\u001b[0;32m--> 867\u001b[0;31m         \u001b[0mlen\u001b[0m\u001b[0;34m(\u001b[0m\u001b[0mindices_or_sections\u001b[0m\u001b[0;34m)\u001b[0m\u001b[0;34m\u001b[0m\u001b[0;34m\u001b[0m\u001b[0m\n\u001b[0m\u001b[1;32m    868\u001b[0m     \u001b[0;32mexcept\u001b[0m \u001b[0mTypeError\u001b[0m\u001b[0;34m:\u001b[0m\u001b[0;34m\u001b[0m\u001b[0;34m\u001b[0m\u001b[0m\n",
      "\u001b[0;31mTypeError\u001b[0m: object of type 'int' has no len()",
      "\nDuring handling of the above exception, another exception occurred:\n",
      "\u001b[0;31mValueError\u001b[0m                                Traceback (most recent call last)",
      "\u001b[0;32m<ipython-input-36-bc29a7b7ab93>\u001b[0m in \u001b[0;36m<module>\u001b[0;34m\u001b[0m\n\u001b[1;32m      1\u001b[0m \u001b[0;31m# 不满足拆分条件\u001b[0m\u001b[0;34m\u001b[0m\u001b[0;34m\u001b[0m\u001b[0;34m\u001b[0m\u001b[0m\n\u001b[0;32m----> 2\u001b[0;31m \u001b[0mnp\u001b[0m\u001b[0;34m.\u001b[0m\u001b[0msplit\u001b[0m\u001b[0;34m(\u001b[0m\u001b[0ma\u001b[0m\u001b[0;34m,\u001b[0m \u001b[0;36m3\u001b[0m\u001b[0;34m)\u001b[0m\u001b[0;34m\u001b[0m\u001b[0;34m\u001b[0m\u001b[0m\n\u001b[0m",
      "\u001b[0;32m<__array_function__ internals>\u001b[0m in \u001b[0;36msplit\u001b[0;34m(*args, **kwargs)\u001b[0m\n",
      "\u001b[0;32m/usr/local/lib/python3.8/site-packages/numpy/lib/shape_base.py\u001b[0m in \u001b[0;36msplit\u001b[0;34m(ary, indices_or_sections, axis)\u001b[0m\n\u001b[1;32m    870\u001b[0m         \u001b[0mN\u001b[0m \u001b[0;34m=\u001b[0m \u001b[0mary\u001b[0m\u001b[0;34m.\u001b[0m\u001b[0mshape\u001b[0m\u001b[0;34m[\u001b[0m\u001b[0maxis\u001b[0m\u001b[0;34m]\u001b[0m\u001b[0;34m\u001b[0m\u001b[0;34m\u001b[0m\u001b[0m\n\u001b[1;32m    871\u001b[0m         \u001b[0;32mif\u001b[0m \u001b[0mN\u001b[0m \u001b[0;34m%\u001b[0m \u001b[0msections\u001b[0m\u001b[0;34m:\u001b[0m\u001b[0;34m\u001b[0m\u001b[0;34m\u001b[0m\u001b[0m\n\u001b[0;32m--> 872\u001b[0;31m             raise ValueError(\n\u001b[0m\u001b[1;32m    873\u001b[0m                 'array split does not result in an equal division')\n\u001b[1;32m    874\u001b[0m     \u001b[0;32mreturn\u001b[0m \u001b[0marray_split\u001b[0m\u001b[0;34m(\u001b[0m\u001b[0mary\u001b[0m\u001b[0;34m,\u001b[0m \u001b[0mindices_or_sections\u001b[0m\u001b[0;34m,\u001b[0m \u001b[0maxis\u001b[0m\u001b[0;34m)\u001b[0m\u001b[0;34m\u001b[0m\u001b[0;34m\u001b[0m\u001b[0m\n",
      "\u001b[0;31mValueError\u001b[0m: array split does not result in an equal division"
     ]
    }
   ],
   "source": [
    "# 不满足拆分条件\n",
    "np.split(a, 3)"
   ]
  },
  {
   "cell_type": "code",
   "execution_count": 130,
   "id": "dd60b673",
   "metadata": {},
   "outputs": [
    {
     "data": {
      "text/plain": [
       "[array([[ 1,  2,  3,  4],\n",
       "        [ 5,  6,  7,  8],\n",
       "        [ 9, 10, 11, 12],\n",
       "        [13, 14, 15, 16]], dtype=int32)]"
      ]
     },
     "execution_count": 130,
     "metadata": {},
     "output_type": "execute_result"
    }
   ],
   "source": [
    "# 也可以为 1，那结果就还是自己\n",
    "np.split(a, 1)"
   ]
  },
  {
   "cell_type": "markdown",
   "id": "3a6a16d3",
   "metadata": {},
   "source": [
    "`np.vsplit` 和 `np.split(..., aixs=0)` 是等价的，所以我们只要掌握 `np.split` 这个 API 就好。"
   ]
  },
  {
   "cell_type": "code",
   "execution_count": 134,
   "id": "94c206db",
   "metadata": {},
   "outputs": [
    {
     "data": {
      "text/plain": [
       "[array([[1, 2, 3, 4],\n",
       "        [5, 6, 7, 8]], dtype=int32),\n",
       " array([[ 9, 10, 11, 12],\n",
       "        [13, 14, 15, 16]], dtype=int32)]"
      ]
     },
     "execution_count": 134,
     "metadata": {},
     "output_type": "execute_result"
    }
   ],
   "source": [
    "np.vsplit(a, 2)"
   ]
  },
  {
   "cell_type": "markdown",
   "id": "b6dcb0d3",
   "metadata": {},
   "source": [
    "### 合并\n",
    "\n",
    "「❓」先思考给定两个 array 要满足什么条件才能合并？有几种合并方式？\n",
    "\n",
    "`np.concatenate` 接受\n",
    "\n",
    "- 一组 array\n",
    "- 维度\n",
    "- 目标 array，大小符合时，会被合并后的结果覆盖掉"
   ]
  },
  {
   "cell_type": "code",
   "execution_count": 152,
   "id": "46465bbc",
   "metadata": {},
   "outputs": [],
   "source": [
    "a = np.arange(1, 13, dtype=np.int32).reshape(3, 4)\n",
    "b = np.arange(-13, -1, dtype=np.int32).reshape(3, 4)"
   ]
  },
  {
   "cell_type": "code",
   "execution_count": 170,
   "id": "01a9022d",
   "metadata": {},
   "outputs": [
    {
     "data": {
      "text/plain": [
       "(array([[ 1,  2,  3,  4],\n",
       "        [ 5,  6,  7,  8],\n",
       "        [ 9, 10, 11, 12]], dtype=int32),\n",
       " array([[-13, -12, -11, -10],\n",
       "        [ -9,  -8,  -7,  -6],\n",
       "        [ -5,  -4,  -3,  -2]], dtype=int32))"
      ]
     },
     "execution_count": 170,
     "metadata": {},
     "output_type": "execute_result"
    }
   ],
   "source": [
    "a, b"
   ]
  },
  {
   "cell_type": "code",
   "execution_count": 153,
   "id": "559ae256",
   "metadata": {},
   "outputs": [
    {
     "data": {
      "text/plain": [
       "array([[ 0,  1,  2,  3],\n",
       "       [ 4,  5,  6,  7],\n",
       "       [ 8,  9, 10, 11],\n",
       "       [12, 13, 14, 15],\n",
       "       [16, 17, 18, 19],\n",
       "       [20, 21, 22, 23]])"
      ]
     },
     "execution_count": 153,
     "metadata": {},
     "output_type": "execute_result"
    }
   ],
   "source": [
    "base = np.arange(24).reshape(6, 4)\n",
    "base"
   ]
  },
  {
   "cell_type": "code",
   "execution_count": 154,
   "id": "318847ff",
   "metadata": {},
   "outputs": [
    {
     "data": {
      "text/plain": [
       "array([[  1,   2,   3,   4],\n",
       "       [  5,   6,   7,   8],\n",
       "       [  9,  10,  11,  12],\n",
       "       [-13, -12, -11, -10],\n",
       "       [ -9,  -8,  -7,  -6],\n",
       "       [ -5,  -4,  -3,  -2]])"
      ]
     },
     "execution_count": 154,
     "metadata": {},
     "output_type": "execute_result"
    }
   ],
   "source": [
    "np.concatenate((a, b), axis=0, out=base)"
   ]
  },
  {
   "cell_type": "code",
   "execution_count": 155,
   "id": "f8f88139",
   "metadata": {},
   "outputs": [
    {
     "ename": "ValueError",
     "evalue": "Output array is the wrong shape",
     "output_type": "error",
     "traceback": [
      "\u001b[0;31m---------------------------------------------------------------------------\u001b[0m",
      "\u001b[0;31mValueError\u001b[0m                                Traceback (most recent call last)",
      "\u001b[0;32m<ipython-input-155-8ba7369b2923>\u001b[0m in \u001b[0;36m<module>\u001b[0;34m\u001b[0m\n\u001b[0;32m----> 1\u001b[0;31m \u001b[0mnp\u001b[0m\u001b[0;34m.\u001b[0m\u001b[0mconcatenate\u001b[0m\u001b[0;34m(\u001b[0m\u001b[0;34m(\u001b[0m\u001b[0ma\u001b[0m\u001b[0;34m,\u001b[0m \u001b[0mb\u001b[0m\u001b[0;34m)\u001b[0m\u001b[0;34m,\u001b[0m \u001b[0maxis\u001b[0m\u001b[0;34m=\u001b[0m\u001b[0;36m1\u001b[0m\u001b[0;34m,\u001b[0m \u001b[0mout\u001b[0m\u001b[0;34m=\u001b[0m\u001b[0mbase\u001b[0m\u001b[0;34m)\u001b[0m\u001b[0;34m\u001b[0m\u001b[0;34m\u001b[0m\u001b[0m\n\u001b[0m",
      "\u001b[0;32m<__array_function__ internals>\u001b[0m in \u001b[0;36mconcatenate\u001b[0;34m(*args, **kwargs)\u001b[0m\n",
      "\u001b[0;31mValueError\u001b[0m: Output array is the wrong shape"
     ]
    }
   ],
   "source": [
    "np.concatenate((a, b), axis=1, out=base)"
   ]
  },
  {
   "cell_type": "markdown",
   "id": "7c47a8ae",
   "metadata": {},
   "source": [
    "`np.vstack` 和 `np.hstack` 是 `np.concatenate` 在不同维度的快捷方式，我们只需记住一个就好。"
   ]
  },
  {
   "cell_type": "code",
   "execution_count": 157,
   "id": "0bb6c1dd",
   "metadata": {},
   "outputs": [
    {
     "data": {
      "text/plain": [
       "array([[  1,   2,   3,   4],\n",
       "       [  5,   6,   7,   8],\n",
       "       [  9,  10,  11,  12],\n",
       "       [-13, -12, -11, -10],\n",
       "       [ -9,  -8,  -7,  -6],\n",
       "       [ -5,  -4,  -3,  -2]], dtype=int32)"
      ]
     },
     "execution_count": 157,
     "metadata": {},
     "output_type": "execute_result"
    }
   ],
   "source": [
    "np.vstack((a, b))"
   ]
  },
  {
   "cell_type": "code",
   "execution_count": 158,
   "id": "7a865d80",
   "metadata": {},
   "outputs": [
    {
     "data": {
      "text/plain": [
       "array([[  1,   2,   3,   4, -13, -12, -11, -10],\n",
       "       [  5,   6,   7,   8,  -9,  -8,  -7,  -6],\n",
       "       [  9,  10,  11,  12,  -5,  -4,  -3,  -2]], dtype=int32)"
      ]
     },
     "execution_count": 158,
     "metadata": {},
     "output_type": "execute_result"
    }
   ],
   "source": [
    "np.hstack((a, b))"
   ]
  },
  {
   "cell_type": "markdown",
   "id": "0c23a03e",
   "metadata": {},
   "source": [
    "除了 `concatenate` 外，还有一个 `np.stack` 表示「堆叠」，它们的区别是堆叠会在对应的维度上增加维度（毕竟是拼起来的嘛）。两个API的参数是一样的。"
   ]
  },
  {
   "cell_type": "code",
   "execution_count": 162,
   "id": "8efb7513",
   "metadata": {},
   "outputs": [
    {
     "data": {
      "text/plain": [
       "array([[[  1,   2,   3,   4],\n",
       "        [  5,   6,   7,   8],\n",
       "        [  9,  10,  11,  12]],\n",
       "\n",
       "       [[-13, -12, -11, -10],\n",
       "        [ -9,  -8,  -7,  -6],\n",
       "        [ -5,  -4,  -3,  -2]]], dtype=int32)"
      ]
     },
     "execution_count": 162,
     "metadata": {},
     "output_type": "execute_result"
    }
   ],
   "source": [
    "np.stack((a, b))"
   ]
  },
  {
   "cell_type": "code",
   "execution_count": 163,
   "id": "9dce4f29",
   "metadata": {},
   "outputs": [
    {
     "data": {
      "text/plain": [
       "(2, 3, 4)"
      ]
     },
     "execution_count": 163,
     "metadata": {},
     "output_type": "execute_result"
    }
   ],
   "source": [
    "_.shape"
   ]
  },
  {
   "cell_type": "code",
   "execution_count": 164,
   "id": "3097df0e",
   "metadata": {},
   "outputs": [
    {
     "data": {
      "text/plain": [
       "array([[[  1,   2,   3,   4],\n",
       "        [-13, -12, -11, -10]],\n",
       "\n",
       "       [[  5,   6,   7,   8],\n",
       "        [ -9,  -8,  -7,  -6]],\n",
       "\n",
       "       [[  9,  10,  11,  12],\n",
       "        [ -5,  -4,  -3,  -2]]], dtype=int32)"
      ]
     },
     "execution_count": 164,
     "metadata": {},
     "output_type": "execute_result"
    }
   ],
   "source": [
    "np.stack((a, b), axis=1)"
   ]
  },
  {
   "cell_type": "code",
   "execution_count": 165,
   "id": "7a082b86",
   "metadata": {},
   "outputs": [
    {
     "data": {
      "text/plain": [
       "(3, 2, 4)"
      ]
     },
     "execution_count": 165,
     "metadata": {},
     "output_type": "execute_result"
    }
   ],
   "source": [
    "_.shape"
   ]
  },
  {
   "cell_type": "code",
   "execution_count": 168,
   "id": "c8e04009",
   "metadata": {},
   "outputs": [
    {
     "data": {
      "text/plain": [
       "array([[[  1, -13],\n",
       "        [  2, -12],\n",
       "        [  3, -11],\n",
       "        [  4, -10]],\n",
       "\n",
       "       [[  5,  -9],\n",
       "        [  6,  -8],\n",
       "        [  7,  -7],\n",
       "        [  8,  -6]],\n",
       "\n",
       "       [[  9,  -5],\n",
       "        [ 10,  -4],\n",
       "        [ 11,  -3],\n",
       "        [ 12,  -2]]], dtype=int32)"
      ]
     },
     "execution_count": 168,
     "metadata": {},
     "output_type": "execute_result"
    }
   ],
   "source": [
    "np.stack((a, b), axis=2)"
   ]
  },
  {
   "cell_type": "code",
   "execution_count": 169,
   "id": "0024313b",
   "metadata": {},
   "outputs": [
    {
     "data": {
      "text/plain": [
       "(3, 4, 2)"
      ]
     },
     "execution_count": 169,
     "metadata": {},
     "output_type": "execute_result"
    }
   ],
   "source": [
    "_.shape"
   ]
  },
  {
   "cell_type": "markdown",
   "id": "af2d92cd",
   "metadata": {},
   "source": [
    "### 缺失值处理\n",
    "\n",
    "缺失值表示对应位置「没有值」，在NumPy中以 `np.nan` 表示，它是一个浮点数。"
   ]
  },
  {
   "cell_type": "code",
   "execution_count": 176,
   "id": "0ddedacb",
   "metadata": {},
   "outputs": [
    {
     "ename": "ValueError",
     "evalue": "cannot convert float NaN to integer",
     "output_type": "error",
     "traceback": [
      "\u001b[0;31m---------------------------------------------------------------------------\u001b[0m",
      "\u001b[0;31mValueError\u001b[0m                                Traceback (most recent call last)",
      "\u001b[0;32m<ipython-input-176-0f07e19cebff>\u001b[0m in \u001b[0;36m<module>\u001b[0;34m\u001b[0m\n\u001b[0;32m----> 1\u001b[0;31m \u001b[0ma\u001b[0m \u001b[0;34m=\u001b[0m \u001b[0mnp\u001b[0m\u001b[0;34m.\u001b[0m\u001b[0marray\u001b[0m\u001b[0;34m(\u001b[0m\u001b[0;34m[\u001b[0m\u001b[0;36m1\u001b[0m\u001b[0;34m,\u001b[0m \u001b[0mnp\u001b[0m\u001b[0;34m.\u001b[0m\u001b[0mnan\u001b[0m\u001b[0;34m]\u001b[0m\u001b[0;34m,\u001b[0m \u001b[0mdtype\u001b[0m\u001b[0;34m=\u001b[0m\u001b[0mnp\u001b[0m\u001b[0;34m.\u001b[0m\u001b[0mint32\u001b[0m\u001b[0;34m)\u001b[0m\u001b[0;34m\u001b[0m\u001b[0;34m\u001b[0m\u001b[0m\n\u001b[0m",
      "\u001b[0;31mValueError\u001b[0m: cannot convert float NaN to integer"
     ]
    }
   ],
   "source": [
    "a = np.array([1, np.nan], dtype=np.int32)"
   ]
  },
  {
   "cell_type": "code",
   "execution_count": 182,
   "id": "304f4de6",
   "metadata": {},
   "outputs": [
    {
     "data": {
      "text/plain": [
       "array([[nan,  1.,  2.],\n",
       "       [ 3., nan,  4.]], dtype=float32)"
      ]
     },
     "execution_count": 182,
     "metadata": {},
     "output_type": "execute_result"
    }
   ],
   "source": [
    "a = np.array([[np.nan, 1., 2.], [3., np.nan, 4.]], dtype=np.float32)\n",
    "a"
   ]
  },
  {
   "cell_type": "markdown",
   "id": "5739002b",
   "metadata": {},
   "source": [
    "如果数组里有缺失值，在相加（以及其他运算）的时候会直接等于 `np.nan`："
   ]
  },
  {
   "cell_type": "code",
   "execution_count": 183,
   "id": "55a86603",
   "metadata": {},
   "outputs": [
    {
     "data": {
      "text/plain": [
       "nan"
      ]
     },
     "execution_count": 183,
     "metadata": {},
     "output_type": "execute_result"
    }
   ],
   "source": [
    "np.sum(a)"
   ]
  },
  {
   "cell_type": "markdown",
   "id": "9cf479f8",
   "metadata": {},
   "source": [
    "但如果某一列或某一行没有 `np.nan`，则会输出正常值："
   ]
  },
  {
   "cell_type": "code",
   "execution_count": 190,
   "id": "9186146d",
   "metadata": {},
   "outputs": [
    {
     "data": {
      "text/plain": [
       "array([nan, nan,  6.], dtype=float32)"
      ]
     },
     "execution_count": 190,
     "metadata": {},
     "output_type": "execute_result"
    }
   ],
   "source": [
    "np.sum(a, axis=0)"
   ]
  },
  {
   "cell_type": "markdown",
   "id": "f610405d",
   "metadata": {},
   "source": [
    "要想忽略缺失值，可以使用索引替换，或直接使用 `np.nan<oper>` API，<oper> 表示运算，比如：`sum`，`max` 等。"
   ]
  },
  {
   "cell_type": "code",
   "execution_count": 191,
   "id": "cee1febd",
   "metadata": {},
   "outputs": [
    {
     "data": {
      "text/plain": [
       "10.0"
      ]
     },
     "execution_count": 191,
     "metadata": {},
     "output_type": "execute_result"
    }
   ],
   "source": [
    "np.nansum(a)"
   ]
  },
  {
   "cell_type": "code",
   "execution_count": 192,
   "id": "2c0dc1fa",
   "metadata": {},
   "outputs": [
    {
     "data": {
      "text/plain": [
       "4.0"
      ]
     },
     "execution_count": 192,
     "metadata": {},
     "output_type": "execute_result"
    }
   ],
   "source": [
    "np.nanmax(a)"
   ]
  },
  {
   "cell_type": "markdown",
   "id": "1d86d570",
   "metadata": {},
   "source": [
    "### 修改形状\n",
    "\n",
    "这个我们刚刚其实一直在用，有两个接口：`np.reshape` 和 `np.resize`。后者是 in-place 的，在新的 shape 无法被满足时，会使用 0 填充，或截断。"
   ]
  },
  {
   "cell_type": "code",
   "execution_count": 203,
   "id": "78171824",
   "metadata": {},
   "outputs": [],
   "source": [
    "a = np.arange(8)\n",
    "a.resize(4, 2)"
   ]
  },
  {
   "cell_type": "code",
   "execution_count": 204,
   "id": "980069fd",
   "metadata": {},
   "outputs": [
    {
     "data": {
      "text/plain": [
       "array([[0, 1],\n",
       "       [2, 3],\n",
       "       [4, 5],\n",
       "       [6, 7]])"
      ]
     },
     "execution_count": 204,
     "metadata": {},
     "output_type": "execute_result"
    }
   ],
   "source": [
    "a"
   ]
  },
  {
   "cell_type": "code",
   "execution_count": 205,
   "id": "ecb7cbf8",
   "metadata": {},
   "outputs": [],
   "source": [
    "b = np.arange(8)\n",
    "b.resize(2, 3)"
   ]
  },
  {
   "cell_type": "code",
   "execution_count": 206,
   "id": "88ea85ca",
   "metadata": {},
   "outputs": [
    {
     "data": {
      "text/plain": [
       "array([[0, 1, 2],\n",
       "       [3, 4, 5]])"
      ]
     },
     "execution_count": 206,
     "metadata": {},
     "output_type": "execute_result"
    }
   ],
   "source": [
    "b"
   ]
  },
  {
   "cell_type": "code",
   "execution_count": 207,
   "id": "e04e7938",
   "metadata": {},
   "outputs": [],
   "source": [
    "c = np.arange(8)\n",
    "c.resize(2, 5)"
   ]
  },
  {
   "cell_type": "code",
   "execution_count": 208,
   "id": "bc7c84ed",
   "metadata": {
    "scrolled": true
   },
   "outputs": [
    {
     "data": {
      "text/plain": [
       "array([[0, 1, 2, 3, 4],\n",
       "       [5, 6, 7, 0, 0]])"
      ]
     },
     "execution_count": 208,
     "metadata": {},
     "output_type": "execute_result"
    }
   ],
   "source": [
    "c"
   ]
  },
  {
   "cell_type": "code",
   "execution_count": 213,
   "id": "d082c56d",
   "metadata": {},
   "outputs": [
    {
     "ename": "ValueError",
     "evalue": "cannot reshape array of size 8 into shape (2,3)",
     "output_type": "error",
     "traceback": [
      "\u001b[0;31m---------------------------------------------------------------------------\u001b[0m",
      "\u001b[0;31mValueError\u001b[0m                                Traceback (most recent call last)",
      "\u001b[0;32m<ipython-input-213-2a3def035a83>\u001b[0m in \u001b[0;36m<module>\u001b[0;34m\u001b[0m\n\u001b[1;32m      1\u001b[0m \u001b[0ma\u001b[0m \u001b[0;34m=\u001b[0m \u001b[0mnp\u001b[0m\u001b[0;34m.\u001b[0m\u001b[0marange\u001b[0m\u001b[0;34m(\u001b[0m\u001b[0;36m8\u001b[0m\u001b[0;34m)\u001b[0m\u001b[0;34m\u001b[0m\u001b[0;34m\u001b[0m\u001b[0m\n\u001b[0;32m----> 2\u001b[0;31m \u001b[0ma\u001b[0m\u001b[0;34m.\u001b[0m\u001b[0mreshape\u001b[0m\u001b[0;34m(\u001b[0m\u001b[0;36m2\u001b[0m\u001b[0;34m,\u001b[0m \u001b[0;36m3\u001b[0m\u001b[0;34m)\u001b[0m\u001b[0;34m\u001b[0m\u001b[0;34m\u001b[0m\u001b[0m\n\u001b[0m",
      "\u001b[0;31mValueError\u001b[0m: cannot reshape array of size 8 into shape (2,3)"
     ]
    }
   ],
   "source": [
    "a = np.arange(8)\n",
    "a.reshape(2, 3)"
   ]
  },
  {
   "cell_type": "markdown",
   "id": "4aa87591",
   "metadata": {},
   "source": [
    "### 轴的调换\n",
    "\n",
    "调换一个数组的两个轴。"
   ]
  },
  {
   "cell_type": "code",
   "execution_count": 235,
   "id": "c864728d",
   "metadata": {
    "scrolled": true
   },
   "outputs": [],
   "source": [
    "x = np.arange(24).reshape(2, 3, 4)"
   ]
  },
  {
   "cell_type": "code",
   "execution_count": 236,
   "id": "964a1acd",
   "metadata": {
    "scrolled": true
   },
   "outputs": [
    {
     "data": {
      "text/plain": [
       "(3, 2, 4)"
      ]
     },
     "execution_count": 236,
     "metadata": {},
     "output_type": "execute_result"
    }
   ],
   "source": [
    "x.swapaxes(0, 1).shape"
   ]
  },
  {
   "cell_type": "code",
   "execution_count": 237,
   "id": "6208f7bf",
   "metadata": {},
   "outputs": [
    {
     "data": {
      "text/plain": [
       "(4, 3, 2)"
      ]
     },
     "execution_count": 237,
     "metadata": {},
     "output_type": "execute_result"
    }
   ],
   "source": [
    "x.swapaxes(0, 2).shape"
   ]
  },
  {
   "cell_type": "markdown",
   "id": "75492a76",
   "metadata": {},
   "source": [
    "看个小例子："
   ]
  },
  {
   "cell_type": "code",
   "execution_count": 239,
   "id": "1913c1a5",
   "metadata": {},
   "outputs": [
    {
     "data": {
      "text/plain": [
       "array([[ 0,  1,  2,  3],\n",
       "       [ 4,  5,  6,  7],\n",
       "       [ 8,  9, 10, 11]])"
      ]
     },
     "execution_count": 239,
     "metadata": {},
     "output_type": "execute_result"
    }
   ],
   "source": [
    "x = np.arange(12).reshape(3, 4)\n",
    "x"
   ]
  },
  {
   "cell_type": "code",
   "execution_count": 240,
   "id": "dd164344",
   "metadata": {},
   "outputs": [
    {
     "data": {
      "text/plain": [
       "array([[ 0,  4,  8],\n",
       "       [ 1,  5,  9],\n",
       "       [ 2,  6, 10],\n",
       "       [ 3,  7, 11]])"
      ]
     },
     "execution_count": 240,
     "metadata": {},
     "output_type": "execute_result"
    }
   ],
   "source": [
    "x.swapaxes(0, 1)"
   ]
  },
  {
   "cell_type": "markdown",
   "id": "df46e5c5",
   "metadata": {},
   "source": [
    "超出数据维度的范围，无法交换："
   ]
  },
  {
   "cell_type": "code",
   "execution_count": 247,
   "id": "3206f647",
   "metadata": {},
   "outputs": [
    {
     "ename": "AxisError",
     "evalue": "axis2: axis 2 is out of bounds for array of dimension 2",
     "output_type": "error",
     "traceback": [
      "\u001b[0;31m---------------------------------------------------------------------------\u001b[0m",
      "\u001b[0;31mAxisError\u001b[0m                                 Traceback (most recent call last)",
      "\u001b[0;32m<ipython-input-247-acc70a0a0202>\u001b[0m in \u001b[0;36m<module>\u001b[0;34m\u001b[0m\n\u001b[0;32m----> 1\u001b[0;31m \u001b[0mx\u001b[0m\u001b[0;34m.\u001b[0m\u001b[0mswapaxes\u001b[0m\u001b[0;34m(\u001b[0m\u001b[0;36m0\u001b[0m\u001b[0;34m,\u001b[0m \u001b[0;36m2\u001b[0m\u001b[0;34m)\u001b[0m\u001b[0;34m\u001b[0m\u001b[0;34m\u001b[0m\u001b[0m\n\u001b[0m",
      "\u001b[0;31mAxisError\u001b[0m: axis2: axis 2 is out of bounds for array of dimension 2"
     ]
    }
   ],
   "source": [
    "x.swapaxes(0, 2)"
   ]
  },
  {
   "cell_type": "markdown",
   "id": "3cafe17e",
   "metadata": {},
   "source": [
    "### 修改数据类型\n",
    "\n",
    "这里修改数据类型指的不是修改array元素的数据类型，而是对array进行转换。"
   ]
  },
  {
   "cell_type": "code",
   "execution_count": 249,
   "id": "d5809902",
   "metadata": {},
   "outputs": [
    {
     "data": {
      "text/plain": [
       "array([[0, 1, 2],\n",
       "       [3, 4, 5]])"
      ]
     },
     "execution_count": 249,
     "metadata": {},
     "output_type": "execute_result"
    }
   ],
   "source": [
    "a = np.arange(6).reshape(2,3)\n",
    "a"
   ]
  },
  {
   "cell_type": "code",
   "execution_count": 251,
   "id": "50edb926",
   "metadata": {},
   "outputs": [
    {
     "data": {
      "text/plain": [
       "[[0, 1, 2], [3, 4, 5]]"
      ]
     },
     "execution_count": 251,
     "metadata": {},
     "output_type": "execute_result"
    }
   ],
   "source": [
    "# 转换成Python数组\n",
    "a.tolist()"
   ]
  },
  {
   "cell_type": "code",
   "execution_count": 253,
   "id": "cefd1f52",
   "metadata": {},
   "outputs": [
    {
     "data": {
      "text/plain": [
       "array([0, 1, 2, 3, 4, 5])"
      ]
     },
     "execution_count": 253,
     "metadata": {},
     "output_type": "execute_result"
    }
   ],
   "source": [
    "# 打平数组\n",
    "a.flatten()"
   ]
  },
  {
   "cell_type": "markdown",
   "id": "22017309",
   "metadata": {},
   "source": [
    "### 拷贝\n",
    "\n",
    "主要包括 copy 和 view，上面有提到过一点，view 主要是在一个 `base` 上进行各种 shape 的变换；而 copy 则是重新复制一份数据。"
   ]
  },
  {
   "cell_type": "code",
   "execution_count": 258,
   "id": "a2a3c3a3",
   "metadata": {},
   "outputs": [],
   "source": [
    "a = np.arange(6).reshape(2, 3)"
   ]
  },
  {
   "cell_type": "code",
   "execution_count": 262,
   "id": "e741823b",
   "metadata": {},
   "outputs": [],
   "source": [
    "# b 是一个 view\n",
    "b = a"
   ]
  },
  {
   "cell_type": "code",
   "execution_count": 263,
   "id": "af1c953c",
   "metadata": {},
   "outputs": [
    {
     "data": {
      "text/plain": [
       "True"
      ]
     },
     "execution_count": 263,
     "metadata": {},
     "output_type": "execute_result"
    }
   ],
   "source": [
    "np.shares_memory(a, b)"
   ]
  },
  {
   "cell_type": "code",
   "execution_count": 264,
   "id": "80678dee",
   "metadata": {},
   "outputs": [],
   "source": [
    "c = a.copy()"
   ]
  },
  {
   "cell_type": "code",
   "execution_count": 265,
   "id": "347af35a",
   "metadata": {
    "scrolled": true
   },
   "outputs": [
    {
     "data": {
      "text/plain": [
       "False"
      ]
     },
     "execution_count": 265,
     "metadata": {},
     "output_type": "execute_result"
    }
   ],
   "source": [
    "np.shares_memory(a, c)"
   ]
  },
  {
   "cell_type": "markdown",
   "id": "4eb33475",
   "metadata": {},
   "source": [
    "### 排序\n",
    "\n",
    "主要包括两个 API：`np.sort` 和 `np.argsort`，前者返回元素排序后的结果，后者则返回对应的 index。\n",
    "\n",
    "它们都接受四个参数：\n",
    "\n",
    "- 数组\n",
    "- 对应的维度方向\n",
    "- 排序算法，默认快排\n",
    "- 顺序，当数组有多个领域（结构化数组）时，这个参数指定那个字段先比较"
   ]
  },
  {
   "cell_type": "code",
   "execution_count": 269,
   "id": "b42ce0ef",
   "metadata": {},
   "outputs": [],
   "source": [
    "rng = np.random.default_rng()"
   ]
  },
  {
   "cell_type": "code",
   "execution_count": 272,
   "id": "d7d11dfb",
   "metadata": {},
   "outputs": [
    {
     "data": {
      "text/plain": [
       "array([[56, 57, 91],\n",
       "       [52, 43, 41]])"
      ]
     },
     "execution_count": 272,
     "metadata": {},
     "output_type": "execute_result"
    }
   ],
   "source": [
    "arr = rng.integers(1, 100, (2, 3))\n",
    "arr"
   ]
  },
  {
   "cell_type": "code",
   "execution_count": 274,
   "id": "35c1cb56",
   "metadata": {},
   "outputs": [
    {
     "data": {
      "text/plain": [
       "array([[52, 43, 41],\n",
       "       [56, 57, 91]])"
      ]
     },
     "execution_count": 274,
     "metadata": {},
     "output_type": "execute_result"
    }
   ],
   "source": [
    "# 按列排序\n",
    "np.sort(arr, 0)"
   ]
  },
  {
   "cell_type": "code",
   "execution_count": 275,
   "id": "79e7a6d3",
   "metadata": {},
   "outputs": [
    {
     "data": {
      "text/plain": [
       "array([[56, 57, 91],\n",
       "       [41, 43, 52]])"
      ]
     },
     "execution_count": 275,
     "metadata": {},
     "output_type": "execute_result"
    }
   ],
   "source": [
    "# 按行\n",
    "np.sort(arr, 1)"
   ]
  },
  {
   "cell_type": "code",
   "execution_count": 279,
   "id": "b40a67fd",
   "metadata": {},
   "outputs": [
    {
     "data": {
      "text/plain": [
       "array([[56, 57, 91],\n",
       "       [41, 43, 52]])"
      ]
     },
     "execution_count": 279,
     "metadata": {},
     "output_type": "execute_result"
    }
   ],
   "source": [
    "# 默认按最后一个维度的\n",
    "np.sort(arr)"
   ]
  },
  {
   "cell_type": "markdown",
   "id": "2f5b4e3d",
   "metadata": {},
   "source": [
    "接下来是对应的index："
   ]
  },
  {
   "cell_type": "code",
   "execution_count": 281,
   "id": "07cdde31",
   "metadata": {},
   "outputs": [
    {
     "data": {
      "text/plain": [
       "array([[0, 1, 2],\n",
       "       [2, 1, 0]])"
      ]
     },
     "execution_count": 281,
     "metadata": {},
     "output_type": "execute_result"
    }
   ],
   "source": [
    "np.argsort(arr)"
   ]
  },
  {
   "cell_type": "code",
   "execution_count": 282,
   "id": "151e8c91",
   "metadata": {},
   "outputs": [
    {
     "data": {
      "text/plain": [
       "array([[1, 1, 1],\n",
       "       [0, 0, 0]])"
      ]
     },
     "execution_count": 282,
     "metadata": {},
     "output_type": "execute_result"
    }
   ],
   "source": [
    "np.argsort(arr, 0)"
   ]
  },
  {
   "cell_type": "markdown",
   "id": "b9f848a8",
   "metadata": {},
   "source": [
    "## 统计分析\n",
    "\n",
    "统计分析主要指常用的一些统计指标，如均值、中位数、众数、极差、方差、标准差等。"
   ]
  },
  {
   "cell_type": "markdown",
   "id": "b82e8907",
   "metadata": {},
   "source": [
    "### 平均数\n",
    "\n",
    "`np.mean` 或 `np.average` 都可以用来计算平均值。\n",
    "\n",
    "`np.mean` 包括下面几个参数：\n",
    "\n",
    "- 数组\n",
    "- 维度\n",
    "- 数据类型，如果输入是整数，则为浮点数；如果输入是浮点数，则为输入的类型。\n",
    "- 替换的数组，和之前提到的一样\n",
    "- 是否保持维度，求均值后数组会降维，这个参数控制维度是否发生变化。\n",
    "\n",
    "`np.average` 包括下面几个参数：\n",
    "\n",
    "- 数组\n",
    "- 维度\n",
    "- 权重\n",
    "- 是否返回权重和"
   ]
  },
  {
   "cell_type": "code",
   "execution_count": 318,
   "id": "fee60724",
   "metadata": {},
   "outputs": [
    {
     "data": {
      "text/plain": [
       "array([[1, 7, 6],\n",
       "       [4, 4, 8]])"
      ]
     },
     "execution_count": 318,
     "metadata": {},
     "output_type": "execute_result"
    }
   ],
   "source": [
    "rng = np.random.default_rng(seed=42)\n",
    "arr = rng.integers(1, 10, (2, 3))\n",
    "arr"
   ]
  },
  {
   "cell_type": "code",
   "execution_count": 319,
   "id": "35429655",
   "metadata": {},
   "outputs": [
    {
     "data": {
      "text/plain": [
       "5.0"
      ]
     },
     "execution_count": 319,
     "metadata": {},
     "output_type": "execute_result"
    }
   ],
   "source": [
    "np.mean(arr)"
   ]
  },
  {
   "cell_type": "code",
   "execution_count": 329,
   "id": "7a495cab",
   "metadata": {
    "scrolled": true
   },
   "outputs": [
    {
     "data": {
      "text/plain": [
       "array([2.5, 5.5, 7. ])"
      ]
     },
     "execution_count": 329,
     "metadata": {},
     "output_type": "execute_result"
    }
   ],
   "source": [
    "# 按列\n",
    "np.mean(arr, 0)"
   ]
  },
  {
   "cell_type": "code",
   "execution_count": 330,
   "id": "9d80edcb",
   "metadata": {},
   "outputs": [
    {
     "data": {
      "text/plain": [
       "(3,)"
      ]
     },
     "execution_count": 330,
     "metadata": {},
     "output_type": "execute_result"
    }
   ],
   "source": [
    "_.shape"
   ]
  },
  {
   "cell_type": "code",
   "execution_count": 321,
   "id": "60cc92d5",
   "metadata": {
    "scrolled": true
   },
   "outputs": [
    {
     "data": {
      "text/plain": [
       "array([4.66666667, 5.33333333])"
      ]
     },
     "execution_count": 321,
     "metadata": {},
     "output_type": "execute_result"
    }
   ],
   "source": [
    "# 按行\n",
    "np.average(arr, 1)"
   ]
  },
  {
   "cell_type": "code",
   "execution_count": 322,
   "id": "dcf4a23d",
   "metadata": {},
   "outputs": [
    {
     "data": {
      "text/plain": [
       "array([2.1, 4.4])"
      ]
     },
     "execution_count": 322,
     "metadata": {},
     "output_type": "execute_result"
    }
   ],
   "source": [
    "# 加上权重\n",
    "np.average(arr, 1, [0.8, 0.1, 0.1])"
   ]
  },
  {
   "cell_type": "code",
   "execution_count": 323,
   "id": "8e1fd35b",
   "metadata": {},
   "outputs": [
    {
     "data": {
      "text/plain": [
       "(2.1, 4.0)"
      ]
     },
     "execution_count": 323,
     "metadata": {},
     "output_type": "execute_result"
    }
   ],
   "source": [
    "1*0.8 + 7*0.1 + 6*0.1, 4*0.8 + 4*0.1 + 4*0.1"
   ]
  },
  {
   "cell_type": "code",
   "execution_count": 324,
   "id": "c85c9521",
   "metadata": {},
   "outputs": [
    {
     "data": {
      "text/plain": [
       "array([[5.]])"
      ]
     },
     "execution_count": 324,
     "metadata": {},
     "output_type": "execute_result"
    }
   ],
   "source": [
    "np.mean(arr, keepdims=True)"
   ]
  },
  {
   "cell_type": "code",
   "execution_count": 328,
   "id": "3cc5c838",
   "metadata": {},
   "outputs": [
    {
     "data": {
      "text/plain": [
       "array([[2.5, 5.5, 7. ]])"
      ]
     },
     "execution_count": 328,
     "metadata": {},
     "output_type": "execute_result"
    }
   ],
   "source": [
    "# 在列上保持维度（结果还是3列）\n",
    "np.mean(arr, 0, keepdims=True)"
   ]
  },
  {
   "cell_type": "code",
   "execution_count": 327,
   "id": "b6a4a12f",
   "metadata": {
    "scrolled": true
   },
   "outputs": [
    {
     "data": {
      "text/plain": [
       "(1, 3)"
      ]
     },
     "execution_count": 327,
     "metadata": {},
     "output_type": "execute_result"
    }
   ],
   "source": [
    "_.shape"
   ]
  },
  {
   "cell_type": "markdown",
   "id": "c6e3e51e",
   "metadata": {},
   "source": [
    "### 中位数\n",
    "\n",
    "`np.median` 有5个参数：\n",
    "\n",
    "- 数组\n",
    "- 维度\n",
    "- 替换的输出\n",
    "- 是否覆盖输入\n",
    "- 是否保持维度"
   ]
  },
  {
   "cell_type": "code",
   "execution_count": 351,
   "id": "7a93e23c",
   "metadata": {},
   "outputs": [
    {
     "data": {
      "text/plain": [
       "array([[1, 7, 6, 4],\n",
       "       [4, 8, 1, 7],\n",
       "       [2, 1, 5, 9]])"
      ]
     },
     "execution_count": 351,
     "metadata": {},
     "output_type": "execute_result"
    }
   ],
   "source": [
    "rng = np.random.default_rng(seed=42)\n",
    "arr = rng.integers(1, 10, (3, 4))\n",
    "arr"
   ]
  },
  {
   "cell_type": "code",
   "execution_count": 352,
   "id": "4c57c0de",
   "metadata": {},
   "outputs": [
    {
     "data": {
      "text/plain": [
       "array([2., 7., 5., 7.])"
      ]
     },
     "execution_count": 352,
     "metadata": {},
     "output_type": "execute_result"
    }
   ],
   "source": [
    "np.median(arr, axis=0)"
   ]
  },
  {
   "cell_type": "code",
   "execution_count": 353,
   "id": "4a820707",
   "metadata": {},
   "outputs": [
    {
     "data": {
      "text/plain": [
       "array([5. , 5.5, 3.5])"
      ]
     },
     "execution_count": 353,
     "metadata": {},
     "output_type": "execute_result"
    }
   ],
   "source": [
    "np.median(arr, axis=1)"
   ]
  },
  {
   "cell_type": "code",
   "execution_count": 354,
   "id": "aa334c3b",
   "metadata": {},
   "outputs": [
    {
     "data": {
      "text/plain": [
       "array([[2., 7., 5., 7.]])"
      ]
     },
     "execution_count": 354,
     "metadata": {},
     "output_type": "execute_result"
    }
   ],
   "source": [
    "np.median(arr, 0, keepdims=True)"
   ]
  },
  {
   "cell_type": "code",
   "execution_count": 355,
   "id": "f145518d",
   "metadata": {},
   "outputs": [
    {
     "data": {
      "text/plain": [
       "(1, 4)"
      ]
     },
     "execution_count": 355,
     "metadata": {},
     "output_type": "execute_result"
    }
   ],
   "source": [
    "_.shape"
   ]
  },
  {
   "cell_type": "code",
   "execution_count": 350,
   "id": "135fa91b",
   "metadata": {},
   "outputs": [
    {
     "data": {
      "text/plain": [
       "array([[1, 1, 2, 1],\n",
       "       [4, 4, 5, 6],\n",
       "       [7, 7, 8, 9]])"
      ]
     },
     "execution_count": 350,
     "metadata": {},
     "output_type": "execute_result"
    }
   ],
   "source": [
    "np.median(arr, overwrite_input=True)\n",
    "arr"
   ]
  },
  {
   "cell_type": "markdown",
   "id": "38188726",
   "metadata": {},
   "source": [
    "### 众数\n",
    "\n",
    "众数是出现次数最多的数字。NumPY里没有这个方法，可以通过其他方式得到。"
   ]
  },
  {
   "cell_type": "code",
   "execution_count": 4,
   "id": "40dbad4c",
   "metadata": {
    "scrolled": true
   },
   "outputs": [
    {
     "data": {
      "text/plain": [
       "array([[1, 4, 3, 2, 2],\n",
       "       [4, 1, 3, 1, 1],\n",
       "       [3, 4, 3, 4, 3],\n",
       "       [4, 3, 1, 4, 2],\n",
       "       [3, 2, 1, 4, 4]])"
      ]
     },
     "execution_count": 4,
     "metadata": {},
     "output_type": "execute_result"
    }
   ],
   "source": [
    "rng = np.random.default_rng(42)\n",
    "arr = rng.integers(1, 5, (5, 5))\n",
    "arr"
   ]
  },
  {
   "cell_type": "code",
   "execution_count": 5,
   "id": "9e6bbb0d",
   "metadata": {},
   "outputs": [
    {
     "data": {
      "text/plain": [
       "(array([1, 2, 3, 4]), array([6, 4, 7, 8]))"
      ]
     },
     "execution_count": 5,
     "metadata": {},
     "output_type": "execute_result"
    }
   ],
   "source": [
    "np.unique(arr, return_counts=True)"
   ]
  },
  {
   "cell_type": "code",
   "execution_count": 6,
   "id": "fab98c4f",
   "metadata": {},
   "outputs": [],
   "source": [
    "from scipy import stats"
   ]
  },
  {
   "cell_type": "code",
   "execution_count": 7,
   "id": "1e6367e8",
   "metadata": {},
   "outputs": [
    {
     "data": {
      "text/plain": [
       "ModeResult(mode=array([[3, 4, 3, 4, 2]]), count=array([[2, 2, 3, 3, 2]]))"
      ]
     },
     "execution_count": 7,
     "metadata": {},
     "output_type": "execute_result"
    }
   ],
   "source": [
    "stats.mode(arr, axis=0)"
   ]
  },
  {
   "cell_type": "code",
   "execution_count": 8,
   "id": "b2483032",
   "metadata": {},
   "outputs": [],
   "source": [
    "from collections import Counter"
   ]
  },
  {
   "cell_type": "code",
   "execution_count": 9,
   "id": "408fcd7d",
   "metadata": {},
   "outputs": [
    {
     "data": {
      "text/plain": [
       "Counter({1: 6, 4: 8, 3: 7, 2: 4})"
      ]
     },
     "execution_count": 9,
     "metadata": {},
     "output_type": "execute_result"
    }
   ],
   "source": [
    "Counter(arr.flatten())"
   ]
  },
  {
   "cell_type": "markdown",
   "id": "ab6eae16",
   "metadata": {},
   "source": [
    "### 极差\n",
    "\n",
    "极差是指最（极）大值和最（极）小值的差。参数如下：\n",
    "\n",
    "- 数组\n",
    "- 维度\n",
    "- 输出替换数组\n",
    "- 是否保持维度\n",
    "\n",
    "这些参数之前都提到过，不再赘述。"
   ]
  },
  {
   "cell_type": "code",
   "execution_count": 10,
   "id": "090378d8",
   "metadata": {},
   "outputs": [
    {
     "data": {
      "text/plain": [
       "array([[1, 7, 6, 4],\n",
       "       [4, 8, 1, 7],\n",
       "       [2, 1, 5, 9]])"
      ]
     },
     "execution_count": 10,
     "metadata": {},
     "output_type": "execute_result"
    }
   ],
   "source": [
    "rng = np.random.default_rng(42)\n",
    "a = rng.integers(1, 10, (3, 4))\n",
    "a"
   ]
  },
  {
   "cell_type": "code",
   "execution_count": 11,
   "id": "b82c42bc",
   "metadata": {},
   "outputs": [
    {
     "data": {
      "text/plain": [
       "8"
      ]
     },
     "execution_count": 11,
     "metadata": {},
     "output_type": "execute_result"
    }
   ],
   "source": [
    "np.ptp(a)"
   ]
  },
  {
   "cell_type": "code",
   "execution_count": 12,
   "id": "5c477e82",
   "metadata": {
    "scrolled": true
   },
   "outputs": [
    {
     "data": {
      "text/plain": [
       "array([3, 7, 5, 5])"
      ]
     },
     "execution_count": 12,
     "metadata": {},
     "output_type": "execute_result"
    }
   ],
   "source": [
    "# 按列\n",
    "np.ptp(a, axis=0)"
   ]
  },
  {
   "cell_type": "code",
   "execution_count": 13,
   "id": "1aaabab0",
   "metadata": {},
   "outputs": [
    {
     "data": {
      "text/plain": [
       "array([6, 7, 8])"
      ]
     },
     "execution_count": 13,
     "metadata": {},
     "output_type": "execute_result"
    }
   ],
   "source": [
    "# 按行\n",
    "np.ptp(a, axis=1)"
   ]
  },
  {
   "cell_type": "markdown",
   "id": "1f500fc1",
   "metadata": {},
   "source": [
    "### 方差\n",
    "\n",
    "方差表示数据偏离均值的程度。参数包括：\n",
    "\n",
    "- 数组\n",
    "- 维度\n",
    "- 数据类型\n",
    "- 输出替换数组\n",
    "- ddof\n",
    "- 保持维度\n",
    "- 哪些位置\n",
    "\n",
    "大部分参数之前都提到过，有两个不一样的我们解释一下：\n",
    "\n",
    "- ddof指计算方差时要减掉的自由度\n",
    "- 哪些位置是指哪些对应位置的被纳入计算"
   ]
  },
  {
   "cell_type": "code",
   "execution_count": 4,
   "id": "a94f78f8",
   "metadata": {},
   "outputs": [
    {
     "data": {
      "text/plain": [
       "array([[1, 7, 6],\n",
       "       [4, 4, 8]])"
      ]
     },
     "execution_count": 4,
     "metadata": {},
     "output_type": "execute_result"
    }
   ],
   "source": [
    "rng = np.random.default_rng(42)\n",
    "a = rng.integers(1, 10, (2, 3))\n",
    "a"
   ]
  },
  {
   "cell_type": "code",
   "execution_count": 5,
   "id": "80d8ef24",
   "metadata": {
    "scrolled": true
   },
   "outputs": [
    {
     "data": {
      "text/plain": [
       "5.333333333333333"
      ]
     },
     "execution_count": 5,
     "metadata": {},
     "output_type": "execute_result"
    }
   ],
   "source": [
    "np.var(a)"
   ]
  },
  {
   "cell_type": "code",
   "execution_count": 6,
   "id": "5d3c71da",
   "metadata": {},
   "outputs": [
    {
     "data": {
      "text/plain": [
       "5.333333333333333"
      ]
     },
     "execution_count": 6,
     "metadata": {},
     "output_type": "execute_result"
    }
   ],
   "source": [
    "ave = np.average(a)\n",
    "np.sum([(ave-v) ** 2 for v in a.flatten().tolist()]) / (a.size)"
   ]
  },
  {
   "cell_type": "code",
   "execution_count": 7,
   "id": "844f7384",
   "metadata": {},
   "outputs": [
    {
     "data": {
      "text/plain": [
       "6.4"
      ]
     },
     "execution_count": 7,
     "metadata": {},
     "output_type": "execute_result"
    }
   ],
   "source": [
    "# 自由度少1\n",
    "np.var(a, ddof=1)"
   ]
  },
  {
   "cell_type": "code",
   "execution_count": 8,
   "id": "6bf5dd4a",
   "metadata": {},
   "outputs": [
    {
     "data": {
      "text/plain": [
       "6.4"
      ]
     },
     "execution_count": 8,
     "metadata": {},
     "output_type": "execute_result"
    }
   ],
   "source": [
    "np.sum([(ave-v) ** 2 for v in a.flatten().tolist()]) / (a.size - 1)"
   ]
  },
  {
   "cell_type": "code",
   "execution_count": 10,
   "id": "d7b5fb6a",
   "metadata": {},
   "outputs": [
    {
     "data": {
      "text/plain": [
       "6.888888888888889"
      ]
     },
     "execution_count": 10,
     "metadata": {},
     "output_type": "execute_result"
    }
   ],
   "source": [
    "# 这就是只要第一行\n",
    "np.var(a, where=[[True], [False]])"
   ]
  },
  {
   "cell_type": "code",
   "execution_count": 11,
   "id": "e636048c",
   "metadata": {},
   "outputs": [
    {
     "data": {
      "text/plain": [
       "6.888888888888889"
      ]
     },
     "execution_count": 11,
     "metadata": {},
     "output_type": "execute_result"
    }
   ],
   "source": [
    "ave = np.average(a, axis=1)[0]\n",
    "np.sum([(ave-v) ** 2 for v in a[0, :].flatten().tolist()]) / (a[0, :].size)"
   ]
  },
  {
   "cell_type": "code",
   "execution_count": 12,
   "id": "36181182",
   "metadata": {},
   "outputs": [
    {
     "data": {
      "text/plain": [
       "2.25"
      ]
     },
     "execution_count": 12,
     "metadata": {},
     "output_type": "execute_result"
    }
   ],
   "source": [
    "# 只有第一列\n",
    "np.var(a, where=[True, False, False])"
   ]
  },
  {
   "cell_type": "code",
   "execution_count": 13,
   "id": "df4de4dd",
   "metadata": {},
   "outputs": [
    {
     "data": {
      "text/plain": [
       "2.25"
      ]
     },
     "execution_count": 13,
     "metadata": {},
     "output_type": "execute_result"
    }
   ],
   "source": [
    "ave = np.average(a, axis=0)[0]\n",
    "np.sum([(ave-v) ** 2 for v in a[:, 0].flatten().tolist()]) / (a[:, 0].size)"
   ]
  },
  {
   "cell_type": "markdown",
   "id": "47683820",
   "metadata": {},
   "source": [
    "### 标准差\n",
    "\n",
    "标准差就是方差的平方根。参数和方差一样。"
   ]
  },
  {
   "cell_type": "code",
   "execution_count": 14,
   "id": "1fc54ec4",
   "metadata": {},
   "outputs": [
    {
     "data": {
      "text/plain": [
       "array([[1, 7, 6],\n",
       "       [4, 4, 8]])"
      ]
     },
     "execution_count": 14,
     "metadata": {},
     "output_type": "execute_result"
    }
   ],
   "source": [
    "a"
   ]
  },
  {
   "cell_type": "code",
   "execution_count": 15,
   "id": "ca85b496",
   "metadata": {},
   "outputs": [
    {
     "data": {
      "text/plain": [
       "2.309401076758503"
      ]
     },
     "execution_count": 15,
     "metadata": {},
     "output_type": "execute_result"
    }
   ],
   "source": [
    "np.std(a)"
   ]
  },
  {
   "cell_type": "code",
   "execution_count": 16,
   "id": "3959848b",
   "metadata": {},
   "outputs": [
    {
     "data": {
      "text/plain": [
       "2.309401076758503"
      ]
     },
     "execution_count": 16,
     "metadata": {},
     "output_type": "execute_result"
    }
   ],
   "source": [
    "np.sqrt(np.var(a))"
   ]
  },
  {
   "cell_type": "code",
   "execution_count": 17,
   "id": "580957a5",
   "metadata": {},
   "outputs": [
    {
     "data": {
      "text/plain": [
       "array([1.5, 1.5, 1. ])"
      ]
     },
     "execution_count": 17,
     "metadata": {},
     "output_type": "execute_result"
    }
   ],
   "source": [
    "np.std(a, axis=0)"
   ]
  },
  {
   "cell_type": "markdown",
   "id": "2a52c559",
   "metadata": {},
   "source": [
    "## 运算方法\n",
    "\n",
    "### 算术运算\n",
    "\n",
    "主要介绍数组的加减乘除，其运算也是支持向量化运算的。"
   ]
  },
  {
   "cell_type": "code",
   "execution_count": 18,
   "id": "045c0ec3",
   "metadata": {},
   "outputs": [
    {
     "data": {
      "text/plain": [
       "array([[1, 7, 6],\n",
       "       [4, 4, 8]])"
      ]
     },
     "execution_count": 18,
     "metadata": {},
     "output_type": "execute_result"
    }
   ],
   "source": [
    "rng = np.random.default_rng(42)\n",
    "a = rng.integers(1, 10, (2, 3))\n",
    "a"
   ]
  },
  {
   "cell_type": "code",
   "execution_count": 19,
   "id": "8e3fbea0",
   "metadata": {},
   "outputs": [
    {
     "data": {
      "text/plain": [
       "array([[ 2, 14, 12],\n",
       "       [ 8,  8, 16]])"
      ]
     },
     "execution_count": 19,
     "metadata": {},
     "output_type": "execute_result"
    }
   ],
   "source": [
    "a + a"
   ]
  },
  {
   "cell_type": "code",
   "execution_count": 20,
   "id": "2c04a3eb",
   "metadata": {},
   "outputs": [
    {
     "data": {
      "text/plain": [
       "array([[ 3,  9,  8],\n",
       "       [ 6,  6, 10]])"
      ]
     },
     "execution_count": 20,
     "metadata": {},
     "output_type": "execute_result"
    }
   ],
   "source": [
    "a + 2"
   ]
  },
  {
   "cell_type": "code",
   "execution_count": 21,
   "id": "a803a6bc",
   "metadata": {},
   "outputs": [
    {
     "data": {
      "text/plain": [
       "array([[0, 0, 0],\n",
       "       [0, 0, 0]])"
      ]
     },
     "execution_count": 21,
     "metadata": {},
     "output_type": "execute_result"
    }
   ],
   "source": [
    "a - a"
   ]
  },
  {
   "cell_type": "code",
   "execution_count": 22,
   "id": "7a380ef6",
   "metadata": {},
   "outputs": [
    {
     "data": {
      "text/plain": [
       "array([[-1,  5,  4],\n",
       "       [ 2,  2,  6]])"
      ]
     },
     "execution_count": 22,
     "metadata": {},
     "output_type": "execute_result"
    }
   ],
   "source": [
    "a - 2"
   ]
  },
  {
   "cell_type": "code",
   "execution_count": 23,
   "id": "210e9d5f",
   "metadata": {},
   "outputs": [
    {
     "data": {
      "text/plain": [
       "array([[ 1, 49, 36],\n",
       "       [16, 16, 64]])"
      ]
     },
     "execution_count": 23,
     "metadata": {},
     "output_type": "execute_result"
    }
   ],
   "source": [
    "a * ａ"
   ]
  },
  {
   "cell_type": "code",
   "execution_count": 24,
   "id": "ae8fea6f",
   "metadata": {},
   "outputs": [
    {
     "data": {
      "text/plain": [
       "array([[ 2, 14, 12],\n",
       "       [ 8,  8, 16]])"
      ]
     },
     "execution_count": 24,
     "metadata": {},
     "output_type": "execute_result"
    }
   ],
   "source": [
    "a * 2"
   ]
  },
  {
   "cell_type": "code",
   "execution_count": 25,
   "id": "fbcc7663",
   "metadata": {},
   "outputs": [
    {
     "data": {
      "text/plain": [
       "array([[1., 1., 1.],\n",
       "       [1., 1., 1.]])"
      ]
     },
     "execution_count": 25,
     "metadata": {},
     "output_type": "execute_result"
    }
   ],
   "source": [
    "a / a"
   ]
  },
  {
   "cell_type": "code",
   "execution_count": 26,
   "id": "337f481f",
   "metadata": {},
   "outputs": [
    {
     "data": {
      "text/plain": [
       "array([[0.5, 3.5, 3. ],\n",
       "       [2. , 2. , 4. ]])"
      ]
     },
     "execution_count": 26,
     "metadata": {},
     "output_type": "execute_result"
    }
   ],
   "source": [
    "a / 2"
   ]
  },
  {
   "cell_type": "markdown",
   "id": "7a1ec5d2",
   "metadata": {},
   "source": [
    "`np.sum` 的参数包括：\n",
    "\n",
    "- 数组\n",
    "- 维度\n",
    "- 数据类型\n",
    "- 输出替换数组\n",
    "- 是否保持维度\n",
    "- 初始值\n",
    "- 哪些位置\n",
    "\n",
    "大多数参数都是熟悉的，其中「初始值」是指开始计算的初始值。"
   ]
  },
  {
   "cell_type": "code",
   "execution_count": 27,
   "id": "d5fba0e1",
   "metadata": {},
   "outputs": [
    {
     "data": {
      "text/plain": [
       "array([[1, 7, 6],\n",
       "       [4, 4, 8]])"
      ]
     },
     "execution_count": 27,
     "metadata": {},
     "output_type": "execute_result"
    }
   ],
   "source": [
    "a"
   ]
  },
  {
   "cell_type": "code",
   "execution_count": 28,
   "id": "d8a75537",
   "metadata": {},
   "outputs": [
    {
     "data": {
      "text/plain": [
       "30"
      ]
     },
     "execution_count": 28,
     "metadata": {},
     "output_type": "execute_result"
    }
   ],
   "source": [
    "np.sum(a)"
   ]
  },
  {
   "cell_type": "code",
   "execution_count": 29,
   "id": "686501f3",
   "metadata": {},
   "outputs": [
    {
     "data": {
      "text/plain": [
       "40"
      ]
     },
     "execution_count": 29,
     "metadata": {},
     "output_type": "execute_result"
    }
   ],
   "source": [
    "np.sum(a, initial=10)"
   ]
  },
  {
   "cell_type": "code",
   "execution_count": 30,
   "id": "d724f59c",
   "metadata": {},
   "outputs": [
    {
     "data": {
      "text/plain": [
       "array([ 5, 11, 14])"
      ]
     },
     "execution_count": 30,
     "metadata": {},
     "output_type": "execute_result"
    }
   ],
   "source": [
    "np.sum(a, axis=0)"
   ]
  },
  {
   "cell_type": "code",
   "execution_count": 31,
   "id": "214041cb",
   "metadata": {},
   "outputs": [
    {
     "data": {
      "text/plain": [
       "array([15, 21, 24])"
      ]
     },
     "execution_count": 31,
     "metadata": {},
     "output_type": "execute_result"
    }
   ],
   "source": [
    "np.sum(a, axis=0, initial=10)"
   ]
  },
  {
   "cell_type": "markdown",
   "id": "b447a1ca",
   "metadata": {},
   "source": [
    "`np.substract`，`np.multiply`，`np.divide` 三个API和前面的减法、乘法、除法是类似的。\n",
    "\n",
    "除了刚刚的计算，还可以给定某个维度大小的值计算（广播），这里以减法为例说明。"
   ]
  },
  {
   "cell_type": "code",
   "execution_count": 32,
   "id": "7ae8362f",
   "metadata": {},
   "outputs": [
    {
     "data": {
      "text/plain": [
       "array([[1, 7, 6],\n",
       "       [4, 4, 8]])"
      ]
     },
     "execution_count": 32,
     "metadata": {},
     "output_type": "execute_result"
    }
   ],
   "source": [
    "a"
   ]
  },
  {
   "cell_type": "code",
   "execution_count": 33,
   "id": "e0f42807",
   "metadata": {},
   "outputs": [
    {
     "data": {
      "text/plain": [
       "(2, 1)"
      ]
     },
     "execution_count": 33,
     "metadata": {},
     "output_type": "execute_result"
    }
   ],
   "source": [
    "b = np.array([[1], [1]])\n",
    "b.shape"
   ]
  },
  {
   "cell_type": "code",
   "execution_count": 34,
   "id": "57c2d171",
   "metadata": {},
   "outputs": [
    {
     "data": {
      "text/plain": [
       "array([[0, 6, 5],\n",
       "       [3, 3, 7]])"
      ]
     },
     "execution_count": 34,
     "metadata": {},
     "output_type": "execute_result"
    }
   ],
   "source": [
    "a - b"
   ]
  },
  {
   "cell_type": "code",
   "execution_count": 35,
   "id": "e14d01e1",
   "metadata": {},
   "outputs": [],
   "source": [
    "c = [1, 1, 1]"
   ]
  },
  {
   "cell_type": "code",
   "execution_count": 36,
   "id": "0cf03f33",
   "metadata": {},
   "outputs": [
    {
     "data": {
      "text/plain": [
       "array([[0, 6, 5],\n",
       "       [3, 3, 7]])"
      ]
     },
     "execution_count": 36,
     "metadata": {},
     "output_type": "execute_result"
    }
   ],
   "source": [
    "a - c"
   ]
  },
  {
   "cell_type": "markdown",
   "id": "9bc8a846",
   "metadata": {},
   "source": [
    "刚刚的乘法是逐元素相乘，矩阵的乘法还有个API："
   ]
  },
  {
   "cell_type": "code",
   "execution_count": 37,
   "id": "9dc65fd9",
   "metadata": {},
   "outputs": [
    {
     "data": {
      "text/plain": [
       "(array([[1, 7, 6],\n",
       "        [4, 4, 8]]),\n",
       " array([[1, 7],\n",
       "        [2, 1],\n",
       "        [5, 9]]))"
      ]
     },
     "execution_count": 37,
     "metadata": {},
     "output_type": "execute_result"
    }
   ],
   "source": [
    "rng = np.random.default_rng(42)\n",
    "a = rng.integers(1, 10, (2, 3))\n",
    "b = rng.integers(1, 10, (3, 2))\n",
    "a, b"
   ]
  },
  {
   "cell_type": "code",
   "execution_count": 38,
   "id": "91704106",
   "metadata": {},
   "outputs": [
    {
     "data": {
      "text/plain": [
       "array([[ 45,  68],\n",
       "       [ 52, 104]])"
      ]
     },
     "execution_count": 38,
     "metadata": {},
     "output_type": "execute_result"
    }
   ],
   "source": [
    "np.dot(a, b)"
   ]
  },
  {
   "cell_type": "code",
   "execution_count": 39,
   "id": "506287e4",
   "metadata": {},
   "outputs": [
    {
     "data": {
      "text/plain": [
       "(45, 68, 52, 104)"
      ]
     },
     "execution_count": 39,
     "metadata": {},
     "output_type": "execute_result"
    }
   ],
   "source": [
    "sum(a[0, :] * b[:, 0]), sum(a[0, :] * b[:, 1]), sum(a[1, :] * b[:, 0]), sum(a[1, :] * b[:, 1])"
   ]
  },
  {
   "cell_type": "code",
   "execution_count": 40,
   "id": "040db701",
   "metadata": {},
   "outputs": [
    {
     "data": {
      "text/plain": [
       "array([[ 45,  68],\n",
       "       [ 52, 104]])"
      ]
     },
     "execution_count": 40,
     "metadata": {},
     "output_type": "execute_result"
    }
   ],
   "source": [
    "# 另一种写法\n",
    "a @ b"
   ]
  },
  {
   "cell_type": "code",
   "execution_count": 41,
   "id": "7d1147e3",
   "metadata": {},
   "outputs": [
    {
     "data": {
      "text/plain": [
       "array([[ 45,  68],\n",
       "       [ 52, 104]])"
      ]
     },
     "execution_count": 41,
     "metadata": {},
     "output_type": "execute_result"
    }
   ],
   "source": [
    "# 或者直接这样\n",
    "a.dot(b)"
   ]
  },
  {
   "cell_type": "markdown",
   "id": "0ac0c1a4",
   "metadata": {},
   "source": [
    "### 关系运算\n",
    "\n",
    "主要是一些比较运算，结果返回的是布尔矩阵。"
   ]
  },
  {
   "cell_type": "code",
   "execution_count": 42,
   "id": "2ffd13b2",
   "metadata": {},
   "outputs": [
    {
     "data": {
      "text/plain": [
       "array([[1, 7, 6],\n",
       "       [4, 4, 8],\n",
       "       [1, 7, 2]])"
      ]
     },
     "execution_count": 42,
     "metadata": {},
     "output_type": "execute_result"
    }
   ],
   "source": [
    "rng = np.random.default_rng(42)\n",
    "a = rng.integers(1, 10, (3, 3))\n",
    "a"
   ]
  },
  {
   "cell_type": "code",
   "execution_count": 43,
   "id": "af5b7037",
   "metadata": {},
   "outputs": [
    {
     "data": {
      "text/plain": [
       "array([[False,  True,  True],\n",
       "       [ True,  True,  True],\n",
       "       [False,  True, False]])"
      ]
     },
     "execution_count": 43,
     "metadata": {},
     "output_type": "execute_result"
    }
   ],
   "source": [
    "a > 2"
   ]
  },
  {
   "cell_type": "code",
   "execution_count": 44,
   "id": "c01d2748",
   "metadata": {},
   "outputs": [
    {
     "data": {
      "text/plain": [
       "array([[False,  True,  True],\n",
       "       [ True,  True,  True],\n",
       "       [False,  True, False]])"
      ]
     },
     "execution_count": 44,
     "metadata": {},
     "output_type": "execute_result"
    }
   ],
   "source": [
    "a >= 4"
   ]
  },
  {
   "cell_type": "code",
   "execution_count": 45,
   "id": "80539ee2",
   "metadata": {},
   "outputs": [
    {
     "data": {
      "text/plain": [
       "array([[ True, False, False],\n",
       "       [ True,  True, False],\n",
       "       [ True, False,  True]])"
      ]
     },
     "execution_count": 45,
     "metadata": {},
     "output_type": "execute_result"
    }
   ],
   "source": [
    "a < 5"
   ]
  },
  {
   "cell_type": "code",
   "execution_count": 46,
   "id": "8a9c0d04",
   "metadata": {},
   "outputs": [
    {
     "data": {
      "text/plain": [
       "array([[ True, False,  True],\n",
       "       [ True,  True, False],\n",
       "       [ True, False,  True]])"
      ]
     },
     "execution_count": 46,
     "metadata": {},
     "output_type": "execute_result"
    }
   ],
   "source": [
    "a <= 6"
   ]
  },
  {
   "cell_type": "code",
   "execution_count": 47,
   "id": "9aff1ad0",
   "metadata": {},
   "outputs": [
    {
     "data": {
      "text/plain": [
       "array([[ True, False, False],\n",
       "       [False, False, False],\n",
       "       [ True, False, False]])"
      ]
     },
     "execution_count": 47,
     "metadata": {},
     "output_type": "execute_result"
    }
   ],
   "source": [
    "a == 1"
   ]
  },
  {
   "cell_type": "code",
   "execution_count": 48,
   "id": "8f5de0be",
   "metadata": {},
   "outputs": [
    {
     "data": {
      "text/plain": [
       "array([[False,  True,  True],\n",
       "       [ True,  True,  True],\n",
       "       [False,  True,  True]])"
      ]
     },
     "execution_count": 48,
     "metadata": {},
     "output_type": "execute_result"
    }
   ],
   "source": [
    "a != 1"
   ]
  },
  {
   "cell_type": "markdown",
   "id": "a4fa7ccb",
   "metadata": {},
   "source": [
    "关系运算一般会用在当你需要Mask掉某些位置的值时（这在深度学习中非常常见），当然也可以用于指定位置的数据提取。"
   ]
  },
  {
   "cell_type": "code",
   "execution_count": 49,
   "id": "9622c91e",
   "metadata": {},
   "outputs": [
    {
     "data": {
      "text/plain": [
       "array([[1, 7, 6],\n",
       "       [4, 4, 8],\n",
       "       [1, 7, 2]])"
      ]
     },
     "execution_count": 49,
     "metadata": {},
     "output_type": "execute_result"
    }
   ],
   "source": [
    "a"
   ]
  },
  {
   "cell_type": "code",
   "execution_count": 50,
   "id": "7eb383ce",
   "metadata": {},
   "outputs": [
    {
     "data": {
      "text/plain": [
       "(array([0, 0, 1, 1, 1, 2]), array([1, 2, 0, 1, 2, 1]))"
      ]
     },
     "execution_count": 50,
     "metadata": {},
     "output_type": "execute_result"
    }
   ],
   "source": [
    "xs, ys = np.where(a > 2)\n",
    "xs, ys"
   ]
  },
  {
   "cell_type": "markdown",
   "id": "d7a9823b",
   "metadata": {},
   "source": [
    "里面有6个数组满足条件，对应的坐标就是 xs 和 ys："
   ]
  },
  {
   "cell_type": "code",
   "execution_count": 51,
   "id": "3f7d13db",
   "metadata": {},
   "outputs": [
    {
     "name": "stdout",
     "output_type": "stream",
     "text": [
      "0 1 ==> 7\n",
      "0 2 ==> 6\n",
      "1 0 ==> 4\n",
      "1 1 ==> 4\n",
      "1 2 ==> 8\n",
      "2 1 ==> 7\n"
     ]
    }
   ],
   "source": [
    "for i in range(len(xs)):\n",
    "    x, y = xs[i], ys[i]\n",
    "    print(x, y, \"==>\", a[x, y])"
   ]
  },
  {
   "cell_type": "code",
   "execution_count": 52,
   "id": "8b03f101",
   "metadata": {},
   "outputs": [
    {
     "data": {
      "text/plain": [
       "array([[1, 7, 6],\n",
       "       [4, 4, 8],\n",
       "       [1, 7, 2]])"
      ]
     },
     "execution_count": 52,
     "metadata": {},
     "output_type": "execute_result"
    }
   ],
   "source": [
    "a"
   ]
  },
  {
   "cell_type": "code",
   "execution_count": 53,
   "id": "afcd0d65",
   "metadata": {},
   "outputs": [
    {
     "data": {
      "text/plain": [
       "array([[-1,  7,  6],\n",
       "       [ 4,  4,  8],\n",
       "       [-1,  7, -1]])"
      ]
     },
     "execution_count": 53,
     "metadata": {},
     "output_type": "execute_result"
    }
   ],
   "source": [
    "# 将不满足条件的替换为给定值\n",
    "np.where(a > 2, a, -1)"
   ]
  },
  {
   "cell_type": "code",
   "execution_count": 55,
   "id": "e942fad3",
   "metadata": {},
   "outputs": [
    {
     "data": {
      "text/plain": [
       "array([7, 6, 4, 4, 8, 7])"
      ]
     },
     "execution_count": 55,
     "metadata": {},
     "output_type": "execute_result"
    }
   ],
   "source": [
    "# 提取满足条件的\n",
    "np.extract(a > 2, a)"
   ]
  },
  {
   "cell_type": "markdown",
   "id": "0a374ccf",
   "metadata": {},
   "source": [
    "## 综合运用\n",
    "\n",
    "### 总结\n",
    "\n",
    "- 生成 / 查看 array 时，注意具体的数据类型\n",
    "- 很多 API 都有 axis，将它理解为「沿着」或「对」某一维度进行操作就很容易理解了"
   ]
  },
  {
   "cell_type": "markdown",
   "id": "16e9863f",
   "metadata": {},
   "source": [
    "![](numpy.png)"
   ]
  },
  {
   "cell_type": "code",
   "execution_count": 15,
   "id": "25eff1df",
   "metadata": {},
   "outputs": [],
   "source": [
    "import numpy as np"
   ]
  },
  {
   "cell_type": "markdown",
   "id": "549f36ed",
   "metadata": {},
   "source": [
    "### 案例1\n",
    "\n",
    "boston 房价数据探索：http://lib.stat.cmu.edu/datasets/boston\n",
    "\n",
    "- CRIM：城镇人均犯罪率\n",
    "- ZN：超过 25000 平方英尺的住宅用地比例\n",
    "- INDUS：城镇非零售商用土地的比例\n",
    "- CHAS：查理斯河空变量（如果边界是河流，则为 1；否则为 0）\n",
    "- NOX：一氧化氮浓度（千万份）\n",
    "- RM：每间住宅平均房间数\n",
    "- AGE：1940 年之前建成的自住房屋比例\n",
    "- DIS：到波士顿五个就业中心区域的加权距离\n",
    "- RAD：辐射性公路的接近指数\n",
    "- TAX：每 10000 美元的全额财产税率\n",
    "- PTRATIO：城镇师生比例\n",
    "- B：1000（Bk-0.63）^ 2，其中 Bk 指代城镇中黑人的比例\n",
    "- LSTAT：人口中地位较低的比例\n",
    "- MEDV：自住房房价中位数，以千美元计"
   ]
  },
  {
   "cell_type": "code",
   "execution_count": 57,
   "id": "f5ee229e",
   "metadata": {},
   "outputs": [],
   "source": [
    "from sklearn.datasets import load_boston"
   ]
  },
  {
   "cell_type": "code",
   "execution_count": 58,
   "id": "67562b49",
   "metadata": {},
   "outputs": [],
   "source": [
    "ds = load_boston()"
   ]
  },
  {
   "cell_type": "code",
   "execution_count": 59,
   "id": "d3443ab5",
   "metadata": {},
   "outputs": [],
   "source": [
    "x = ds.data\n",
    "y = ds.target"
   ]
  },
  {
   "cell_type": "code",
   "execution_count": 60,
   "id": "2f49a47f",
   "metadata": {},
   "outputs": [
    {
     "data": {
      "text/plain": [
       "array(['CRIM', 'ZN', 'INDUS', 'CHAS', 'NOX', 'RM', 'AGE', 'DIS', 'RAD',\n",
       "       'TAX', 'PTRATIO', 'B', 'LSTAT'], dtype='<U7')"
      ]
     },
     "execution_count": 60,
     "metadata": {},
     "output_type": "execute_result"
    }
   ],
   "source": [
    "ds.feature_names"
   ]
  },
  {
   "cell_type": "code",
   "execution_count": 61,
   "id": "ff9cc075",
   "metadata": {},
   "outputs": [
    {
     "name": "stdout",
     "output_type": "stream",
     "text": [
      ".. _boston_dataset:\n",
      "\n",
      "Boston house prices dataset\n",
      "---------------------------\n",
      "\n",
      "**Data Set Characteristics:**  \n",
      "\n",
      "    :Number of Instances: 506 \n",
      "\n",
      "    :Number of Attributes: 13 numeric/categorical predictive. Median Value (attribute 14) is usually the target.\n",
      "\n",
      "    :Attribute Information (in order):\n",
      "        - CRIM     per capita crime rate by town\n",
      "        - ZN       proportion of residential land zoned for lots over 25,000 sq.ft.\n",
      "        - INDUS    proportion of non-retail business acres per town\n",
      "        - CHAS     Charles River dummy variable (= 1 if tract bounds river; 0 otherwise)\n",
      "        - NOX      nitric oxides concentration (parts per 10 million)\n",
      "        - RM       average number of rooms per dwelling\n",
      "        - AGE      proportion of owner-occupied units built prior to 1940\n",
      "        - DIS      weighted distances to five Boston employment centres\n",
      "        - RAD      index of accessibility to radial highways\n",
      "        - TAX      full-value property-tax rate per $10,000\n",
      "        - PTRATIO  pupil-teacher ratio by town\n",
      "        - B        1000(Bk - 0.63)^2 where Bk is the proportion of black people by town\n",
      "        - LSTAT    % lower status of the population\n",
      "        - MEDV     Median value of owner-occupied homes in $1000's\n",
      "\n",
      "    :Missing Attribute Values: None\n",
      "\n",
      "    :Creator: Harrison, D. and Rubinfeld, D.L.\n",
      "\n",
      "This is a copy of UCI ML housing dataset.\n",
      "https://archive.ics.uci.edu/ml/machine-learning-databases/housing/\n",
      "\n",
      "\n",
      "This dataset was taken from the StatLib library which is maintained at Carnegie Mellon University.\n",
      "\n",
      "The Boston house-price data of Harrison, D. and Rubinfeld, D.L. 'Hedonic\n",
      "prices and the demand for clean air', J. Environ. Economics & Management,\n",
      "vol.5, 81-102, 1978.   Used in Belsley, Kuh & Welsch, 'Regression diagnostics\n",
      "...', Wiley, 1980.   N.B. Various transformations are used in the table on\n",
      "pages 244-261 of the latter.\n",
      "\n",
      "The Boston house-price data has been used in many machine learning papers that address regression\n",
      "problems.   \n",
      "     \n",
      ".. topic:: References\n",
      "\n",
      "   - Belsley, Kuh & Welsch, 'Regression diagnostics: Identifying Influential Data and Sources of Collinearity', Wiley, 1980. 244-261.\n",
      "   - Quinlan,R. (1993). Combining Instance-Based and Model-Based Learning. In Proceedings on the Tenth International Conference of Machine Learning, 236-243, University of Massachusetts, Amherst. Morgan Kaufmann.\n",
      "\n"
     ]
    }
   ],
   "source": [
    "print(ds.DESCR)"
   ]
  },
  {
   "cell_type": "markdown",
   "id": "509c8252",
   "metadata": {},
   "source": [
    "先看下基本的 shape 和类型："
   ]
  },
  {
   "cell_type": "code",
   "execution_count": 62,
   "id": "b36b1d52",
   "metadata": {},
   "outputs": [
    {
     "data": {
      "text/plain": [
       "((506, 13), (506,), dtype('float64'), dtype('float64'))"
      ]
     },
     "execution_count": 62,
     "metadata": {},
     "output_type": "execute_result"
    }
   ],
   "source": [
    "x.shape, y.shape, x.dtype, y.dtype"
   ]
  },
  {
   "cell_type": "markdown",
   "id": "708610f7",
   "metadata": {},
   "source": [
    "看下有没有空值："
   ]
  },
  {
   "cell_type": "code",
   "execution_count": 63,
   "id": "1cb68244",
   "metadata": {},
   "outputs": [
    {
     "data": {
      "text/plain": [
       "array([0, 0, 0, 0, 0, 0, 0, 0, 0, 0, 0, 0, 0])"
      ]
     },
     "execution_count": 63,
     "metadata": {},
     "output_type": "execute_result"
    }
   ],
   "source": [
    "np.sum(np.isnan(x), axis=0)"
   ]
  },
  {
   "cell_type": "code",
   "execution_count": 64,
   "id": "0a018dce",
   "metadata": {},
   "outputs": [
    {
     "data": {
      "text/plain": [
       "(array([], dtype=int64), array([], dtype=int64))"
      ]
     },
     "execution_count": 64,
     "metadata": {},
     "output_type": "execute_result"
    }
   ],
   "source": [
    "np.where(np.isnan(x))"
   ]
  },
  {
   "cell_type": "code",
   "execution_count": 65,
   "id": "47a90f57",
   "metadata": {},
   "outputs": [
    {
     "data": {
      "text/plain": [
       "False"
      ]
     },
     "execution_count": 65,
     "metadata": {},
     "output_type": "execute_result"
    }
   ],
   "source": [
    "# 任何一个为 True 即为 True\n",
    "np.isnan(x).any()"
   ]
  },
  {
   "cell_type": "markdown",
   "id": "3cdca621",
   "metadata": {},
   "source": [
    "看下基本统计指标："
   ]
  },
  {
   "cell_type": "code",
   "execution_count": 76,
   "id": "9b984f4f",
   "metadata": {},
   "outputs": [
    {
     "name": "stdout",
     "output_type": "stream",
     "text": [
      "        CRIM      ZN   INDUS    CHAS     NOX      RM     AGE     DIS     RAD     TAX PTRATIO       B   LSTAT\n",
      "average 3.61    11.36   11.14   0.07    0.55    6.28    68.57   3.8     9.55    408.24  18.46   356.67  12.65  \n",
      " median 0.26    0.0     9.69    0.0     0.54    6.21    77.5    3.21    5.0     330.0   19.05   391.44  11.36  \n",
      "    min 0.01    0.0     0.46    0.0     0.38    3.56    2.9     1.13    1.0     187.0   12.6    0.32    1.73   \n",
      "    max 88.98   100.0   27.74   1.0     0.87    8.78    100.0   12.13   24.0    711.0   22.0    396.9   37.97  \n",
      "    ptp 88.97   100.0   27.28   1.0     0.49    5.22    97.1    11.0    23.0    524.0   9.4     396.58  36.24  \n",
      "    var 73.84   542.86  46.97   0.06    0.01    0.49    790.79  4.43    75.67   28348.62 4.68    8318.28 50.89  \n",
      "    std 8.59    23.3    6.85    0.25    0.12    0.7     28.12   2.1     8.7     168.37  2.16    91.2    7.13   \n"
     ]
    }
   ],
   "source": [
    "print(\" \" * 5 + \" \".join([v.rjust(7, \" \") for v in ds.feature_names]))\n",
    "for field in [\"average\", \"median\", \"min\", \"max\", \"ptp\", \"var\", \"std\"]:\n",
    "    vals = getattr(np, field)(x, axis=0)\n",
    "    vals = np.round(vals, 2).tolist()\n",
    "    vals = map(str, vals)\n",
    "    vals = [v.ljust(7, \" \") for v in vals]\n",
    "    \n",
    "    print(field.rjust(7, \" \") + \" \" + \" \".join(map(str, vals)))"
   ]
  },
  {
   "cell_type": "markdown",
   "id": "8ad0ed84",
   "metadata": {},
   "source": [
    "拆分数据集，假设我们需要选择 20% 样本作为测试集："
   ]
  },
  {
   "cell_type": "code",
   "execution_count": 77,
   "id": "268dbba1",
   "metadata": {},
   "outputs": [],
   "source": [
    "rng = np.random.default_rng(42)"
   ]
  },
  {
   "cell_type": "code",
   "execution_count": 78,
   "id": "c9bb39a9",
   "metadata": {},
   "outputs": [
    {
     "data": {
      "text/plain": [
       "array([[6.89900e-02, 0.00000e+00, 2.56500e+01, ..., 1.91000e+01,\n",
       "        3.89150e+02, 1.43700e+01],\n",
       "       [3.04900e-02, 5.50000e+01, 3.78000e+00, ..., 1.76000e+01,\n",
       "        3.87970e+02, 4.61000e+00],\n",
       "       [8.22100e-02, 2.20000e+01, 5.86000e+00, ..., 1.91000e+01,\n",
       "        3.86090e+02, 3.53000e+00],\n",
       "       ...,\n",
       "       [9.74400e-02, 0.00000e+00, 5.96000e+00, ..., 1.92000e+01,\n",
       "        3.77560e+02, 1.14100e+01],\n",
       "       [4.66883e+00, 0.00000e+00, 1.81000e+01, ..., 2.02000e+01,\n",
       "        1.04800e+01, 1.90100e+01],\n",
       "       [1.40520e-01, 0.00000e+00, 1.05900e+01, ..., 1.86000e+01,\n",
       "        3.85810e+02, 9.38000e+00]])"
      ]
     },
     "execution_count": 78,
     "metadata": {},
     "output_type": "execute_result"
    }
   ],
   "source": [
    "rng.choice(x, int(len(x)*0.2), replace=False)"
   ]
  },
  {
   "cell_type": "code",
   "execution_count": 79,
   "id": "cc65618d",
   "metadata": {},
   "outputs": [
    {
     "data": {
      "text/plain": [
       "array([120, 344, 252,  20, 215, 502,  40, 419, 173, 219, 223,  54,  88,\n",
       "       192, 390, 212, 288,  83, 347, 487, 221, 236,  62, 158, 177, 356,\n",
       "       175, 191, 404, 397, 193, 324, 320,  28,  47, 308, 196, 473, 330,\n",
       "       317, 171, 338, 243, 449, 399, 352,  99, 109, 411, 437, 301, 214,\n",
       "       343, 492, 307, 315, 453, 144, 336, 216, 318, 429, 432,  78, 267,\n",
       "       378, 407,  70, 122, 480, 281, 493, 201, 313,  71,  35, 159, 427,\n",
       "       366, 166, 228, 379,  39, 421, 406, 179, 354, 498,  73, 346,  90,\n",
       "       277, 153,  30, 468, 329, 481, 273,  36, 456, 213])"
      ]
     },
     "execution_count": 79,
     "metadata": {},
     "output_type": "execute_result"
    }
   ],
   "source": [
    "rng = np.random.default_rng(42)\n",
    "pick = rng.choice(range(len(x)), int(len(x)*0.2), replace=False)\n",
    "pick"
   ]
  },
  {
   "cell_type": "code",
   "execution_count": 80,
   "id": "e8cd74cc",
   "metadata": {},
   "outputs": [],
   "source": [
    "x_test = x[pick]\n",
    "x_train = x[[v for v in range(len(x)) if v not in pick]]"
   ]
  },
  {
   "cell_type": "code",
   "execution_count": 81,
   "id": "e5b8cb4c",
   "metadata": {},
   "outputs": [
    {
     "data": {
      "text/plain": [
       "((405, 13), (101, 13))"
      ]
     },
     "execution_count": 81,
     "metadata": {},
     "output_type": "execute_result"
    }
   ],
   "source": [
    "x_train.shape, x_test.shape"
   ]
  },
  {
   "cell_type": "markdown",
   "id": "86a8620e",
   "metadata": {},
   "source": [
    "将数据集复制（采样），扩充（合并）到总量为1000："
   ]
  },
  {
   "cell_type": "code",
   "execution_count": 82,
   "id": "fc8124b7",
   "metadata": {},
   "outputs": [
    {
     "data": {
      "text/plain": [
       "(494, 13)"
      ]
     },
     "execution_count": 82,
     "metadata": {},
     "output_type": "execute_result"
    }
   ],
   "source": [
    "rng = np.random.default_rng(42)\n",
    "sample_idx = rng.choice(range(len(x)), 1000 - len(x))\n",
    "sample = x[sample_idx]\n",
    "sample.shape"
   ]
  },
  {
   "cell_type": "code",
   "execution_count": 83,
   "id": "4930e750",
   "metadata": {},
   "outputs": [
    {
     "data": {
      "text/plain": [
       "(1000, 13)"
      ]
     },
     "execution_count": 83,
     "metadata": {},
     "output_type": "execute_result"
    }
   ],
   "source": [
    "xx = np.concatenate((x, sample))\n",
    "xx.shape"
   ]
  },
  {
   "cell_type": "markdown",
   "id": "46a34c92",
   "metadata": {},
   "source": [
    "把数据归一化 \n",
    "\n",
    "$$z = \\frac {x - \\mu}{\\sigma}$$\n",
    "\n",
    "$$z = \\frac {x - \\min}{\\max - \\min}$$"
   ]
  },
  {
   "cell_type": "code",
   "execution_count": 84,
   "id": "5696084b",
   "metadata": {},
   "outputs": [
    {
     "data": {
      "text/plain": [
       "(506, 13)"
      ]
     },
     "execution_count": 84,
     "metadata": {},
     "output_type": "execute_result"
    }
   ],
   "source": [
    "std_x = (x - np.average(x, axis=0)) / np.std(x, axis=0)\n",
    "std_x.shape"
   ]
  },
  {
   "cell_type": "code",
   "execution_count": 90,
   "id": "a5bc2c67",
   "metadata": {},
   "outputs": [
    {
     "data": {
      "text/plain": [
       "(506, 13)"
      ]
     },
     "execution_count": 90,
     "metadata": {},
     "output_type": "execute_result"
    }
   ],
   "source": [
    "# 0-1 归一化\n",
    "zo_x = (x - np.min(x, axis=0)) / np.ptp(x, axis=0)\n",
    "zo_x.shape"
   ]
  },
  {
   "cell_type": "code",
   "execution_count": 86,
   "id": "04028f3c",
   "metadata": {},
   "outputs": [
    {
     "data": {
      "text/plain": [
       "(True, True)"
      ]
     },
     "execution_count": 86,
     "metadata": {},
     "output_type": "execute_result"
    }
   ],
   "source": [
    "np.all(zo_x<=1), np.all(zo_x>=0)"
   ]
  },
  {
   "cell_type": "code",
   "execution_count": 87,
   "id": "a9fcb8e7",
   "metadata": {},
   "outputs": [
    {
     "data": {
      "text/plain": [
       "array([[1, 7],\n",
       "       [6, 4],\n",
       "       [4, 8],\n",
       "       [1, 7]])"
      ]
     },
     "execution_count": 87,
     "metadata": {},
     "output_type": "execute_result"
    }
   ],
   "source": [
    "rng = np.random.default_rng(42)\n",
    "a = rng.integers(1, 10, (4, 2))\n",
    "a"
   ]
  },
  {
   "cell_type": "code",
   "execution_count": 88,
   "id": "8eb1b856",
   "metadata": {},
   "outputs": [
    {
     "data": {
      "text/plain": [
       "array([[-0.94280904,  0.33333333],\n",
       "       [ 1.41421356, -1.66666667],\n",
       "       [ 0.47140452,  1.        ],\n",
       "       [-0.94280904,  0.33333333]])"
      ]
     },
     "execution_count": 88,
     "metadata": {},
     "output_type": "execute_result"
    }
   ],
   "source": [
    "(a - np.average(a, axis=0)) / np.std(a, axis=0)"
   ]
  },
  {
   "cell_type": "code",
   "execution_count": 89,
   "id": "e135e0fc",
   "metadata": {},
   "outputs": [
    {
     "data": {
      "text/plain": [
       "array([[0.  , 0.75],\n",
       "       [1.  , 0.  ],\n",
       "       [0.6 , 1.  ],\n",
       "       [0.  , 0.75]])"
      ]
     },
     "execution_count": 89,
     "metadata": {},
     "output_type": "execute_result"
    }
   ],
   "source": [
    "(a - np.min(a, axis=0)) / np.ptp(a, axis=0)"
   ]
  },
  {
   "cell_type": "markdown",
   "id": "e933c4b2",
   "metadata": {},
   "source": [
    "把0替换为极差的百万分之一："
   ]
  },
  {
   "cell_type": "code",
   "execution_count": 91,
   "id": "155c73d9",
   "metadata": {},
   "outputs": [],
   "source": [
    "rep = np.ptp(x, axis=0) * 1e-6\n",
    "rep_x = np.where(x > 0, x, rep)"
   ]
  },
  {
   "cell_type": "code",
   "execution_count": 92,
   "id": "cad9a374",
   "metadata": {},
   "outputs": [
    {
     "data": {
      "text/plain": [
       "True"
      ]
     },
     "execution_count": 92,
     "metadata": {},
     "output_type": "execute_result"
    }
   ],
   "source": [
    "np.alltrue(rep_x > 0)"
   ]
  },
  {
   "cell_type": "markdown",
   "id": "b071045a",
   "metadata": {},
   "source": [
    "去掉「黑人比例（B）」这个特征："
   ]
  },
  {
   "cell_type": "code",
   "execution_count": 93,
   "id": "1bf5bdf0",
   "metadata": {},
   "outputs": [
    {
     "data": {
      "text/plain": [
       "((506, 10), (506, 2))"
      ]
     },
     "execution_count": 93,
     "metadata": {},
     "output_type": "execute_result"
    }
   ],
   "source": [
    "x[:, 0:-3].shape, x[:, -2:].shape"
   ]
  },
  {
   "cell_type": "code",
   "execution_count": 94,
   "id": "2a2ad20a",
   "metadata": {},
   "outputs": [
    {
     "data": {
      "text/plain": [
       "(506, 12)"
      ]
     },
     "execution_count": 94,
     "metadata": {},
     "output_type": "execute_result"
    }
   ],
   "source": [
    "x_rem = np.concatenate((x[:, 0:-3], x[:, -2:]), axis=1)\n",
    "x_rem.shape"
   ]
  },
  {
   "cell_type": "code",
   "execution_count": 95,
   "id": "d8fe3287",
   "metadata": {},
   "outputs": [],
   "source": [
    "need_idx = np.arange(x.shape[1]) != 10\n",
    "ext_idx = np.repeat([need_idx], x.shape[0], axis=0)"
   ]
  },
  {
   "cell_type": "code",
   "execution_count": 96,
   "id": "9372abea",
   "metadata": {},
   "outputs": [
    {
     "data": {
      "text/plain": [
       "(506, 12)"
      ]
     },
     "execution_count": 96,
     "metadata": {},
     "output_type": "execute_result"
    }
   ],
   "source": [
    "x_rem = np.extract(ext_idx, x).reshape(x.shape[0], x.shape[1]-1)\n",
    "x_rem.shape"
   ]
  },
  {
   "cell_type": "markdown",
   "id": "38ac7f0c",
   "metadata": {},
   "source": [
    "### 案例2"
   ]
  },
  {
   "cell_type": "code",
   "execution_count": 182,
   "id": "4ea59a98",
   "metadata": {},
   "outputs": [],
   "source": [
    "from sklearn.datasets import load_iris"
   ]
  },
  {
   "cell_type": "code",
   "execution_count": 9,
   "id": "c1ba9c5d",
   "metadata": {},
   "outputs": [],
   "source": [
    "ds = load_iris()"
   ]
  },
  {
   "cell_type": "code",
   "execution_count": 14,
   "id": "14e4e2be",
   "metadata": {},
   "outputs": [
    {
     "data": {
      "text/plain": [
       "((150, 4), (150,))"
      ]
     },
     "execution_count": 14,
     "metadata": {},
     "output_type": "execute_result"
    }
   ],
   "source": [
    "x = ds.data\n",
    "y = ds.target\n",
    "x.shape, y.shape"
   ]
  },
  {
   "cell_type": "code",
   "execution_count": 11,
   "id": "2f614382",
   "metadata": {},
   "outputs": [
    {
     "data": {
      "text/plain": [
       "['sepal length (cm)',\n",
       " 'sepal width (cm)',\n",
       " 'petal length (cm)',\n",
       " 'petal width (cm)']"
      ]
     },
     "execution_count": 11,
     "metadata": {},
     "output_type": "execute_result"
    }
   ],
   "source": [
    "ds.feature_names"
   ]
  },
  {
   "cell_type": "code",
   "execution_count": 12,
   "id": "2a4fe8de",
   "metadata": {},
   "outputs": [
    {
     "name": "stdout",
     "output_type": "stream",
     "text": [
      ".. _iris_dataset:\n",
      "\n",
      "Iris plants dataset\n",
      "--------------------\n",
      "\n",
      "**Data Set Characteristics:**\n",
      "\n",
      "    :Number of Instances: 150 (50 in each of three classes)\n",
      "    :Number of Attributes: 4 numeric, predictive attributes and the class\n",
      "    :Attribute Information:\n",
      "        - sepal length in cm\n",
      "        - sepal width in cm\n",
      "        - petal length in cm\n",
      "        - petal width in cm\n",
      "        - class:\n",
      "                - Iris-Setosa\n",
      "                - Iris-Versicolour\n",
      "                - Iris-Virginica\n",
      "                \n",
      "    :Summary Statistics:\n",
      "\n",
      "    ============== ==== ==== ======= ===== ====================\n",
      "                    Min  Max   Mean    SD   Class Correlation\n",
      "    ============== ==== ==== ======= ===== ====================\n",
      "    sepal length:   4.3  7.9   5.84   0.83    0.7826\n",
      "    sepal width:    2.0  4.4   3.05   0.43   -0.4194\n",
      "    petal length:   1.0  6.9   3.76   1.76    0.9490  (high!)\n",
      "    petal width:    0.1  2.5   1.20   0.76    0.9565  (high!)\n",
      "    ============== ==== ==== ======= ===== ====================\n",
      "\n",
      "    :Missing Attribute Values: None\n",
      "    :Class Distribution: 33.3% for each of 3 classes.\n",
      "    :Creator: R.A. Fisher\n",
      "    :Donor: Michael Marshall (MARSHALL%PLU@io.arc.nasa.gov)\n",
      "    :Date: July, 1988\n",
      "\n",
      "The famous Iris database, first used by Sir R.A. Fisher. The dataset is taken\n",
      "from Fisher's paper. Note that it's the same as in R, but not as in the UCI\n",
      "Machine Learning Repository, which has two wrong data points.\n",
      "\n",
      "This is perhaps the best known database to be found in the\n",
      "pattern recognition literature.  Fisher's paper is a classic in the field and\n",
      "is referenced frequently to this day.  (See Duda & Hart, for example.)  The\n",
      "data set contains 3 classes of 50 instances each, where each class refers to a\n",
      "type of iris plant.  One class is linearly separable from the other 2; the\n",
      "latter are NOT linearly separable from each other.\n",
      "\n",
      ".. topic:: References\n",
      "\n",
      "   - Fisher, R.A. \"The use of multiple measurements in taxonomic problems\"\n",
      "     Annual Eugenics, 7, Part II, 179-188 (1936); also in \"Contributions to\n",
      "     Mathematical Statistics\" (John Wiley, NY, 1950).\n",
      "   - Duda, R.O., & Hart, P.E. (1973) Pattern Classification and Scene Analysis.\n",
      "     (Q327.D83) John Wiley & Sons.  ISBN 0-471-22361-1.  See page 218.\n",
      "   - Dasarathy, B.V. (1980) \"Nosing Around the Neighborhood: A New System\n",
      "     Structure and Classification Rule for Recognition in Partially Exposed\n",
      "     Environments\".  IEEE Transactions on Pattern Analysis and Machine\n",
      "     Intelligence, Vol. PAMI-2, No. 1, 67-71.\n",
      "   - Gates, G.W. (1972) \"The Reduced Nearest Neighbor Rule\".  IEEE Transactions\n",
      "     on Information Theory, May 1972, 431-433.\n",
      "   - See also: 1988 MLC Proceedings, 54-64.  Cheeseman et al\"s AUTOCLASS II\n",
      "     conceptual clustering system finds 3 classes in the data.\n",
      "   - Many, many more ...\n"
     ]
    }
   ],
   "source": [
    "print(ds.DESCR)"
   ]
  },
  {
   "cell_type": "code",
   "execution_count": 21,
   "id": "9d09688f",
   "metadata": {},
   "outputs": [],
   "source": [
    "def train_test_split(x, y, rate: float = 0.2):\n",
    "    assert len(x) == len(y), \"The length of x should be the same as y\"\n",
    "    length = len(y)\n",
    "    rng = np.random.default_rng(42)\n",
    "    pick = rng.choice(range(length), int(length*rate), replace=False)\n",
    "    remain = [v for v in range(length) if v not in pick]\n",
    "    return x[remain], y[remain], x[pick], y[pick]"
   ]
  },
  {
   "cell_type": "code",
   "execution_count": 22,
   "id": "2d694c2d",
   "metadata": {
    "scrolled": true
   },
   "outputs": [
    {
     "ename": "AssertionError",
     "evalue": "The length of x should be the same as y",
     "output_type": "error",
     "traceback": [
      "\u001b[0;31m---------------------------------------------------------------------------\u001b[0m",
      "\u001b[0;31mAssertionError\u001b[0m                            Traceback (most recent call last)",
      "\u001b[0;32m<ipython-input-22-6cd1cc05b922>\u001b[0m in \u001b[0;36m<module>\u001b[0;34m\u001b[0m\n\u001b[0;32m----> 1\u001b[0;31m \u001b[0mtrain_test_split\u001b[0m\u001b[0;34m(\u001b[0m\u001b[0mx\u001b[0m\u001b[0;34m,\u001b[0m \u001b[0;34m[\u001b[0m\u001b[0;34m]\u001b[0m\u001b[0;34m)\u001b[0m\u001b[0;34m\u001b[0m\u001b[0;34m\u001b[0m\u001b[0m\n\u001b[0m",
      "\u001b[0;32m<ipython-input-21-55b3cac03ee3>\u001b[0m in \u001b[0;36mtrain_test_split\u001b[0;34m(x, y, rate)\u001b[0m\n\u001b[1;32m      1\u001b[0m \u001b[0;32mdef\u001b[0m \u001b[0mtrain_test_split\u001b[0m\u001b[0;34m(\u001b[0m\u001b[0mx\u001b[0m\u001b[0;34m,\u001b[0m \u001b[0my\u001b[0m\u001b[0;34m,\u001b[0m \u001b[0mrate\u001b[0m\u001b[0;34m:\u001b[0m \u001b[0mfloat\u001b[0m \u001b[0;34m=\u001b[0m \u001b[0;36m0.2\u001b[0m\u001b[0;34m)\u001b[0m\u001b[0;34m:\u001b[0m\u001b[0;34m\u001b[0m\u001b[0;34m\u001b[0m\u001b[0m\n\u001b[0;32m----> 2\u001b[0;31m     \u001b[0;32massert\u001b[0m \u001b[0mlen\u001b[0m\u001b[0;34m(\u001b[0m\u001b[0mx\u001b[0m\u001b[0;34m)\u001b[0m \u001b[0;34m==\u001b[0m \u001b[0mlen\u001b[0m\u001b[0;34m(\u001b[0m\u001b[0my\u001b[0m\u001b[0;34m)\u001b[0m\u001b[0;34m,\u001b[0m \u001b[0;34m\"The length of x should be the same as y\"\u001b[0m\u001b[0;34m\u001b[0m\u001b[0;34m\u001b[0m\u001b[0m\n\u001b[0m\u001b[1;32m      3\u001b[0m     \u001b[0mlength\u001b[0m \u001b[0;34m=\u001b[0m \u001b[0mlen\u001b[0m\u001b[0;34m(\u001b[0m\u001b[0my\u001b[0m\u001b[0;34m)\u001b[0m\u001b[0;34m\u001b[0m\u001b[0;34m\u001b[0m\u001b[0m\n\u001b[1;32m      4\u001b[0m     \u001b[0mrng\u001b[0m \u001b[0;34m=\u001b[0m \u001b[0mnp\u001b[0m\u001b[0;34m.\u001b[0m\u001b[0mrandom\u001b[0m\u001b[0;34m.\u001b[0m\u001b[0mdefault_rng\u001b[0m\u001b[0;34m(\u001b[0m\u001b[0;36m42\u001b[0m\u001b[0;34m)\u001b[0m\u001b[0;34m\u001b[0m\u001b[0;34m\u001b[0m\u001b[0m\n\u001b[1;32m      5\u001b[0m     \u001b[0mpick\u001b[0m \u001b[0;34m=\u001b[0m \u001b[0mrng\u001b[0m\u001b[0;34m.\u001b[0m\u001b[0mchoice\u001b[0m\u001b[0;34m(\u001b[0m\u001b[0mrange\u001b[0m\u001b[0;34m(\u001b[0m\u001b[0mlength\u001b[0m\u001b[0;34m)\u001b[0m\u001b[0;34m,\u001b[0m \u001b[0mint\u001b[0m\u001b[0;34m(\u001b[0m\u001b[0mlength\u001b[0m\u001b[0;34m*\u001b[0m\u001b[0mrate\u001b[0m\u001b[0;34m)\u001b[0m\u001b[0;34m,\u001b[0m \u001b[0mreplace\u001b[0m\u001b[0;34m=\u001b[0m\u001b[0;32mFalse\u001b[0m\u001b[0;34m)\u001b[0m\u001b[0;34m\u001b[0m\u001b[0;34m\u001b[0m\u001b[0m\n",
      "\u001b[0;31mAssertionError\u001b[0m: The length of x should be the same as y"
     ]
    }
   ],
   "source": [
    "train_test_split(x, [])"
   ]
  },
  {
   "cell_type": "code",
   "execution_count": 25,
   "id": "1a03bade",
   "metadata": {},
   "outputs": [
    {
     "data": {
      "text/plain": [
       "((105, 4), (105,), (45, 4), (45,))"
      ]
     },
     "execution_count": 25,
     "metadata": {},
     "output_type": "execute_result"
    }
   ],
   "source": [
    "x_train, y_train, x_test, y_test = train_test_split(x, y, 0.3)\n",
    "x_train.shape, y_train.shape, x_test.shape, y_test.shape"
   ]
  },
  {
   "cell_type": "code",
   "execution_count": 190,
   "id": "ac06ab2e",
   "metadata": {},
   "outputs": [],
   "source": [
    "def train_predict(x_train, y_train, x_test, topn: int = 10):\n",
    "    labels = []\n",
    "    for i in range(len(x_test)):\n",
    "        distance = np.sqrt(np.sum((x_train - x_test[i]) ** 2, axis=1))\n",
    "        topn_index = np.argsort(distance)[:topn]\n",
    "        topn_labels = y_train[topn_index]\n",
    "        unique_labels, counts = np.unique(topn_labels, return_counts=True)\n",
    "        label = unique_labels[counts.argmax()]\n",
    "        labels.append(label)\n",
    "    return labels"
   ]
  },
  {
   "cell_type": "code",
   "execution_count": 191,
   "id": "72cda06f",
   "metadata": {},
   "outputs": [],
   "source": [
    "y_pred = train_predict(x_train, y_train, x_test)"
   ]
  },
  {
   "cell_type": "code",
   "execution_count": 192,
   "id": "17e3fc02",
   "metadata": {
    "scrolled": true
   },
   "outputs": [
    {
     "data": {
      "text/plain": [
       "0.9333333333333333"
      ]
     },
     "execution_count": 192,
     "metadata": {},
     "output_type": "execute_result"
    }
   ],
   "source": [
    "# 准确率\n",
    "sum(y_pred == y_test) / len(y_test)"
   ]
  },
  {
   "cell_type": "code",
   "execution_count": 193,
   "id": "6cddbd43",
   "metadata": {},
   "outputs": [],
   "source": [
    "from scipy.stats import mode\n",
    "def train_predict_by_array(x_train, y_train, x_test, topn: int = 10):\n",
    "    distance = np.sqrt(np.sum((x_train - np.expand_dims(x_test, axis=1)) ** 2, axis=2))\n",
    "    topn_index = np.argsort(distance, axis=1)[:, :topn]\n",
    "    topn_labels = y_train[topn_index]\n",
    "    label, counts = mode(topn_labels, axis=1)\n",
    "    return label.flatten()"
   ]
  },
  {
   "cell_type": "code",
   "execution_count": 194,
   "id": "83992e6b",
   "metadata": {},
   "outputs": [],
   "source": [
    "y_pred = train_predict_by_array(x_train, y_train, x_test)"
   ]
  },
  {
   "cell_type": "code",
   "execution_count": 195,
   "id": "6a35a4a6",
   "metadata": {},
   "outputs": [
    {
     "data": {
      "text/plain": [
       "0.9333333333333333"
      ]
     },
     "execution_count": 195,
     "metadata": {},
     "output_type": "execute_result"
    }
   ],
   "source": [
    "sum(y_pred == y_test) / len(y_test)"
   ]
  },
  {
   "cell_type": "code",
   "execution_count": 196,
   "id": "b629e39e",
   "metadata": {},
   "outputs": [
    {
     "name": "stdout",
     "output_type": "stream",
     "text": [
      "2.91 ms ± 529 µs per loop (mean ± std. dev. of 7 runs, 100 loops each)\n"
     ]
    }
   ],
   "source": [
    "%timeit train_predict(x_test)"
   ]
  },
  {
   "cell_type": "code",
   "execution_count": 197,
   "id": "ee597862",
   "metadata": {},
   "outputs": [
    {
     "name": "stdout",
     "output_type": "stream",
     "text": [
      "1.88 ms ± 210 µs per loop (mean ± std. dev. of 7 runs, 100 loops each)\n"
     ]
    }
   ],
   "source": [
    "%timeit train_predict_by_array(x_test)"
   ]
  },
  {
   "cell_type": "markdown",
   "id": "d384f1ac",
   "metadata": {},
   "source": [
    "### 扩充实践"
   ]
  },
  {
   "cell_type": "code",
   "execution_count": null,
   "id": "57f8fb1c",
   "metadata": {},
   "outputs": [],
   "source": [
    "!pip3 install tensorflow matplotlib"
   ]
  },
  {
   "cell_type": "code",
   "execution_count": 5,
   "id": "f303c2f0",
   "metadata": {},
   "outputs": [],
   "source": [
    "import tensorflow as tf\n",
    "import matplotlib.pyplot as plt"
   ]
  },
  {
   "cell_type": "code",
   "execution_count": 6,
   "id": "510e6442",
   "metadata": {},
   "outputs": [],
   "source": [
    "def load_image(image_path):\n",
    "    img = plt.imread(image_path).astype(np.float32)[np.newaxis, ...]\n",
    "    img = img / 255.0\n",
    "    return img"
   ]
  },
  {
   "cell_type": "code",
   "execution_count": 7,
   "id": "4bb016d7",
   "metadata": {
    "scrolled": true
   },
   "outputs": [],
   "source": [
    "content_image = load_image(\"./data/640px-Golden_Gate_Bridge_from_Battery_Spencer.jpg\")\n",
    "style_image = load_image(\"./data/Van_Gogh_-_Starry_Night_-_Google_Art_Project.jpg\")"
   ]
  },
  {
   "cell_type": "code",
   "execution_count": 8,
   "id": "616c666f",
   "metadata": {},
   "outputs": [
    {
     "data": {
      "text/plain": [
       "<matplotlib.image.AxesImage at 0x122f68e20>"
      ]
     },
     "execution_count": 8,
     "metadata": {},
     "output_type": "execute_result"
    },
    {
     "data": {
      "image/png": "[encoded data removed]",
      "text/plain": [
       "<Figure size 432x288 with 1 Axes>"
      ]
     },
     "metadata": {
      "needs_background": "light"
     },
     "output_type": "display_data"
    }
   ],
   "source": [
    "plt.imshow(content_image[0])"
   ]
  },
  {
   "cell_type": "code",
   "execution_count": 9,
   "id": "003122de",
   "metadata": {
    "scrolled": true
   },
   "outputs": [
    {
     "data": {
      "text/plain": [
       "<matplotlib.image.AxesImage at 0x12301ca30>"
      ]
     },
     "execution_count": 9,
     "metadata": {},
     "output_type": "execute_result"
    },
    {
     "data": {
      "image/png": "[encoded data removed]",
      "text/plain": [
       "<Figure size 432x288 with 1 Axes>"
      ]
     },
     "metadata": {
      "needs_background": "light"
     },
     "output_type": "display_data"
    }
   ],
   "source": [
    "plt.imshow(style_image[0])"
   ]
  },
  {
   "cell_type": "code",
   "execution_count": 10,
   "id": "1c5afad6",
   "metadata": {},
   "outputs": [],
   "source": [
    "model = tf.saved_model.load(\"./model/\")"
   ]
  },
  {
   "cell_type": "code",
   "execution_count": 11,
   "id": "0f1a9258",
   "metadata": {},
   "outputs": [],
   "source": [
    "outputs = model(tf.constant(content_image), tf.constant(style_image))"
   ]
  },
  {
   "cell_type": "code",
   "execution_count": 12,
   "id": "97f42c98",
   "metadata": {},
   "outputs": [
    {
     "data": {
      "text/plain": [
       "<matplotlib.image.AxesImage at 0x123962e50>"
      ]
     },
     "execution_count": 12,
     "metadata": {},
     "output_type": "execute_result"
    },
    {
     "data": {
      "image/png": "[encoded data removed]",
      "text/plain": [
       "<Figure size 432x288 with 1 Axes>"
      ]
     },
     "metadata": {
      "needs_background": "light"
     },
     "output_type": "display_data"
    }
   ],
   "source": [
    "plt.imshow(outputs[0][0])"
   ]
  },
  {
   "cell_type": "markdown",
   "id": "319c9ba1",
   "metadata": {},
   "source": [
    "## 参考资料\n",
    "\n",
    "- 【1】[NumPy](https://numpy.org/)\n",
    "- 【2】[datawhalechina/powerful-numpy: 巨硬的 NumPy](https://github.com/datawhalechina/powerful-numpy)"
   ]
  },
  {
   "cell_type": "code",
   "execution_count": null,
   "id": "0bbe98e8",
   "metadata": {},
   "outputs": [],
   "source": []
  }
 ],
 "metadata": {
  "kernelspec": {
   "display_name": "Python 3",
   "language": "python",
   "name": "python3"
  },
  "language_info": {
   "codemirror_mode": {
    "name": "ipython",
    "version": 3
   },
   "file_extension": ".py",
   "mimetype": "text/x-python",
   "name": "python",
   "nbconvert_exporter": "python",
   "pygments_lexer": "ipython3",
   "version": "3.8.10"
  },
  "latex_envs": {
   "LaTeX_envs_menu_present": true,
   "autoclose": false,
   "autocomplete": true,
   "bibliofile": "biblio.bib",
   "cite_by": "apalike",
   "current_citInitial": 1,
   "eqLabelWithNumbers": true,
   "eqNumInitial": 1,
   "hotkeys": {
    "equation": "Ctrl-E",
    "itemize": "Ctrl-I"
   },
   "labels_anchors": false,
   "latex_user_defs": false,
   "report_style_numbering": false,
   "user_envs_cfg": false
  },
  "toc": {
   "base_numbering": 1,
   "nav_menu": {},
   "number_sections": true,
   "sideBar": true,
   "skip_h1_title": false,
   "title_cell": "Table of Contents",
   "title_sidebar": "Contents",
   "toc_cell": true,
   "toc_position": {
    "height": "calc(100% - 180px)",
    "left": "10px",
    "top": "150px",
    "width": "212px"
   },
   "toc_section_display": true,
   "toc_window_display": true
  }
 },
 "nbformat": 4,
 "nbformat_minor": 5
}
