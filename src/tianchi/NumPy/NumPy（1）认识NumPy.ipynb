{
 "cells": [
  {
   "cell_type": "markdown",
   "id": "f7dd2ba6",
   "metadata": {
    "toc": true
   },
   "source": [
    "<h1>Table of Contents<span class=\"tocSkip\"></span></h1>\n",
    "<div class=\"toc\"><ul class=\"toc-item\"><li><span><a href=\"#认识NumPy\" data-toc-modified-id=\"认识NumPy-1\"><span class=\"toc-item-num\">1&nbsp;&nbsp;</span>认识 NumPy</a></span><ul class=\"toc-item\"><li><span><a href=\"#NumPy地位\" data-toc-modified-id=\"NumPy地位-1.1\"><span class=\"toc-item-num\">1.1&nbsp;&nbsp;</span>NumPy 地位 </a></span></li><li><span><a href=\"#ndarray\" data-toc-modified-id=\"ndarray-1.2\"><span class=\"toc-item-num\">1.2&nbsp;&nbsp;</span>ndarray</a></span></li><li><span><a href=\"#dtype\" data-toc-modified-id=\"dtype-1.3\"><span class=\"toc-item-num\">1.3&nbsp;&nbsp;</span>dtype</a></span></li><li><span><a href=\"#shape\" data-toc-modified-id=\"shape-1.4\"><span class=\"toc-item-num\">1.4&nbsp;&nbsp;</span>shape</a></span></li><li><span><a href=\"#向量化计算\" data-toc-modified-id=\"向量化计算-1.5\"><span class=\"toc-item-num\">1.5&nbsp;&nbsp;</span>向量化计算 </a></span></li></ul></li></ul></div>"
   ]
  },
  {
   "cell_type": "code",
   "execution_count": 1,
   "id": "1e6a294a",
   "metadata": {
    "scrolled": true
   },
   "outputs": [
    {
     "name": "stdout",
     "output_type": "stream",
     "text": [
      "Name: numpy\r\n",
      "Version: 1.22.3\r\n",
      "Summary: NumPy is the fundamental package for array computing with Python.\r\n",
      "Home-page: https://www.numpy.org\r\n",
      "Author: Travis E. Oliphant et al.\r\n",
      "Author-email: None\r\n",
      "License: BSD\r\n",
      "Location: /usr/local/lib/python3.8/site-packages\r\n",
      "Requires: \r\n",
      "Required-by: xgboost, visualdl, tritonclient, transformers, torchvision, torch, tifffile, thinc, tf2onnx, tensorflow, tensorflow-probability, tensorflow-hub, tensorflow-datasets, tensorboardX, tensorboard, tensorbay, tensor2tensor, spacy, sox, sk-video, seqeval, seaborn, scipy, scikit-learn, scikit-image, scalene, scaitk, scainer, resampy, PyWavelets, pyFluidSynth, pyarrow, pretty-midi, pnlp, paramz, pandas, paddlepaddle, paddlefsl, opt-einsum, opencv-python, onnxruntime, onnx, numpy-quaternion, numba, note-seq, mir-eval, matplotlib, magenta, librosa, kfac, Keras-Preprocessing, jaxlib, jax, imageio, h5py, gym, GPyOpt, GPy, geneticalgorithm, dm-sonnet, bokeh, blis, akshare\r\n"
     ]
    }
   ],
   "source": [
    "!pip3.8 show numpy"
   ]
  },
  {
   "cell_type": "code",
   "execution_count": 1,
   "id": "5f1b1e66",
   "metadata": {},
   "outputs": [],
   "source": [
    "import numpy as np"
   ]
  },
  {
   "cell_type": "code",
   "execution_count": 2,
   "id": "bb6b9a79",
   "metadata": {},
   "outputs": [
    {
     "name": "stdout",
     "output_type": "stream",
     "text": [
      "1.22.3\n"
     ]
    }
   ],
   "source": [
    "print(np.__version__)"
   ]
  },
  {
   "cell_type": "markdown",
   "id": "ac84cab3",
   "metadata": {},
   "source": [
    "## 认识NumPy"
   ]
  },
  {
   "cell_type": "markdown",
   "id": "4031b190",
   "metadata": {},
   "source": [
    "### NumPy地位\n",
    "\n",
    "毫不夸张的说，NumPy 是数据科学/计算领域『最重要』的library，之前提到的Pandas，Scipy底层都用到了NumPy，而且，深度学习的各大框架也都用到了NumPy。更值得一提的是，这些框架的API和NumPy是一脉相承的，可以说NumPy熟练了，几个深度学习框架的不少API也同时学会了。\n",
    "\n",
    "根据官方文档，主要特点包括：\n",
    "\n",
    "- 强大的N维数组：矢量化、索引和广播概念快速且通用，是当今数组计算的事实标准。\n",
    "- 数值计算工具：提供全面的数学函数，随机数生成器，线性代数例程，傅里叶变换等。\n",
    "- 互操作性：支持广泛的硬件和计算平台，并且可以很好地与分布式，GPU和稀疏数组库配合使用。\n",
    "- 性能强大：核心是经过良好优化的C代码。享受Python的灵活性和编译代码的速度。\n",
    "- 易于使用：高级语法使得来自任何背景或经验水平的程序员都可以访问和高效产出。\n",
    "- 开源：BSD协议（一个很宽松的协议，除了不能以NumPy的名义牟利，其他基本随意）。"
   ]
  },
  {
   "cell_type": "markdown",
   "id": "6f547c8c",
   "metadata": {},
   "source": [
    "### ndarray\n",
    "\n",
    "NumPy 提供了一个 N 维数组类型，即 `ndarray`，描述了**相同类型**「元素」集合。它是「**偏底层的 array 接口**」。\n",
    "\n",
    "所有的 `ndarray` 元素都是同质的，每个元素占用大小相同的内存块，具体大小由「数据类型」决定。`ndarray` 可以共享相同数据。\n",
    "\n",
    "对象签名如下：\n",
    "\n",
    "```python\n",
    "numpy.ndarray(shape, dtype=float, buffer=None, offset=0, strides=None, order=None)\n",
    "```\n",
    "\n",
    "- shape：整数元组，表示形状\n",
    "- dtype：数据类型对象\n",
    "- buffer：使用 buffer 中的数据填充 `ndarray`\n",
    "- offset：buffer 中的偏移量\n",
    "- stride：内存中数据跨度\n",
    "- order：行为主（C-Style）或列为主（Fortran-Style）\n",
    "\n",
    "\n",
    "当 buffer 为空时，shape, dtype 和 order 三个参数会被使用；  \n",
    "当 buffer 不为空时，所有参数都会被使用。"
   ]
  },
  {
   "cell_type": "code",
   "execution_count": 4,
   "id": "ca3928dc",
   "metadata": {
    "scrolled": true
   },
   "outputs": [
    {
     "data": {
      "text/plain": [
       "array([[ 0, 88,  0],\n",
       "       [ 0,  0,  0]])"
      ]
     },
     "execution_count": 4,
     "metadata": {},
     "output_type": "execute_result"
    }
   ],
   "source": [
    "# buffer 为空，结果随机\n",
    "arr = np.ndarray(shape=(2, 3), dtype=np.int, order=\"C\")\n",
    "arr"
   ]
  },
  {
   "cell_type": "code",
   "execution_count": 7,
   "id": "8b764e18",
   "metadata": {},
   "outputs": [
    {
     "data": {
      "text/plain": [
       "array([[1, 2],\n",
       "       [3, 4]])"
      ]
     },
     "execution_count": 7,
     "metadata": {},
     "output_type": "execute_result"
    }
   ],
   "source": [
    "# buffer 不为空\n",
    "buf = np.array([1, 2, 3, 4], dtype=np.int)\n",
    "arr = np.ndarray(shape=(2, 2), \n",
    "                 dtype=np.int, \n",
    "                 buffer=buf)\n",
    "arr"
   ]
  },
  {
   "cell_type": "markdown",
   "id": "d09a2af9",
   "metadata": {},
   "source": [
    "### dtype\n",
    "\n",
    "NumPy内置了dtype类（数据类型对象），定义了NumPy的数据类型，比Python内置的数据类型要丰富很多。\n",
    "\n",
    "总的来说可以大致分成以下几种，而我们绝大多数情况下最应该关注的其实就是 int 和 float 这两种：\n",
    "\n",
    "- bool：`bool8`, `bool_`，不是 int\n",
    "- int：`int8/byte`, `int16/short`, `int32`, `int64/longlong`, `int_`\n",
    "- uint：无符号类型，表示 `unsigned`，对应 int\n",
    "- float：`float16/half`, `float32/single`, `float64/double`, `float_`\n",
    "- complex：复数，`complex64`, `complex128`, `complex_`\n",
    "- str：`str0`, `str_`，表示 unicode 编码\n",
    "- bytes: `bytes_`, `string_`\n",
    "- datetime/timedelta\n",
    "- structed array\n",
    "\n",
    "后面的数字表示一个数字在内存中占几位，**一般比较推荐使用这种表示**；带下划线的表示 python 的数据类型，numpy 可以自动将 python 的类型转为它；此外，浮点数还支持不同精度以及扩展精度。\n",
    "\n",
    "![](https://numpy.org/devdocs/_images/dtype-hierarchy.png)"
   ]
  },
  {
   "cell_type": "code",
   "execution_count": 9,
   "id": "d998fd3c",
   "metadata": {},
   "outputs": [
    {
     "data": {
      "text/plain": [
       "(True, True, True, True, True, True)"
      ]
     },
     "execution_count": 9,
     "metadata": {},
     "output_type": "execute_result"
    }
   ],
   "source": [
    "# 直观验证上图的关系\n",
    "(\n",
    "    isinstance(np.str_(), np.flexible),\n",
    "    isinstance(np.bytes_(), np.flexible),\n",
    "    isinstance(np.void(b\"\"), np.flexible),\n",
    "    \n",
    "    isinstance(np.int_(), np.integer),\n",
    "    isinstance(np.float_(), np.floating),\n",
    "    isinstance(np.complex_(), np.complexfloating)\n",
    ")"
   ]
  },
  {
   "cell_type": "code",
   "execution_count": 15,
   "id": "335d8835",
   "metadata": {},
   "outputs": [
    {
     "data": {
      "text/plain": [
       "(True, True, True, True, True, True, True, True)"
      ]
     },
     "execution_count": 15,
     "metadata": {},
     "output_type": "execute_result"
    }
   ],
   "source": [
    "# 很多类型都有 alias，它们其实是一回事\n",
    "(\n",
    "    np.short is np.int16, np.byte is np.int8,\n",
    "    # 不同精度\n",
    "    np.half is np.float16, np.single is np.float32, np.double is np.float64,\n",
    "    # 扩展精度\n",
    "    np.longfloat is np.longdouble,\n",
    "    # 字符串\n",
    "    np.unicode_ is np.str_,\n",
    "    # bytes\n",
    "    np.bytes_ is np.string_\n",
    ")"
   ]
  },
  {
   "cell_type": "code",
   "execution_count": 17,
   "id": "49b93d3d",
   "metadata": {},
   "outputs": [
    {
     "data": {
      "text/plain": [
       "(True, True, True, True, True)"
      ]
     },
     "execution_count": 17,
     "metadata": {},
     "output_type": "execute_result"
    }
   ],
   "source": [
    "# python 内置类型\n",
    "(\n",
    "    np.bool_ is np.bool8, \n",
    "    np.int_ is np.int64,\n",
    "    np.float_ is np.float64,\n",
    "    np.str_ is np.str0,\n",
    "    np.complex_ is np.complex128\n",
    ")"
   ]
  },
  {
   "cell_type": "markdown",
   "id": "b8c649a0",
   "metadata": {},
   "source": [
    "### shape\n",
    "\n",
    "shape一般是个元组，表示数组的形状。"
   ]
  },
  {
   "cell_type": "code",
   "execution_count": 22,
   "id": "cab30135",
   "metadata": {},
   "outputs": [
    {
     "data": {
      "text/plain": [
       "array([1, 2, 3, 4, 5, 6, 7, 8], dtype=int8)"
      ]
     },
     "execution_count": 22,
     "metadata": {},
     "output_type": "execute_result"
    }
   ],
   "source": [
    "buf = np.arange(1, 9, dtype=np.int8)\n",
    "buf"
   ]
  },
  {
   "cell_type": "code",
   "execution_count": 23,
   "id": "f46435c6",
   "metadata": {},
   "outputs": [
    {
     "data": {
      "text/plain": [
       "b'\\x01\\x02\\x03\\x04\\x05\\x06\\x07\\x08'"
      ]
     },
     "execution_count": 23,
     "metadata": {},
     "output_type": "execute_result"
    }
   ],
   "source": [
    "bytes(buf)"
   ]
  },
  {
   "cell_type": "code",
   "execution_count": 26,
   "id": "2dc29690",
   "metadata": {},
   "outputs": [
    {
     "data": {
      "text/plain": [
       "array([[1, 2, 3, 4],\n",
       "       [5, 6, 7, 8]], dtype=int8)"
      ]
     },
     "execution_count": 26,
     "metadata": {},
     "output_type": "execute_result"
    }
   ],
   "source": [
    "# 改一下 shape\n",
    "buf.shape = 2, 4\n",
    "buf"
   ]
  },
  {
   "cell_type": "code",
   "execution_count": 27,
   "id": "93df363d",
   "metadata": {},
   "outputs": [
    {
     "data": {
      "text/plain": [
       "b'\\x01\\x02\\x03\\x04\\x05\\x06\\x07\\x08'"
      ]
     },
     "execution_count": 27,
     "metadata": {},
     "output_type": "execute_result"
    }
   ],
   "source": [
    "bytes(buf)"
   ]
  },
  {
   "cell_type": "markdown",
   "id": "42bba6e3",
   "metadata": {},
   "source": [
    "事实上，无论 shape 怎么变化，内存是完全没变化的，不同的 array 其实就是不同的 strides 方式而已。感兴趣的可以进一步阅读参考资料【2】。\n",
    "\n",
    "另外，使用 buffer 创建的 ndarray 都使用了同一块内存。"
   ]
  },
  {
   "cell_type": "code",
   "execution_count": 31,
   "id": "d2f5c7dc",
   "metadata": {},
   "outputs": [
    {
     "data": {
      "text/plain": [
       "array([[1, 2, 3, 4],\n",
       "       [5, 6, 7, 8]], dtype=int8)"
      ]
     },
     "execution_count": 31,
     "metadata": {},
     "output_type": "execute_result"
    }
   ],
   "source": [
    "arr1 = np.ndarray(\n",
    "    shape=(2, 4), \n",
    "    dtype=np.int8, \n",
    "    buffer=buf)\n",
    "arr1"
   ]
  },
  {
   "cell_type": "code",
   "execution_count": 30,
   "id": "6f1e21b7",
   "metadata": {},
   "outputs": [
    {
     "data": {
      "text/plain": [
       "array([[1, 2],\n",
       "       [3, 4],\n",
       "       [5, 6],\n",
       "       [7, 8]], dtype=int8)"
      ]
     },
     "execution_count": 30,
     "metadata": {},
     "output_type": "execute_result"
    }
   ],
   "source": [
    "arr2 = np.ndarray(\n",
    "    shape=(4, 2), \n",
    "    dtype=np.int8, \n",
    "    buffer=buf)\n",
    "arr2"
   ]
  },
  {
   "cell_type": "code",
   "execution_count": 33,
   "id": "9b387f6b",
   "metadata": {},
   "outputs": [
    {
     "data": {
      "text/plain": [
       "(b'\\x01\\x02\\x03\\x04\\x05\\x06\\x07\\x08', b'\\x01\\x02\\x03\\x04\\x05\\x06\\x07\\x08')"
      ]
     },
     "execution_count": 33,
     "metadata": {},
     "output_type": "execute_result"
    }
   ],
   "source": [
    "bytes(arr1), bytes(arr2)"
   ]
  },
  {
   "cell_type": "code",
   "execution_count": 32,
   "id": "ba176f36",
   "metadata": {},
   "outputs": [
    {
     "data": {
      "text/plain": [
       "(True, True)"
      ]
     },
     "execution_count": 32,
     "metadata": {},
     "output_type": "execute_result"
    }
   ],
   "source": [
    "np.may_share_memory(arr1, arr2), np.may_share_memory(buf, arr1)"
   ]
  },
  {
   "cell_type": "markdown",
   "id": "703502f9",
   "metadata": {},
   "source": [
    "其实，无论 arr1 还是 arr2 都是 buf 的一个 view（引用），与此相对的是 copy。感兴趣的可以进一步阅读参考资料【2】。"
   ]
  },
  {
   "cell_type": "markdown",
   "id": "0989fffd",
   "metadata": {},
   "source": [
    "### 向量化计算\n",
    "\n",
    "NumPy的ndarray是同构的：数组只能包含一种类型的数据。在知道数组的内容在数据类型上是同构的时，NumPy能够将对数组内容执行数学运算的任务委托给C代码执行。此过程称为矢量化。这和Python的list不同，Python在迭代数组时必须仔细检查每个元素的数据类型。\n",
    "\n",
    "如果不同类型，NumPy会自动匹配当前输入最合适的数据类型，并将其 cast 到所有元素。"
   ]
  },
  {
   "cell_type": "code",
   "execution_count": 42,
   "id": "951b1bf2",
   "metadata": {},
   "outputs": [
    {
     "data": {
      "text/plain": [
       "dtype('float64')"
      ]
     },
     "execution_count": 42,
     "metadata": {},
     "output_type": "execute_result"
    }
   ],
   "source": [
    "# float+int\n",
    "np.array([1, 2.0]).dtype"
   ]
  },
  {
   "cell_type": "code",
   "execution_count": 37,
   "id": "e4c20272",
   "metadata": {},
   "outputs": [
    {
     "data": {
      "text/plain": [
       "dtype('<U21')"
      ]
     },
     "execution_count": 37,
     "metadata": {},
     "output_type": "execute_result"
    }
   ],
   "source": [
    "# string+int\n",
    "np.array([1, \"s\"]).dtype"
   ]
  },
  {
   "cell_type": "code",
   "execution_count": null,
   "id": "0bbe98e8",
   "metadata": {},
   "outputs": [],
   "source": []
  }
 ],
 "metadata": {
  "kernelspec": {
   "display_name": "Python 3",
   "language": "python",
   "name": "python3"
  },
  "language_info": {
   "codemirror_mode": {
    "name": "ipython",
    "version": 3
   },
   "file_extension": ".py",
   "mimetype": "text/x-python",
   "name": "python",
   "nbconvert_exporter": "python",
   "pygments_lexer": "ipython3",
   "version": "3.8.10"
  },
  "latex_envs": {
   "LaTeX_envs_menu_present": true,
   "autoclose": false,
   "autocomplete": true,
   "bibliofile": "biblio.bib",
   "cite_by": "apalike",
   "current_citInitial": 1,
   "eqLabelWithNumbers": true,
   "eqNumInitial": 1,
   "hotkeys": {
    "equation": "Ctrl-E",
    "itemize": "Ctrl-I"
   },
   "labels_anchors": false,
   "latex_user_defs": false,
   "report_style_numbering": false,
   "user_envs_cfg": false
  },
  "toc": {
   "base_numbering": 1,
   "nav_menu": {},
   "number_sections": true,
   "sideBar": true,
   "skip_h1_title": false,
   "title_cell": "Table of Contents",
   "title_sidebar": "Contents",
   "toc_cell": true,
   "toc_position": {
    "height": "calc(100% - 180px)",
    "left": "10px",
    "top": "150px",
    "width": "212px"
   },
   "toc_section_display": true,
   "toc_window_display": true
  }
 },
 "nbformat": 4,
 "nbformat_minor": 5
}
