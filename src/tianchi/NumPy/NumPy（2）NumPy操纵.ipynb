{
 "cells": [
  {
   "cell_type": "markdown",
   "id": "f7dd2ba6",
   "metadata": {
    "toc": true
   },
   "source": [
    "<h1>Table of Contents<span class=\"tocSkip\"></span></h1>\n",
    "<div class=\"toc\"><ul class=\"toc-item\"><li><span><a href=\"#创建\" data-toc-modified-id=\"创建-1\"><span class=\"toc-item-num\">1&nbsp;&nbsp;</span>创建 </a></span><ul class=\"toc-item\"><li><span><a href=\"#np.arange\" data-toc-modified-id=\"np.arange-1.1\"><span class=\"toc-item-num\">1.1&nbsp;&nbsp;</span>np.arange</a></span></li><li><span><a href=\"#reshape\" data-toc-modified-id=\"reshape-1.2\"><span class=\"toc-item-num\">1.2&nbsp;&nbsp;</span>reshape</a></span></li><li><span><a href=\"#np.array\" data-toc-modified-id=\"np.array-1.3\"><span class=\"toc-item-num\">1.3&nbsp;&nbsp;</span>np.array</a></span></li><li><span><a href=\"#np.ones/zeros\" data-toc-modified-id=\"np.ones/zeros-1.4\"><span class=\"toc-item-num\">1.4&nbsp;&nbsp;</span>np.ones/zeros</a></span></li><li><span><a href=\"#np.full\" data-toc-modified-id=\"np.full-1.5\"><span class=\"toc-item-num\">1.5&nbsp;&nbsp;</span>np.full</a></span></li><li><span><a href=\"#指定类型\" data-toc-modified-id=\"指定类型-1.6\"><span class=\"toc-item-num\">1.6&nbsp;&nbsp;</span>指定类型 </a></span></li></ul></li><li><span><a href=\"#查看与选取\" data-toc-modified-id=\"查看与选取-2\"><span class=\"toc-item-num\">2&nbsp;&nbsp;</span>查看与选取 </a></span><ul class=\"toc-item\"><li><span><a href=\"#切片/索引\" data-toc-modified-id=\"切片/索引-2.1\"><span class=\"toc-item-num\">2.1&nbsp;&nbsp;</span>切片 / 索引 </a></span></li><li><span><a href=\"#不规则切片/花式索引\" data-toc-modified-id=\"不规则切片/花式索引-2.2\"><span class=\"toc-item-num\">2.2&nbsp;&nbsp;</span>不规则切片 / 花式索引 </a></span></li></ul></li><li><span><a href=\"#修改\" data-toc-modified-id=\"修改-3\"><span class=\"toc-item-num\">3&nbsp;&nbsp;</span>修改 </a></span><ul class=\"toc-item\"><li><span><a href=\"#拆分\" data-toc-modified-id=\"拆分-3.1\"><span class=\"toc-item-num\">3.1&nbsp;&nbsp;</span>拆分 </a></span></li><li><span><a href=\"#合并\" data-toc-modified-id=\"合并-3.2\"><span class=\"toc-item-num\">3.2&nbsp;&nbsp;</span>合并 </a></span></li><li><span><a href=\"#缺失值处理\" data-toc-modified-id=\"缺失值处理-3.3\"><span class=\"toc-item-num\">3.3&nbsp;&nbsp;</span>缺失值处理 </a></span></li><li><span><a href=\"#修改形状\" data-toc-modified-id=\"修改形状-3.4\"><span class=\"toc-item-num\">3.4&nbsp;&nbsp;</span>修改形状 </a></span></li><li><span><a href=\"#轴的调换\" data-toc-modified-id=\"轴的调换-3.5\"><span class=\"toc-item-num\">3.5&nbsp;&nbsp;</span>轴的调换 </a></span></li><li><span><a href=\"#修改数据类型\" data-toc-modified-id=\"修改数据类型-3.6\"><span class=\"toc-item-num\">3.6&nbsp;&nbsp;</span>修改数据类型 </a></span></li><li><span><a href=\"#拷贝\" data-toc-modified-id=\"拷贝-3.7\"><span class=\"toc-item-num\">3.7&nbsp;&nbsp;</span>拷贝 </a></span></li><li><span><a href=\"#排序\" data-toc-modified-id=\"排序-3.8\"><span class=\"toc-item-num\">3.8&nbsp;&nbsp;</span>排序 </a></span></li></ul></li></ul></div>"
   ]
  },
  {
   "cell_type": "code",
   "execution_count": 1,
   "id": "5f1b1e66",
   "metadata": {},
   "outputs": [],
   "source": [
    "import numpy as np"
   ]
  },
  {
   "cell_type": "markdown",
   "id": "76dc0726",
   "metadata": {},
   "source": [
    "## 创建"
   ]
  },
  {
   "cell_type": "markdown",
   "id": "a5c5d4df",
   "metadata": {},
   "source": [
    "### np.arange\n",
    "\n",
    "`np.arange` 与 Python 的 `range` 用法一样，都用来创建一维数组。\n",
    "\n",
    "接口参数：`[start], stop, [step]`，方括号里的是可选参数，默认值分别是 0 和 1。"
   ]
  },
  {
   "cell_type": "code",
   "execution_count": 35,
   "id": "cc15ff35",
   "metadata": {
    "scrolled": true
   },
   "outputs": [
    {
     "data": {
      "text/plain": [
       "[0, 1, 2, 3, 4, 5, 6, 7, 8, 9]"
      ]
     },
     "execution_count": 35,
     "metadata": {},
     "output_type": "execute_result"
    }
   ],
   "source": [
    "[v for v in range(10)]"
   ]
  },
  {
   "cell_type": "code",
   "execution_count": 9,
   "id": "bdd6e807",
   "metadata": {
    "scrolled": true
   },
   "outputs": [
    {
     "data": {
      "text/plain": [
       "array([0, 1, 2, 3, 4])"
      ]
     },
     "execution_count": 9,
     "metadata": {},
     "output_type": "execute_result"
    }
   ],
   "source": [
    "# 只有 stop\n",
    "np.arange(5)"
   ]
  },
  {
   "cell_type": "code",
   "execution_count": 10,
   "id": "f676af2d",
   "metadata": {},
   "outputs": [
    {
     "data": {
      "text/plain": [
       "array([2, 3, 4])"
      ]
     },
     "execution_count": 10,
     "metadata": {},
     "output_type": "execute_result"
    }
   ],
   "source": [
    "# 指定 start, stop\n",
    "np.arange(2, 5)"
   ]
  },
  {
   "cell_type": "code",
   "execution_count": 11,
   "id": "5d36dec2",
   "metadata": {},
   "outputs": [
    {
     "data": {
      "text/plain": [
       "array([2, 4])"
      ]
     },
     "execution_count": 11,
     "metadata": {},
     "output_type": "execute_result"
    }
   ],
   "source": [
    "# 指定 start, stop, step\n",
    "np.arange(2, 5, 2)"
   ]
  },
  {
   "cell_type": "markdown",
   "id": "129bcf1e",
   "metadata": {},
   "source": [
    "### reshape\n",
    "\n",
    "如果我们想创建一个多维数组，则需要将刚刚创建的一维数组 `reshape` 成多维。  \n",
    "`reshape` 中元素数量乘积（元素总数）必须与一维向量元素数量相等。\n",
    "\n",
    "\n",
    "注：在线性代数中一般一维数组=向量；二维数组=矩阵；三维+数组=张量。"
   ]
  },
  {
   "cell_type": "code",
   "execution_count": 12,
   "id": "4711a9a8",
   "metadata": {},
   "outputs": [
    {
     "data": {
      "text/plain": [
       "array([[0, 1, 2, 3, 4],\n",
       "       [5, 6, 7, 8, 9]])"
      ]
     },
     "execution_count": 12,
     "metadata": {},
     "output_type": "execute_result"
    }
   ],
   "source": [
    "# reshape 成 2 行 5 列的二维数组\n",
    "np.arange(10).reshape(2, 5)"
   ]
  },
  {
   "cell_type": "code",
   "execution_count": 13,
   "id": "03aa77ce",
   "metadata": {},
   "outputs": [
    {
     "data": {
      "text/plain": [
       "array([[[ 0,  1,  2],\n",
       "        [ 3,  4,  5]],\n",
       "\n",
       "       [[ 6,  7,  8],\n",
       "        [ 9, 10, 11]]])"
      ]
     },
     "execution_count": 13,
     "metadata": {},
     "output_type": "execute_result"
    }
   ],
   "source": [
    "# reshape 成 2×2×3 的三维数组\n",
    "np.arange(12).reshape(2, 2, 3)"
   ]
  },
  {
   "cell_type": "code",
   "execution_count": 14,
   "id": "82dfbc90",
   "metadata": {},
   "outputs": [
    {
     "ename": "ValueError",
     "evalue": "cannot reshape array of size 10 into shape (3,3)",
     "output_type": "error",
     "traceback": [
      "\u001b[1;31m---------------------------------------------------------------------------\u001b[0m",
      "\u001b[1;31mValueError\u001b[0m                                Traceback (most recent call last)",
      "\u001b[1;32m~\\AppData\\Local\\Temp/ipykernel_13268/138367377.py\u001b[0m in \u001b[0;36m<module>\u001b[1;34m\u001b[0m\n\u001b[0;32m      1\u001b[0m \u001b[1;31m# reshape 的 shape 中数字的乘积（元素数量）必须与一维向量元素数量相等\u001b[0m\u001b[1;33m\u001b[0m\u001b[1;33m\u001b[0m\u001b[1;33m\u001b[0m\u001b[0m\n\u001b[1;32m----> 2\u001b[1;33m \u001b[0mnp\u001b[0m\u001b[1;33m.\u001b[0m\u001b[0marange\u001b[0m\u001b[1;33m(\u001b[0m\u001b[1;36m10\u001b[0m\u001b[1;33m)\u001b[0m\u001b[1;33m.\u001b[0m\u001b[0mreshape\u001b[0m\u001b[1;33m(\u001b[0m\u001b[1;36m3\u001b[0m\u001b[1;33m,\u001b[0m \u001b[1;36m3\u001b[0m\u001b[1;33m)\u001b[0m\u001b[1;33m\u001b[0m\u001b[1;33m\u001b[0m\u001b[0m\n\u001b[0m",
      "\u001b[1;31mValueError\u001b[0m: cannot reshape array of size 10 into shape (3,3)"
     ]
    }
   ],
   "source": [
    "# reshape 的 shape 中数字的乘积（元素数量）必须与一维向量元素数量相等\n",
    "np.arange(10).reshape(3, 3)"
   ]
  },
  {
   "cell_type": "markdown",
   "id": "cdb24b08",
   "metadata": {},
   "source": [
    "### np.array\n",
    "\n",
    "创建 `ndarray` 的快捷接口，接受一个 object，可以是：\n",
    "\n",
    "- 一个 List\n",
    "- 一个 Tuple\n",
    "- 一个 List 的 Tuple\n",
    "- 一个嵌套的 List"
   ]
  },
  {
   "cell_type": "code",
   "execution_count": 16,
   "id": "20430e45",
   "metadata": {},
   "outputs": [
    {
     "data": {
      "text/plain": [
       "array([1, 2])"
      ]
     },
     "execution_count": 16,
     "metadata": {},
     "output_type": "execute_result"
    }
   ],
   "source": [
    "# list\n",
    "np.array([1, 2])"
   ]
  },
  {
   "cell_type": "code",
   "execution_count": 20,
   "id": "d9b1f6f6",
   "metadata": {},
   "outputs": [
    {
     "data": {
      "text/plain": [
       "array([1, 2])"
      ]
     },
     "execution_count": 20,
     "metadata": {},
     "output_type": "execute_result"
    }
   ],
   "source": [
    "# tuple\n",
    "np.array((1, 2))"
   ]
  },
  {
   "cell_type": "code",
   "execution_count": 18,
   "id": "ca3e02bd",
   "metadata": {},
   "outputs": [
    {
     "data": {
      "text/plain": [
       "array([[1, 2, 3],\n",
       "       [4, 5, 6]])"
      ]
     },
     "execution_count": 18,
     "metadata": {},
     "output_type": "execute_result"
    }
   ],
   "source": [
    "# list tuple\n",
    "np.array([\n",
    "    (1, 2, 3),\n",
    "    (4, 5, 6)\n",
    "])"
   ]
  },
  {
   "cell_type": "code",
   "execution_count": 19,
   "id": "09cfef2c",
   "metadata": {},
   "outputs": [
    {
     "data": {
      "text/plain": [
       "array([[1, 2, 3],\n",
       "       [4, 5, 6]])"
      ]
     },
     "execution_count": 19,
     "metadata": {},
     "output_type": "execute_result"
    }
   ],
   "source": [
    "# list list\n",
    "np.array([\n",
    "    [1, 2, 3],\n",
    "    [4, 5, 6]\n",
    "])"
   ]
  },
  {
   "cell_type": "markdown",
   "id": "749ac098",
   "metadata": {},
   "source": [
    "### np.ones/zeros\n",
    "\n",
    "快速创建全 1 或全 0 的数组，可以指定 `shape`。\n",
    "\n",
    "注意：创建的数字默认是 `float` 类型。"
   ]
  },
  {
   "cell_type": "code",
   "execution_count": 22,
   "id": "371769bd",
   "metadata": {},
   "outputs": [
    {
     "data": {
      "text/plain": [
       "array([[[1., 1.],\n",
       "        [1., 1.]],\n",
       "\n",
       "       [[1., 1.],\n",
       "        [1., 1.]]])"
      ]
     },
     "execution_count": 22,
     "metadata": {},
     "output_type": "execute_result"
    }
   ],
   "source": [
    "np.ones((2, 2, 2))"
   ]
  },
  {
   "cell_type": "code",
   "execution_count": 25,
   "id": "6880d2f4",
   "metadata": {},
   "outputs": [
    {
     "data": {
      "text/plain": [
       "array([[[[0., 0., 0.]],\n",
       "\n",
       "        [[0., 0., 0.]],\n",
       "\n",
       "        [[0., 0., 0.]]]])"
      ]
     },
     "execution_count": 25,
     "metadata": {},
     "output_type": "execute_result"
    }
   ],
   "source": [
    "np.zeros((1, 3, 1, 3))"
   ]
  },
  {
   "cell_type": "markdown",
   "id": "b1dd07fc",
   "metadata": {},
   "source": [
    "### np.full\n",
    "\n",
    "快速创建一个给定 shape 和填充值的数组。\n",
    "\n",
    "注意：给定的填充值 shape 需要与给定的 shape 对应。参数 `shape` 是一个 tuple。"
   ]
  },
  {
   "cell_type": "code",
   "execution_count": 44,
   "id": "c01ec8a2",
   "metadata": {},
   "outputs": [
    {
     "data": {
      "text/plain": [
       "array([[2, 2, 2],\n",
       "       [2, 2, 2]])"
      ]
     },
     "execution_count": 44,
     "metadata": {},
     "output_type": "execute_result"
    }
   ],
   "source": [
    "# 最简单的，给定 fill 是一个值\n",
    "np.full((2, 3), 2)"
   ]
  },
  {
   "cell_type": "code",
   "execution_count": 46,
   "id": "555629b7",
   "metadata": {},
   "outputs": [
    {
     "data": {
      "text/plain": [
       "(array([[1, 2, 3],\n",
       "        [1, 2, 3]]),\n",
       " array([[[1, 2, 3],\n",
       "         [1, 2, 3]]]))"
      ]
     },
     "execution_count": 46,
     "metadata": {},
     "output_type": "execute_result"
    }
   ],
   "source": [
    "# 如果 fill 是一个向量，那长度必须和 shape 的最后一维相等\n",
    "np.full((2, 3), [1, 2, 3]), np.full((1, 2, 3), [1, 2, 3])"
   ]
  },
  {
   "cell_type": "code",
   "execution_count": 53,
   "id": "b9d699c3",
   "metadata": {},
   "outputs": [
    {
     "name": "stdout",
     "output_type": "stream",
     "text": [
      "could not broadcast input array from shape (3,) into shape (2,2)\n"
     ]
    }
   ],
   "source": [
    "# 否则会提示错误\n",
    "try:\n",
    "    np.full((2, 2), [1, 2, 3])\n",
    "except Exception as e:\n",
    "    print(e)"
   ]
  },
  {
   "cell_type": "markdown",
   "id": "6d9e4535",
   "metadata": {},
   "source": [
    "如果 fill 是多维数组：\n",
    "\n",
    "- shape 必须在行或列上与给定的 shape 对应，另一个维度为 1\n",
    "- 或者与给定 shape 完全一致\n",
    "\n",
    "否则会提示上面的错误。"
   ]
  },
  {
   "cell_type": "code",
   "execution_count": 58,
   "id": "f5e875f2",
   "metadata": {
    "scrolled": true
   },
   "outputs": [
    {
     "data": {
      "text/plain": [
       "(array([[4, 4, 4],\n",
       "        [3, 3, 3]]),\n",
       " array([[4, 4],\n",
       "        [3, 3]]))"
      ]
     },
     "execution_count": 58,
     "metadata": {},
     "output_type": "execute_result"
    }
   ],
   "source": [
    "fill = [[4], [3]]\n",
    "# 2 行\n",
    "np.full((2, 3), fill), np.full((2, 2), fill)"
   ]
  },
  {
   "cell_type": "code",
   "execution_count": 59,
   "id": "7310f5ee",
   "metadata": {},
   "outputs": [
    {
     "data": {
      "text/plain": [
       "array([[3, 4, 5],\n",
       "       [3, 4, 5]])"
      ]
     },
     "execution_count": 59,
     "metadata": {},
     "output_type": "execute_result"
    }
   ],
   "source": [
    "fill = [[3, 4, 5]]\n",
    "# 或者 3 列\n",
    "np.full((2, 3), fill)"
   ]
  },
  {
   "cell_type": "code",
   "execution_count": 72,
   "id": "7e6d8ad3",
   "metadata": {
    "scrolled": true
   },
   "outputs": [
    {
     "data": {
      "text/plain": [
       "array([[1, 2, 3],\n",
       "       [4, 5, 6]])"
      ]
     },
     "execution_count": 72,
     "metadata": {},
     "output_type": "execute_result"
    }
   ],
   "source": [
    "fill = [[1, 2, 3], [4, 5, 6]]\n",
    "# 或者一致\n",
    "np.full((2, 3), fill)"
   ]
  },
  {
   "cell_type": "markdown",
   "id": "6d150245",
   "metadata": {},
   "source": [
    "### 指定类型\n",
    "\n",
    "一般创建数组时不需要指定类型。但如果需要制定，建议「显式」地指定。"
   ]
  },
  {
   "cell_type": "code",
   "execution_count": 68,
   "id": "8c755362",
   "metadata": {},
   "outputs": [
    {
     "data": {
      "text/plain": [
       "array([2, 3], dtype=int8)"
      ]
     },
     "execution_count": 68,
     "metadata": {},
     "output_type": "execute_result"
    }
   ],
   "source": [
    "# 指定为 int8 类型\n",
    "np.array([2, 3], np.int8)"
   ]
  },
  {
   "cell_type": "code",
   "execution_count": 61,
   "id": "43bd28d8",
   "metadata": {
    "scrolled": true
   },
   "outputs": [
    {
     "data": {
      "text/plain": [
       "array([[0., 1., 2., 3.],\n",
       "       [4., 5., 6., 7.]], dtype=float16)"
      ]
     },
     "execution_count": 61,
     "metadata": {},
     "output_type": "execute_result"
    }
   ],
   "source": [
    "# 指定为 float16 类型\n",
    "np.arange(8, dtype=np.float16).reshape(2, 4)"
   ]
  },
  {
   "cell_type": "code",
   "execution_count": 64,
   "id": "45e42235",
   "metadata": {},
   "outputs": [
    {
     "data": {
      "text/plain": [
       "(numpy.int8, numpy.int16, numpy.int32, numpy.int64)"
      ]
     },
     "execution_count": 64,
     "metadata": {},
     "output_type": "execute_result"
    }
   ],
   "source": [
    "# 常见的整型\n",
    "np.int8, np.int16, np.int32, np.int64"
   ]
  },
  {
   "cell_type": "code",
   "execution_count": 65,
   "id": "df91c7f0",
   "metadata": {},
   "outputs": [
    {
     "data": {
      "text/plain": [
       "(numpy.float16, numpy.float32, numpy.float64)"
      ]
     },
     "execution_count": 65,
     "metadata": {},
     "output_type": "execute_result"
    }
   ],
   "source": [
    "# 常见的浮点精度\n",
    "np.float16, np.float32, np.float64"
   ]
  },
  {
   "cell_type": "markdown",
   "id": "c8be70f5",
   "metadata": {},
   "source": [
    "## 查看与选取"
   ]
  },
  {
   "cell_type": "code",
   "execution_count": 64,
   "id": "42680f17",
   "metadata": {},
   "outputs": [
    {
     "data": {
      "text/plain": [
       "array([[ 1,  2,  3,  4],\n",
       "       [ 5,  6,  7,  8],\n",
       "       [ 9, 10, 11, 12],\n",
       "       [13, 14, 15, 16],\n",
       "       [17, 18, 19, 20]], dtype=int32)"
      ]
     },
     "execution_count": 64,
     "metadata": {},
     "output_type": "execute_result"
    }
   ],
   "source": [
    "arr = np.arange(1, 21, dtype=np.int32).reshape(5, 4)\n",
    "arr"
   ]
  },
  {
   "cell_type": "markdown",
   "id": "20bbb5b6",
   "metadata": {},
   "source": [
    "切片和索引是通过对已有 array 进行操作而得到想要的「部分」元素的行为过程。一般有两种方式：正下标和负下标，前者是从前往后的，后者是从后往前的。\n",
    "\n",
    "\n",
    "切片/索引核心动作可以概括为：按维度根据不同维度的 index 对 array 进行操作，其中切片常通过 `start:stop:step` 操作，不处理的维度统一用 `:` 或 `...` 代替。\n",
    "\n",
    "所以在看操作时，要首先关注「`,`」在哪里。要处理的维度和之前 `arange` `linspace` 等接口使用方法是一样的。\n",
    "\n",
    "\n",
    "切片和索引有一些区别：\n",
    "\n",
    "-  一般来说，索引（indexing）会创建 copy，切片（slicing）会创建 view。\n",
    "- 切片表示法指定开始和结束值 [start：end]，并将列表从start复制到end-1。\n",
    "- 索引返回数组的一个元素，切片返回一个元素的列表。\n",
    "\n",
    "通俗点理解，切片一般都是有一个范围的，而索引看起来就是「摘取」某些元素。切片和索引经常会一起使用。实际使用时无须过多纠结。"
   ]
  },
  {
   "cell_type": "markdown",
   "id": "da72f31b",
   "metadata": {},
   "source": [
    "### 切片/索引"
   ]
  },
  {
   "cell_type": "code",
   "execution_count": 91,
   "id": "56f889f0",
   "metadata": {
    "scrolled": false
   },
   "outputs": [
    {
     "data": {
      "text/plain": [
       "array([1, 2, 3, 4], dtype=int32)"
      ]
     },
     "execution_count": 91,
     "metadata": {},
     "output_type": "execute_result"
    }
   ],
   "source": [
    "# 正下标\n",
    "# 第一行\n",
    "arr[0]"
   ]
  },
  {
   "cell_type": "code",
   "execution_count": 93,
   "id": "29d9b3f9",
   "metadata": {},
   "outputs": [
    {
     "data": {
      "text/plain": [
       "array([1, 2, 3, 4], dtype=int32)"
      ]
     },
     "execution_count": 93,
     "metadata": {},
     "output_type": "execute_result"
    }
   ],
   "source": [
    "# 等价于\n",
    "arr[0,:]"
   ]
  },
  {
   "cell_type": "code",
   "execution_count": 95,
   "id": "e9dea7de",
   "metadata": {},
   "outputs": [
    {
     "data": {
      "text/plain": [
       "array([17, 18, 19, 20], dtype=int32)"
      ]
     },
     "execution_count": 95,
     "metadata": {},
     "output_type": "execute_result"
    }
   ],
   "source": [
    "# 负下标\n",
    "# 最后一行\n",
    "arr[-1]"
   ]
  },
  {
   "cell_type": "code",
   "execution_count": 97,
   "id": "3363bcaa",
   "metadata": {
    "scrolled": false
   },
   "outputs": [
    {
     "data": {
      "text/plain": [
       "array([[1, 2, 3, 4]], dtype=int32)"
      ]
     },
     "execution_count": 97,
     "metadata": {},
     "output_type": "execute_result"
    }
   ],
   "source": [
    "# 注意，这是个索引\n",
    "arr[[0]]"
   ]
  },
  {
   "cell_type": "code",
   "execution_count": 99,
   "id": "cb6b92b2",
   "metadata": {
    "scrolled": true
   },
   "outputs": [
    {
     "data": {
      "text/plain": [
       "2"
      ]
     },
     "execution_count": 99,
     "metadata": {},
     "output_type": "execute_result"
    }
   ],
   "source": [
    "# 取某个元素是一个数字，此时不需要创建引用\n",
    "a = arr[0, 1]\n",
    "a"
   ]
  },
  {
   "cell_type": "code",
   "execution_count": 101,
   "id": "e32ccd8b",
   "metadata": {},
   "outputs": [
    {
     "data": {
      "text/plain": [
       "array([ 1,  5,  9, 13, 17], dtype=int32)"
      ]
     },
     "execution_count": 101,
     "metadata": {},
     "output_type": "execute_result"
    }
   ],
   "source": [
    "# 第一列\n",
    "arr[:, 0]"
   ]
  },
  {
   "cell_type": "code",
   "execution_count": 103,
   "id": "7acab622",
   "metadata": {},
   "outputs": [
    {
     "data": {
      "text/plain": [
       "array([ 4,  8, 12, 16, 20], dtype=int32)"
      ]
     },
     "execution_count": 103,
     "metadata": {},
     "output_type": "execute_result"
    }
   ],
   "source": [
    "# 最后一列\n",
    "arr[:, -1]"
   ]
  },
  {
   "cell_type": "code",
   "execution_count": 105,
   "id": "a05b44b5",
   "metadata": {},
   "outputs": [
    {
     "data": {
      "text/plain": [
       "array([[ 1,  2,  3,  4],\n",
       "       [ 5,  6,  7,  8],\n",
       "       [ 9, 10, 11, 12]], dtype=int32)"
      ]
     },
     "execution_count": 105,
     "metadata": {},
     "output_type": "execute_result"
    }
   ],
   "source": [
    "# 然后带点范围 第 1-2 行\n",
    "arr[0:3]"
   ]
  },
  {
   "cell_type": "code",
   "execution_count": 107,
   "id": "5649fde7",
   "metadata": {
    "scrolled": true
   },
   "outputs": [
    {
     "data": {
      "text/plain": [
       "array([[ 1,  2,  3,  4],\n",
       "       [ 5,  6,  7,  8],\n",
       "       [ 9, 10, 11, 12]], dtype=int32)"
      ]
     },
     "execution_count": 107,
     "metadata": {},
     "output_type": "execute_result"
    }
   ],
   "source": [
    "# 等价于\n",
    "arr[0:3, :]"
   ]
  },
  {
   "cell_type": "markdown",
   "id": "58516ca0",
   "metadata": {},
   "source": [
    "### 不规则切片/花式索引"
   ]
  },
  {
   "cell_type": "code",
   "execution_count": 87,
   "id": "f287864a",
   "metadata": {},
   "outputs": [
    {
     "data": {
      "text/plain": [
       "array([[ 1,  2,  3,  4],\n",
       "       [ 5,  6,  7,  8],\n",
       "       [ 9, 10, 11, 12],\n",
       "       [13, 14, 15, 16],\n",
       "       [17, 18, 19, 20]], dtype=int32)"
      ]
     },
     "execution_count": 87,
     "metadata": {},
     "output_type": "execute_result"
    }
   ],
   "source": [
    "arr"
   ]
  },
  {
   "cell_type": "code",
   "execution_count": 111,
   "id": "4c9523d5",
   "metadata": {
    "scrolled": false
   },
   "outputs": [
    {
     "data": {
      "text/plain": [
       "array([7, 8], dtype=int32)"
      ]
     },
     "execution_count": 111,
     "metadata": {},
     "output_type": "execute_result"
    }
   ],
   "source": [
    "# 一个指定，一个范围，切片\n",
    "arr[1, 2:5]"
   ]
  },
  {
   "cell_type": "code",
   "execution_count": 115,
   "id": "9ede650a",
   "metadata": {
    "scrolled": true
   },
   "outputs": [
    {
     "data": {
      "text/plain": [
       "array([[ 5,  6,  7,  8],\n",
       "       [13, 14, 15, 16]], dtype=int32)"
      ]
     },
     "execution_count": 115,
     "metadata": {},
     "output_type": "execute_result"
    }
   ],
   "source": [
    "# 还可以来点跳跃，步长：start:stop:step，第 1 行到第 4 行，间隔为 2，即第 1、3 行，切片\n",
    "arr[1: 4: 2]"
   ]
  },
  {
   "cell_type": "code",
   "execution_count": 118,
   "id": "af390766",
   "metadata": {},
   "outputs": [
    {
     "data": {
      "text/plain": [
       "array([[ 5,  7],\n",
       "       [13, 15]], dtype=int32)"
      ]
     },
     "execution_count": 118,
     "metadata": {},
     "output_type": "execute_result"
    }
   ],
   "source": [
    "# 加上列也可以哦，第 1、3 行，第 0、2 列，切片\n",
    "arr[1:4:2, 0:3:2]"
   ]
  },
  {
   "cell_type": "code",
   "execution_count": 119,
   "id": "55cfa7ec",
   "metadata": {
    "scrolled": false
   },
   "outputs": [
    {
     "data": {
      "text/plain": [
       "array([2], dtype=int32)"
      ]
     },
     "execution_count": 119,
     "metadata": {},
     "output_type": "execute_result"
    }
   ],
   "source": [
    "# 这个是正常的索引\n",
    "arr[[0], [1]]"
   ]
  },
  {
   "cell_type": "code",
   "execution_count": 121,
   "id": "d624d44b",
   "metadata": {
    "scrolled": true
   },
   "outputs": [
    {
     "data": {
      "text/plain": [
       "array([[ 1,  2,  3,  4],\n",
       "       [13, 14, 15, 16]], dtype=int32)"
      ]
     },
     "execution_count": 121,
     "metadata": {},
     "output_type": "execute_result"
    }
   ],
   "source": [
    "# 离散也可以：第 1，3 行\n",
    "arr[[0, 3]]"
   ]
  },
  {
   "cell_type": "code",
   "execution_count": 125,
   "id": "5f33aa1c",
   "metadata": {},
   "outputs": [
    {
     "data": {
      "text/plain": [
       "array([[ 2,  3,  4],\n",
       "       [14, 15, 16]], dtype=int32)"
      ]
     },
     "execution_count": 125,
     "metadata": {},
     "output_type": "execute_result"
    }
   ],
   "source": [
    "# 再来一个维度\n",
    "arr[[0, 3], 1:4]"
   ]
  },
  {
   "cell_type": "markdown",
   "id": "308f7bdf",
   "metadata": {},
   "source": [
    "## 修改"
   ]
  },
  {
   "cell_type": "markdown",
   "id": "0da22471",
   "metadata": {},
   "source": [
    "### 拆分\n",
    "\n",
    "`np.split`，接受三个参数：\n",
    "\n",
    "- 给定的 array\n",
    "- 要拆分的个数\n",
    "- 拆分沿着的维度（即沿着哪个维度拆），或对「某个维度」进行拆分，0 表示列，1 表示行"
   ]
  },
  {
   "cell_type": "code",
   "execution_count": 127,
   "id": "a24523d7",
   "metadata": {},
   "outputs": [
    {
     "data": {
      "text/plain": [
       "array([[ 1,  2,  3,  4],\n",
       "       [ 5,  6,  7,  8],\n",
       "       [ 9, 10, 11, 12],\n",
       "       [13, 14, 15, 16]], dtype=int32)"
      ]
     },
     "execution_count": 127,
     "metadata": {},
     "output_type": "execute_result"
    }
   ],
   "source": [
    "a = np.arange(1, 17, dtype=np.int32).reshape(4, 4)\n",
    "a"
   ]
  },
  {
   "cell_type": "code",
   "execution_count": 128,
   "id": "1f4f1bfd",
   "metadata": {},
   "outputs": [
    {
     "data": {
      "text/plain": [
       "[array([[1, 2, 3, 4],\n",
       "        [5, 6, 7, 8]], dtype=int32),\n",
       " array([[ 9, 10, 11, 12],\n",
       "        [13, 14, 15, 16]], dtype=int32)]"
      ]
     },
     "execution_count": 128,
     "metadata": {},
     "output_type": "execute_result"
    }
   ],
   "source": [
    "# np.split(array, nparts)\n",
    "# axis=0，沿着列拆分，对列进行拆分\n",
    "np.split(a, 2)"
   ]
  },
  {
   "cell_type": "code",
   "execution_count": 129,
   "id": "6f41e51c",
   "metadata": {},
   "outputs": [
    {
     "data": {
      "text/plain": [
       "[array([[ 1,  2],\n",
       "        [ 5,  6],\n",
       "        [ 9, 10],\n",
       "        [13, 14]], dtype=int32),\n",
       " array([[ 3,  4],\n",
       "        [ 7,  8],\n",
       "        [11, 12],\n",
       "        [15, 16]], dtype=int32)]"
      ]
     },
     "execution_count": 129,
     "metadata": {},
     "output_type": "execute_result"
    }
   ],
   "source": [
    "# axis=1，对行进行拆分\n",
    "np.split(a, 2, 1)"
   ]
  },
  {
   "cell_type": "markdown",
   "id": "5adaf126",
   "metadata": {},
   "source": [
    "📢 特别注意：如果不满足拆分条件，则会提示错误。"
   ]
  },
  {
   "cell_type": "code",
   "execution_count": 36,
   "id": "e485be82",
   "metadata": {},
   "outputs": [
    {
     "ename": "ValueError",
     "evalue": "array split does not result in an equal division",
     "output_type": "error",
     "traceback": [
      "\u001b[0;31m---------------------------------------------------------------------------\u001b[0m",
      "\u001b[0;31mTypeError\u001b[0m                                 Traceback (most recent call last)",
      "\u001b[0;32m/usr/local/lib/python3.8/site-packages/numpy/lib/shape_base.py\u001b[0m in \u001b[0;36msplit\u001b[0;34m(ary, indices_or_sections, axis)\u001b[0m\n\u001b[1;32m    866\u001b[0m     \u001b[0;32mtry\u001b[0m\u001b[0;34m:\u001b[0m\u001b[0;34m\u001b[0m\u001b[0;34m\u001b[0m\u001b[0m\n\u001b[0;32m--> 867\u001b[0;31m         \u001b[0mlen\u001b[0m\u001b[0;34m(\u001b[0m\u001b[0mindices_or_sections\u001b[0m\u001b[0;34m)\u001b[0m\u001b[0;34m\u001b[0m\u001b[0;34m\u001b[0m\u001b[0m\n\u001b[0m\u001b[1;32m    868\u001b[0m     \u001b[0;32mexcept\u001b[0m \u001b[0mTypeError\u001b[0m\u001b[0;34m:\u001b[0m\u001b[0;34m\u001b[0m\u001b[0;34m\u001b[0m\u001b[0m\n",
      "\u001b[0;31mTypeError\u001b[0m: object of type 'int' has no len()",
      "\nDuring handling of the above exception, another exception occurred:\n",
      "\u001b[0;31mValueError\u001b[0m                                Traceback (most recent call last)",
      "\u001b[0;32m<ipython-input-36-bc29a7b7ab93>\u001b[0m in \u001b[0;36m<module>\u001b[0;34m\u001b[0m\n\u001b[1;32m      1\u001b[0m \u001b[0;31m# 不满足拆分条件\u001b[0m\u001b[0;34m\u001b[0m\u001b[0;34m\u001b[0m\u001b[0;34m\u001b[0m\u001b[0m\n\u001b[0;32m----> 2\u001b[0;31m \u001b[0mnp\u001b[0m\u001b[0;34m.\u001b[0m\u001b[0msplit\u001b[0m\u001b[0;34m(\u001b[0m\u001b[0ma\u001b[0m\u001b[0;34m,\u001b[0m \u001b[0;36m3\u001b[0m\u001b[0;34m)\u001b[0m\u001b[0;34m\u001b[0m\u001b[0;34m\u001b[0m\u001b[0m\n\u001b[0m",
      "\u001b[0;32m<__array_function__ internals>\u001b[0m in \u001b[0;36msplit\u001b[0;34m(*args, **kwargs)\u001b[0m\n",
      "\u001b[0;32m/usr/local/lib/python3.8/site-packages/numpy/lib/shape_base.py\u001b[0m in \u001b[0;36msplit\u001b[0;34m(ary, indices_or_sections, axis)\u001b[0m\n\u001b[1;32m    870\u001b[0m         \u001b[0mN\u001b[0m \u001b[0;34m=\u001b[0m \u001b[0mary\u001b[0m\u001b[0;34m.\u001b[0m\u001b[0mshape\u001b[0m\u001b[0;34m[\u001b[0m\u001b[0maxis\u001b[0m\u001b[0;34m]\u001b[0m\u001b[0;34m\u001b[0m\u001b[0;34m\u001b[0m\u001b[0m\n\u001b[1;32m    871\u001b[0m         \u001b[0;32mif\u001b[0m \u001b[0mN\u001b[0m \u001b[0;34m%\u001b[0m \u001b[0msections\u001b[0m\u001b[0;34m:\u001b[0m\u001b[0;34m\u001b[0m\u001b[0;34m\u001b[0m\u001b[0m\n\u001b[0;32m--> 872\u001b[0;31m             raise ValueError(\n\u001b[0m\u001b[1;32m    873\u001b[0m                 'array split does not result in an equal division')\n\u001b[1;32m    874\u001b[0m     \u001b[0;32mreturn\u001b[0m \u001b[0marray_split\u001b[0m\u001b[0;34m(\u001b[0m\u001b[0mary\u001b[0m\u001b[0;34m,\u001b[0m \u001b[0mindices_or_sections\u001b[0m\u001b[0;34m,\u001b[0m \u001b[0maxis\u001b[0m\u001b[0;34m)\u001b[0m\u001b[0;34m\u001b[0m\u001b[0;34m\u001b[0m\u001b[0m\n",
      "\u001b[0;31mValueError\u001b[0m: array split does not result in an equal division"
     ]
    }
   ],
   "source": [
    "# 不满足拆分条件\n",
    "np.split(a, 3)"
   ]
  },
  {
   "cell_type": "code",
   "execution_count": 130,
   "id": "dd60b673",
   "metadata": {},
   "outputs": [
    {
     "data": {
      "text/plain": [
       "[array([[ 1,  2,  3,  4],\n",
       "        [ 5,  6,  7,  8],\n",
       "        [ 9, 10, 11, 12],\n",
       "        [13, 14, 15, 16]], dtype=int32)]"
      ]
     },
     "execution_count": 130,
     "metadata": {},
     "output_type": "execute_result"
    }
   ],
   "source": [
    "# 也可以为 1，那结果就还是自己\n",
    "np.split(a, 1)"
   ]
  },
  {
   "cell_type": "markdown",
   "id": "3a6a16d3",
   "metadata": {},
   "source": [
    "`np.vsplit` 和 `np.split(..., aixs=0)` 是等价的，所以我们只要掌握 `np.split` 这个 API 就好。"
   ]
  },
  {
   "cell_type": "code",
   "execution_count": 134,
   "id": "94c206db",
   "metadata": {},
   "outputs": [
    {
     "data": {
      "text/plain": [
       "[array([[1, 2, 3, 4],\n",
       "        [5, 6, 7, 8]], dtype=int32),\n",
       " array([[ 9, 10, 11, 12],\n",
       "        [13, 14, 15, 16]], dtype=int32)]"
      ]
     },
     "execution_count": 134,
     "metadata": {},
     "output_type": "execute_result"
    }
   ],
   "source": [
    "np.vsplit(a, 2)"
   ]
  },
  {
   "cell_type": "markdown",
   "id": "b6dcb0d3",
   "metadata": {},
   "source": [
    "### 合并\n",
    "\n",
    "「❓」先思考给定两个 array 要满足什么条件才能合并？有几种合并方式？\n",
    "\n",
    "`np.concatenate` 接受\n",
    "\n",
    "- 一组 array\n",
    "- 维度\n",
    "- 目标 array，大小符合时，会被合并后的结果覆盖掉"
   ]
  },
  {
   "cell_type": "code",
   "execution_count": 152,
   "id": "46465bbc",
   "metadata": {},
   "outputs": [],
   "source": [
    "a = np.arange(1, 13, dtype=np.int32).reshape(3, 4)\n",
    "b = np.arange(-13, -1, dtype=np.int32).reshape(3, 4)"
   ]
  },
  {
   "cell_type": "code",
   "execution_count": 170,
   "id": "01a9022d",
   "metadata": {},
   "outputs": [
    {
     "data": {
      "text/plain": [
       "(array([[ 1,  2,  3,  4],\n",
       "        [ 5,  6,  7,  8],\n",
       "        [ 9, 10, 11, 12]], dtype=int32),\n",
       " array([[-13, -12, -11, -10],\n",
       "        [ -9,  -8,  -7,  -6],\n",
       "        [ -5,  -4,  -3,  -2]], dtype=int32))"
      ]
     },
     "execution_count": 170,
     "metadata": {},
     "output_type": "execute_result"
    }
   ],
   "source": [
    "a, b"
   ]
  },
  {
   "cell_type": "code",
   "execution_count": 153,
   "id": "559ae256",
   "metadata": {},
   "outputs": [
    {
     "data": {
      "text/plain": [
       "array([[ 0,  1,  2,  3],\n",
       "       [ 4,  5,  6,  7],\n",
       "       [ 8,  9, 10, 11],\n",
       "       [12, 13, 14, 15],\n",
       "       [16, 17, 18, 19],\n",
       "       [20, 21, 22, 23]])"
      ]
     },
     "execution_count": 153,
     "metadata": {},
     "output_type": "execute_result"
    }
   ],
   "source": [
    "base = np.arange(24).reshape(6, 4)\n",
    "base"
   ]
  },
  {
   "cell_type": "code",
   "execution_count": 154,
   "id": "318847ff",
   "metadata": {},
   "outputs": [
    {
     "data": {
      "text/plain": [
       "array([[  1,   2,   3,   4],\n",
       "       [  5,   6,   7,   8],\n",
       "       [  9,  10,  11,  12],\n",
       "       [-13, -12, -11, -10],\n",
       "       [ -9,  -8,  -7,  -6],\n",
       "       [ -5,  -4,  -3,  -2]])"
      ]
     },
     "execution_count": 154,
     "metadata": {},
     "output_type": "execute_result"
    }
   ],
   "source": [
    "np.concatenate((a, b), axis=0, out=base)"
   ]
  },
  {
   "cell_type": "code",
   "execution_count": 155,
   "id": "f8f88139",
   "metadata": {},
   "outputs": [
    {
     "ename": "ValueError",
     "evalue": "Output array is the wrong shape",
     "output_type": "error",
     "traceback": [
      "\u001b[0;31m---------------------------------------------------------------------------\u001b[0m",
      "\u001b[0;31mValueError\u001b[0m                                Traceback (most recent call last)",
      "\u001b[0;32m<ipython-input-155-8ba7369b2923>\u001b[0m in \u001b[0;36m<module>\u001b[0;34m\u001b[0m\n\u001b[0;32m----> 1\u001b[0;31m \u001b[0mnp\u001b[0m\u001b[0;34m.\u001b[0m\u001b[0mconcatenate\u001b[0m\u001b[0;34m(\u001b[0m\u001b[0;34m(\u001b[0m\u001b[0ma\u001b[0m\u001b[0;34m,\u001b[0m \u001b[0mb\u001b[0m\u001b[0;34m)\u001b[0m\u001b[0;34m,\u001b[0m \u001b[0maxis\u001b[0m\u001b[0;34m=\u001b[0m\u001b[0;36m1\u001b[0m\u001b[0;34m,\u001b[0m \u001b[0mout\u001b[0m\u001b[0;34m=\u001b[0m\u001b[0mbase\u001b[0m\u001b[0;34m)\u001b[0m\u001b[0;34m\u001b[0m\u001b[0;34m\u001b[0m\u001b[0m\n\u001b[0m",
      "\u001b[0;32m<__array_function__ internals>\u001b[0m in \u001b[0;36mconcatenate\u001b[0;34m(*args, **kwargs)\u001b[0m\n",
      "\u001b[0;31mValueError\u001b[0m: Output array is the wrong shape"
     ]
    }
   ],
   "source": [
    "np.concatenate((a, b), axis=1, out=base)"
   ]
  },
  {
   "cell_type": "markdown",
   "id": "7c47a8ae",
   "metadata": {},
   "source": [
    "`np.vstack` 和 `np.hstack` 是 `np.concatenate` 在不同维度的快捷方式，我们只需记住一个就好。"
   ]
  },
  {
   "cell_type": "code",
   "execution_count": 157,
   "id": "0bb6c1dd",
   "metadata": {},
   "outputs": [
    {
     "data": {
      "text/plain": [
       "array([[  1,   2,   3,   4],\n",
       "       [  5,   6,   7,   8],\n",
       "       [  9,  10,  11,  12],\n",
       "       [-13, -12, -11, -10],\n",
       "       [ -9,  -8,  -7,  -6],\n",
       "       [ -5,  -4,  -3,  -2]], dtype=int32)"
      ]
     },
     "execution_count": 157,
     "metadata": {},
     "output_type": "execute_result"
    }
   ],
   "source": [
    "np.vstack((a, b))"
   ]
  },
  {
   "cell_type": "code",
   "execution_count": 158,
   "id": "7a865d80",
   "metadata": {},
   "outputs": [
    {
     "data": {
      "text/plain": [
       "array([[  1,   2,   3,   4, -13, -12, -11, -10],\n",
       "       [  5,   6,   7,   8,  -9,  -8,  -7,  -6],\n",
       "       [  9,  10,  11,  12,  -5,  -4,  -3,  -2]], dtype=int32)"
      ]
     },
     "execution_count": 158,
     "metadata": {},
     "output_type": "execute_result"
    }
   ],
   "source": [
    "np.hstack((a, b))"
   ]
  },
  {
   "cell_type": "markdown",
   "id": "0c23a03e",
   "metadata": {},
   "source": [
    "除了 `concatenate` 外，还有一个 `np.stack` 表示「堆叠」，它们的区别是堆叠会在对应的维度上增加维度（毕竟是拼起来的嘛）。两个API的参数是一样的。"
   ]
  },
  {
   "cell_type": "code",
   "execution_count": 162,
   "id": "8efb7513",
   "metadata": {},
   "outputs": [
    {
     "data": {
      "text/plain": [
       "array([[[  1,   2,   3,   4],\n",
       "        [  5,   6,   7,   8],\n",
       "        [  9,  10,  11,  12]],\n",
       "\n",
       "       [[-13, -12, -11, -10],\n",
       "        [ -9,  -8,  -7,  -6],\n",
       "        [ -5,  -4,  -3,  -2]]], dtype=int32)"
      ]
     },
     "execution_count": 162,
     "metadata": {},
     "output_type": "execute_result"
    }
   ],
   "source": [
    "np.stack((a, b))"
   ]
  },
  {
   "cell_type": "code",
   "execution_count": 163,
   "id": "9dce4f29",
   "metadata": {},
   "outputs": [
    {
     "data": {
      "text/plain": [
       "(2, 3, 4)"
      ]
     },
     "execution_count": 163,
     "metadata": {},
     "output_type": "execute_result"
    }
   ],
   "source": [
    "_.shape"
   ]
  },
  {
   "cell_type": "code",
   "execution_count": 164,
   "id": "3097df0e",
   "metadata": {},
   "outputs": [
    {
     "data": {
      "text/plain": [
       "array([[[  1,   2,   3,   4],\n",
       "        [-13, -12, -11, -10]],\n",
       "\n",
       "       [[  5,   6,   7,   8],\n",
       "        [ -9,  -8,  -7,  -6]],\n",
       "\n",
       "       [[  9,  10,  11,  12],\n",
       "        [ -5,  -4,  -3,  -2]]], dtype=int32)"
      ]
     },
     "execution_count": 164,
     "metadata": {},
     "output_type": "execute_result"
    }
   ],
   "source": [
    "np.stack((a, b), axis=1)"
   ]
  },
  {
   "cell_type": "code",
   "execution_count": 165,
   "id": "7a082b86",
   "metadata": {},
   "outputs": [
    {
     "data": {
      "text/plain": [
       "(3, 2, 4)"
      ]
     },
     "execution_count": 165,
     "metadata": {},
     "output_type": "execute_result"
    }
   ],
   "source": [
    "_.shape"
   ]
  },
  {
   "cell_type": "code",
   "execution_count": 168,
   "id": "c8e04009",
   "metadata": {},
   "outputs": [
    {
     "data": {
      "text/plain": [
       "array([[[  1, -13],\n",
       "        [  2, -12],\n",
       "        [  3, -11],\n",
       "        [  4, -10]],\n",
       "\n",
       "       [[  5,  -9],\n",
       "        [  6,  -8],\n",
       "        [  7,  -7],\n",
       "        [  8,  -6]],\n",
       "\n",
       "       [[  9,  -5],\n",
       "        [ 10,  -4],\n",
       "        [ 11,  -3],\n",
       "        [ 12,  -2]]], dtype=int32)"
      ]
     },
     "execution_count": 168,
     "metadata": {},
     "output_type": "execute_result"
    }
   ],
   "source": [
    "np.stack((a, b), axis=2)"
   ]
  },
  {
   "cell_type": "code",
   "execution_count": 169,
   "id": "0024313b",
   "metadata": {},
   "outputs": [
    {
     "data": {
      "text/plain": [
       "(3, 4, 2)"
      ]
     },
     "execution_count": 169,
     "metadata": {},
     "output_type": "execute_result"
    }
   ],
   "source": [
    "_.shape"
   ]
  },
  {
   "cell_type": "markdown",
   "id": "af2d92cd",
   "metadata": {},
   "source": [
    "### 缺失值处理\n",
    "\n",
    "缺失值表示对应位置「没有值」，在NumPy中以 `np.nan` 表示，它是一个浮点数。"
   ]
  },
  {
   "cell_type": "code",
   "execution_count": 176,
   "id": "0ddedacb",
   "metadata": {},
   "outputs": [
    {
     "ename": "ValueError",
     "evalue": "cannot convert float NaN to integer",
     "output_type": "error",
     "traceback": [
      "\u001b[0;31m---------------------------------------------------------------------------\u001b[0m",
      "\u001b[0;31mValueError\u001b[0m                                Traceback (most recent call last)",
      "\u001b[0;32m<ipython-input-176-0f07e19cebff>\u001b[0m in \u001b[0;36m<module>\u001b[0;34m\u001b[0m\n\u001b[0;32m----> 1\u001b[0;31m \u001b[0ma\u001b[0m \u001b[0;34m=\u001b[0m \u001b[0mnp\u001b[0m\u001b[0;34m.\u001b[0m\u001b[0marray\u001b[0m\u001b[0;34m(\u001b[0m\u001b[0;34m[\u001b[0m\u001b[0;36m1\u001b[0m\u001b[0;34m,\u001b[0m \u001b[0mnp\u001b[0m\u001b[0;34m.\u001b[0m\u001b[0mnan\u001b[0m\u001b[0;34m]\u001b[0m\u001b[0;34m,\u001b[0m \u001b[0mdtype\u001b[0m\u001b[0;34m=\u001b[0m\u001b[0mnp\u001b[0m\u001b[0;34m.\u001b[0m\u001b[0mint32\u001b[0m\u001b[0;34m)\u001b[0m\u001b[0;34m\u001b[0m\u001b[0;34m\u001b[0m\u001b[0m\n\u001b[0m",
      "\u001b[0;31mValueError\u001b[0m: cannot convert float NaN to integer"
     ]
    }
   ],
   "source": [
    "a = np.array([1, np.nan], dtype=np.int32)"
   ]
  },
  {
   "cell_type": "code",
   "execution_count": 182,
   "id": "304f4de6",
   "metadata": {},
   "outputs": [
    {
     "data": {
      "text/plain": [
       "array([[nan,  1.,  2.],\n",
       "       [ 3., nan,  4.]], dtype=float32)"
      ]
     },
     "execution_count": 182,
     "metadata": {},
     "output_type": "execute_result"
    }
   ],
   "source": [
    "a = np.array([[np.nan, 1., 2.], [3., np.nan, 4.]], dtype=np.float32)\n",
    "a"
   ]
  },
  {
   "cell_type": "markdown",
   "id": "5739002b",
   "metadata": {},
   "source": [
    "如果数组里有缺失值，在相加（以及其他运算）的时候会直接等于 `np.nan`："
   ]
  },
  {
   "cell_type": "code",
   "execution_count": 183,
   "id": "55a86603",
   "metadata": {},
   "outputs": [
    {
     "data": {
      "text/plain": [
       "nan"
      ]
     },
     "execution_count": 183,
     "metadata": {},
     "output_type": "execute_result"
    }
   ],
   "source": [
    "np.sum(a)"
   ]
  },
  {
   "cell_type": "markdown",
   "id": "9cf479f8",
   "metadata": {},
   "source": [
    "但如果某一列或某一行没有 `np.nan`，则会输出正常值："
   ]
  },
  {
   "cell_type": "code",
   "execution_count": 190,
   "id": "9186146d",
   "metadata": {},
   "outputs": [
    {
     "data": {
      "text/plain": [
       "array([nan, nan,  6.], dtype=float32)"
      ]
     },
     "execution_count": 190,
     "metadata": {},
     "output_type": "execute_result"
    }
   ],
   "source": [
    "np.sum(a, axis=0)"
   ]
  },
  {
   "cell_type": "markdown",
   "id": "f610405d",
   "metadata": {},
   "source": [
    "要想忽略缺失值，可以使用索引替换，或直接使用 `np.nan<oper>` API，<oper> 表示运算，比如：`sum`，`max` 等。"
   ]
  },
  {
   "cell_type": "code",
   "execution_count": 191,
   "id": "cee1febd",
   "metadata": {},
   "outputs": [
    {
     "data": {
      "text/plain": [
       "10.0"
      ]
     },
     "execution_count": 191,
     "metadata": {},
     "output_type": "execute_result"
    }
   ],
   "source": [
    "np.nansum(a)"
   ]
  },
  {
   "cell_type": "code",
   "execution_count": 192,
   "id": "2c0dc1fa",
   "metadata": {},
   "outputs": [
    {
     "data": {
      "text/plain": [
       "4.0"
      ]
     },
     "execution_count": 192,
     "metadata": {},
     "output_type": "execute_result"
    }
   ],
   "source": [
    "np.nanmax(a)"
   ]
  },
  {
   "cell_type": "markdown",
   "id": "1d86d570",
   "metadata": {},
   "source": [
    "### 修改形状\n",
    "\n",
    "这个我们刚刚其实一直在用，有两个接口：`np.reshape` 和 `np.resize`。后者是 in-place 的，在新的 shape 无法被满足时，会使用 0 填充，或截断。"
   ]
  },
  {
   "cell_type": "code",
   "execution_count": 203,
   "id": "78171824",
   "metadata": {},
   "outputs": [],
   "source": [
    "a = np.arange(8)\n",
    "a.resize(4, 2)"
   ]
  },
  {
   "cell_type": "code",
   "execution_count": 204,
   "id": "980069fd",
   "metadata": {},
   "outputs": [
    {
     "data": {
      "text/plain": [
       "array([[0, 1],\n",
       "       [2, 3],\n",
       "       [4, 5],\n",
       "       [6, 7]])"
      ]
     },
     "execution_count": 204,
     "metadata": {},
     "output_type": "execute_result"
    }
   ],
   "source": [
    "a"
   ]
  },
  {
   "cell_type": "code",
   "execution_count": 205,
   "id": "ecb7cbf8",
   "metadata": {},
   "outputs": [],
   "source": [
    "b = np.arange(8)\n",
    "b.resize(2, 3)"
   ]
  },
  {
   "cell_type": "code",
   "execution_count": 206,
   "id": "88ea85ca",
   "metadata": {},
   "outputs": [
    {
     "data": {
      "text/plain": [
       "array([[0, 1, 2],\n",
       "       [3, 4, 5]])"
      ]
     },
     "execution_count": 206,
     "metadata": {},
     "output_type": "execute_result"
    }
   ],
   "source": [
    "b"
   ]
  },
  {
   "cell_type": "code",
   "execution_count": 207,
   "id": "e04e7938",
   "metadata": {},
   "outputs": [],
   "source": [
    "c = np.arange(8)\n",
    "c.resize(2, 5)"
   ]
  },
  {
   "cell_type": "code",
   "execution_count": 208,
   "id": "bc7c84ed",
   "metadata": {
    "scrolled": true
   },
   "outputs": [
    {
     "data": {
      "text/plain": [
       "array([[0, 1, 2, 3, 4],\n",
       "       [5, 6, 7, 0, 0]])"
      ]
     },
     "execution_count": 208,
     "metadata": {},
     "output_type": "execute_result"
    }
   ],
   "source": [
    "c"
   ]
  },
  {
   "cell_type": "code",
   "execution_count": 213,
   "id": "d082c56d",
   "metadata": {},
   "outputs": [
    {
     "ename": "ValueError",
     "evalue": "cannot reshape array of size 8 into shape (2,3)",
     "output_type": "error",
     "traceback": [
      "\u001b[0;31m---------------------------------------------------------------------------\u001b[0m",
      "\u001b[0;31mValueError\u001b[0m                                Traceback (most recent call last)",
      "\u001b[0;32m<ipython-input-213-2a3def035a83>\u001b[0m in \u001b[0;36m<module>\u001b[0;34m\u001b[0m\n\u001b[1;32m      1\u001b[0m \u001b[0ma\u001b[0m \u001b[0;34m=\u001b[0m \u001b[0mnp\u001b[0m\u001b[0;34m.\u001b[0m\u001b[0marange\u001b[0m\u001b[0;34m(\u001b[0m\u001b[0;36m8\u001b[0m\u001b[0;34m)\u001b[0m\u001b[0;34m\u001b[0m\u001b[0;34m\u001b[0m\u001b[0m\n\u001b[0;32m----> 2\u001b[0;31m \u001b[0ma\u001b[0m\u001b[0;34m.\u001b[0m\u001b[0mreshape\u001b[0m\u001b[0;34m(\u001b[0m\u001b[0;36m2\u001b[0m\u001b[0;34m,\u001b[0m \u001b[0;36m3\u001b[0m\u001b[0;34m)\u001b[0m\u001b[0;34m\u001b[0m\u001b[0;34m\u001b[0m\u001b[0m\n\u001b[0m",
      "\u001b[0;31mValueError\u001b[0m: cannot reshape array of size 8 into shape (2,3)"
     ]
    }
   ],
   "source": [
    "a = np.arange(8)\n",
    "a.reshape(2, 3)"
   ]
  },
  {
   "cell_type": "markdown",
   "id": "4aa87591",
   "metadata": {},
   "source": [
    "### 轴的调换\n",
    "\n",
    "调换一个数组的两个轴。"
   ]
  },
  {
   "cell_type": "code",
   "execution_count": 235,
   "id": "c864728d",
   "metadata": {
    "scrolled": true
   },
   "outputs": [],
   "source": [
    "x = np.arange(24).reshape(2, 3, 4)"
   ]
  },
  {
   "cell_type": "code",
   "execution_count": 236,
   "id": "964a1acd",
   "metadata": {
    "scrolled": true
   },
   "outputs": [
    {
     "data": {
      "text/plain": [
       "(3, 2, 4)"
      ]
     },
     "execution_count": 236,
     "metadata": {},
     "output_type": "execute_result"
    }
   ],
   "source": [
    "x.swapaxes(0, 1).shape"
   ]
  },
  {
   "cell_type": "code",
   "execution_count": 237,
   "id": "6208f7bf",
   "metadata": {},
   "outputs": [
    {
     "data": {
      "text/plain": [
       "(4, 3, 2)"
      ]
     },
     "execution_count": 237,
     "metadata": {},
     "output_type": "execute_result"
    }
   ],
   "source": [
    "x.swapaxes(0, 2).shape"
   ]
  },
  {
   "cell_type": "markdown",
   "id": "75492a76",
   "metadata": {},
   "source": [
    "看个小例子："
   ]
  },
  {
   "cell_type": "code",
   "execution_count": 239,
   "id": "1913c1a5",
   "metadata": {},
   "outputs": [
    {
     "data": {
      "text/plain": [
       "array([[ 0,  1,  2,  3],\n",
       "       [ 4,  5,  6,  7],\n",
       "       [ 8,  9, 10, 11]])"
      ]
     },
     "execution_count": 239,
     "metadata": {},
     "output_type": "execute_result"
    }
   ],
   "source": [
    "x = np.arange(12).reshape(3, 4)\n",
    "x"
   ]
  },
  {
   "cell_type": "code",
   "execution_count": 240,
   "id": "dd164344",
   "metadata": {},
   "outputs": [
    {
     "data": {
      "text/plain": [
       "array([[ 0,  4,  8],\n",
       "       [ 1,  5,  9],\n",
       "       [ 2,  6, 10],\n",
       "       [ 3,  7, 11]])"
      ]
     },
     "execution_count": 240,
     "metadata": {},
     "output_type": "execute_result"
    }
   ],
   "source": [
    "x.swapaxes(0, 1)"
   ]
  },
  {
   "cell_type": "markdown",
   "id": "df46e5c5",
   "metadata": {},
   "source": [
    "超出数据维度的范围，无法交换："
   ]
  },
  {
   "cell_type": "code",
   "execution_count": 247,
   "id": "3206f647",
   "metadata": {},
   "outputs": [
    {
     "ename": "AxisError",
     "evalue": "axis2: axis 2 is out of bounds for array of dimension 2",
     "output_type": "error",
     "traceback": [
      "\u001b[0;31m---------------------------------------------------------------------------\u001b[0m",
      "\u001b[0;31mAxisError\u001b[0m                                 Traceback (most recent call last)",
      "\u001b[0;32m<ipython-input-247-acc70a0a0202>\u001b[0m in \u001b[0;36m<module>\u001b[0;34m\u001b[0m\n\u001b[0;32m----> 1\u001b[0;31m \u001b[0mx\u001b[0m\u001b[0;34m.\u001b[0m\u001b[0mswapaxes\u001b[0m\u001b[0;34m(\u001b[0m\u001b[0;36m0\u001b[0m\u001b[0;34m,\u001b[0m \u001b[0;36m2\u001b[0m\u001b[0;34m)\u001b[0m\u001b[0;34m\u001b[0m\u001b[0;34m\u001b[0m\u001b[0m\n\u001b[0m",
      "\u001b[0;31mAxisError\u001b[0m: axis2: axis 2 is out of bounds for array of dimension 2"
     ]
    }
   ],
   "source": [
    "x.swapaxes(0, 2)"
   ]
  },
  {
   "cell_type": "markdown",
   "id": "3cafe17e",
   "metadata": {},
   "source": [
    "### 修改数据类型\n",
    "\n",
    "这里修改数据类型指的不是修改array元素的数据类型，而是对array进行转换。"
   ]
  },
  {
   "cell_type": "code",
   "execution_count": 249,
   "id": "d5809902",
   "metadata": {},
   "outputs": [
    {
     "data": {
      "text/plain": [
       "array([[0, 1, 2],\n",
       "       [3, 4, 5]])"
      ]
     },
     "execution_count": 249,
     "metadata": {},
     "output_type": "execute_result"
    }
   ],
   "source": [
    "a = np.arange(6).reshape(2,3)\n",
    "a"
   ]
  },
  {
   "cell_type": "code",
   "execution_count": 251,
   "id": "50edb926",
   "metadata": {},
   "outputs": [
    {
     "data": {
      "text/plain": [
       "[[0, 1, 2], [3, 4, 5]]"
      ]
     },
     "execution_count": 251,
     "metadata": {},
     "output_type": "execute_result"
    }
   ],
   "source": [
    "# 转换成Python数组\n",
    "a.tolist()"
   ]
  },
  {
   "cell_type": "code",
   "execution_count": 253,
   "id": "cefd1f52",
   "metadata": {},
   "outputs": [
    {
     "data": {
      "text/plain": [
       "array([0, 1, 2, 3, 4, 5])"
      ]
     },
     "execution_count": 253,
     "metadata": {},
     "output_type": "execute_result"
    }
   ],
   "source": [
    "# 打平数组\n",
    "a.flatten()"
   ]
  },
  {
   "cell_type": "markdown",
   "id": "22017309",
   "metadata": {},
   "source": [
    "### 拷贝\n",
    "\n",
    "主要包括 copy 和 view，上面有提到过一点，view 主要是在一个 `base` 上进行各种 shape 的变换；而 copy 则是重新复制一份数据。"
   ]
  },
  {
   "cell_type": "code",
   "execution_count": 258,
   "id": "a2a3c3a3",
   "metadata": {},
   "outputs": [],
   "source": [
    "a = np.arange(6).reshape(2, 3)"
   ]
  },
  {
   "cell_type": "code",
   "execution_count": 262,
   "id": "e741823b",
   "metadata": {},
   "outputs": [],
   "source": [
    "# b 是一个 view\n",
    "b = a"
   ]
  },
  {
   "cell_type": "code",
   "execution_count": 263,
   "id": "af1c953c",
   "metadata": {},
   "outputs": [
    {
     "data": {
      "text/plain": [
       "True"
      ]
     },
     "execution_count": 263,
     "metadata": {},
     "output_type": "execute_result"
    }
   ],
   "source": [
    "np.shares_memory(a, b)"
   ]
  },
  {
   "cell_type": "code",
   "execution_count": 264,
   "id": "80678dee",
   "metadata": {},
   "outputs": [],
   "source": [
    "c = a.copy()"
   ]
  },
  {
   "cell_type": "code",
   "execution_count": 265,
   "id": "347af35a",
   "metadata": {
    "scrolled": true
   },
   "outputs": [
    {
     "data": {
      "text/plain": [
       "False"
      ]
     },
     "execution_count": 265,
     "metadata": {},
     "output_type": "execute_result"
    }
   ],
   "source": [
    "np.shares_memory(a, c)"
   ]
  },
  {
   "cell_type": "markdown",
   "id": "4eb33475",
   "metadata": {},
   "source": [
    "### 排序\n",
    "\n",
    "主要包括两个 API：`np.sort` 和 `np.argsort`，前者返回元素排序后的结果，后者则返回对应的 index。\n",
    "\n",
    "它们都接受四个参数：\n",
    "\n",
    "- 数组\n",
    "- 对应的维度方向\n",
    "- 排序算法，默认快排\n",
    "- 顺序，当数组有多个领域（结构化数组）时，这个参数指定那个字段先比较"
   ]
  },
  {
   "cell_type": "code",
   "execution_count": 269,
   "id": "b42ce0ef",
   "metadata": {},
   "outputs": [],
   "source": [
    "rng = np.random.default_rng()"
   ]
  },
  {
   "cell_type": "code",
   "execution_count": 272,
   "id": "d7d11dfb",
   "metadata": {},
   "outputs": [
    {
     "data": {
      "text/plain": [
       "array([[56, 57, 91],\n",
       "       [52, 43, 41]])"
      ]
     },
     "execution_count": 272,
     "metadata": {},
     "output_type": "execute_result"
    }
   ],
   "source": [
    "arr = rng.integers(1, 100, (2, 3))\n",
    "arr"
   ]
  },
  {
   "cell_type": "code",
   "execution_count": 274,
   "id": "35c1cb56",
   "metadata": {},
   "outputs": [
    {
     "data": {
      "text/plain": [
       "array([[52, 43, 41],\n",
       "       [56, 57, 91]])"
      ]
     },
     "execution_count": 274,
     "metadata": {},
     "output_type": "execute_result"
    }
   ],
   "source": [
    "# 按列排序\n",
    "np.sort(arr, 0)"
   ]
  },
  {
   "cell_type": "code",
   "execution_count": 275,
   "id": "79e7a6d3",
   "metadata": {},
   "outputs": [
    {
     "data": {
      "text/plain": [
       "array([[56, 57, 91],\n",
       "       [41, 43, 52]])"
      ]
     },
     "execution_count": 275,
     "metadata": {},
     "output_type": "execute_result"
    }
   ],
   "source": [
    "# 按行\n",
    "np.sort(arr, 1)"
   ]
  },
  {
   "cell_type": "code",
   "execution_count": 279,
   "id": "b40a67fd",
   "metadata": {},
   "outputs": [
    {
     "data": {
      "text/plain": [
       "array([[56, 57, 91],\n",
       "       [41, 43, 52]])"
      ]
     },
     "execution_count": 279,
     "metadata": {},
     "output_type": "execute_result"
    }
   ],
   "source": [
    "# 默认按最后一个维度的\n",
    "np.sort(arr)"
   ]
  },
  {
   "cell_type": "markdown",
   "id": "2f5b4e3d",
   "metadata": {},
   "source": [
    "接下来是对应的index："
   ]
  },
  {
   "cell_type": "code",
   "execution_count": 281,
   "id": "07cdde31",
   "metadata": {},
   "outputs": [
    {
     "data": {
      "text/plain": [
       "array([[0, 1, 2],\n",
       "       [2, 1, 0]])"
      ]
     },
     "execution_count": 281,
     "metadata": {},
     "output_type": "execute_result"
    }
   ],
   "source": [
    "np.argsort(arr)"
   ]
  },
  {
   "cell_type": "code",
   "execution_count": 282,
   "id": "151e8c91",
   "metadata": {},
   "outputs": [
    {
     "data": {
      "text/plain": [
       "array([[1, 1, 1],\n",
       "       [0, 0, 0]])"
      ]
     },
     "execution_count": 282,
     "metadata": {},
     "output_type": "execute_result"
    }
   ],
   "source": [
    "np.argsort(arr, 0)"
   ]
  },
  {
   "cell_type": "code",
   "execution_count": null,
   "id": "0bbe98e8",
   "metadata": {},
   "outputs": [],
   "source": []
  }
 ],
 "metadata": {
  "kernelspec": {
   "display_name": "Python 3",
   "language": "python",
   "name": "python3"
  },
  "language_info": {
   "codemirror_mode": {
    "name": "ipython",
    "version": 3
   },
   "file_extension": ".py",
   "mimetype": "text/x-python",
   "name": "python",
   "nbconvert_exporter": "python",
   "pygments_lexer": "ipython3",
   "version": "3.8.10"
  },
  "latex_envs": {
   "LaTeX_envs_menu_present": true,
   "autoclose": false,
   "autocomplete": true,
   "bibliofile": "biblio.bib",
   "cite_by": "apalike",
   "current_citInitial": 1,
   "eqLabelWithNumbers": true,
   "eqNumInitial": 1,
   "hotkeys": {
    "equation": "Ctrl-E",
    "itemize": "Ctrl-I"
   },
   "labels_anchors": false,
   "latex_user_defs": false,
   "report_style_numbering": false,
   "user_envs_cfg": false
  },
  "toc": {
   "base_numbering": 1,
   "nav_menu": {},
   "number_sections": true,
   "sideBar": true,
   "skip_h1_title": false,
   "title_cell": "Table of Contents",
   "title_sidebar": "Contents",
   "toc_cell": true,
   "toc_position": {
    "height": "calc(100% - 180px)",
    "left": "10px",
    "top": "150px",
    "width": "212px"
   },
   "toc_section_display": true,
   "toc_window_display": true
  }
 },
 "nbformat": 4,
 "nbformat_minor": 5
}
