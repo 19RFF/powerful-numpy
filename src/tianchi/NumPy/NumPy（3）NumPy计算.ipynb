{
 "cells": [
  {
   "cell_type": "markdown",
   "id": "f7dd2ba6",
   "metadata": {
    "toc": true
   },
   "source": [
    "<h1>Table of Contents<span class=\"tocSkip\"></span></h1>\n",
    "<div class=\"toc\"><ul class=\"toc-item\"><li><span><a href=\"#统计分析\" data-toc-modified-id=\"统计分析-1\"><span class=\"toc-item-num\">1&nbsp;&nbsp;</span>统计分析 </a></span><ul class=\"toc-item\"><li><span><a href=\"#平均数\" data-toc-modified-id=\"平均数-1.1\"><span class=\"toc-item-num\">1.1&nbsp;&nbsp;</span>平均数 </a></span></li><li><span><a href=\"#中位数\" data-toc-modified-id=\"中位数-1.2\"><span class=\"toc-item-num\">1.2&nbsp;&nbsp;</span>中位数 </a></span></li><li><span><a href=\"#众数\" data-toc-modified-id=\"众数-1.3\"><span class=\"toc-item-num\">1.3&nbsp;&nbsp;</span>众数 </a></span></li><li><span><a href=\"#极差\" data-toc-modified-id=\"极差-1.4\"><span class=\"toc-item-num\">1.4&nbsp;&nbsp;</span>极差 </a></span></li><li><span><a href=\"#方差\" data-toc-modified-id=\"方差-1.5\"><span class=\"toc-item-num\">1.5&nbsp;&nbsp;</span>方差 </a></span></li><li><span><a href=\"#标准差\" data-toc-modified-id=\"标准差-1.6\"><span class=\"toc-item-num\">1.6&nbsp;&nbsp;</span>标准差 </a></span></li></ul></li><li><span><a href=\"#运算方法\" data-toc-modified-id=\"运算方法-2\"><span class=\"toc-item-num\">2&nbsp;&nbsp;</span>运算方法 </a></span><ul class=\"toc-item\"><li><span><a href=\"#算术运算\" data-toc-modified-id=\"算术运算-2.1\"><span class=\"toc-item-num\">2.1&nbsp;&nbsp;</span>算术运算 </a></span></li><li><span><a href=\"#关系运算\" data-toc-modified-id=\"关系运算-2.2\"><span class=\"toc-item-num\">2.2&nbsp;&nbsp;</span>关系运算 </a></span></li></ul></li></ul></div>"
   ]
  },
  {
   "cell_type": "code",
   "execution_count": 1,
   "id": "5f1b1e66",
   "metadata": {},
   "outputs": [],
   "source": [
    "import numpy as np"
   ]
  },
  {
   "cell_type": "markdown",
   "id": "b9f848a8",
   "metadata": {},
   "source": [
    "## 统计分析\n",
    "\n",
    "统计分析主要指常用的一些统计指标，如均值、中位数、众数、极差、方差、标准差等。"
   ]
  },
  {
   "cell_type": "markdown",
   "id": "b82e8907",
   "metadata": {},
   "source": [
    "### 平均数\n",
    "\n",
    "`np.mean` 或 `np.average` 都可以用来计算平均值。\n",
    "\n",
    "`np.mean` 包括下面几个参数：\n",
    "\n",
    "- 数组\n",
    "- 维度\n",
    "- 数据类型，如果输入是整数，则为浮点数；如果输入是浮点数，则为输入的类型。\n",
    "- 替换的数组，和之前提到的一样\n",
    "- 是否保持维度，求均值后数组会降维，这个参数控制维度是否发生变化。\n",
    "\n",
    "`np.average` 包括下面几个参数：\n",
    "\n",
    "- 数组\n",
    "- 维度\n",
    "- 权重\n",
    "- 是否返回权重和"
   ]
  },
  {
   "cell_type": "code",
   "execution_count": 318,
   "id": "fee60724",
   "metadata": {},
   "outputs": [
    {
     "data": {
      "text/plain": [
       "array([[1, 7, 6],\n",
       "       [4, 4, 8]])"
      ]
     },
     "execution_count": 318,
     "metadata": {},
     "output_type": "execute_result"
    }
   ],
   "source": [
    "rng = np.random.default_rng(seed=42)\n",
    "arr = rng.integers(1, 10, (2, 3))\n",
    "arr"
   ]
  },
  {
   "cell_type": "code",
   "execution_count": 319,
   "id": "35429655",
   "metadata": {},
   "outputs": [
    {
     "data": {
      "text/plain": [
       "5.0"
      ]
     },
     "execution_count": 319,
     "metadata": {},
     "output_type": "execute_result"
    }
   ],
   "source": [
    "np.mean(arr)"
   ]
  },
  {
   "cell_type": "code",
   "execution_count": 329,
   "id": "7a495cab",
   "metadata": {
    "scrolled": true
   },
   "outputs": [
    {
     "data": {
      "text/plain": [
       "array([2.5, 5.5, 7. ])"
      ]
     },
     "execution_count": 329,
     "metadata": {},
     "output_type": "execute_result"
    }
   ],
   "source": [
    "# 按列\n",
    "np.mean(arr, 0)"
   ]
  },
  {
   "cell_type": "code",
   "execution_count": 330,
   "id": "9d80edcb",
   "metadata": {},
   "outputs": [
    {
     "data": {
      "text/plain": [
       "(3,)"
      ]
     },
     "execution_count": 330,
     "metadata": {},
     "output_type": "execute_result"
    }
   ],
   "source": [
    "_.shape"
   ]
  },
  {
   "cell_type": "code",
   "execution_count": 321,
   "id": "60cc92d5",
   "metadata": {
    "scrolled": true
   },
   "outputs": [
    {
     "data": {
      "text/plain": [
       "array([4.66666667, 5.33333333])"
      ]
     },
     "execution_count": 321,
     "metadata": {},
     "output_type": "execute_result"
    }
   ],
   "source": [
    "# 按行\n",
    "np.average(arr, 1)"
   ]
  },
  {
   "cell_type": "code",
   "execution_count": 322,
   "id": "dcf4a23d",
   "metadata": {},
   "outputs": [
    {
     "data": {
      "text/plain": [
       "array([2.1, 4.4])"
      ]
     },
     "execution_count": 322,
     "metadata": {},
     "output_type": "execute_result"
    }
   ],
   "source": [
    "# 加上权重\n",
    "np.average(arr, 1, [0.8, 0.1, 0.1])"
   ]
  },
  {
   "cell_type": "code",
   "execution_count": 323,
   "id": "8e1fd35b",
   "metadata": {},
   "outputs": [
    {
     "data": {
      "text/plain": [
       "(2.1, 4.0)"
      ]
     },
     "execution_count": 323,
     "metadata": {},
     "output_type": "execute_result"
    }
   ],
   "source": [
    "1*0.8 + 7*0.1 + 6*0.1, 4*0.8 + 4*0.1 + 4*0.1"
   ]
  },
  {
   "cell_type": "code",
   "execution_count": 324,
   "id": "c85c9521",
   "metadata": {},
   "outputs": [
    {
     "data": {
      "text/plain": [
       "array([[5.]])"
      ]
     },
     "execution_count": 324,
     "metadata": {},
     "output_type": "execute_result"
    }
   ],
   "source": [
    "np.mean(arr, keepdims=True)"
   ]
  },
  {
   "cell_type": "code",
   "execution_count": 328,
   "id": "3cc5c838",
   "metadata": {},
   "outputs": [
    {
     "data": {
      "text/plain": [
       "array([[2.5, 5.5, 7. ]])"
      ]
     },
     "execution_count": 328,
     "metadata": {},
     "output_type": "execute_result"
    }
   ],
   "source": [
    "# 在列上保持维度（结果还是3列）\n",
    "np.mean(arr, 0, keepdims=True)"
   ]
  },
  {
   "cell_type": "code",
   "execution_count": 327,
   "id": "b6a4a12f",
   "metadata": {
    "scrolled": true
   },
   "outputs": [
    {
     "data": {
      "text/plain": [
       "(1, 3)"
      ]
     },
     "execution_count": 327,
     "metadata": {},
     "output_type": "execute_result"
    }
   ],
   "source": [
    "_.shape"
   ]
  },
  {
   "cell_type": "markdown",
   "id": "c6e3e51e",
   "metadata": {},
   "source": [
    "### 中位数\n",
    "\n",
    "`np.median` 有5个参数：\n",
    "\n",
    "- 数组\n",
    "- 维度\n",
    "- 替换的输出\n",
    "- 是否覆盖输入\n",
    "- 是否保持维度"
   ]
  },
  {
   "cell_type": "code",
   "execution_count": 351,
   "id": "7a93e23c",
   "metadata": {},
   "outputs": [
    {
     "data": {
      "text/plain": [
       "array([[1, 7, 6, 4],\n",
       "       [4, 8, 1, 7],\n",
       "       [2, 1, 5, 9]])"
      ]
     },
     "execution_count": 351,
     "metadata": {},
     "output_type": "execute_result"
    }
   ],
   "source": [
    "rng = np.random.default_rng(seed=42)\n",
    "arr = rng.integers(1, 10, (3, 4))\n",
    "arr"
   ]
  },
  {
   "cell_type": "code",
   "execution_count": 352,
   "id": "4c57c0de",
   "metadata": {},
   "outputs": [
    {
     "data": {
      "text/plain": [
       "array([2., 7., 5., 7.])"
      ]
     },
     "execution_count": 352,
     "metadata": {},
     "output_type": "execute_result"
    }
   ],
   "source": [
    "np.median(arr, axis=0)"
   ]
  },
  {
   "cell_type": "code",
   "execution_count": 353,
   "id": "4a820707",
   "metadata": {},
   "outputs": [
    {
     "data": {
      "text/plain": [
       "array([5. , 5.5, 3.5])"
      ]
     },
     "execution_count": 353,
     "metadata": {},
     "output_type": "execute_result"
    }
   ],
   "source": [
    "np.median(arr, axis=1)"
   ]
  },
  {
   "cell_type": "code",
   "execution_count": 354,
   "id": "aa334c3b",
   "metadata": {},
   "outputs": [
    {
     "data": {
      "text/plain": [
       "array([[2., 7., 5., 7.]])"
      ]
     },
     "execution_count": 354,
     "metadata": {},
     "output_type": "execute_result"
    }
   ],
   "source": [
    "np.median(arr, 0, keepdims=True)"
   ]
  },
  {
   "cell_type": "code",
   "execution_count": 355,
   "id": "f145518d",
   "metadata": {},
   "outputs": [
    {
     "data": {
      "text/plain": [
       "(1, 4)"
      ]
     },
     "execution_count": 355,
     "metadata": {},
     "output_type": "execute_result"
    }
   ],
   "source": [
    "_.shape"
   ]
  },
  {
   "cell_type": "code",
   "execution_count": 350,
   "id": "135fa91b",
   "metadata": {},
   "outputs": [
    {
     "data": {
      "text/plain": [
       "array([[1, 1, 2, 1],\n",
       "       [4, 4, 5, 6],\n",
       "       [7, 7, 8, 9]])"
      ]
     },
     "execution_count": 350,
     "metadata": {},
     "output_type": "execute_result"
    }
   ],
   "source": [
    "np.median(arr, overwrite_input=True)\n",
    "arr"
   ]
  },
  {
   "cell_type": "markdown",
   "id": "38188726",
   "metadata": {},
   "source": [
    "### 众数\n",
    "\n",
    "众数是出现次数最多的数字。NumPY里没有这个方法，可以通过其他方式得到。"
   ]
  },
  {
   "cell_type": "code",
   "execution_count": 4,
   "id": "40dbad4c",
   "metadata": {
    "scrolled": true
   },
   "outputs": [
    {
     "data": {
      "text/plain": [
       "array([[1, 4, 3, 2, 2],\n",
       "       [4, 1, 3, 1, 1],\n",
       "       [3, 4, 3, 4, 3],\n",
       "       [4, 3, 1, 4, 2],\n",
       "       [3, 2, 1, 4, 4]])"
      ]
     },
     "execution_count": 4,
     "metadata": {},
     "output_type": "execute_result"
    }
   ],
   "source": [
    "rng = np.random.default_rng(42)\n",
    "arr = rng.integers(1, 5, (5, 5))\n",
    "arr"
   ]
  },
  {
   "cell_type": "code",
   "execution_count": 5,
   "id": "9e6bbb0d",
   "metadata": {},
   "outputs": [
    {
     "data": {
      "text/plain": [
       "(array([1, 2, 3, 4]), array([6, 4, 7, 8]))"
      ]
     },
     "execution_count": 5,
     "metadata": {},
     "output_type": "execute_result"
    }
   ],
   "source": [
    "np.unique(arr, return_counts=True)"
   ]
  },
  {
   "cell_type": "code",
   "execution_count": 6,
   "id": "fab98c4f",
   "metadata": {},
   "outputs": [],
   "source": [
    "from scipy import stats"
   ]
  },
  {
   "cell_type": "code",
   "execution_count": 7,
   "id": "1e6367e8",
   "metadata": {},
   "outputs": [
    {
     "data": {
      "text/plain": [
       "ModeResult(mode=array([[3, 4, 3, 4, 2]]), count=array([[2, 2, 3, 3, 2]]))"
      ]
     },
     "execution_count": 7,
     "metadata": {},
     "output_type": "execute_result"
    }
   ],
   "source": [
    "stats.mode(arr, axis=0)"
   ]
  },
  {
   "cell_type": "code",
   "execution_count": 8,
   "id": "b2483032",
   "metadata": {},
   "outputs": [],
   "source": [
    "from collections import Counter"
   ]
  },
  {
   "cell_type": "code",
   "execution_count": 9,
   "id": "408fcd7d",
   "metadata": {},
   "outputs": [
    {
     "data": {
      "text/plain": [
       "Counter({1: 6, 4: 8, 3: 7, 2: 4})"
      ]
     },
     "execution_count": 9,
     "metadata": {},
     "output_type": "execute_result"
    }
   ],
   "source": [
    "Counter(arr.flatten())"
   ]
  },
  {
   "cell_type": "markdown",
   "id": "ab6eae16",
   "metadata": {},
   "source": [
    "### 极差\n",
    "\n",
    "极差是指最（极）大值和最（极）小值的差。参数如下：\n",
    "\n",
    "- 数组\n",
    "- 维度\n",
    "- 输出替换数组\n",
    "- 是否保持维度\n",
    "\n",
    "这些参数之前都提到过，不再赘述。"
   ]
  },
  {
   "cell_type": "code",
   "execution_count": 10,
   "id": "090378d8",
   "metadata": {},
   "outputs": [
    {
     "data": {
      "text/plain": [
       "array([[1, 7, 6, 4],\n",
       "       [4, 8, 1, 7],\n",
       "       [2, 1, 5, 9]])"
      ]
     },
     "execution_count": 10,
     "metadata": {},
     "output_type": "execute_result"
    }
   ],
   "source": [
    "rng = np.random.default_rng(42)\n",
    "a = rng.integers(1, 10, (3, 4))\n",
    "a"
   ]
  },
  {
   "cell_type": "code",
   "execution_count": 11,
   "id": "b82c42bc",
   "metadata": {},
   "outputs": [
    {
     "data": {
      "text/plain": [
       "8"
      ]
     },
     "execution_count": 11,
     "metadata": {},
     "output_type": "execute_result"
    }
   ],
   "source": [
    "np.ptp(a)"
   ]
  },
  {
   "cell_type": "code",
   "execution_count": 12,
   "id": "5c477e82",
   "metadata": {
    "scrolled": true
   },
   "outputs": [
    {
     "data": {
      "text/plain": [
       "array([3, 7, 5, 5])"
      ]
     },
     "execution_count": 12,
     "metadata": {},
     "output_type": "execute_result"
    }
   ],
   "source": [
    "# 按列\n",
    "np.ptp(a, axis=0)"
   ]
  },
  {
   "cell_type": "code",
   "execution_count": 13,
   "id": "1aaabab0",
   "metadata": {},
   "outputs": [
    {
     "data": {
      "text/plain": [
       "array([6, 7, 8])"
      ]
     },
     "execution_count": 13,
     "metadata": {},
     "output_type": "execute_result"
    }
   ],
   "source": [
    "# 按行\n",
    "np.ptp(a, axis=1)"
   ]
  },
  {
   "cell_type": "markdown",
   "id": "1f500fc1",
   "metadata": {},
   "source": [
    "### 方差\n",
    "\n",
    "方差表示数据偏离均值的程度。参数包括：\n",
    "\n",
    "- 数组\n",
    "- 维度\n",
    "- 数据类型\n",
    "- 输出替换数组\n",
    "- ddof\n",
    "- 保持维度\n",
    "- 哪些位置\n",
    "\n",
    "大部分参数之前都提到过，有两个不一样的我们解释一下：\n",
    "\n",
    "- ddof指计算方差时要减掉的自由度\n",
    "- 哪些位置是指哪些对应位置的被纳入计算"
   ]
  },
  {
   "cell_type": "code",
   "execution_count": 4,
   "id": "a94f78f8",
   "metadata": {},
   "outputs": [
    {
     "data": {
      "text/plain": [
       "array([[1, 7, 6],\n",
       "       [4, 4, 8]])"
      ]
     },
     "execution_count": 4,
     "metadata": {},
     "output_type": "execute_result"
    }
   ],
   "source": [
    "rng = np.random.default_rng(42)\n",
    "a = rng.integers(1, 10, (2, 3))\n",
    "a"
   ]
  },
  {
   "cell_type": "code",
   "execution_count": 5,
   "id": "80d8ef24",
   "metadata": {
    "scrolled": true
   },
   "outputs": [
    {
     "data": {
      "text/plain": [
       "5.333333333333333"
      ]
     },
     "execution_count": 5,
     "metadata": {},
     "output_type": "execute_result"
    }
   ],
   "source": [
    "np.var(a)"
   ]
  },
  {
   "cell_type": "code",
   "execution_count": 6,
   "id": "5d3c71da",
   "metadata": {},
   "outputs": [
    {
     "data": {
      "text/plain": [
       "5.333333333333333"
      ]
     },
     "execution_count": 6,
     "metadata": {},
     "output_type": "execute_result"
    }
   ],
   "source": [
    "ave = np.average(a)\n",
    "np.sum([(ave-v) ** 2 for v in a.flatten().tolist()]) / (a.size)"
   ]
  },
  {
   "cell_type": "code",
   "execution_count": 7,
   "id": "844f7384",
   "metadata": {},
   "outputs": [
    {
     "data": {
      "text/plain": [
       "6.4"
      ]
     },
     "execution_count": 7,
     "metadata": {},
     "output_type": "execute_result"
    }
   ],
   "source": [
    "# 自由度少1\n",
    "np.var(a, ddof=1)"
   ]
  },
  {
   "cell_type": "code",
   "execution_count": 8,
   "id": "6bf5dd4a",
   "metadata": {},
   "outputs": [
    {
     "data": {
      "text/plain": [
       "6.4"
      ]
     },
     "execution_count": 8,
     "metadata": {},
     "output_type": "execute_result"
    }
   ],
   "source": [
    "np.sum([(ave-v) ** 2 for v in a.flatten().tolist()]) / (a.size - 1)"
   ]
  },
  {
   "cell_type": "code",
   "execution_count": 10,
   "id": "d7b5fb6a",
   "metadata": {},
   "outputs": [
    {
     "data": {
      "text/plain": [
       "6.888888888888889"
      ]
     },
     "execution_count": 10,
     "metadata": {},
     "output_type": "execute_result"
    }
   ],
   "source": [
    "# 这就是只要第一行\n",
    "np.var(a, where=[[True], [False]])"
   ]
  },
  {
   "cell_type": "code",
   "execution_count": 11,
   "id": "e636048c",
   "metadata": {},
   "outputs": [
    {
     "data": {
      "text/plain": [
       "6.888888888888889"
      ]
     },
     "execution_count": 11,
     "metadata": {},
     "output_type": "execute_result"
    }
   ],
   "source": [
    "ave = np.average(a, axis=1)[0]\n",
    "np.sum([(ave-v) ** 2 for v in a[0, :].flatten().tolist()]) / (a[0, :].size)"
   ]
  },
  {
   "cell_type": "code",
   "execution_count": 12,
   "id": "36181182",
   "metadata": {},
   "outputs": [
    {
     "data": {
      "text/plain": [
       "2.25"
      ]
     },
     "execution_count": 12,
     "metadata": {},
     "output_type": "execute_result"
    }
   ],
   "source": [
    "# 只有第一列\n",
    "np.var(a, where=[True, False, False])"
   ]
  },
  {
   "cell_type": "code",
   "execution_count": 13,
   "id": "df4de4dd",
   "metadata": {},
   "outputs": [
    {
     "data": {
      "text/plain": [
       "2.25"
      ]
     },
     "execution_count": 13,
     "metadata": {},
     "output_type": "execute_result"
    }
   ],
   "source": [
    "ave = np.average(a, axis=0)[0]\n",
    "np.sum([(ave-v) ** 2 for v in a[:, 0].flatten().tolist()]) / (a[:, 0].size)"
   ]
  },
  {
   "cell_type": "markdown",
   "id": "47683820",
   "metadata": {},
   "source": [
    "### 标准差\n",
    "\n",
    "标准差就是方差的平方根。参数和方差一样。"
   ]
  },
  {
   "cell_type": "code",
   "execution_count": 14,
   "id": "1fc54ec4",
   "metadata": {},
   "outputs": [
    {
     "data": {
      "text/plain": [
       "array([[1, 7, 6],\n",
       "       [4, 4, 8]])"
      ]
     },
     "execution_count": 14,
     "metadata": {},
     "output_type": "execute_result"
    }
   ],
   "source": [
    "a"
   ]
  },
  {
   "cell_type": "code",
   "execution_count": 15,
   "id": "ca85b496",
   "metadata": {},
   "outputs": [
    {
     "data": {
      "text/plain": [
       "2.309401076758503"
      ]
     },
     "execution_count": 15,
     "metadata": {},
     "output_type": "execute_result"
    }
   ],
   "source": [
    "np.std(a)"
   ]
  },
  {
   "cell_type": "code",
   "execution_count": 16,
   "id": "3959848b",
   "metadata": {},
   "outputs": [
    {
     "data": {
      "text/plain": [
       "2.309401076758503"
      ]
     },
     "execution_count": 16,
     "metadata": {},
     "output_type": "execute_result"
    }
   ],
   "source": [
    "np.sqrt(np.var(a))"
   ]
  },
  {
   "cell_type": "code",
   "execution_count": 17,
   "id": "580957a5",
   "metadata": {},
   "outputs": [
    {
     "data": {
      "text/plain": [
       "array([1.5, 1.5, 1. ])"
      ]
     },
     "execution_count": 17,
     "metadata": {},
     "output_type": "execute_result"
    }
   ],
   "source": [
    "np.std(a, axis=0)"
   ]
  },
  {
   "cell_type": "markdown",
   "id": "2a52c559",
   "metadata": {},
   "source": [
    "## 运算方法\n",
    "\n",
    "### 算术运算\n",
    "\n",
    "主要介绍数组的加减乘除，其运算也是支持向量化运算的。"
   ]
  },
  {
   "cell_type": "code",
   "execution_count": 18,
   "id": "045c0ec3",
   "metadata": {},
   "outputs": [
    {
     "data": {
      "text/plain": [
       "array([[1, 7, 6],\n",
       "       [4, 4, 8]])"
      ]
     },
     "execution_count": 18,
     "metadata": {},
     "output_type": "execute_result"
    }
   ],
   "source": [
    "rng = np.random.default_rng(42)\n",
    "a = rng.integers(1, 10, (2, 3))\n",
    "a"
   ]
  },
  {
   "cell_type": "code",
   "execution_count": 19,
   "id": "8e3fbea0",
   "metadata": {},
   "outputs": [
    {
     "data": {
      "text/plain": [
       "array([[ 2, 14, 12],\n",
       "       [ 8,  8, 16]])"
      ]
     },
     "execution_count": 19,
     "metadata": {},
     "output_type": "execute_result"
    }
   ],
   "source": [
    "a + a"
   ]
  },
  {
   "cell_type": "code",
   "execution_count": 20,
   "id": "2c04a3eb",
   "metadata": {},
   "outputs": [
    {
     "data": {
      "text/plain": [
       "array([[ 3,  9,  8],\n",
       "       [ 6,  6, 10]])"
      ]
     },
     "execution_count": 20,
     "metadata": {},
     "output_type": "execute_result"
    }
   ],
   "source": [
    "a + 2"
   ]
  },
  {
   "cell_type": "code",
   "execution_count": 21,
   "id": "a803a6bc",
   "metadata": {},
   "outputs": [
    {
     "data": {
      "text/plain": [
       "array([[0, 0, 0],\n",
       "       [0, 0, 0]])"
      ]
     },
     "execution_count": 21,
     "metadata": {},
     "output_type": "execute_result"
    }
   ],
   "source": [
    "a - a"
   ]
  },
  {
   "cell_type": "code",
   "execution_count": 22,
   "id": "7a380ef6",
   "metadata": {},
   "outputs": [
    {
     "data": {
      "text/plain": [
       "array([[-1,  5,  4],\n",
       "       [ 2,  2,  6]])"
      ]
     },
     "execution_count": 22,
     "metadata": {},
     "output_type": "execute_result"
    }
   ],
   "source": [
    "a - 2"
   ]
  },
  {
   "cell_type": "code",
   "execution_count": 23,
   "id": "210e9d5f",
   "metadata": {},
   "outputs": [
    {
     "data": {
      "text/plain": [
       "array([[ 1, 49, 36],\n",
       "       [16, 16, 64]])"
      ]
     },
     "execution_count": 23,
     "metadata": {},
     "output_type": "execute_result"
    }
   ],
   "source": [
    "a * ａ"
   ]
  },
  {
   "cell_type": "code",
   "execution_count": 24,
   "id": "ae8fea6f",
   "metadata": {},
   "outputs": [
    {
     "data": {
      "text/plain": [
       "array([[ 2, 14, 12],\n",
       "       [ 8,  8, 16]])"
      ]
     },
     "execution_count": 24,
     "metadata": {},
     "output_type": "execute_result"
    }
   ],
   "source": [
    "a * 2"
   ]
  },
  {
   "cell_type": "code",
   "execution_count": 25,
   "id": "fbcc7663",
   "metadata": {},
   "outputs": [
    {
     "data": {
      "text/plain": [
       "array([[1., 1., 1.],\n",
       "       [1., 1., 1.]])"
      ]
     },
     "execution_count": 25,
     "metadata": {},
     "output_type": "execute_result"
    }
   ],
   "source": [
    "a / a"
   ]
  },
  {
   "cell_type": "code",
   "execution_count": 26,
   "id": "337f481f",
   "metadata": {},
   "outputs": [
    {
     "data": {
      "text/plain": [
       "array([[0.5, 3.5, 3. ],\n",
       "       [2. , 2. , 4. ]])"
      ]
     },
     "execution_count": 26,
     "metadata": {},
     "output_type": "execute_result"
    }
   ],
   "source": [
    "a / 2"
   ]
  },
  {
   "cell_type": "markdown",
   "id": "7a1ec5d2",
   "metadata": {},
   "source": [
    "`np.sum` 的参数包括：\n",
    "\n",
    "- 数组\n",
    "- 维度\n",
    "- 数据类型\n",
    "- 输出替换数组\n",
    "- 是否保持维度\n",
    "- 初始值\n",
    "- 哪些位置\n",
    "\n",
    "大多数参数都是熟悉的，其中「初始值」是指开始计算的初始值。"
   ]
  },
  {
   "cell_type": "code",
   "execution_count": 27,
   "id": "d5fba0e1",
   "metadata": {},
   "outputs": [
    {
     "data": {
      "text/plain": [
       "array([[1, 7, 6],\n",
       "       [4, 4, 8]])"
      ]
     },
     "execution_count": 27,
     "metadata": {},
     "output_type": "execute_result"
    }
   ],
   "source": [
    "a"
   ]
  },
  {
   "cell_type": "code",
   "execution_count": 28,
   "id": "d8a75537",
   "metadata": {},
   "outputs": [
    {
     "data": {
      "text/plain": [
       "30"
      ]
     },
     "execution_count": 28,
     "metadata": {},
     "output_type": "execute_result"
    }
   ],
   "source": [
    "np.sum(a)"
   ]
  },
  {
   "cell_type": "code",
   "execution_count": 29,
   "id": "686501f3",
   "metadata": {},
   "outputs": [
    {
     "data": {
      "text/plain": [
       "40"
      ]
     },
     "execution_count": 29,
     "metadata": {},
     "output_type": "execute_result"
    }
   ],
   "source": [
    "np.sum(a, initial=10)"
   ]
  },
  {
   "cell_type": "code",
   "execution_count": 30,
   "id": "d724f59c",
   "metadata": {},
   "outputs": [
    {
     "data": {
      "text/plain": [
       "array([ 5, 11, 14])"
      ]
     },
     "execution_count": 30,
     "metadata": {},
     "output_type": "execute_result"
    }
   ],
   "source": [
    "np.sum(a, axis=0)"
   ]
  },
  {
   "cell_type": "code",
   "execution_count": 31,
   "id": "214041cb",
   "metadata": {},
   "outputs": [
    {
     "data": {
      "text/plain": [
       "array([15, 21, 24])"
      ]
     },
     "execution_count": 31,
     "metadata": {},
     "output_type": "execute_result"
    }
   ],
   "source": [
    "np.sum(a, axis=0, initial=10)"
   ]
  },
  {
   "cell_type": "markdown",
   "id": "b447a1ca",
   "metadata": {},
   "source": [
    "`np.substract`，`np.multiply`，`np.divide` 三个API和前面的减法、乘法、除法是类似的。\n",
    "\n",
    "除了刚刚的计算，还可以给定某个维度大小的值计算（广播），这里以减法为例说明。"
   ]
  },
  {
   "cell_type": "code",
   "execution_count": 32,
   "id": "7ae8362f",
   "metadata": {},
   "outputs": [
    {
     "data": {
      "text/plain": [
       "array([[1, 7, 6],\n",
       "       [4, 4, 8]])"
      ]
     },
     "execution_count": 32,
     "metadata": {},
     "output_type": "execute_result"
    }
   ],
   "source": [
    "a"
   ]
  },
  {
   "cell_type": "code",
   "execution_count": 33,
   "id": "e0f42807",
   "metadata": {},
   "outputs": [
    {
     "data": {
      "text/plain": [
       "(2, 1)"
      ]
     },
     "execution_count": 33,
     "metadata": {},
     "output_type": "execute_result"
    }
   ],
   "source": [
    "b = np.array([[1], [1]])\n",
    "b.shape"
   ]
  },
  {
   "cell_type": "code",
   "execution_count": 34,
   "id": "57c2d171",
   "metadata": {},
   "outputs": [
    {
     "data": {
      "text/plain": [
       "array([[0, 6, 5],\n",
       "       [3, 3, 7]])"
      ]
     },
     "execution_count": 34,
     "metadata": {},
     "output_type": "execute_result"
    }
   ],
   "source": [
    "a - b"
   ]
  },
  {
   "cell_type": "code",
   "execution_count": 35,
   "id": "e14d01e1",
   "metadata": {},
   "outputs": [],
   "source": [
    "c = [1, 1, 1]"
   ]
  },
  {
   "cell_type": "code",
   "execution_count": 36,
   "id": "0cf03f33",
   "metadata": {},
   "outputs": [
    {
     "data": {
      "text/plain": [
       "array([[0, 6, 5],\n",
       "       [3, 3, 7]])"
      ]
     },
     "execution_count": 36,
     "metadata": {},
     "output_type": "execute_result"
    }
   ],
   "source": [
    "a - c"
   ]
  },
  {
   "cell_type": "markdown",
   "id": "9bc8a846",
   "metadata": {},
   "source": [
    "刚刚的乘法是逐元素相乘，矩阵的乘法还有个API："
   ]
  },
  {
   "cell_type": "code",
   "execution_count": 37,
   "id": "9dc65fd9",
   "metadata": {},
   "outputs": [
    {
     "data": {
      "text/plain": [
       "(array([[1, 7, 6],\n",
       "        [4, 4, 8]]),\n",
       " array([[1, 7],\n",
       "        [2, 1],\n",
       "        [5, 9]]))"
      ]
     },
     "execution_count": 37,
     "metadata": {},
     "output_type": "execute_result"
    }
   ],
   "source": [
    "rng = np.random.default_rng(42)\n",
    "a = rng.integers(1, 10, (2, 3))\n",
    "b = rng.integers(1, 10, (3, 2))\n",
    "a, b"
   ]
  },
  {
   "cell_type": "code",
   "execution_count": 38,
   "id": "91704106",
   "metadata": {},
   "outputs": [
    {
     "data": {
      "text/plain": [
       "array([[ 45,  68],\n",
       "       [ 52, 104]])"
      ]
     },
     "execution_count": 38,
     "metadata": {},
     "output_type": "execute_result"
    }
   ],
   "source": [
    "np.dot(a, b)"
   ]
  },
  {
   "cell_type": "code",
   "execution_count": 39,
   "id": "506287e4",
   "metadata": {},
   "outputs": [
    {
     "data": {
      "text/plain": [
       "(45, 68, 52, 104)"
      ]
     },
     "execution_count": 39,
     "metadata": {},
     "output_type": "execute_result"
    }
   ],
   "source": [
    "sum(a[0, :] * b[:, 0]), sum(a[0, :] * b[:, 1]), sum(a[1, :] * b[:, 0]), sum(a[1, :] * b[:, 1])"
   ]
  },
  {
   "cell_type": "code",
   "execution_count": 40,
   "id": "040db701",
   "metadata": {},
   "outputs": [
    {
     "data": {
      "text/plain": [
       "array([[ 45,  68],\n",
       "       [ 52, 104]])"
      ]
     },
     "execution_count": 40,
     "metadata": {},
     "output_type": "execute_result"
    }
   ],
   "source": [
    "# 另一种写法\n",
    "a @ b"
   ]
  },
  {
   "cell_type": "code",
   "execution_count": 41,
   "id": "7d1147e3",
   "metadata": {},
   "outputs": [
    {
     "data": {
      "text/plain": [
       "array([[ 45,  68],\n",
       "       [ 52, 104]])"
      ]
     },
     "execution_count": 41,
     "metadata": {},
     "output_type": "execute_result"
    }
   ],
   "source": [
    "# 或者直接这样\n",
    "a.dot(b)"
   ]
  },
  {
   "cell_type": "markdown",
   "id": "0ac0c1a4",
   "metadata": {},
   "source": [
    "### 关系运算\n",
    "\n",
    "主要是一些比较运算，结果返回的是布尔矩阵。"
   ]
  },
  {
   "cell_type": "code",
   "execution_count": 42,
   "id": "2ffd13b2",
   "metadata": {},
   "outputs": [
    {
     "data": {
      "text/plain": [
       "array([[1, 7, 6],\n",
       "       [4, 4, 8],\n",
       "       [1, 7, 2]])"
      ]
     },
     "execution_count": 42,
     "metadata": {},
     "output_type": "execute_result"
    }
   ],
   "source": [
    "rng = np.random.default_rng(42)\n",
    "a = rng.integers(1, 10, (3, 3))\n",
    "a"
   ]
  },
  {
   "cell_type": "code",
   "execution_count": 43,
   "id": "af5b7037",
   "metadata": {},
   "outputs": [
    {
     "data": {
      "text/plain": [
       "array([[False,  True,  True],\n",
       "       [ True,  True,  True],\n",
       "       [False,  True, False]])"
      ]
     },
     "execution_count": 43,
     "metadata": {},
     "output_type": "execute_result"
    }
   ],
   "source": [
    "a > 2"
   ]
  },
  {
   "cell_type": "code",
   "execution_count": 44,
   "id": "c01d2748",
   "metadata": {},
   "outputs": [
    {
     "data": {
      "text/plain": [
       "array([[False,  True,  True],\n",
       "       [ True,  True,  True],\n",
       "       [False,  True, False]])"
      ]
     },
     "execution_count": 44,
     "metadata": {},
     "output_type": "execute_result"
    }
   ],
   "source": [
    "a >= 4"
   ]
  },
  {
   "cell_type": "code",
   "execution_count": 45,
   "id": "80539ee2",
   "metadata": {},
   "outputs": [
    {
     "data": {
      "text/plain": [
       "array([[ True, False, False],\n",
       "       [ True,  True, False],\n",
       "       [ True, False,  True]])"
      ]
     },
     "execution_count": 45,
     "metadata": {},
     "output_type": "execute_result"
    }
   ],
   "source": [
    "a < 5"
   ]
  },
  {
   "cell_type": "code",
   "execution_count": 46,
   "id": "8a9c0d04",
   "metadata": {},
   "outputs": [
    {
     "data": {
      "text/plain": [
       "array([[ True, False,  True],\n",
       "       [ True,  True, False],\n",
       "       [ True, False,  True]])"
      ]
     },
     "execution_count": 46,
     "metadata": {},
     "output_type": "execute_result"
    }
   ],
   "source": [
    "a <= 6"
   ]
  },
  {
   "cell_type": "code",
   "execution_count": 47,
   "id": "9aff1ad0",
   "metadata": {},
   "outputs": [
    {
     "data": {
      "text/plain": [
       "array([[ True, False, False],\n",
       "       [False, False, False],\n",
       "       [ True, False, False]])"
      ]
     },
     "execution_count": 47,
     "metadata": {},
     "output_type": "execute_result"
    }
   ],
   "source": [
    "a == 1"
   ]
  },
  {
   "cell_type": "code",
   "execution_count": 48,
   "id": "8f5de0be",
   "metadata": {},
   "outputs": [
    {
     "data": {
      "text/plain": [
       "array([[False,  True,  True],\n",
       "       [ True,  True,  True],\n",
       "       [False,  True,  True]])"
      ]
     },
     "execution_count": 48,
     "metadata": {},
     "output_type": "execute_result"
    }
   ],
   "source": [
    "a != 1"
   ]
  },
  {
   "cell_type": "markdown",
   "id": "a4fa7ccb",
   "metadata": {},
   "source": [
    "关系运算一般会用在当你需要Mask掉某些位置的值时（这在深度学习中非常常见），当然也可以用于指定位置的数据提取。"
   ]
  },
  {
   "cell_type": "code",
   "execution_count": 49,
   "id": "9622c91e",
   "metadata": {},
   "outputs": [
    {
     "data": {
      "text/plain": [
       "array([[1, 7, 6],\n",
       "       [4, 4, 8],\n",
       "       [1, 7, 2]])"
      ]
     },
     "execution_count": 49,
     "metadata": {},
     "output_type": "execute_result"
    }
   ],
   "source": [
    "a"
   ]
  },
  {
   "cell_type": "code",
   "execution_count": 50,
   "id": "7eb383ce",
   "metadata": {},
   "outputs": [
    {
     "data": {
      "text/plain": [
       "(array([0, 0, 1, 1, 1, 2]), array([1, 2, 0, 1, 2, 1]))"
      ]
     },
     "execution_count": 50,
     "metadata": {},
     "output_type": "execute_result"
    }
   ],
   "source": [
    "xs, ys = np.where(a > 2)\n",
    "xs, ys"
   ]
  },
  {
   "cell_type": "markdown",
   "id": "d7a9823b",
   "metadata": {},
   "source": [
    "里面有6个数组满足条件，对应的坐标就是 xs 和 ys："
   ]
  },
  {
   "cell_type": "code",
   "execution_count": 51,
   "id": "3f7d13db",
   "metadata": {},
   "outputs": [
    {
     "name": "stdout",
     "output_type": "stream",
     "text": [
      "0 1 ==> 7\n",
      "0 2 ==> 6\n",
      "1 0 ==> 4\n",
      "1 1 ==> 4\n",
      "1 2 ==> 8\n",
      "2 1 ==> 7\n"
     ]
    }
   ],
   "source": [
    "for i in range(len(xs)):\n",
    "    x, y = xs[i], ys[i]\n",
    "    print(x, y, \"==>\", a[x, y])"
   ]
  },
  {
   "cell_type": "code",
   "execution_count": 52,
   "id": "8b03f101",
   "metadata": {},
   "outputs": [
    {
     "data": {
      "text/plain": [
       "array([[1, 7, 6],\n",
       "       [4, 4, 8],\n",
       "       [1, 7, 2]])"
      ]
     },
     "execution_count": 52,
     "metadata": {},
     "output_type": "execute_result"
    }
   ],
   "source": [
    "a"
   ]
  },
  {
   "cell_type": "code",
   "execution_count": 53,
   "id": "afcd0d65",
   "metadata": {},
   "outputs": [
    {
     "data": {
      "text/plain": [
       "array([[-1,  7,  6],\n",
       "       [ 4,  4,  8],\n",
       "       [-1,  7, -1]])"
      ]
     },
     "execution_count": 53,
     "metadata": {},
     "output_type": "execute_result"
    }
   ],
   "source": [
    "# 将不满足条件的替换为给定值\n",
    "np.where(a > 2, a, -1)"
   ]
  },
  {
   "cell_type": "code",
   "execution_count": 55,
   "id": "e942fad3",
   "metadata": {},
   "outputs": [
    {
     "data": {
      "text/plain": [
       "array([7, 6, 4, 4, 8, 7])"
      ]
     },
     "execution_count": 55,
     "metadata": {},
     "output_type": "execute_result"
    }
   ],
   "source": [
    "# 提取满足条件的\n",
    "np.extract(a > 2, a)"
   ]
  },
  {
   "cell_type": "code",
   "execution_count": null,
   "id": "0bbe98e8",
   "metadata": {},
   "outputs": [],
   "source": []
  }
 ],
 "metadata": {
  "kernelspec": {
   "display_name": "Python 3",
   "language": "python",
   "name": "python3"
  },
  "language_info": {
   "codemirror_mode": {
    "name": "ipython",
    "version": 3
   },
   "file_extension": ".py",
   "mimetype": "text/x-python",
   "name": "python",
   "nbconvert_exporter": "python",
   "pygments_lexer": "ipython3",
   "version": "3.8.10"
  },
  "latex_envs": {
   "LaTeX_envs_menu_present": true,
   "autoclose": false,
   "autocomplete": true,
   "bibliofile": "biblio.bib",
   "cite_by": "apalike",
   "current_citInitial": 1,
   "eqLabelWithNumbers": true,
   "eqNumInitial": 1,
   "hotkeys": {
    "equation": "Ctrl-E",
    "itemize": "Ctrl-I"
   },
   "labels_anchors": false,
   "latex_user_defs": false,
   "report_style_numbering": false,
   "user_envs_cfg": false
  },
  "toc": {
   "base_numbering": 1,
   "nav_menu": {},
   "number_sections": true,
   "sideBar": true,
   "skip_h1_title": false,
   "title_cell": "Table of Contents",
   "title_sidebar": "Contents",
   "toc_cell": true,
   "toc_position": {
    "height": "calc(100% - 180px)",
    "left": "10px",
    "top": "150px",
    "width": "212px"
   },
   "toc_section_display": true,
   "toc_window_display": true
  }
 },
 "nbformat": 4,
 "nbformat_minor": 5
}
