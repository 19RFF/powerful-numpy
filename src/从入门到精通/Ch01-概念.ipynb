{
 "cells": [
  {
   "cell_type": "code",
   "execution_count": 1,
   "id": "7426823e",
   "metadata": {},
   "outputs": [],
   "source": [
    "import numpy as np"
   ]
  },
  {
   "cell_type": "markdown",
   "id": "53959515",
   "metadata": {},
   "source": [
    "## 常量\n",
    "\n",
    "NumPy 中自带一部分常用的常量，方便直接使用。"
   ]
  },
  {
   "cell_type": "markdown",
   "id": "d2e3d3fd",
   "metadata": {},
   "source": [
    "### 特殊值"
   ]
  },
  {
   "cell_type": "code",
   "execution_count": 5,
   "id": "01cb708e",
   "metadata": {},
   "outputs": [
    {
     "data": {
      "text/plain": [
       "2.718281828459045"
      ]
     },
     "execution_count": 5,
     "metadata": {},
     "output_type": "execute_result"
    }
   ],
   "source": [
    "# 自然对数\n",
    "np.e"
   ]
  },
  {
   "cell_type": "code",
   "execution_count": 12,
   "id": "1610c037",
   "metadata": {},
   "outputs": [
    {
     "data": {
      "text/plain": [
       "3.141592653589793"
      ]
     },
     "execution_count": 12,
     "metadata": {},
     "output_type": "execute_result"
    }
   ],
   "source": [
    "# PI\n",
    "np.pi"
   ]
  },
  {
   "cell_type": "code",
   "execution_count": 96,
   "id": "77eb1788",
   "metadata": {},
   "outputs": [
    {
     "data": {
      "text/plain": [
       "0.0"
      ]
     },
     "execution_count": 96,
     "metadata": {},
     "output_type": "execute_result"
    }
   ],
   "source": [
    "# 0\n",
    "np.PZERO"
   ]
  },
  {
   "cell_type": "code",
   "execution_count": 97,
   "id": "88e7b8bb",
   "metadata": {},
   "outputs": [
    {
     "data": {
      "text/plain": [
       "-0.0"
      ]
     },
     "execution_count": 97,
     "metadata": {},
     "output_type": "execute_result"
    }
   ],
   "source": [
    "# -0\n",
    "np.NZERO"
   ]
  },
  {
   "cell_type": "code",
   "execution_count": 102,
   "id": "da4511f7",
   "metadata": {},
   "outputs": [],
   "source": [
    "# None\n",
    "np.newaxis"
   ]
  },
  {
   "cell_type": "markdown",
   "id": "2d1de706",
   "metadata": {},
   "source": [
    "### 空值"
   ]
  },
  {
   "cell_type": "code",
   "execution_count": 13,
   "id": "45d1e230",
   "metadata": {},
   "outputs": [
    {
     "data": {
      "text/plain": [
       "nan"
      ]
     },
     "execution_count": 13,
     "metadata": {},
     "output_type": "execute_result"
    }
   ],
   "source": [
    "# 空值\n",
    "np.nan"
   ]
  },
  {
   "cell_type": "code",
   "execution_count": 39,
   "id": "58e1436a",
   "metadata": {},
   "outputs": [
    {
     "data": {
      "text/plain": [
       "float"
      ]
     },
     "execution_count": 39,
     "metadata": {},
     "output_type": "execute_result"
    }
   ],
   "source": [
    "type(np.nan)"
   ]
  },
  {
   "cell_type": "markdown",
   "id": "d3ddaf01",
   "metadata": {},
   "source": [
    "注意，`np.nan` 是一个值，两个 `np.nan` 不相等，虽然它们同属于一个类型。"
   ]
  },
  {
   "cell_type": "code",
   "execution_count": 17,
   "id": "6f607151",
   "metadata": {},
   "outputs": [
    {
     "data": {
      "text/plain": [
       "True"
      ]
     },
     "execution_count": 17,
     "metadata": {},
     "output_type": "execute_result"
    }
   ],
   "source": [
    "np.nan is np.nan"
   ]
  },
  {
   "cell_type": "code",
   "execution_count": 18,
   "id": "f6c55c24",
   "metadata": {},
   "outputs": [
    {
     "data": {
      "text/plain": [
       "False"
      ]
     },
     "execution_count": 18,
     "metadata": {},
     "output_type": "execute_result"
    }
   ],
   "source": [
    "np.nan == np.nan"
   ]
  },
  {
   "cell_type": "markdown",
   "id": "bd34a0d8",
   "metadata": {},
   "source": [
    "可以使用 `np.isnan` 方法进行判断。"
   ]
  },
  {
   "cell_type": "code",
   "execution_count": 34,
   "id": "8833b60c",
   "metadata": {
    "scrolled": true
   },
   "outputs": [
    {
     "name": "stderr",
     "output_type": "stream",
     "text": [
      "<ipython-input-34-1060db748605>:1: RuntimeWarning: invalid value encountered in log\n",
      "  np.isnan(1), np.isnan(2.0), np.isnan(np.nan), np.isnan(np.log(-10.))\n"
     ]
    },
    {
     "data": {
      "text/plain": [
       "(False, False, True, True)"
      ]
     },
     "execution_count": 34,
     "metadata": {},
     "output_type": "execute_result"
    }
   ],
   "source": [
    "np.isnan(1), np.isnan(2.0), np.isnan(np.nan), np.isnan(np.log(-10.))"
   ]
  },
  {
   "cell_type": "code",
   "execution_count": 71,
   "id": "898d70d1",
   "metadata": {},
   "outputs": [
    {
     "data": {
      "text/plain": [
       "True"
      ]
     },
     "execution_count": 71,
     "metadata": {},
     "output_type": "execute_result"
    }
   ],
   "source": [
    "# 以下等价\n",
    "np.nan is np.NAN is np.NaN"
   ]
  },
  {
   "cell_type": "markdown",
   "id": "ea110db5",
   "metadata": {},
   "source": [
    "### 无穷"
   ]
  },
  {
   "cell_type": "code",
   "execution_count": 83,
   "id": "a20571b3",
   "metadata": {},
   "outputs": [
    {
     "data": {
      "text/plain": [
       "inf"
      ]
     },
     "execution_count": 83,
     "metadata": {},
     "output_type": "execute_result"
    }
   ],
   "source": [
    "# 正无穷\n",
    "np.inf"
   ]
  },
  {
   "cell_type": "code",
   "execution_count": 87,
   "id": "fb12b05a",
   "metadata": {},
   "outputs": [
    {
     "data": {
      "text/plain": [
       "True"
      ]
     },
     "execution_count": 87,
     "metadata": {},
     "output_type": "execute_result"
    }
   ],
   "source": [
    "# 负无穷\n",
    "np.NINF == -np.inf"
   ]
  },
  {
   "cell_type": "code",
   "execution_count": 38,
   "id": "d44a4405",
   "metadata": {},
   "outputs": [
    {
     "data": {
      "text/plain": [
       "float"
      ]
     },
     "execution_count": 38,
     "metadata": {},
     "output_type": "execute_result"
    }
   ],
   "source": [
    "type(np.inf)"
   ]
  },
  {
   "cell_type": "code",
   "execution_count": 93,
   "id": "f3c69268",
   "metadata": {},
   "outputs": [
    {
     "name": "stderr",
     "output_type": "stream",
     "text": [
      "<ipython-input-93-f6e7c0610b57>:1: RuntimeWarning: divide by zero encountered in log\n",
      "  np.log(0)\n"
     ]
    },
    {
     "data": {
      "text/plain": [
       "-inf"
      ]
     },
     "execution_count": 93,
     "metadata": {},
     "output_type": "execute_result"
    }
   ],
   "source": [
    "np.log(0)"
   ]
  },
  {
   "cell_type": "code",
   "execution_count": 42,
   "id": "c47bc461",
   "metadata": {
    "scrolled": true
   },
   "outputs": [
    {
     "data": {
      "text/plain": [
       "True"
      ]
     },
     "execution_count": 42,
     "metadata": {},
     "output_type": "execute_result"
    }
   ],
   "source": [
    "-np.inf < -100"
   ]
  },
  {
   "cell_type": "code",
   "execution_count": 43,
   "id": "dccb57c6",
   "metadata": {},
   "outputs": [
    {
     "data": {
      "text/plain": [
       "False"
      ]
     },
     "execution_count": 43,
     "metadata": {},
     "output_type": "execute_result"
    }
   ],
   "source": [
    "np.inf < 10"
   ]
  },
  {
   "cell_type": "markdown",
   "id": "38328310",
   "metadata": {},
   "source": [
    "可以使用 `np.isxx` 进行判断。"
   ]
  },
  {
   "cell_type": "code",
   "execution_count": 76,
   "id": "224690da",
   "metadata": {},
   "outputs": [
    {
     "data": {
      "text/plain": [
       "True"
      ]
     },
     "execution_count": 76,
     "metadata": {},
     "output_type": "execute_result"
    }
   ],
   "source": [
    "# 是否正或负去穷\n",
    "np.isinf(-np.inf)"
   ]
  },
  {
   "cell_type": "code",
   "execution_count": 77,
   "id": "c05c5fb6",
   "metadata": {},
   "outputs": [
    {
     "data": {
      "text/plain": [
       "False"
      ]
     },
     "execution_count": 77,
     "metadata": {},
     "output_type": "execute_result"
    }
   ],
   "source": [
    "# 哪些元素正无穷\n",
    "np.isposinf(-np.inf)"
   ]
  },
  {
   "cell_type": "code",
   "execution_count": 78,
   "id": "d70879d3",
   "metadata": {},
   "outputs": [
    {
     "data": {
      "text/plain": [
       "False"
      ]
     },
     "execution_count": 78,
     "metadata": {},
     "output_type": "execute_result"
    }
   ],
   "source": [
    "# 哪些元素负无穷\n",
    "np.isneginf(np.inf)"
   ]
  },
  {
   "cell_type": "code",
   "execution_count": 79,
   "id": "2dd29406",
   "metadata": {},
   "outputs": [
    {
     "data": {
      "text/plain": [
       "True"
      ]
     },
     "execution_count": 79,
     "metadata": {},
     "output_type": "execute_result"
    }
   ],
   "source": [
    "# 哪些元素有限的（不是非数字、正无穷或负无穷）\n",
    "np.isfinite(3)"
   ]
  },
  {
   "cell_type": "code",
   "execution_count": 82,
   "id": "fcb1dcfe",
   "metadata": {},
   "outputs": [
    {
     "data": {
      "text/plain": [
       "False"
      ]
     },
     "execution_count": 82,
     "metadata": {},
     "output_type": "execute_result"
    }
   ],
   "source": [
    "np.isfinite(np.inf)"
   ]
  },
  {
   "cell_type": "code",
   "execution_count": 54,
   "id": "0679ce8b",
   "metadata": {},
   "outputs": [
    {
     "data": {
      "text/plain": [
       "True"
      ]
     },
     "execution_count": 54,
     "metadata": {},
     "output_type": "execute_result"
    }
   ],
   "source": [
    "# 以下几个方法等价\n",
    "np.inf == np.Inf == np.Infinity == np.infty == np.PINF "
   ]
  },
  {
   "cell_type": "markdown",
   "id": "11b29b4f",
   "metadata": {},
   "source": [
    "## 数组对象\n",
    "\n",
    "NumPy 提供了一个 N 维数组类型，即 `ndarray`，描述了相同类型「元素」集合。\n",
    "\n",
    "所有的 `ndarray` 元素都是同质的，每个元素占用大小相同的内存块，具体大小由「数据类型」决定。`ndarray` 可以共享相同数据。\n",
    "\n",
    "对象签名如下：\n",
    "\n",
    "```python\n",
    "numpy.ndarray(shape, dtype=float, buffer=None, offset=0, strides=None, order=None)\n",
    "```\n",
    "\n",
    "- shape：整数元组，表示形状\n",
    "- dtype：数据类型对象\n",
    "- buffer：使用 buffer 中的数据填充 `ndarray`\n",
    "- offset：buffer 中的偏移量\n",
    "- stride：内存中数据跨度\n",
    "- order：行为主（C-Style）或列为主（Fortran-Style）"
   ]
  },
  {
   "cell_type": "code",
   "execution_count": 176,
   "id": "dba7bd52",
   "metadata": {},
   "outputs": [
    {
     "data": {
      "text/plain": [
       "array([2, 3])"
      ]
     },
     "execution_count": 176,
     "metadata": {},
     "output_type": "execute_result"
    }
   ],
   "source": [
    "np.ndarray(shape=(2,), \n",
    "           dtype=int, \n",
    "           offset=8,\n",
    "           buffer=np.array([1,2,3,4]),\n",
    "           strides=(8, ),\n",
    "           order=\"C\")"
   ]
  },
  {
   "cell_type": "markdown",
   "id": "3b13f539",
   "metadata": {},
   "source": [
    "## 标量\n",
    "\n",
    "![](https://www.numpy.org.cn/static/images/dtype-hierarchy.png)"
   ]
  },
  {
   "cell_type": "markdown",
   "id": "d51c9d46",
   "metadata": {},
   "source": [
    "## 数据类型\n",
    "\n",
    "数据类型描述了如何解释与数组项对应的固定大小的内存块中的字节。 \n",
    "\n",
    "- 数据类型\n",
    "- 数据大小\n",
    "- 数据顺序\n",
    "- 如果是「结构化数据类型」则是其他数据类型的集合\n",
    "- 如果数据类型是子数组，它的形状和数据类型"
   ]
  },
  {
   "cell_type": "code",
   "execution_count": null,
   "id": "ce6e6854",
   "metadata": {},
   "outputs": [],
   "source": []
  },
  {
   "cell_type": "code",
   "execution_count": null,
   "id": "a5fe7223",
   "metadata": {},
   "outputs": [],
   "source": []
  }
 ],
 "metadata": {
  "kernelspec": {
   "display_name": "Python 3",
   "language": "python",
   "name": "python3"
  },
  "language_info": {
   "codemirror_mode": {
    "name": "ipython",
    "version": 3
   },
   "file_extension": ".py",
   "mimetype": "text/x-python",
   "name": "python",
   "nbconvert_exporter": "python",
   "pygments_lexer": "ipython3",
   "version": "3.8.10"
  },
  "latex_envs": {
   "LaTeX_envs_menu_present": true,
   "autoclose": false,
   "autocomplete": true,
   "bibliofile": "biblio.bib",
   "cite_by": "apalike",
   "current_citInitial": 1,
   "eqLabelWithNumbers": true,
   "eqNumInitial": 1,
   "hotkeys": {
    "equation": "Ctrl-E",
    "itemize": "Ctrl-I"
   },
   "labels_anchors": false,
   "latex_user_defs": false,
   "report_style_numbering": false,
   "user_envs_cfg": false
  },
  "toc": {
   "base_numbering": 1,
   "nav_menu": {},
   "number_sections": true,
   "sideBar": true,
   "skip_h1_title": false,
   "title_cell": "Table of Contents",
   "title_sidebar": "Contents",
   "toc_cell": false,
   "toc_position": {},
   "toc_section_display": true,
   "toc_window_display": true
  }
 },
 "nbformat": 4,
 "nbformat_minor": 5
}
